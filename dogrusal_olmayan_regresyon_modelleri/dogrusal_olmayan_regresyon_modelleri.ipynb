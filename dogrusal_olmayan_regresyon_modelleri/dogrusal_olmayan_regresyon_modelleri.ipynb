{
 "cells": [
  {
   "cell_type": "markdown",
   "id": "a1ced4cb-2e5d-42ab-bb4e-fde1a014eb2b",
   "metadata": {},
   "source": [
    "DOGRUSAL OLMAYAN REGRESYON MODELLERİ"
   ]
  },
  {
   "cell_type": "markdown",
   "id": "9edaf72e-338e-437c-b103-d05858c9d721",
   "metadata": {},
   "source": [
    "K-EN YAKIN KOMŞU (KNN)"
   ]
  },
  {
   "cell_type": "code",
   "execution_count": 1,
   "id": "394024d5-0100-4e79-a4c8-171f38be9777",
   "metadata": {},
   "outputs": [],
   "source": [
    "#tahminler gözlem benzerliğine göre yapılır"
   ]
  },
  {
   "cell_type": "code",
   "execution_count": 2,
   "id": "3490f9d4-47d9-4660-a5e8-519161352eb7",
   "metadata": {},
   "outputs": [],
   "source": [
    "#en yakın K adet gözlemin y değerlerinin ortalaması alınır"
   ]
  },
  {
   "cell_type": "code",
   "execution_count": 3,
   "id": "2721df29-7272-4a1a-a286-575c840df5e7",
   "metadata": {},
   "outputs": [],
   "source": [
    "#öklid ya da benzeri bir uzaklık hesabı ile her bir gözeleme uzaklık hesaplanır"
   ]
  },
  {
   "cell_type": "markdown",
   "id": "b7edce19-c0f8-4c3a-8706-194f66b791b6",
   "metadata": {},
   "source": [
    "KNN-MODEL"
   ]
  },
  {
   "cell_type": "code",
   "execution_count": 4,
   "id": "2033cd58-fe55-4642-9235-8c9989fa0971",
   "metadata": {},
   "outputs": [],
   "source": [
    "import numpy as np\n",
    "import pandas as pd \n",
    "from sklearn.model_selection import train_test_split, GridSearchCV,cross_val_score\n",
    "from sklearn.metrics import mean_squared_error, r2_score\n",
    "import matplotlib.pyplot as plt\n",
    "from sklearn.preprocessing import scale \n",
    "from sklearn import model_selection\n",
    "from sklearn.tree import DecisionTreeRegressor, DecisionTreeClassifier\n",
    "from sklearn.neighbors import KNeighborsRegressor\n",
    "from sklearn.ensemble import BaggingRegressor\n",
    "\n",
    "from warnings import filterwarnings\n",
    "filterwarnings('ignore')"
   ]
  },
  {
   "cell_type": "code",
   "execution_count": 5,
   "id": "b5948621-96ea-4fd3-bb20-95de6928fc8f",
   "metadata": {},
   "outputs": [],
   "source": [
    "hit = pd.read_csv(\"Hitters.csv\")\n",
    "df = hit.copy()\n",
    "df = df.dropna()\n",
    "dms = pd.get_dummies(df[['League', 'Division', 'NewLeague']])\n",
    "y = df[\"Salary\"]\n",
    "X_ = df.drop(['Salary', 'League', 'Division', 'NewLeague'], axis=1).astype('float64')\n",
    "X = pd.concat([X_, dms[['League_N', 'Division_W', 'NewLeague_N']]], axis=1)\n",
    "X_train, X_test, y_train, y_test = train_test_split(X, y, \n",
    "                                                    test_size=0.25, \n",
    "                                                    random_state=42)"
   ]
  },
  {
   "cell_type": "code",
   "execution_count": 6,
   "id": "0e9cd401-1070-439a-a026-126a9abe4eff",
   "metadata": {},
   "outputs": [],
   "source": [
    "knn_model = KNeighborsRegressor().fit(X_train, y_train)"
   ]
  },
  {
   "cell_type": "code",
   "execution_count": 7,
   "id": "e95f41fc-8463-42ee-8447-8ee9a137958b",
   "metadata": {},
   "outputs": [
    {
     "data": {
      "text/plain": [
       "KNeighborsRegressor()"
      ]
     },
     "execution_count": 7,
     "metadata": {},
     "output_type": "execute_result"
    }
   ],
   "source": [
    "knn_model"
   ]
  },
  {
   "cell_type": "code",
   "execution_count": 8,
   "id": "24539f15-8e17-4173-ba8c-f00cf29c65c2",
   "metadata": {},
   "outputs": [
    {
     "data": {
      "text/plain": [
       "5"
      ]
     },
     "execution_count": 8,
     "metadata": {},
     "output_type": "execute_result"
    }
   ],
   "source": [
    "knn_model.n_neighbors"
   ]
  },
  {
   "cell_type": "markdown",
   "id": "4da5c504-a343-4bb1-945d-9b335b5033a1",
   "metadata": {},
   "source": [
    "KNN-TAHMİN"
   ]
  },
  {
   "cell_type": "code",
   "execution_count": 9,
   "id": "edff8781-b07b-41da-b065-a5c2ab8fff50",
   "metadata": {},
   "outputs": [],
   "source": [
    "y_pred = knn_model.predict(X_test)"
   ]
  },
  {
   "cell_type": "code",
   "execution_count": 10,
   "id": "233ceb0e-54f6-490a-8828-d6fc232ad9cd",
   "metadata": {},
   "outputs": [
    {
     "data": {
      "text/plain": [
       "426.6570764525201"
      ]
     },
     "execution_count": 10,
     "metadata": {},
     "output_type": "execute_result"
    }
   ],
   "source": [
    "np.sqrt(mean_squared_error(y_test, y_pred))"
   ]
  },
  {
   "cell_type": "code",
   "execution_count": 11,
   "id": "7e7c12d5-3bf6-4bf0-8079-91ba7513ea17",
   "metadata": {},
   "outputs": [
    {
     "name": "stdout",
     "output_type": "stream",
     "text": [
      "k = 1 için RMSE değeri:  0.0\n",
      "k = 2 için RMSE değeri:  179.52761335480352\n",
      "k = 3 için RMSE değeri:  205.20157172291863\n",
      "k = 4 için RMSE değeri:  220.5139794876305\n",
      "k = 5 için RMSE değeri:  239.6467132541376\n",
      "k = 6 için RMSE değeri:  243.5904190007242\n",
      "k = 7 için RMSE değeri:  258.1478781634636\n",
      "k = 8 için RMSE değeri:  266.05374203349805\n",
      "k = 9 için RMSE değeri:  269.73782093553376\n",
      "k = 10 için RMSE değeri:  271.2798300436963\n"
     ]
    }
   ],
   "source": [
    "RMSE = [] \n",
    "\n",
    "for k in range(10):\n",
    "    k = k+1\n",
    "    knn_model = KNeighborsRegressor(n_neighbors = k).fit(X_train, y_train)\n",
    "    y_pred = knn_model.predict(X_train) \n",
    "    rmse = np.sqrt(mean_squared_error(y_train,y_pred)) \n",
    "    RMSE.append(rmse) \n",
    "    print(\"k =\" , k , \"için RMSE değeri: \", rmse)\n"
   ]
  },
  {
   "cell_type": "markdown",
   "id": "673c8c76-b221-4f81-b4e1-0e86a90d01a1",
   "metadata": {},
   "source": [
    "## KNN - MODEL TUNING"
   ]
  },
  {
   "cell_type": "code",
   "execution_count": 12,
   "id": "b807f8fd-7c8d-4b8a-8264-f60d542f1c43",
   "metadata": {},
   "outputs": [],
   "source": [
    "from sklearn.model_selection import GridSearchCV"
   ]
  },
  {
   "cell_type": "code",
   "execution_count": 13,
   "id": "83dc88c0-9a85-43ac-b6af-7dc08eacaccc",
   "metadata": {},
   "outputs": [],
   "source": [
    "knn_params = {\"n_neighbors\": np.arange(1, 30, 1)}"
   ]
  },
  {
   "cell_type": "code",
   "execution_count": 14,
   "id": "49a9ed2f-994f-4097-b748-7dc0f2af9ca1",
   "metadata": {},
   "outputs": [],
   "source": [
    "knn = KNeighborsRegressor()"
   ]
  },
  {
   "cell_type": "code",
   "execution_count": 15,
   "id": "2a2fd380-a798-4f35-892b-3e750a58cc95",
   "metadata": {},
   "outputs": [],
   "source": [
    "knn_cv_model = GridSearchCV(knn, knn_params, cv=10)"
   ]
  },
  {
   "cell_type": "code",
   "execution_count": 16,
   "id": "396fe9d1-589f-4030-aa5d-488b257fed8e",
   "metadata": {},
   "outputs": [
    {
     "data": {
      "text/plain": [
       "GridSearchCV(cv=10, estimator=KNeighborsRegressor(),\n",
       "             param_grid={'n_neighbors': array([ 1,  2,  3,  4,  5,  6,  7,  8,  9, 10, 11, 12, 13, 14, 15, 16, 17,\n",
       "       18, 19, 20, 21, 22, 23, 24, 25, 26, 27, 28, 29])})"
      ]
     },
     "execution_count": 16,
     "metadata": {},
     "output_type": "execute_result"
    }
   ],
   "source": [
    "knn_cv_model.fit(X_train, y_train)"
   ]
  },
  {
   "cell_type": "code",
   "execution_count": 17,
   "id": "a5dc9172-3232-436f-8e97-75f1ecfb073d",
   "metadata": {},
   "outputs": [
    {
     "data": {
      "text/plain": [
       "8"
      ]
     },
     "execution_count": 17,
     "metadata": {},
     "output_type": "execute_result"
    }
   ],
   "source": [
    "knn_cv_model.best_params_[\"n_neighbors\"]"
   ]
  },
  {
   "cell_type": "code",
   "execution_count": 18,
   "id": "62210972-a69c-422d-a8d0-f42bddb5b14e",
   "metadata": {},
   "outputs": [
    {
     "name": "stdout",
     "output_type": "stream",
     "text": [
      "k = 1 için RMSE değeri:  0.0 RMSE_CV değeri:  325.3947514706382\n",
      "k = 2 için RMSE değeri:  179.52761335480352 RMSE_CV değeri:  293.24000183333817\n",
      "k = 3 için RMSE değeri:  205.20157172291863 RMSE_CV değeri:  283.7486667487823\n",
      "k = 4 için RMSE değeri:  220.5139794876305 RMSE_CV değeri:  286.3240222024089\n",
      "k = 5 için RMSE değeri:  239.6467132541376 RMSE_CV değeri:  290.0705466132226\n",
      "k = 6 için RMSE değeri:  243.5904190007242 RMSE_CV değeri:  298.1263115575851\n",
      "k = 7 için RMSE değeri:  258.1478781634636 RMSE_CV değeri:  294.77070479194987\n",
      "k = 8 için RMSE değeri:  266.05374203349805 RMSE_CV değeri:  291.98672028891235\n",
      "k = 9 için RMSE değeri:  269.73782093553376 RMSE_CV değeri:  295.7162739573105\n",
      "k = 10 için RMSE değeri:  271.2798300436963 RMSE_CV değeri:  301.31047022701154\n",
      "k = 11 için RMSE değeri:  272.18349695209093 RMSE_CV değeri:  303.92921781630935\n",
      "k = 12 için RMSE değeri:  274.0811032528632 RMSE_CV değeri:  307.2016006599871\n",
      "k = 13 için RMSE değeri:  279.9714413379922 RMSE_CV değeri:  303.0237662832972\n",
      "k = 14 için RMSE değeri:  284.20686848419444 RMSE_CV değeri:  306.17069184763875\n",
      "k = 15 için RMSE değeri:  286.6722695027623 RMSE_CV değeri:  306.7424599639501\n",
      "k = 16 için RMSE değeri:  289.5309388199519 RMSE_CV değeri:  304.073258681081\n",
      "k = 17 için RMSE değeri:  291.2682442628795 RMSE_CV değeri:  308.0125626315241\n",
      "k = 18 için RMSE değeri:  288.58332630585363 RMSE_CV değeri:  309.5536122739929\n",
      "k = 19 için RMSE değeri:  291.6055373778945 RMSE_CV değeri:  311.3162005640195\n",
      "k = 20 için RMSE değeri:  295.0677274999827 RMSE_CV değeri:  313.8427489462565\n",
      "k = 21 için RMSE değeri:  296.4116833880552 RMSE_CV değeri:  310.7561164641493\n",
      "k = 22 için RMSE değeri:  297.47470481881635 RMSE_CV değeri:  312.6420325405573\n",
      "k = 23 için RMSE değeri:  300.15291197969884 RMSE_CV değeri:  311.21669081833164\n",
      "k = 24 için RMSE değeri:  300.8158984302962 RMSE_CV değeri:  312.0488683475884\n",
      "k = 25 için RMSE değeri:  301.6517452460721 RMSE_CV değeri:  312.9106523308921\n",
      "k = 26 için RMSE değeri:  301.6074483662679 RMSE_CV değeri:  313.13080302826614\n",
      "k = 27 için RMSE değeri:  302.84774845408566 RMSE_CV değeri:  314.42836492440705\n",
      "k = 28 için RMSE değeri:  305.0947080569499 RMSE_CV değeri:  316.470028524532\n",
      "k = 29 için RMSE değeri:  305.4333519990212 RMSE_CV değeri:  315.3307722554082\n"
     ]
    }
   ],
   "source": [
    "RMSE = [] \n",
    "RMSE_CV = []\n",
    "for k in range(29):\n",
    "    k = k+1\n",
    "    knn_model = KNeighborsRegressor(n_neighbors = k).fit(X_train, y_train)\n",
    "    y_pred = knn_model.predict(X_train) \n",
    "    rmse = np.sqrt(mean_squared_error(y_train,y_pred)) \n",
    "    rmse_cv = np.sqrt(-1*cross_val_score(knn_model, X_train, y_train, cv=10, \n",
    "                                         scoring = \"neg_mean_squared_error\").mean())\n",
    "    RMSE.append(rmse) \n",
    "    RMSE_CV.append(rmse_cv)\n",
    "    print(\"k =\" , k , \"için RMSE değeri: \", rmse, \"RMSE_CV değeri: \", rmse_cv )\n"
   ]
  },
  {
   "cell_type": "code",
   "execution_count": 19,
   "id": "7f75ac6c-3ffe-490d-b3c2-7fb86de14e50",
   "metadata": {},
   "outputs": [],
   "source": [
    "knn_tuned = KNeighborsRegressor(n_neighbors = knn_cv_model.best_params_[\"n_neighbors\"])"
   ]
  },
  {
   "cell_type": "code",
   "execution_count": 20,
   "id": "1c42232c-4533-4490-870d-b33c7c857c13",
   "metadata": {},
   "outputs": [
    {
     "data": {
      "text/plain": [
       "KNeighborsRegressor(n_neighbors=8)"
      ]
     },
     "execution_count": 20,
     "metadata": {},
     "output_type": "execute_result"
    }
   ],
   "source": [
    "knn_tuned.fit(X_train, y_train)"
   ]
  },
  {
   "cell_type": "code",
   "execution_count": 21,
   "id": "a878bc51-ff08-4c6c-a1d9-8546fadb57de",
   "metadata": {},
   "outputs": [
    {
     "data": {
      "text/plain": [
       "413.7094731463598"
      ]
     },
     "execution_count": 21,
     "metadata": {},
     "output_type": "execute_result"
    }
   ],
   "source": [
    "np.sqrt(mean_squared_error(y_test, knn_tuned.predict(X_test)))"
   ]
  },
  {
   "cell_type": "markdown",
   "id": "c8edf1bb-dfca-4467-a27e-13b3cd7630d6",
   "metadata": {},
   "source": [
    "# SVR"
   ]
  },
  {
   "cell_type": "code",
   "execution_count": 22,
   "id": "6a17ce49-2453-4a4c-84fa-db7d9fbc5724",
   "metadata": {},
   "outputs": [],
   "source": [
    "#amaç bir marjin aralığına maksimum noktayı en küçük haya ile alabilecek şekilde doğru ya da eğriyi belirlemektir"
   ]
  },
  {
   "cell_type": "markdown",
   "id": "6981be9c-c4df-4c2e-9d87-8f8da0713fd0",
   "metadata": {},
   "source": [
    "# SVR MODEL"
   ]
  },
  {
   "cell_type": "code",
   "execution_count": 23,
   "id": "09ed0324-244b-4b2e-baa6-b36c61403943",
   "metadata": {},
   "outputs": [],
   "source": [
    "hit = pd.read_csv(\"Hitters.csv\")\n",
    "df = hit.copy()\n",
    "df = df.dropna()\n",
    "dms = pd.get_dummies(df[['League', 'Division', 'NewLeague']])\n",
    "y = df[\"Salary\"]\n",
    "X_ = df.drop(['Salary', 'League', 'Division', 'NewLeague'], axis=1).astype('float64')\n",
    "X = pd.concat([X_, dms[['League_N', 'Division_W', 'NewLeague_N']]], axis=1)\n",
    "X_train, X_test, y_train, y_test = train_test_split(X, y, \n",
    "                                                    test_size=0.25, \n",
    "                                                    random_state=42)"
   ]
  },
  {
   "cell_type": "code",
   "execution_count": 24,
   "id": "6d4238e3-0208-410c-bc63-7428645b76e1",
   "metadata": {},
   "outputs": [],
   "source": [
    "X_train = pd.DataFrame(X_train[\"Hits\"])\n",
    "X_test = pd.DataFrame(X_test[\"Hits\"])"
   ]
  },
  {
   "cell_type": "code",
   "execution_count": 25,
   "id": "4d022797-dd10-4738-81e7-3f022f3258f8",
   "metadata": {},
   "outputs": [],
   "source": [
    "from sklearn.svm import SVR\n"
   ]
  },
  {
   "cell_type": "code",
   "execution_count": 26,
   "id": "877523bb-46ef-4446-9fa1-c4663b7dc79d",
   "metadata": {},
   "outputs": [],
   "source": [
    "svr_model = SVR(kernel=\"linear\").fit(X_train, y_train)"
   ]
  },
  {
   "cell_type": "code",
   "execution_count": 27,
   "id": "3c44ffcd-07a3-4a0d-87d0-b3ed7513650b",
   "metadata": {},
   "outputs": [
    {
     "data": {
      "text/plain": [
       "SVR(kernel='linear')"
      ]
     },
     "execution_count": 27,
     "metadata": {},
     "output_type": "execute_result"
    }
   ],
   "source": [
    "svr_model.fit(X_train, y_train)"
   ]
  },
  {
   "cell_type": "code",
   "execution_count": 28,
   "id": "a135d8c2-3b5b-4b13-8885-3a06b01f2efd",
   "metadata": {},
   "outputs": [
    {
     "data": {
      "text/plain": [
       "array([ 403.52804878,  666.91219512,  706.66829268,  194.80853659,\n",
       "        423.40609756,  666.91219512,  150.08292683,  304.13780488,\n",
       "        507.88780488,  815.99756098,  801.08902439,  706.66829268,\n",
       "        731.51585366,  537.70487805,  741.45487805,  562.55243902,\n",
       "        652.00365854,  145.11341463,  -28.8195122 ,  413.46707317,\n",
       "        761.33292683,  428.37560976,  463.16219512,  353.83292683,\n",
       "        219.65609756,  478.07073171,  497.94878049,  328.98536585,\n",
       "        378.6804878 ,  145.11341463,  135.17439024,  542.67439024,\n",
       "        681.82073171,  229.59512195,  279.2902439 ,  358.80243902,\n",
       "        373.71097561,  801.08902439,  463.16219512,  219.65609756,\n",
       "        155.05243902,  249.47317073,  234.56463415,  194.80853659,\n",
       "        239.53414634,  746.42439024,  666.91219512,  532.73536585,\n",
       "        314.07682927,  160.02195122,  368.74146341,  706.66829268,\n",
       "        637.09512195,  656.97317073,  607.27804878,  622.18658537,\n",
       "        338.92439024,  691.7597561 ,  378.6804878 ,  701.69878049,\n",
       "        542.67439024,  458.19268293,  358.80243902,  557.58292683,\n",
       "        488.0097561 ,  806.05853659,  269.35121951,  353.83292683,\n",
       "        234.56463415,  219.65609756,  289.22926829,  299.16829268,\n",
       "        791.15      ,  676.85121951, 1134.04634146,  333.95487805,\n",
       "        582.4304878 ,  512.85731707,  577.46097561,  835.87560976,\n",
       "        786.1804878 ,  602.30853659,  791.15      ,  418.43658537,\n",
       "        179.9       ,  368.74146341,  716.60731707,  696.72926829,\n",
       "        761.33292683,  865.69268293,  328.98536585,  184.8695122 ,\n",
       "        875.63170732,  338.92439024,  398.55853659,  815.99756098,\n",
       "        830.90609756,  418.43658537,  587.4       ,  453.22317073,\n",
       "        761.33292683,  209.71707317,  592.3695122 ,  453.22317073,\n",
       "        488.0097561 ,  587.4       ,  786.1804878 ,  507.88780488,\n",
       "        229.59512195,  577.46097561, 1009.80853659,  602.30853659,\n",
       "        338.92439024,  627.15609756,  348.86341463,  383.65      ,\n",
       "        796.1195122 ,  602.30853659,  453.22317073,  254.44268293,\n",
       "        622.18658537,  110.32682927,  642.06463415,  413.46707317,\n",
       "        204.74756098,  607.27804878,  656.97317073,  353.83292683,\n",
       "        249.47317073,  741.45487805,  224.62560976,  333.95487805,\n",
       "        572.49146341,  652.00365854,  681.82073171,  373.71097561,\n",
       "        408.49756098,  164.99146341,  428.37560976,  791.15      ,\n",
       "        314.07682927,  408.49756098,  274.32073171,  542.67439024,\n",
       "        164.99146341,  184.8695122 ,  264.38170732,  512.85731707,\n",
       "        363.77195122,  557.58292683,  463.16219512,  214.68658537,\n",
       "        279.2902439 ,  164.99146341,  647.03414634,  229.59512195,\n",
       "        736.48536585,  289.22926829,  999.8695122 ,  532.73536585,\n",
       "        333.95487805,  463.16219512,  761.33292683,  214.68658537,\n",
       "        418.43658537,  761.33292683,  433.34512195,  328.98536585,\n",
       "        840.84512195,  582.4304878 ,  562.55243902,  309.10731707,\n",
       "        731.51585366,  453.22317073,  408.49756098,  299.16829268,\n",
       "        642.06463415,  597.33902439,  353.83292683,  582.4304878 ,\n",
       "        408.49756098,  299.16829268,  145.11341463,  468.13170732,\n",
       "        299.16829268,  333.95487805,  671.88170732,  522.79634146,\n",
       "        453.22317073,  289.22926829,  458.19268293,  796.1195122 ,\n",
       "        786.1804878 ,  209.71707317,  637.09512195,  463.16219512,\n",
       "        443.28414634])"
      ]
     },
     "execution_count": 28,
     "metadata": {},
     "output_type": "execute_result"
    }
   ],
   "source": [
    "svr_model.predict(X_train)"
   ]
  },
  {
   "cell_type": "code",
   "execution_count": 29,
   "id": "2b617f83-fcda-483d-a947-5186a2aaac8b",
   "metadata": {},
   "outputs": [
    {
     "name": "stdout",
     "output_type": "stream",
     "text": [
      "y = -48.69756097561513 + 4.969512195122093 x\n"
     ]
    }
   ],
   "source": [
    "print (\"y = {0} + {1} x\".format(svr_model.intercept_[0], \n",
    "                                svr_model.coef_[0][0])) "
   ]
  },
  {
   "cell_type": "code",
   "execution_count": 30,
   "id": "b73f7205-d94a-4a72-a3d3-f3f6cd53a87f",
   "metadata": {},
   "outputs": [
    {
     "data": {
      "text/plain": [
       "183     91.0\n",
       "229    144.0\n",
       "286    152.0\n",
       "102     49.0\n",
       "153     95.0\n",
       "       ...  \n",
       "24     168.0\n",
       "236     52.0\n",
       "93     138.0\n",
       "137    103.0\n",
       "133     99.0\n",
       "Name: Hits, Length: 197, dtype: float64"
      ]
     },
     "execution_count": 30,
     "metadata": {},
     "output_type": "execute_result"
    }
   ],
   "source": [
    "X_train[\"Hits\"]"
   ]
  },
  {
   "cell_type": "code",
   "execution_count": 31,
   "id": "b6d06d47-7ef7-4d4f-b285-839cfbfd4ab4",
   "metadata": {},
   "outputs": [
    {
     "data": {
      "text/plain": [
       "671.3"
      ]
     },
     "execution_count": 31,
     "metadata": {},
     "output_type": "execute_result"
    }
   ],
   "source": [
    "-48.7 + 5*144"
   ]
  },
  {
   "cell_type": "code",
   "execution_count": 32,
   "id": "0d0c8076-ba81-477c-be8e-bdb276c66837",
   "metadata": {},
   "outputs": [
    {
     "data": {
      "text/plain": [
       "[<matplotlib.lines.Line2D at 0x2978372a640>]"
      ]
     },
     "execution_count": 32,
     "metadata": {},
     "output_type": "execute_result"
    },
    {
     "data": {
      "image/png": "[encoded data removed]",
      "text/plain": [
       "<Figure size 640x480 with 1 Axes>"
      ]
     },
     "metadata": {},
     "output_type": "display_data"
    }
   ],
   "source": [
    "y_pred = svr_model.predict(X_train)\n",
    "plt.scatter(X_train, y_train)\n",
    "plt.plot(X_train, y_pred, color = \"r\")"
   ]
  },
  {
   "cell_type": "code",
   "execution_count": 33,
   "id": "703de2ee-8d24-4227-8718-9f30ff18a054",
   "metadata": {},
   "outputs": [
    {
     "name": "stdout",
     "output_type": "stream",
     "text": [
      "y = -8.814095480334572 + 5.1724561354706875 x\n"
     ]
    }
   ],
   "source": [
    "from sklearn.linear_model import LinearRegression\n",
    "lm_model = LinearRegression().fit(X_train, y_train)\n",
    "lm_pred  = lm_model.predict(X_train)\n",
    "print(\"y = {0} + {1} x\".format(lm_model.intercept_, lm_model.coef_[0]))"
   ]
  },
  {
   "cell_type": "code",
   "execution_count": 34,
   "id": "8c825752-ea6b-4c4a-9db6-97b09287cc27",
   "metadata": {},
   "outputs": [
    {
     "data": {
      "text/plain": [
       "736.0195880274445"
      ]
     },
     "execution_count": 34,
     "metadata": {},
     "output_type": "execute_result"
    }
   ],
   "source": [
    " -8.814095480334572 + 5.1724561354706875*144"
   ]
  },
  {
   "cell_type": "code",
   "execution_count": 35,
   "id": "021ce7fe-a7ac-45d7-892f-eff33b482d51",
   "metadata": {},
   "outputs": [
    {
     "data": {
      "text/plain": [
       "Text(0, 0.5, 'Maaş (Salary)')"
      ]
     },
     "execution_count": 35,
     "metadata": {},
     "output_type": "execute_result"
    },
    {
     "data": {
      "image/png": "[encoded data removed]",
      "text/plain": [
       "<Figure size 640x480 with 1 Axes>"
      ]
     },
     "metadata": {},
     "output_type": "display_data"
    }
   ],
   "source": [
    "plt.scatter(X_train, y_train, alpha=0.5, s=23)\n",
    "plt.plot(X_train, lm_pred, 'g')\n",
    "plt.plot(X_train, y_pred, color='r')\n",
    "\n",
    "plt.xlabel(\"Atış Sayısı(Hits)\")\n",
    "plt.ylabel(\"Maaş (Salary)\")"
   ]
  },
  {
   "cell_type": "markdown",
   "id": "c791363c-8f31-4cef-9910-f76a7f115aaf",
   "metadata": {},
   "source": [
    "# SVR TAHMİN"
   ]
  },
  {
   "cell_type": "code",
   "execution_count": 36,
   "id": "2b820a65-4434-43e2-905c-99ce61168380",
   "metadata": {},
   "outputs": [
    {
     "name": "stdout",
     "output_type": "stream",
     "text": [
      "y = -48.69756097561513 + 4.969512195122093 x\n"
     ]
    }
   ],
   "source": [
    "print (\"y = {0} + {1} x\".format(svr_model.intercept_[0], svr_model.coef_[0][0])) "
   ]
  },
  {
   "cell_type": "code",
   "execution_count": 37,
   "id": "ed0b3566-d26a-4c0c-8524-74f343096076",
   "metadata": {},
   "outputs": [
    {
     "data": {
      "text/plain": [
       "array([403.52804878])"
      ]
     },
     "execution_count": 37,
     "metadata": {},
     "output_type": "execute_result"
    }
   ],
   "source": [
    "svr_model.predict([[91]])"
   ]
  },
  {
   "cell_type": "code",
   "execution_count": 38,
   "id": "14352fd1-b29e-4880-9244-110f0e9cdd73",
   "metadata": {},
   "outputs": [],
   "source": [
    "y_pred = svr_model.predict(X_test)"
   ]
  },
  {
   "cell_type": "code",
   "execution_count": 39,
   "id": "7f177f2c-8e69-48d9-8c58-aac4b521a96b",
   "metadata": {},
   "outputs": [
    {
     "data": {
      "text/plain": [
       "459.0187960365147"
      ]
     },
     "execution_count": 39,
     "metadata": {},
     "output_type": "execute_result"
    }
   ],
   "source": [
    "np.sqrt(mean_squared_error(y_test, y_pred))"
   ]
  },
  {
   "cell_type": "markdown",
   "id": "879690aa-8756-4edc-aa9e-820bf741d35c",
   "metadata": {},
   "source": [
    "# MODEL TUNING"
   ]
  },
  {
   "cell_type": "code",
   "execution_count": 40,
   "id": "258f21da-88be-447d-a8da-72188fb064cc",
   "metadata": {},
   "outputs": [],
   "source": [
    "svr_params = {\"C\": np.arange(0.1, 2, 0.1)}"
   ]
  },
  {
   "cell_type": "code",
   "execution_count": 41,
   "id": "e98cc1af-89b5-4a0b-8b46-52469b03d55b",
   "metadata": {},
   "outputs": [],
   "source": [
    "svr_cv_model = GridSearchCV(svr_model, svr_params, cv = 10).fit(X_train, y_train)"
   ]
  },
  {
   "cell_type": "code",
   "execution_count": 42,
   "id": "893e1d08-9b7d-4121-b892-054f4726e4b4",
   "metadata": {},
   "outputs": [
    {
     "data": {
      "text/plain": [
       "{'C': 0.1}"
      ]
     },
     "execution_count": 42,
     "metadata": {},
     "output_type": "execute_result"
    }
   ],
   "source": [
    "svr_cv_model.best_params_"
   ]
  },
  {
   "cell_type": "code",
   "execution_count": 43,
   "id": "72699eb5-ab36-46b8-a15d-11ef62f52770",
   "metadata": {},
   "outputs": [
    {
     "data": {
      "text/plain": [
       "0.1"
      ]
     },
     "execution_count": 43,
     "metadata": {},
     "output_type": "execute_result"
    }
   ],
   "source": [
    "pd.Series(svr_cv_model.best_params_)[0]"
   ]
  },
  {
   "cell_type": "code",
   "execution_count": 44,
   "id": "b65ab333-2445-45ee-a361-743814cc5126",
   "metadata": {},
   "outputs": [],
   "source": [
    "svr_tuned = SVR(kernel = \"linear\", \n",
    "                C = pd.Series(svr_cv_model.best_params_)[0]).fit(X_train, y_train)"
   ]
  },
  {
   "cell_type": "code",
   "execution_count": 45,
   "id": "0a42e522-0018-465a-b45b-0419f304e7e2",
   "metadata": {},
   "outputs": [],
   "source": [
    "y_pred = svr_tuned.predict(X_test)"
   ]
  },
  {
   "cell_type": "code",
   "execution_count": 46,
   "id": "d023af4f-996a-4694-8ef3-c050197cffd3",
   "metadata": {},
   "outputs": [
    {
     "data": {
      "text/plain": [
       "458.198966781116"
      ]
     },
     "execution_count": 46,
     "metadata": {},
     "output_type": "execute_result"
    }
   ],
   "source": [
    "np.sqrt(mean_squared_error(y_test, y_pred))"
   ]
  },
  {
   "cell_type": "markdown",
   "id": "b4a57f25-f442-4aab-8f75-5603141605cd",
   "metadata": {},
   "source": [
    "# DOĞRUSAL OLMAYAN SVR"
   ]
  },
  {
   "cell_type": "code",
   "execution_count": 47,
   "id": "79168355-404d-438c-ba4d-cc2be0b7f25f",
   "metadata": {},
   "outputs": [],
   "source": [
    "np.random.seed(3)\n",
    "\n",
    "x_sim = np.random.uniform(2, 10, 145)\n",
    "y_sim = np.sin(x_sim) + np.random.normal(0, 0.4, 145)\n",
    "\n",
    "x_outliers = np.arange(2.5, 5, 0.5)\n",
    "y_outliers = -5*np.ones(5)\n",
    "\n",
    "x_sim_idx = np.argsort(np.concatenate([x_sim, x_outliers]))\n",
    "x_sim = np.concatenate([x_sim, x_outliers])[x_sim_idx]\n",
    "y_sim = np.concatenate([y_sim, y_outliers])[x_sim_idx]"
   ]
  },
  {
   "cell_type": "code",
   "execution_count": 48,
   "id": "944c4161-1e33-428e-baf5-cefc93a1731e",
   "metadata": {},
   "outputs": [],
   "source": [
    "from sklearn.linear_model import LinearRegression\n",
    "ols = LinearRegression()\n",
    "ols.fit(np.sin(x_sim[:, np.newaxis]), y_sim)\n",
    "ols_pred = ols.predict(np.sin(x_sim[:, np.newaxis]))\n",
    "\n",
    "from sklearn.svm import SVR\n",
    "eps = 0.1\n",
    "svr = SVR(kernel = 'rbf', epsilon = eps)\n",
    "svr.fit(x_sim[:, np.newaxis], y_sim)\n",
    "svr_pred = svr.predict(x_sim[:, np.newaxis])"
   ]
  },
  {
   "cell_type": "code",
   "execution_count": 49,
   "id": "0cfefde2-a476-41fb-96bc-4862eab7a4b6",
   "metadata": {},
   "outputs": [
    {
     "data": {
      "image/png": "[encoded data removed]",
      "text/plain": [
       "<Figure size 640x480 with 1 Axes>"
      ]
     },
     "metadata": {},
     "output_type": "display_data"
    }
   ],
   "source": [
    "plt.scatter(x_sim, y_sim, alpha=0.5, s=26)\n",
    "plt_ols, = plt.plot(x_sim, ols_pred, 'g')\n",
    "plt_svr, = plt.plot(x_sim, svr_pred, color='r')\n",
    "plt.xlabel(\"Bağımsız Değişken\")\n",
    "plt.ylabel(\"Bağımlı Değişken\")\n",
    "plt.ylim(-5.2, 2.2)\n",
    "plt.legend([plt_ols, plt_svr], ['EKK', 'SVR'], loc = 4);"
   ]
  },
  {
   "cell_type": "code",
   "execution_count": 50,
   "id": "20c27808-8353-4b5d-821f-1625fcfb6e73",
   "metadata": {},
   "outputs": [],
   "source": [
    "hit = pd.read_csv(\"Hitters.csv\")\n",
    "df = hit.copy()\n",
    "df = df.dropna()\n",
    "dms = pd.get_dummies(df[['League', 'Division', 'NewLeague']])\n",
    "y = df[\"Salary\"]\n",
    "X_ = df.drop(['Salary', 'League', 'Division', 'NewLeague'], axis=1).astype('float64')\n",
    "X = pd.concat([X_, dms[['League_N', 'Division_W', 'NewLeague_N']]], axis=1)\n",
    "X_train, X_test, y_train, y_test = train_test_split(X, y, \n",
    "                                                    test_size=0.25, \n",
    "                                                    random_state=42)"
   ]
  },
  {
   "cell_type": "code",
   "execution_count": 51,
   "id": "ad73be46-f9bd-4b71-bbb4-6ccef5a65735",
   "metadata": {},
   "outputs": [],
   "source": [
    "svr_rbf = SVR(kernel = \"rbf\").fit(X_train, y_train)"
   ]
  },
  {
   "cell_type": "markdown",
   "id": "44ad4ed5-05eb-4127-87fc-3868a0d54dfe",
   "metadata": {},
   "source": [
    "# TAHMİN"
   ]
  },
  {
   "cell_type": "code",
   "execution_count": 52,
   "id": "d1c4a0df-afb2-48df-bb04-7126f3527b5d",
   "metadata": {},
   "outputs": [],
   "source": [
    "y_pred = svr_rbf.predict(X_test)"
   ]
  },
  {
   "cell_type": "code",
   "execution_count": 53,
   "id": "8f0b7cc2-5be7-4ecf-8afd-1e50cd576b2f",
   "metadata": {},
   "outputs": [
    {
     "data": {
      "text/plain": [
       "460.0032657244849"
      ]
     },
     "execution_count": 53,
     "metadata": {},
     "output_type": "execute_result"
    }
   ],
   "source": [
    "np.sqrt(mean_squared_error(y_test, y_pred))"
   ]
  },
  {
   "cell_type": "markdown",
   "id": "f65a406e-db81-461d-a6b6-6ed7affdee65",
   "metadata": {},
   "source": [
    "# MODEL TUNING"
   ]
  },
  {
   "cell_type": "code",
   "execution_count": 54,
   "id": "727313eb-f86e-4ef5-af1f-c9aa979a758d",
   "metadata": {},
   "outputs": [
    {
     "data": {
      "text/plain": [
       "SVR()"
      ]
     },
     "execution_count": 54,
     "metadata": {},
     "output_type": "execute_result"
    }
   ],
   "source": [
    "svr_rbf"
   ]
  },
  {
   "cell_type": "code",
   "execution_count": 55,
   "id": "2a69aa99-8970-40bc-9010-6f1b6093d3d8",
   "metadata": {},
   "outputs": [
    {
     "data": {
      "text/plain": [
       "GridSearchCV(cv=10, estimator=SVR(),\n",
       "             param_grid={'C': [0.01, 0.1, 0.4, 5, 10, 20, 30, 40, 50]})"
      ]
     },
     "execution_count": 55,
     "metadata": {},
     "output_type": "execute_result"
    }
   ],
   "source": [
    "svr_params = {\"C\": [0.01, 0.1,0.4,5,10,20,30,40,50]}\n",
    "svr_cv_model = GridSearchCV(svr_rbf,svr_params, cv = 10)\n",
    "svr_cv_model.fit(X_train, y_train)"
   ]
  },
  {
   "cell_type": "code",
   "execution_count": 56,
   "id": "b4f820de-fff3-4ac9-befa-aee105879f33",
   "metadata": {},
   "outputs": [
    {
     "data": {
      "text/plain": [
       "50"
      ]
     },
     "execution_count": 56,
     "metadata": {},
     "output_type": "execute_result"
    }
   ],
   "source": [
    "pd.Series(svr_cv_model.best_params_)[0]"
   ]
  },
  {
   "cell_type": "code",
   "execution_count": 57,
   "id": "1e5afa60-a697-4aaf-8faf-9a8020eb6620",
   "metadata": {},
   "outputs": [],
   "source": [
    "svr_tuned = SVR(kernel = \"rbf\", C = pd.Series(svr_cv_model.best_params_)[0]).fit(X_train, \n",
    "                                                                        y_train)"
   ]
  },
  {
   "cell_type": "code",
   "execution_count": 58,
   "id": "9a583224-98e2-4639-9470-5df3005333f6",
   "metadata": {},
   "outputs": [
    {
     "data": {
      "text/plain": [
       "428.00406888095694"
      ]
     },
     "execution_count": 58,
     "metadata": {},
     "output_type": "execute_result"
    }
   ],
   "source": [
    "y_pred = svr_tuned.predict(X_test)\n",
    "\n",
    "np.sqrt(mean_squared_error(y_test, y_pred))"
   ]
  },
  {
   "cell_type": "markdown",
   "id": "d74e59fd-8ea0-415c-ad06-3b1e81aa4df1",
   "metadata": {},
   "source": [
    "# YAPAY SİNİR AĞLARI"
   ]
  },
  {
   "cell_type": "markdown",
   "id": "a0eebd5e-8d89-4e97-ab1e-bf112e591099",
   "metadata": {},
   "source": [
    "İnsan beyninin bilgi işleme şeklini referans alan sınıflandırma ve regresyon problemleri için kullanılabilen kuvvetli makine öğrenmesi algoritmalarından birisidir."
   ]
  },
  {
   "cell_type": "markdown",
   "id": "235e5265-ae2e-4557-8b61-80784d2a9495",
   "metadata": {},
   "source": [
    "# Model"
   ]
  },
  {
   "cell_type": "code",
   "execution_count": 59,
   "id": "5b1be496-6342-4b06-adf4-0577c996ef02",
   "metadata": {},
   "outputs": [],
   "source": [
    "hit = pd.read_csv(\"Hitters.csv\")\n",
    "df = hit.copy()\n",
    "df = df.dropna()\n",
    "dms = pd.get_dummies(df[['League', 'Division', 'NewLeague']])\n",
    "y = df[\"Salary\"]\n",
    "X_ = df.drop(['Salary', 'League', 'Division', 'NewLeague'], axis=1).astype('float64')\n",
    "X = pd.concat([X_, dms[['League_N', 'Division_W', 'NewLeague_N']]], axis=1)\n",
    "X_train, X_test, y_train, y_test = train_test_split(X, y, \n",
    "                                                    test_size=0.25, \n",
    "                                                    random_state=42)"
   ]
  },
  {
   "cell_type": "code",
   "execution_count": 60,
   "id": "a874223b-cd89-41a2-954d-3d7c48e08790",
   "metadata": {},
   "outputs": [],
   "source": [
    "from sklearn.preprocessing import StandardScaler"
   ]
  },
  {
   "cell_type": "code",
   "execution_count": 61,
   "id": "2a36ba4a-4aeb-46d0-9dbf-57917cd282a1",
   "metadata": {},
   "outputs": [
    {
     "data": {
      "text/plain": [
       "StandardScaler()"
      ]
     },
     "execution_count": 61,
     "metadata": {},
     "output_type": "execute_result"
    }
   ],
   "source": [
    "scaler = StandardScaler()\n",
    "scaler.fit(X_train)"
   ]
  },
  {
   "cell_type": "code",
   "execution_count": 62,
   "id": "da8d630b-6a24-4b5f-9a9e-8d92f9b8f110",
   "metadata": {},
   "outputs": [],
   "source": [
    "X_train_scaled = scaler.transform(X_train)"
   ]
  },
  {
   "cell_type": "code",
   "execution_count": 63,
   "id": "cd2146b2-5079-4d7c-801e-2bd5e19ee9a8",
   "metadata": {},
   "outputs": [],
   "source": [
    "X_test_scaled = scaler.transform(X_test)"
   ]
  },
  {
   "cell_type": "code",
   "execution_count": 64,
   "id": "e6889981-1be2-41b8-ae5d-d9e72024c973",
   "metadata": {},
   "outputs": [],
   "source": [
    "from sklearn.neural_network import MLPRegressor"
   ]
  },
  {
   "cell_type": "code",
   "execution_count": 65,
   "id": "719ee696-275b-4434-80ae-0d836c187674",
   "metadata": {},
   "outputs": [],
   "source": [
    "mlp_model = MLPRegressor(hidden_layer_sizes = (100,20)).fit(X_train_scaled, y_train)"
   ]
  },
  {
   "cell_type": "code",
   "execution_count": 66,
   "id": "dd4c3379-8031-43a4-94cb-113f29b61368",
   "metadata": {},
   "outputs": [
    {
     "data": {
      "text/plain": [
       "MLPRegressor(hidden_layer_sizes=(100, 20))"
      ]
     },
     "execution_count": 66,
     "metadata": {},
     "output_type": "execute_result"
    }
   ],
   "source": [
    "mlp_model"
   ]
  },
  {
   "cell_type": "code",
   "execution_count": 67,
   "id": "e0fe460f-00af-4ee0-b066-4720bdac4580",
   "metadata": {},
   "outputs": [
    {
     "data": {
      "text/plain": [
       "4"
      ]
     },
     "execution_count": 67,
     "metadata": {},
     "output_type": "execute_result"
    }
   ],
   "source": [
    "mlp_model.n_layers_"
   ]
  },
  {
   "cell_type": "code",
   "execution_count": 68,
   "id": "b22713c2-880c-4145-aef0-c19a0b338d87",
   "metadata": {},
   "outputs": [
    {
     "data": {
      "text/plain": [
       "(100, 20)"
      ]
     },
     "execution_count": 68,
     "metadata": {},
     "output_type": "execute_result"
    }
   ],
   "source": [
    "mlp_model.hidden_layer_sizes"
   ]
  },
  {
   "cell_type": "markdown",
   "id": "40e74bf7-4ceb-46c0-8d6e-fe733c142749",
   "metadata": {},
   "source": [
    "# Tahmin"
   ]
  },
  {
   "cell_type": "code",
   "execution_count": 69,
   "id": "fe5b4deb-acfd-4a90-85c9-72e975084697",
   "metadata": {},
   "outputs": [],
   "source": [
    "y_pred = mlp_model.predict(X_test_scaled)"
   ]
  },
  {
   "cell_type": "code",
   "execution_count": 70,
   "id": "870905ad-2a09-4a27-9c6f-53c4cf9439f1",
   "metadata": {},
   "outputs": [
    {
     "data": {
      "text/plain": [
       "527.4270090447499"
      ]
     },
     "execution_count": 70,
     "metadata": {},
     "output_type": "execute_result"
    }
   ],
   "source": [
    "np.sqrt(mean_squared_error(y_test, y_pred))"
   ]
  },
  {
   "cell_type": "markdown",
   "id": "15b7dfda-450a-402c-82fd-e065a351dcf0",
   "metadata": {},
   "source": [
    "# Model Tuning"
   ]
  },
  {
   "cell_type": "code",
   "execution_count": 71,
   "id": "7c112f85-975e-404e-bdac-aad839a7e836",
   "metadata": {},
   "outputs": [
    {
     "data": {
      "text/plain": [
       "MLPRegressor(hidden_layer_sizes=(100, 20))"
      ]
     },
     "execution_count": 71,
     "metadata": {},
     "output_type": "execute_result"
    }
   ],
   "source": [
    "mlp_model"
   ]
  },
  {
   "cell_type": "code",
   "execution_count": 72,
   "id": "3c56ae51-42d4-4a3a-afdb-feda8100b161",
   "metadata": {},
   "outputs": [],
   "source": [
    "mlp_params = {\"alpha\":[0.1, 0.01, 0.02, 0.005],\n",
    "              \"hidden_layer_sizes\": [(20, 20), (100, 50, 150), (300, 200, 150)],\n",
    "              \"activation\": ['relu', 'logistic']}"
   ]
  },
  {
   "cell_type": "code",
   "execution_count": 73,
   "id": "f01edfe2-ac0e-40c5-8654-fc94e7579954",
   "metadata": {},
   "outputs": [],
   "source": [
    "mlp_cv_model = GridSearchCV(mlp_model, mlp_params, cv = 10)"
   ]
  },
  {
   "cell_type": "code",
   "execution_count": 74,
   "id": "f6ba65eb-6f6c-4770-a0d9-66cc109af6ce",
   "metadata": {},
   "outputs": [
    {
     "data": {
      "text/plain": [
       "GridSearchCV(cv=10, estimator=MLPRegressor(hidden_layer_sizes=(100, 20)),\n",
       "             param_grid={'activation': ['relu', 'logistic'],\n",
       "                         'alpha': [0.1, 0.01, 0.02, 0.005],\n",
       "                         'hidden_layer_sizes': [(20, 20), (100, 50, 150),\n",
       "                                                (300, 200, 150)]})"
      ]
     },
     "execution_count": 74,
     "metadata": {},
     "output_type": "execute_result"
    }
   ],
   "source": [
    "mlp_cv_model.fit(X_train_scaled, y_train)"
   ]
  },
  {
   "cell_type": "code",
   "execution_count": 75,
   "id": "cc6c1213-e099-49f2-8999-b49fa6981e5c",
   "metadata": {},
   "outputs": [
    {
     "data": {
      "text/plain": [
       "{'activation': 'relu', 'alpha': 0.01, 'hidden_layer_sizes': (100, 50, 150)}"
      ]
     },
     "execution_count": 75,
     "metadata": {},
     "output_type": "execute_result"
    }
   ],
   "source": [
    "mlp_cv_model.best_params_"
   ]
  },
  {
   "cell_type": "code",
   "execution_count": 76,
   "id": "d5607c22-abce-47f8-8f90-6bf087d8c1b4",
   "metadata": {},
   "outputs": [],
   "source": [
    "mlp_tuned = MLPRegressor(alpha = 0.02, hidden_layer_sizes = (100, 50, 150))"
   ]
  },
  {
   "cell_type": "code",
   "execution_count": 77,
   "id": "574eaee8-a746-455b-abac-b46d3fd8fc58",
   "metadata": {},
   "outputs": [
    {
     "data": {
      "text/plain": [
       "MLPRegressor(alpha=0.02, hidden_layer_sizes=(100, 50, 150))"
      ]
     },
     "execution_count": 77,
     "metadata": {},
     "output_type": "execute_result"
    }
   ],
   "source": [
    "mlp_tuned.fit(X_train_scaled, y_train)"
   ]
  },
  {
   "cell_type": "code",
   "execution_count": 78,
   "id": "17f1a5d4-f535-4241-8629-a246c96fee85",
   "metadata": {},
   "outputs": [],
   "source": [
    "y_pred = mlp_tuned.predict(X_test_scaled)"
   ]
  },
  {
   "cell_type": "code",
   "execution_count": 79,
   "id": "a5a781a4-b0db-40a0-aa48-430627502581",
   "metadata": {},
   "outputs": [
    {
     "data": {
      "text/plain": [
       "361.77739022461884"
      ]
     },
     "execution_count": 79,
     "metadata": {},
     "output_type": "execute_result"
    }
   ],
   "source": [
    "np.sqrt(mean_squared_error(y_test, y_pred))"
   ]
  },
  {
   "cell_type": "markdown",
   "id": "2379a98f-2034-4dcc-9f4f-b415fa25adea",
   "metadata": {},
   "source": [
    "# REGRESYON AĞAÇLARI (CART)"
   ]
  },
  {
   "cell_type": "markdown",
   "id": "b5009c7e-a166-42a7-a8fe-51230de449ac",
   "metadata": {},
   "source": [
    "Amaç veri seti içerisindeki karmaşık yapıları basit karar yapılarına dönüştürmektir. Heterojen veri setleri belirlenmiş bir hedef değişkene göre homojen alt gruplara ayrılır"
   ]
  },
  {
   "cell_type": "markdown",
   "id": "aa143dc9-f472-4774-ae55-d2a19cd7974b",
   "metadata": {},
   "source": [
    "# Model"
   ]
  },
  {
   "cell_type": "code",
   "execution_count": 80,
   "id": "79caabd5-8543-4034-8563-da4f7d488b12",
   "metadata": {},
   "outputs": [],
   "source": [
    "hit = pd.read_csv(\"Hitters.csv\")\n",
    "df = hit.copy()\n",
    "df = df.dropna()\n",
    "dms = pd.get_dummies(df[['League', 'Division', 'NewLeague']])\n",
    "y = df[\"Salary\"]\n",
    "X_ = df.drop(['Salary', 'League', 'Division', 'NewLeague'], axis=1).astype('float64')\n",
    "X = pd.concat([X_, dms[['League_N', 'Division_W', 'NewLeague_N']]], axis=1)\n",
    "X_train, X_test, y_train, y_test = train_test_split(X, y, \n",
    "                                                    test_size=0.25, \n",
    "                                                    random_state=42)\n"
   ]
  },
  {
   "cell_type": "code",
   "execution_count": 81,
   "id": "37d6f14d-8d26-4f94-86f5-54332468ea75",
   "metadata": {},
   "outputs": [],
   "source": [
    "X_train = pd.DataFrame(X_train[\"Hits\"])\n",
    "X_test = pd.DataFrame(X_test[\"Hits\"])"
   ]
  },
  {
   "cell_type": "code",
   "execution_count": 82,
   "id": "71c98809-079e-400f-900e-616632b8d0d8",
   "metadata": {},
   "outputs": [],
   "source": [
    "cart_model = DecisionTreeRegressor(min_samples_split = 2)"
   ]
  },
  {
   "cell_type": "code",
   "execution_count": 83,
   "id": "c8e7512e-e7b6-4af5-bf87-819b1c7ecabb",
   "metadata": {},
   "outputs": [
    {
     "data": {
      "text/plain": [
       "DecisionTreeRegressor()"
      ]
     },
     "execution_count": 83,
     "metadata": {},
     "output_type": "execute_result"
    }
   ],
   "source": [
    "cart_model"
   ]
  },
  {
   "cell_type": "code",
   "execution_count": 84,
   "id": "f9efd778-a251-44c6-b421-e944b24398b7",
   "metadata": {},
   "outputs": [
    {
     "data": {
      "text/plain": [
       "DecisionTreeRegressor()"
      ]
     },
     "execution_count": 84,
     "metadata": {},
     "output_type": "execute_result"
    }
   ],
   "source": [
    "cart_model.fit(X_train, y_train)"
   ]
  },
  {
   "cell_type": "code",
   "execution_count": 85,
   "id": "76fc98c1-3bdb-4efa-ab3a-6cc6f2e6bcc2",
   "metadata": {},
   "outputs": [
    {
     "data": {
      "image/png": "[encoded data removed]",
      "text/plain": [
       "<Figure size 640x480 with 1 Axes>"
      ]
     },
     "metadata": {},
     "output_type": "display_data"
    }
   ],
   "source": [
    "X_grid = np.arange(min(np.array(X_train)),max(np.array(X_train)), 0.01) \n",
    "X_grid = X_grid.reshape((len(X_grid), 1))  \n",
    "plt.scatter(X_train, y_train, color = 'red') \n",
    "plt.plot(X_grid, cart_model.predict(X_grid), color = 'blue')  \n",
    "plt.title('CART REGRESON AĞACI')  \n",
    "plt.xlabel('Atış Sayısı(Hits)') \n",
    "plt.ylabel('Maaş (Salary)') ;"
   ]
  },
  {
   "cell_type": "code",
   "execution_count": 86,
   "id": "05e52a0b-e336-48ca-bb05-3df8e8a9a514",
   "metadata": {},
   "outputs": [],
   "source": [
    "#!pip install skompiler"
   ]
  },
  {
   "cell_type": "code",
   "execution_count": 87,
   "id": "90aa9443-15e8-474b-af19-cba9dedecba1",
   "metadata": {},
   "outputs": [
    {
     "name": "stdout",
     "output_type": "stream",
     "text": [
      "Requirement already satisfied: skompiler in c:\\users\\hakan\\anaconda3\\lib\\site-packages (0.7)\n",
      "Requirement already satisfied: scikit-learn>=0.22 in c:\\users\\hakan\\anaconda3\\lib\\site-packages (from skompiler) (1.0.2)\n",
      "Requirement already satisfied: threadpoolctl>=2.0.0 in c:\\users\\hakan\\anaconda3\\lib\\site-packages (from scikit-learn>=0.22->skompiler) (2.2.0)\n",
      "Requirement already satisfied: scipy>=1.1.0 in c:\\users\\hakan\\anaconda3\\lib\\site-packages (from scikit-learn>=0.22->skompiler) (1.9.1)\n",
      "Requirement already satisfied: numpy>=1.14.6 in c:\\users\\hakan\\anaconda3\\lib\\site-packages (from scikit-learn>=0.22->skompiler) (1.24.3)\n",
      "Requirement already satisfied: joblib>=0.11 in c:\\users\\hakan\\anaconda3\\lib\\site-packages (from scikit-learn>=0.22->skompiler) (1.1.0)\n",
      "Note: you may need to restart the kernel to use updated packages.\n"
     ]
    }
   ],
   "source": [
    "pip install skompiler"
   ]
  },
  {
   "cell_type": "code",
   "execution_count": 88,
   "id": "13042c74-b279-42d7-a3e3-6fd197b365af",
   "metadata": {},
   "outputs": [],
   "source": [
    "from skompiler import skompile"
   ]
  },
  {
   "cell_type": "code",
   "execution_count": 89,
   "id": "74f50ee3-a65d-4c75-a6b6-1dde46891636",
   "metadata": {},
   "outputs": [
    {
     "name": "stdout",
     "output_type": "stream",
     "text": [
      "Requirement already satisfied: astor in c:\\users\\hakan\\anaconda3\\lib\\site-packages (0.8.1)\n",
      "Note: you may need to restart the kernel to use updated packages.\n"
     ]
    }
   ],
   "source": [
    "pip install astor"
   ]
  },
  {
   "cell_type": "code",
   "execution_count": 90,
   "id": "acada608-71b9-46cb-bd85-5fbd4d3a6b87",
   "metadata": {},
   "outputs": [
    {
     "name": "stdout",
     "output_type": "stream",
     "text": [
      "((920.0 if x[0] <= 18.0 else ((500.0 if x[0] <= 34.5 else (70.0 if x[0] <= \n",
      "    38.0 else 175.0) if x[0] <= 39.5 else 90.0 if x[0] <= 40.5 else 67.5) if\n",
      "    x[0] <= 41.5 else 900.0 if x[0] <= 42.5 else (((((215.55566666666664 if\n",
      "    x[0] <= 44.5 else 180.0) if x[0] <= 46.5 else 347.5 if x[0] <= 48.0 else\n",
      "    337.5) if x[0] <= 50.0 else 70.0) if x[0] <= 51.5 else 507.5) if x[0] <=\n",
      "    52.5 else 150.0 if x[0] <= 53.5 else 146.83333333333334) if x[0] <= \n",
      "    54.5 else 1300.0 if x[0] <= 55.5 else (170.0 if x[0] <= 56.5 else \n",
      "    193.75) if x[0] <= 57.5 else ((((((340.0 if x[0] <= 59.0 else 418.5) if\n",
      "    x[0] <= 60.5 else 235.0 if x[0] <= 62.0 else 341.667) if x[0] <= 63.5 else\n",
      "    75.0) if x[0] <= 64.5 else 650.0) if x[0] <= 65.5 else 170.0 if x[0] <=\n",
      "    67.0 else 228.66666666666666) if x[0] <= 69.0 else 472.5) if x[0] <= \n",
      "    70.5 else (100.0 if x[0] <= 71.5 else 130.0) if x[0] <= 72.5 else \n",
      "    409.1665 if x[0] <= 74.5 else 215.0) if x[0] <= 76.5 else (((505.0 if x\n",
      "    [0] <= 77.5 else ((((328.88899999999995 if x[0] <= 79.0 else 700.0) if \n",
      "    x[0] <= 80.5 else 348.75 if x[0] <= 81.5 else 267.5) if x[0] <= 82.5 else\n",
      "    600.0 if x[0] <= 83.5 else 600.0) if x[0] <= 84.5 else (331.25 if x[0] <=\n",
      "    85.5 else (180.0 if x[0] <= 86.5 else 91.5) if x[0] <= 88.5 else 450.0 if\n",
      "    x[0] <= 90.5 else 125.0) if x[0] <= 91.5 else 411.25 if x[0] <= 92.5 else\n",
      "    250.0) if x[0] <= 93.5 else 670.0 if x[0] <= 94.5 else ((100.0 if x[0] <=\n",
      "    95.5 else 504.1665) if x[0] <= 96.5 else 210.0 if x[0] <= 98.0 else \n",
      "    87.5) if x[0] <= 100.0 else 466.0) if x[0] <= 101.5 else 247.5 if x[0] <=\n",
      "    102.5 else 257.3334) if x[0] <= 103.5 else (750.0 if x[0] <= 105.0 else\n",
      "    850.0) if x[0] <= 107.0 else 162.5 if x[0] <= 109.0 else (560.0 if x[0] <=\n",
      "    111.0 else 442.5 if x[0] <= 112.5 else 487.5) if x[0] <= 114.0 else \n",
      "    300.0) if x[0] <= 116.0 else 110.0) if x[0] <= 117.5 else ((((1300.0 if\n",
      "    x[0] <= 118.5 else 773.3333333333334 if x[0] <= 120.5 else 442.5) if x[\n",
      "    0] <= 122.5 else 1240.0 if x[0] <= 124.0 else 1925.571) if x[0] <= \n",
      "    125.5 else (561.25 if x[0] <= 126.5 else (695.2776666666667 if x[0] <= \n",
      "    127.5 else 1043.75) if x[0] <= 128.5 else (750.0 if x[0] <= 129.5 else \n",
      "    480.0) if x[0] <= 130.5 else 726.6666666666666) if x[0] <= 131.5 else (\n",
      "    ((611.6665 if x[0] <= 133.5 else 461.0) if x[0] <= 135.5 else 725.0) if\n",
      "    x[0] <= 137.0 else 152.5 if x[0] <= 138.5 else 555.0 if x[0] <= 139.5 else\n",
      "    200.0) if x[0] <= 140.5 else 712.5 if x[0] <= 141.5 else 777.5) if x[0] <=\n",
      "    143.0 else (((1021.6666666666666 if x[0] <= 144.5 else 500.0 if x[0] <=\n",
      "    145.5 else 815.0) if x[0] <= 146.5 else 1230.0 if x[0] <= 148.0 else \n",
      "    787.5 if x[0] <= 149.5 else 1000.0) if x[0] <= 150.5 else 2460.0) if x[\n",
      "    0] <= 151.5 else (451.6666666666667 if x[0] <= 153.0 else 580.0 if x[0] <=\n",
      "    155.5 else 530.0) if x[0] <= 157.5 else (((((775.0 if x[0] <= 158.5 else\n",
      "    759.1665) if x[0] <= 159.5 else 1670.0 if x[0] <= 161.5 else 923.0 if x\n",
      "    [0] <= 165.5 else 863.0556666666666) if x[0] <= 168.5 else \n",
      "    743.3333333333334) if x[0] <= 169.5 else 1118.75 if x[0] <= 170.5 else \n",
      "    1350.0) if x[0] <= 171.5 else 165.0 if x[0] <= 173.0 else (849.3335 if \n",
      "    x[0] <= 175.5 else 1350.0) if x[0] <= 177.5 else (740.0 if x[0] <= \n",
      "    178.5 else 575.0 if x[0] <= 181.5 else 630.0) if x[0] <= 185.0 else \n",
      "    1300.0 if x[0] <= 198.5 else 740.0) if x[0] <= 212.0 else 350.0) if x[0\n",
      "    ] <= 225.5 else 1975.0)\n",
      "\n"
     ]
    }
   ],
   "source": [
    "print(skompile(cart_model.predict).to('python/code'))"
   ]
  },
  {
   "cell_type": "markdown",
   "id": "842d083b-cffc-4a2c-aaf4-03609bd84f3d",
   "metadata": {},
   "source": [
    "# Tahmin"
   ]
  },
  {
   "cell_type": "code",
   "execution_count": 91,
   "id": "2499c964-c8ac-49e1-8445-368cff4761f7",
   "metadata": {},
   "outputs": [],
   "source": [
    "x = [91]"
   ]
  },
  {
   "cell_type": "code",
   "execution_count": 92,
   "id": "7532138a-93e9-410d-9b07-1d4599ae627c",
   "metadata": {},
   "outputs": [
    {
     "data": {
      "text/plain": [
       "125.0"
      ]
     },
     "execution_count": 92,
     "metadata": {},
     "output_type": "execute_result"
    }
   ],
   "source": [
    "((920.0 if x[0] <= 18.0 else ((500.0 if x[0] <= 34.5 else (70.0 if x[0] <= \n",
    "    38.0 else 175.0) if x[0] <= 39.5 else 90.0 if x[0] <= 40.5 else 67.5) if\n",
    "    x[0] <= 41.5 else 900.0 if x[0] <= 42.5 else (((((215.55566666666664 if\n",
    "    x[0] <= 44.5 else 180.0) if x[0] <= 46.5 else 347.5 if x[0] <= 48.0 else\n",
    "    337.5) if x[0] <= 50.0 else 70.0) if x[0] <= 51.5 else 507.5) if x[0] <=\n",
    "    52.5 else 150.0 if x[0] <= 53.5 else 146.83333333333334) if x[0] <= \n",
    "    54.5 else 1300.0 if x[0] <= 55.5 else (170.0 if x[0] <= 56.5 else \n",
    "    193.75) if x[0] <= 57.5 else ((((((340.0 if x[0] <= 59.0 else 418.5) if\n",
    "    x[0] <= 60.5 else 235.0 if x[0] <= 62.0 else 341.667) if x[0] <= 63.5 else\n",
    "    75.0) if x[0] <= 64.5 else 650.0) if x[0] <= 65.5 else 170.0 if x[0] <=\n",
    "    67.0 else 228.66666666666666) if x[0] <= 69.0 else 472.5) if x[0] <= \n",
    "    70.5 else (100.0 if x[0] <= 71.5 else 130.0) if x[0] <= 72.5 else \n",
    "    409.1665 if x[0] <= 74.5 else 215.0) if x[0] <= 76.5 else (((505.0 if x\n",
    "    [0] <= 77.5 else ((((328.88899999999995 if x[0] <= 79.0 else 700.0) if \n",
    "    x[0] <= 80.5 else 348.75 if x[0] <= 81.5 else 267.5) if x[0] <= 82.5 else\n",
    "    600.0 if x[0] <= 83.5 else 600.0) if x[0] <= 84.5 else (331.25 if x[0] <=\n",
    "    85.5 else (180.0 if x[0] <= 86.5 else 91.5) if x[0] <= 88.5 else 450.0 if\n",
    "    x[0] <= 90.5 else 125.0) if x[0] <= 91.5 else 411.25 if x[0] <= 92.5 else\n",
    "    250.0) if x[0] <= 93.5 else 670.0 if x[0] <= 94.5 else ((100.0 if x[0] <=\n",
    "    95.5 else 504.1665) if x[0] <= 96.5 else 210.0 if x[0] <= 98.0 else \n",
    "    87.5) if x[0] <= 100.0 else 466.0) if x[0] <= 101.5 else 247.5 if x[0] <=\n",
    "    102.5 else 257.3334) if x[0] <= 103.5 else (750.0 if x[0] <= 105.0 else\n",
    "    850.0) if x[0] <= 107.0 else 162.5 if x[0] <= 109.0 else (560.0 if x[0] <=\n",
    "    111.0 else 442.5 if x[0] <= 112.5 else 487.5) if x[0] <= 114.0 else \n",
    "    300.0) if x[0] <= 116.0 else 110.0) if x[0] <= 117.5 else ((((1300.0 if\n",
    "    x[0] <= 118.5 else 773.3333333333334 if x[0] <= 120.5 else 442.5) if x[\n",
    "    0] <= 122.5 else 1240.0 if x[0] <= 124.0 else 1925.571) if x[0] <= \n",
    "    125.5 else (561.25 if x[0] <= 126.5 else (695.2776666666667 if x[0] <= \n",
    "    127.5 else 1043.75) if x[0] <= 128.5 else (750.0 if x[0] <= 129.5 else \n",
    "    480.0) if x[0] <= 130.5 else 726.6666666666666) if x[0] <= 131.5 else (\n",
    "    ((611.6665 if x[0] <= 133.5 else 461.0) if x[0] <= 135.5 else 725.0) if\n",
    "    x[0] <= 137.0 else 152.5 if x[0] <= 138.5 else 555.0 if x[0] <= 139.5 else\n",
    "    200.0) if x[0] <= 140.5 else 712.5 if x[0] <= 141.5 else 777.5) if x[0] <=\n",
    "    143.0 else (((1021.6666666666666 if x[0] <= 144.5 else 500.0 if x[0] <=\n",
    "    145.5 else 815.0) if x[0] <= 146.5 else 1230.0 if x[0] <= 148.0 else \n",
    "    787.5 if x[0] <= 149.5 else 1000.0) if x[0] <= 150.5 else 2460.0) if x[\n",
    "    0] <= 151.5 else (451.6666666666667 if x[0] <= 153.0 else 580.0 if x[0] <=\n",
    "    155.5 else 530.0) if x[0] <= 157.5 else (((((775.0 if x[0] <= 158.5 else\n",
    "    759.1665) if x[0] <= 159.5 else 1670.0 if x[0] <= 161.5 else 923.0 if x\n",
    "    [0] <= 165.5 else 863.0556666666666) if x[0] <= 168.5 else \n",
    "    743.3333333333334) if x[0] <= 169.5 else 1118.75 if x[0] <= 170.5 else \n",
    "    1350.0) if x[0] <= 171.5 else 165.0 if x[0] <= 173.0 else (849.3335 if \n",
    "    x[0] <= 175.5 else 1350.0) if x[0] <= 177.5 else (740.0 if x[0] <= \n",
    "    178.5 else 575.0 if x[0] <= 181.5 else 630.0) if x[0] <= 185.0 else \n",
    "    1300.0 if x[0] <= 198.5 else 740.0) if x[0] <= 212.0 else 350.0) if x[0\n",
    "    ] <= 225.5 else 1975.0)\n"
   ]
  },
  {
   "cell_type": "code",
   "execution_count": 93,
   "id": "300513f0-ab2d-4e65-8dd4-5eb761fc7b5b",
   "metadata": {},
   "outputs": [
    {
     "data": {
      "text/plain": [
       "array([125.])"
      ]
     },
     "execution_count": 93,
     "metadata": {},
     "output_type": "execute_result"
    }
   ],
   "source": [
    "cart_model.predict([[91]])"
   ]
  },
  {
   "cell_type": "code",
   "execution_count": 94,
   "id": "78ac8e6e-d6e5-40ee-b5d9-588af96fac5c",
   "metadata": {},
   "outputs": [],
   "source": [
    "y_pred = cart_model.predict(X_test)"
   ]
  },
  {
   "cell_type": "code",
   "execution_count": 95,
   "id": "dfba219a-e4a5-4072-af84-eb6f898928f1",
   "metadata": {},
   "outputs": [
    {
     "data": {
      "text/plain": [
       "468.49579052913884"
      ]
     },
     "execution_count": 95,
     "metadata": {},
     "output_type": "execute_result"
    }
   ],
   "source": [
    "np.sqrt(mean_squared_error(y_test, y_pred))"
   ]
  },
  {
   "cell_type": "markdown",
   "id": "c5e06f26-61a2-4b9a-873b-d88aa9625f50",
   "metadata": {},
   "source": [
    "# Model Tuning"
   ]
  },
  {
   "cell_type": "code",
   "execution_count": 96,
   "id": "ebea6720-fb6a-4bd4-ab4f-65737338dae3",
   "metadata": {},
   "outputs": [],
   "source": [
    "cart_model = DecisionTreeRegressor()\n",
    "cart_model.fit(X_train, y_train)\n",
    "y_pred = cart_model.predict(X_test)"
   ]
  },
  {
   "cell_type": "code",
   "execution_count": 97,
   "id": "2907a4b7-1af3-47ad-9bbc-bbec6a7942af",
   "metadata": {},
   "outputs": [
    {
     "data": {
      "text/plain": [
       "468.49579052913884"
      ]
     },
     "execution_count": 97,
     "metadata": {},
     "output_type": "execute_result"
    }
   ],
   "source": [
    "np.sqrt(mean_squared_error(y_test, y_pred))"
   ]
  },
  {
   "cell_type": "code",
   "execution_count": 98,
   "id": "362baf10-b4d1-4af7-84b2-058d76e0423a",
   "metadata": {},
   "outputs": [],
   "source": [
    "cart_params = {\"min_samples_split\": range(2,100),\n",
    "               \"max_leaf_nodes\": range(2,10)}"
   ]
  },
  {
   "cell_type": "code",
   "execution_count": 99,
   "id": "599abc19-8e2f-42e7-acb6-222727708a8b",
   "metadata": {},
   "outputs": [],
   "source": [
    "cart_cv_model = GridSearchCV(cart_model, cart_params, cv = 10)"
   ]
  },
  {
   "cell_type": "code",
   "execution_count": 100,
   "id": "b1b49ea1-1d04-4fe2-bb83-c32c5375ba65",
   "metadata": {},
   "outputs": [
    {
     "data": {
      "text/plain": [
       "GridSearchCV(cv=10, estimator=DecisionTreeRegressor(),\n",
       "             param_grid={'max_leaf_nodes': range(2, 10),\n",
       "                         'min_samples_split': range(2, 100)})"
      ]
     },
     "execution_count": 100,
     "metadata": {},
     "output_type": "execute_result"
    }
   ],
   "source": [
    "cart_cv_model.fit(X_train, y_train)"
   ]
  },
  {
   "cell_type": "code",
   "execution_count": 101,
   "id": "187df18e-43ef-4a4c-8e40-c3e03bb3a46f",
   "metadata": {},
   "outputs": [
    {
     "data": {
      "text/plain": [
       "{'max_leaf_nodes': 9, 'min_samples_split': 76}"
      ]
     },
     "execution_count": 101,
     "metadata": {},
     "output_type": "execute_result"
    }
   ],
   "source": [
    "cart_cv_model.best_params_"
   ]
  },
  {
   "cell_type": "code",
   "execution_count": 102,
   "id": "5629e056-4bf5-4801-a371-da36bd316caf",
   "metadata": {},
   "outputs": [],
   "source": [
    "cart_tuned = DecisionTreeRegressor(max_leaf_nodes = 9, min_samples_split = 37)"
   ]
  },
  {
   "cell_type": "code",
   "execution_count": 103,
   "id": "74ee36ad-02a5-4af6-b632-735753b2d009",
   "metadata": {},
   "outputs": [
    {
     "data": {
      "text/plain": [
       "DecisionTreeRegressor(max_leaf_nodes=9, min_samples_split=37)"
      ]
     },
     "execution_count": 103,
     "metadata": {},
     "output_type": "execute_result"
    }
   ],
   "source": [
    "cart_tuned.fit(X_train, y_train)"
   ]
  },
  {
   "cell_type": "code",
   "execution_count": 104,
   "id": "0bed11df-3c29-4d59-ab2c-e453a539b0ab",
   "metadata": {},
   "outputs": [],
   "source": [
    "y_pred = cart_tuned.predict(X_test)"
   ]
  },
  {
   "cell_type": "code",
   "execution_count": 105,
   "id": "b61d44b7-8842-4df8-9005-d77704b6e03a",
   "metadata": {},
   "outputs": [
    {
     "data": {
      "text/plain": [
       "434.2326688144208"
      ]
     },
     "execution_count": 105,
     "metadata": {},
     "output_type": "execute_result"
    }
   ],
   "source": [
    "np.sqrt(mean_squared_error(y_test, y_pred))"
   ]
  },
  {
   "cell_type": "code",
   "execution_count": 106,
   "id": "47b963d9-1c8f-458c-b3d0-56e83e2a510d",
   "metadata": {},
   "outputs": [
    {
     "name": "stdout",
     "output_type": "stream",
     "text": [
      "((920.0 if x[0] <= 18.0 else (178.92857142857142 if x[0] <= 41.5 else \n",
      "    308.8623260869565) if x[0] <= 76.5 else 390.71945 if x[0] <= 116.0 else\n",
      "    110.0) if x[0] <= 117.5 else (716.6210571428571 if x[0] <= 143.0 else \n",
      "    1108.75 if x[0] <= 151.5 else 825.1047714285714) if x[0] <= 225.5 else \n",
      "    1975.0)\n",
      "\n"
     ]
    }
   ],
   "source": [
    "print(skompile(cart_tuned.predict).to('python/code'))"
   ]
  },
  {
   "cell_type": "code",
   "execution_count": 107,
   "id": "f3108e47-68b8-4051-8cb7-8c65d8adcc85",
   "metadata": {},
   "outputs": [],
   "source": [
    "x = [91]"
   ]
  },
  {
   "cell_type": "code",
   "execution_count": 108,
   "id": "113973d4-e483-4f90-8efb-04887b890cb6",
   "metadata": {},
   "outputs": [
    {
     "data": {
      "text/plain": [
       "381.66398387096774"
      ]
     },
     "execution_count": 108,
     "metadata": {},
     "output_type": "execute_result"
    }
   ],
   "source": [
    "((920.0 if x[0] <= 18.0 else 291.70126415094336 if x[0] <= 76.5 else \n",
    "    381.66398387096774) if x[0] <= 117.5 else (716.6210571428571 if x[0] <=\n",
    "    143.0 else 888.1370444444444) if x[0] <= 225.5 else 1975.0)\n"
   ]
  },
  {
   "cell_type": "markdown",
   "id": "76cc3a00-2b19-4e57-b27b-5245f457ae57",
   "metadata": {},
   "source": [
    "# BAGGING"
   ]
  },
  {
   "cell_type": "markdown",
   "id": "5adcef1d-6fd5-4115-90c2-8e3c17bba131",
   "metadata": {},
   "source": [
    "Temeli boostsrap yöntemi ile oluşturulan birden fazla karar ağacının ürettiği tahminlerin bir araya getirilerek değerlendirilmesine dayanır."
   ]
  },
  {
   "cell_type": "markdown",
   "id": "4ba7df27-eaec-4166-b1ea-352ae83a5e65",
   "metadata": {},
   "source": [
    "# Model"
   ]
  },
  {
   "cell_type": "code",
   "execution_count": 109,
   "id": "82562ddb-553e-4278-8892-3252a70059da",
   "metadata": {},
   "outputs": [],
   "source": [
    "hit = pd.read_csv(\"Hitters.csv\")\n",
    "df = hit.copy()\n",
    "df = df.dropna()\n",
    "dms = pd.get_dummies(df[['League', 'Division', 'NewLeague']])\n",
    "y = df[\"Salary\"]\n",
    "X_ = df.drop(['Salary', 'League', 'Division', 'NewLeague'], axis=1).astype('float64')\n",
    "X = pd.concat([X_, dms[['League_N', 'Division_W', 'NewLeague_N']]], axis=1)\n",
    "X_train, X_test, y_train, y_test = train_test_split(X, y, \n",
    "                                                    test_size=0.25, \n",
    "                                                    random_state=42)\n"
   ]
  },
  {
   "cell_type": "code",
   "execution_count": 110,
   "id": "b188a4d4-d35b-420d-a138-83da240a2df3",
   "metadata": {},
   "outputs": [],
   "source": [
    "bag_model = BaggingRegressor(bootstrap_features = True)"
   ]
  },
  {
   "cell_type": "code",
   "execution_count": 111,
   "id": "2c0337a7-545b-47b5-9790-c98467fa5326",
   "metadata": {},
   "outputs": [
    {
     "data": {
      "text/plain": [
       "BaggingRegressor(bootstrap_features=True)"
      ]
     },
     "execution_count": 111,
     "metadata": {},
     "output_type": "execute_result"
    }
   ],
   "source": [
    "bag_model.fit(X_train, y_train)"
   ]
  },
  {
   "cell_type": "code",
   "execution_count": 112,
   "id": "8c793dd5-15e6-48d3-a017-3b9cac51fc8e",
   "metadata": {},
   "outputs": [
    {
     "data": {
      "text/plain": [
       "10"
      ]
     },
     "execution_count": 112,
     "metadata": {},
     "output_type": "execute_result"
    }
   ],
   "source": [
    "bag_model.n_estimators"
   ]
  },
  {
   "cell_type": "code",
   "execution_count": 113,
   "id": "ffe7c50b-dc32-4315-8e0f-da427b8c209f",
   "metadata": {},
   "outputs": [
    {
     "data": {
      "text/plain": [
       "[DecisionTreeRegressor(random_state=1875850171),\n",
       " DecisionTreeRegressor(random_state=1686320658),\n",
       " DecisionTreeRegressor(random_state=2106270115),\n",
       " DecisionTreeRegressor(random_state=604160287),\n",
       " DecisionTreeRegressor(random_state=1818112300),\n",
       " DecisionTreeRegressor(random_state=1144551074),\n",
       " DecisionTreeRegressor(random_state=1634764234),\n",
       " DecisionTreeRegressor(random_state=820974251),\n",
       " DecisionTreeRegressor(random_state=1387516839),\n",
       " DecisionTreeRegressor(random_state=2009973545)]"
      ]
     },
     "execution_count": 113,
     "metadata": {},
     "output_type": "execute_result"
    }
   ],
   "source": [
    "bag_model.estimators_"
   ]
  },
  {
   "cell_type": "code",
   "execution_count": 115,
   "id": "b109bf48-8150-4328-9994-9241cb67547f",
   "metadata": {},
   "outputs": [
    {
     "data": {
      "text/plain": [
       "DecisionTreeRegressor(random_state=1875850171)"
      ]
     },
     "execution_count": 115,
     "metadata": {},
     "output_type": "execute_result"
    }
   ],
   "source": [
    "bag_model.estimators_[0]"
   ]
  },
  {
   "cell_type": "markdown",
   "id": "70325428-c5d2-478f-b5b8-7df7c1a8937b",
   "metadata": {},
   "source": [
    "# Tahmin"
   ]
  },
  {
   "cell_type": "code",
   "execution_count": 116,
   "id": "f5dc9e58-e099-43f5-ab80-9f341e623d08",
   "metadata": {},
   "outputs": [],
   "source": [
    "y_pred = bag_model.predict(X_test)"
   ]
  },
  {
   "cell_type": "code",
   "execution_count": 117,
   "id": "c6a326be-3c0c-4aa5-a310-2a087bf98d89",
   "metadata": {},
   "outputs": [
    {
     "data": {
      "text/plain": [
       "329.4424429776916"
      ]
     },
     "execution_count": 117,
     "metadata": {},
     "output_type": "execute_result"
    }
   ],
   "source": [
    "np.sqrt(mean_squared_error(y_test, y_pred))"
   ]
  },
  {
   "cell_type": "code",
   "execution_count": 118,
   "id": "30468967-f97f-4e03-b0e1-589b61584f26",
   "metadata": {},
   "outputs": [],
   "source": [
    "iki_y_pred = bag_model.estimators_[1].fit(X_train, y_train).predict(X_test)"
   ]
  },
  {
   "cell_type": "code",
   "execution_count": 119,
   "id": "97fc7790-9c05-4ec1-a552-1701de32b405",
   "metadata": {},
   "outputs": [
    {
     "data": {
      "text/plain": [
       "530.8569840261865"
      ]
     },
     "execution_count": 119,
     "metadata": {},
     "output_type": "execute_result"
    }
   ],
   "source": [
    "np.sqrt(mean_squared_error(y_test, iki_y_pred))"
   ]
  },
  {
   "cell_type": "markdown",
   "id": "7aaee8b4-a31c-494f-8ce7-330e99ca6e7c",
   "metadata": {},
   "source": [
    "# Model Tuning"
   ]
  },
  {
   "cell_type": "code",
   "execution_count": 120,
   "id": "b5810cb2-f4ef-48cf-9e6c-b1b6b96d63df",
   "metadata": {},
   "outputs": [
    {
     "data": {
      "text/plain": [
       "BaggingRegressor(bootstrap_features=True)"
      ]
     },
     "execution_count": 120,
     "metadata": {},
     "output_type": "execute_result"
    }
   ],
   "source": [
    "bag_model = BaggingRegressor(bootstrap_features = True)\n",
    "bag_model.fit(X_train, y_train)"
   ]
  },
  {
   "cell_type": "code",
   "execution_count": 121,
   "id": "25dd0de0-d577-43d6-8835-e4bfec7a1926",
   "metadata": {},
   "outputs": [],
   "source": [
    "bag_params = {\"n_estimators\": range(2, 20)}"
   ]
  },
  {
   "cell_type": "code",
   "execution_count": 122,
   "id": "f80afa5f-eb49-4e2d-8074-3821827846c9",
   "metadata": {},
   "outputs": [],
   "source": [
    "bag_cv_model = GridSearchCV(bag_model, bag_params, cv = 10)"
   ]
  },
  {
   "cell_type": "code",
   "execution_count": 123,
   "id": "20a1b2c5-0dc5-46b5-9987-456d26c27fe0",
   "metadata": {},
   "outputs": [
    {
     "data": {
      "text/plain": [
       "GridSearchCV(cv=10, estimator=BaggingRegressor(bootstrap_features=True),\n",
       "             param_grid={'n_estimators': range(2, 20)})"
      ]
     },
     "execution_count": 123,
     "metadata": {},
     "output_type": "execute_result"
    }
   ],
   "source": [
    "bag_cv_model.fit(X_train, y_train)"
   ]
  },
  {
   "cell_type": "code",
   "execution_count": 124,
   "id": "c81c762f-2b6b-4443-8c5f-187fea78a53d",
   "metadata": {},
   "outputs": [
    {
     "data": {
      "text/plain": [
       "{'n_estimators': 5}"
      ]
     },
     "execution_count": 124,
     "metadata": {},
     "output_type": "execute_result"
    }
   ],
   "source": [
    "bag_cv_model.best_params_"
   ]
  },
  {
   "cell_type": "code",
   "execution_count": 125,
   "id": "a8d06239-0dd2-4715-8ae9-d6fddd47d35d",
   "metadata": {},
   "outputs": [],
   "source": [
    "bag_tuned = BaggingRegressor(n_estimators = 5, random_state = 45)"
   ]
  },
  {
   "cell_type": "code",
   "execution_count": 126,
   "id": "109b46ce-631b-4c81-bd4e-30b2ebb45686",
   "metadata": {},
   "outputs": [
    {
     "data": {
      "text/plain": [
       "BaggingRegressor(n_estimators=5, random_state=45)"
      ]
     },
     "execution_count": 126,
     "metadata": {},
     "output_type": "execute_result"
    }
   ],
   "source": [
    "bag_tuned.fit(X_train, y_train)"
   ]
  },
  {
   "cell_type": "code",
   "execution_count": 127,
   "id": "b43c3a38-1508-49e0-a791-aa41e6a7ecce",
   "metadata": {},
   "outputs": [],
   "source": [
    "y_pred = bag_tuned.predict(X_test)"
   ]
  },
  {
   "cell_type": "code",
   "execution_count": 128,
   "id": "3c09e32b-628e-44f9-a90f-9067518a7e09",
   "metadata": {},
   "outputs": [
    {
     "data": {
      "text/plain": [
       "370.1676411495342"
      ]
     },
     "execution_count": 128,
     "metadata": {},
     "output_type": "execute_result"
    }
   ],
   "source": [
    "np.sqrt(mean_squared_error(y_test, y_pred))"
   ]
  },
  {
   "cell_type": "markdown",
   "id": "45f94efa-a158-48a9-b2b7-d92b44763d4d",
   "metadata": {},
   "source": [
    "# RANDOM FORESTS"
   ]
  },
  {
   "cell_type": "markdown",
   "id": "3fcd11d4-a670-4de2-b383-cb9c67969c9e",
   "metadata": {},
   "source": [
    "Temeli birden çok karar ağacının ürettiği tahminlerin bir araya getirilerek değerlendirilmesine dayanır."
   ]
  },
  {
   "cell_type": "markdown",
   "id": "baf35d7e-2f6c-4629-b898-087b881b0048",
   "metadata": {},
   "source": [
    "# Model"
   ]
  },
  {
   "cell_type": "code",
   "execution_count": 3,
   "id": "4825d482-6e3a-41aa-9681-c2b93185fbd0",
   "metadata": {},
   "outputs": [],
   "source": [
    "import numpy as np\n",
    "import pandas as pd\n",
    "from sklearn.model_selection import train_test_split\n",
    "hit = pd.read_csv(\"Hitters.csv\")\n",
    "df = hit.copy()\n",
    "df = df.dropna()\n",
    "dms = pd.get_dummies(df[['League', 'Division', 'NewLeague']])\n",
    "y = df[\"Salary\"]\n",
    "X_ = df.drop(['Salary', 'League', 'Division', 'NewLeague'], axis=1).astype('float64')\n",
    "X = pd.concat([X_, dms[['League_N', 'Division_W', 'NewLeague_N']]], axis=1)\n",
    "X_train, X_test, y_train, y_test = train_test_split(X, y, \n",
    "                                                    test_size=0.25, \n",
    "                                                    random_state=42)"
   ]
  },
  {
   "cell_type": "code",
   "execution_count": 130,
   "id": "29fb322b-b501-45b4-b239-33cdea7bf6ca",
   "metadata": {},
   "outputs": [],
   "source": [
    "from sklearn.ensemble import RandomForestRegressor"
   ]
  },
  {
   "cell_type": "code",
   "execution_count": 131,
   "id": "aa9a8abb-940c-49e9-872a-38402215137b",
   "metadata": {},
   "outputs": [],
   "source": [
    "rf_model = RandomForestRegressor(random_state = 42)"
   ]
  },
  {
   "cell_type": "code",
   "execution_count": 133,
   "id": "9d3ce731-4027-4b58-b7ca-86797894f0e7",
   "metadata": {},
   "outputs": [
    {
     "data": {
      "text/plain": [
       "RandomForestRegressor(random_state=42)"
      ]
     },
     "execution_count": 133,
     "metadata": {},
     "output_type": "execute_result"
    }
   ],
   "source": [
    "rf_model.fit(X_train, y_train)"
   ]
  },
  {
   "cell_type": "markdown",
   "id": "e4fab994-175d-438a-a115-a85af5d7f416",
   "metadata": {},
   "source": [
    "# Tahmin"
   ]
  },
  {
   "cell_type": "code",
   "execution_count": 134,
   "id": "c4c029c9-c4af-4938-a6a1-b615dfe7ef77",
   "metadata": {},
   "outputs": [
    {
     "data": {
      "text/plain": [
       "array([ 738.69167,  913.51164, 1181.145  ,  139.65167,  634.60833])"
      ]
     },
     "execution_count": 134,
     "metadata": {},
     "output_type": "execute_result"
    }
   ],
   "source": [
    "rf_model.predict(X_test)[0:5]"
   ]
  },
  {
   "cell_type": "code",
   "execution_count": 135,
   "id": "7bb25707-1749-4204-81a8-6f4bbdf0dca0",
   "metadata": {},
   "outputs": [],
   "source": [
    "y_pred = rf_model.predict(X_test)"
   ]
  },
  {
   "cell_type": "code",
   "execution_count": 136,
   "id": "d64f37a5-97f7-4e17-b660-0cbb13ea66be",
   "metadata": {},
   "outputs": [
    {
     "data": {
      "text/plain": [
       "344.8191624908484"
      ]
     },
     "execution_count": 136,
     "metadata": {},
     "output_type": "execute_result"
    }
   ],
   "source": [
    "np.sqrt(mean_squared_error(y_test, y_pred))"
   ]
  },
  {
   "cell_type": "markdown",
   "id": "8937f4e9-7d15-45f0-82a0-bd3b5171b088",
   "metadata": {},
   "source": [
    "# Model Tuning"
   ]
  },
  {
   "cell_type": "code",
   "execution_count": 137,
   "id": "d073cb97-97db-4ae2-a764-7f2c13073e6e",
   "metadata": {},
   "outputs": [],
   "source": [
    "rf_params = {\"max_depth\": list(range(1,10)),\n",
    "             \"max_features\": [3, 5, 10, 15],\n",
    "             \"n_estimators\": [100, 200, 500, 1000, 2000]}"
   ]
  },
  {
   "cell_type": "code",
   "execution_count": 139,
   "id": "d761d342-8589-4408-a610-3cdbf998cace",
   "metadata": {},
   "outputs": [],
   "source": [
    "rf_model = RandomForestRegressor(random_state = 42)"
   ]
  },
  {
   "cell_type": "code",
   "execution_count": 140,
   "id": "b7c8be7c-d870-43d3-9803-948a8828a39a",
   "metadata": {},
   "outputs": [],
   "source": [
    "rf_cv_model = GridSearchCV(rf_model, rf_params, cv = 10, n_jobs = -1)"
   ]
  },
  {
   "cell_type": "code",
   "execution_count": 141,
   "id": "c7206994-060e-4020-a482-c57eab37859e",
   "metadata": {},
   "outputs": [
    {
     "data": {
      "text/plain": [
       "GridSearchCV(cv=10, estimator=RandomForestRegressor(random_state=42), n_jobs=-1,\n",
       "             param_grid={'max_depth': [1, 2, 3, 4, 5, 6, 7, 8, 9],\n",
       "                         'max_features': [3, 5, 10, 15],\n",
       "                         'n_estimators': [100, 200, 500, 1000, 2000]})"
      ]
     },
     "execution_count": 141,
     "metadata": {},
     "output_type": "execute_result"
    }
   ],
   "source": [
    "rf_cv_model.fit(X_train, y_train)"
   ]
  },
  {
   "cell_type": "code",
   "execution_count": 142,
   "id": "cdb2b13a-5369-40eb-b815-d532c683c608",
   "metadata": {},
   "outputs": [
    {
     "data": {
      "text/plain": [
       "{'max_depth': 8, 'max_features': 3, 'n_estimators': 200}"
      ]
     },
     "execution_count": 142,
     "metadata": {},
     "output_type": "execute_result"
    }
   ],
   "source": [
    "rf_cv_model.best_params_"
   ]
  },
  {
   "cell_type": "code",
   "execution_count": 143,
   "id": "0dc46d77-c38a-4537-91f2-9d3303210d1a",
   "metadata": {},
   "outputs": [],
   "source": [
    "rf_tuned = RandomForestRegressor(max_depth = 8,\n",
    "                                 max_features = 3,\n",
    "                                 n_estimators = 200)"
   ]
  },
  {
   "cell_type": "code",
   "execution_count": 144,
   "id": "52b80db7-4f81-466c-bbcf-23c3c0b84989",
   "metadata": {},
   "outputs": [
    {
     "data": {
      "text/plain": [
       "RandomForestRegressor(max_depth=8, max_features=3, n_estimators=200)"
      ]
     },
     "execution_count": 144,
     "metadata": {},
     "output_type": "execute_result"
    }
   ],
   "source": [
    "rf_tuned.fit(X_train, y_train)"
   ]
  },
  {
   "cell_type": "code",
   "execution_count": 145,
   "id": "951b82bc-c1c8-4e07-b14a-0e9ca2adafec",
   "metadata": {},
   "outputs": [],
   "source": [
    "y_pred = rf_tuned.predict(X_test)"
   ]
  },
  {
   "cell_type": "code",
   "execution_count": 146,
   "id": "0c02c9d1-f434-4956-be1e-1d3c6f8e2dea",
   "metadata": {},
   "outputs": [
    {
     "data": {
      "text/plain": [
       "343.6939662734028"
      ]
     },
     "execution_count": 146,
     "metadata": {},
     "output_type": "execute_result"
    }
   ],
   "source": [
    "np.sqrt(mean_squared_error(y_test, y_pred))"
   ]
  },
  {
   "cell_type": "code",
   "execution_count": 147,
   "id": "916a289f-d5e9-43ed-a7ae-1c711875a4f2",
   "metadata": {},
   "outputs": [],
   "source": [
    "Importance = pd.DataFrame({\"Importance\": rf_tuned.feature_importances_*100},\n",
    "                          index = X_train.columns)"
   ]
  },
  {
   "cell_type": "code",
   "execution_count": 148,
   "id": "7b801111-f02f-4a0a-bee8-71dee2f20789",
   "metadata": {},
   "outputs": [
    {
     "data": {
      "text/plain": [
       "<AxesSubplot:>"
      ]
     },
     "execution_count": 148,
     "metadata": {},
     "output_type": "execute_result"
    },
    {
     "data": {
      "image/png": "[encoded data removed]",
      "text/plain": [
       "<Figure size 640x480 with 1 Axes>"
      ]
     },
     "metadata": {},
     "output_type": "display_data"
    }
   ],
   "source": [
    "Importance.sort_values(by = \"Importance\", axis = 0, ascending = True).plot(kind = \"barh\", color = \"r\")"
   ]
  },
  {
   "cell_type": "markdown",
   "id": "19ced57e-bd7c-4819-b911-70a1199a160b",
   "metadata": {},
   "source": [
    "# GRAIDENT BOOSTING MACHINES"
   ]
  },
  {
   "cell_type": "markdown",
   "id": "cd9f61d1-f85f-4cd8-bbf6-71b78d11c5be",
   "metadata": {},
   "source": [
    "AdaBoost'un sınıflandırma ve regresyon problemlerine kolayca uyarlanabilen genelleştirilmiş versiyonudur. Artıklar üzerine tek bir tahminsel model formunda olan modeller serisi kurulur."
   ]
  },
  {
   "cell_type": "markdown",
   "id": "e14216c9-2b7f-41d8-b7f9-4c679fa17c00",
   "metadata": {},
   "source": [
    "# Model"
   ]
  },
  {
   "cell_type": "code",
   "execution_count": 5,
   "id": "85814f95-e021-42d7-a4b4-f99c297bca2d",
   "metadata": {},
   "outputs": [],
   "source": [
    "from sklearn.ensemble import GradientBoostingRegressor"
   ]
  },
  {
   "cell_type": "code",
   "execution_count": 6,
   "id": "dcb4642d-5c64-469a-9fb0-10e9be4edc6d",
   "metadata": {},
   "outputs": [],
   "source": [
    "gbm_model = GradientBoostingRegressor()"
   ]
  },
  {
   "cell_type": "code",
   "execution_count": 7,
   "id": "a3ebd045-89a7-46a0-b31c-bda52884c9c5",
   "metadata": {},
   "outputs": [
    {
     "data": {
      "text/plain": [
       "GradientBoostingRegressor()"
      ]
     },
     "execution_count": 7,
     "metadata": {},
     "output_type": "execute_result"
    }
   ],
   "source": [
    "gbm_model.fit(X_train, y_train)"
   ]
  },
  {
   "cell_type": "markdown",
   "id": "287f9975-a4d6-4c2c-b27f-7514355a2cdf",
   "metadata": {},
   "source": [
    "# Tahmin"
   ]
  },
  {
   "cell_type": "code",
   "execution_count": 8,
   "id": "e8c1e043-91a3-489e-aa25-6ba17463b2c1",
   "metadata": {},
   "outputs": [
    {
     "data": {
      "text/plain": [
       "361.61898547797074"
      ]
     },
     "execution_count": 8,
     "metadata": {},
     "output_type": "execute_result"
    }
   ],
   "source": [
    "y_pred = gbm_model.predict(X_test)\n",
    "np.sqrt(mean_squared_error(y_test, y_pred))"
   ]
  },
  {
   "cell_type": "markdown",
   "id": "9ce5b8ec-6ef7-4c97-b392-63d84160f9e5",
   "metadata": {},
   "source": [
    "# Model Tuning"
   ]
  },
  {
   "cell_type": "code",
   "execution_count": 9,
   "id": "a86b4999-a370-406b-81c8-5fb16869b59e",
   "metadata": {},
   "outputs": [],
   "source": [
    "gbm_params = {\n",
    "    'learning_rate': [0.001, 0.01, 0.1, 0.2],\n",
    "    'max_depth': [3, 5, 8,50,100],\n",
    "    'n_estimators': [200, 500, 1000, 2000],\n",
    "    'subsample': [1,0.5,0.75],\n",
    "}"
   ]
  },
  {
   "cell_type": "code",
   "execution_count": 10,
   "id": "90bf4d37-95c9-4cfa-871b-3503bdf6b9e4",
   "metadata": {},
   "outputs": [
    {
     "name": "stdout",
     "output_type": "stream",
     "text": [
      "Fitting 10 folds for each of 240 candidates, totalling 2400 fits\n"
     ]
    },
    {
     "data": {
      "text/plain": [
       "GridSearchCV(cv=10, estimator=GradientBoostingRegressor(), n_jobs=-1,\n",
       "             param_grid={'learning_rate': [0.001, 0.01, 0.1, 0.2],\n",
       "                         'max_depth': [3, 5, 8, 50, 100],\n",
       "                         'n_estimators': [200, 500, 1000, 2000],\n",
       "                         'subsample': [1, 0.5, 0.75]},\n",
       "             verbose=2)"
      ]
     },
     "execution_count": 10,
     "metadata": {},
     "output_type": "execute_result"
    }
   ],
   "source": [
    "gbm = GradientBoostingRegressor()\n",
    "gbm_cv_model = GridSearchCV(gbm, gbm_params, cv = 10, n_jobs = -1, verbose = 2)\n",
    "gbm_cv_model.fit(X_train, y_train)"
   ]
  },
  {
   "cell_type": "code",
   "execution_count": 11,
   "id": "731fc6ea-4dd4-4271-88d4-9cbb24b5aef9",
   "metadata": {},
   "outputs": [
    {
     "data": {
      "text/plain": [
       "{'learning_rate': 0.1, 'max_depth': 3, 'n_estimators': 1000, 'subsample': 0.75}"
      ]
     },
     "execution_count": 11,
     "metadata": {},
     "output_type": "execute_result"
    }
   ],
   "source": [
    "gbm_cv_model.best_params_"
   ]
  },
  {
   "cell_type": "code",
   "execution_count": 14,
   "id": "4822234f-22af-4204-8382-ebae0f823e5f",
   "metadata": {},
   "outputs": [],
   "source": [
    "gbm_tuned = GradientBoostingRegressor(learning_rate = 0.1,  \n",
    "                                      max_depth = 3, \n",
    "                                      n_estimators = 100, \n",
    "                                      subsample = 0.75)\n",
    "\n",
    "gbm_tuned = gbm_tuned.fit(X_train,y_train)"
   ]
  },
  {
   "cell_type": "code",
   "execution_count": 15,
   "id": "1dd2793c-5c25-4ef6-a2a9-eb01df6d5f83",
   "metadata": {},
   "outputs": [
    {
     "data": {
      "text/plain": [
       "341.91660482749114"
      ]
     },
     "execution_count": 15,
     "metadata": {},
     "output_type": "execute_result"
    }
   ],
   "source": [
    "y_pred = gbm_tuned.predict(X_test)\n",
    "np.sqrt(mean_squared_error(y_test, y_pred))"
   ]
  },
  {
   "cell_type": "code",
   "execution_count": 16,
   "id": "8f88853b-b0f0-4023-ab30-131c3efb9c95",
   "metadata": {},
   "outputs": [],
   "source": [
    "Importance = pd.DataFrame({\"Importance\": gbm_tuned.feature_importances_*100},\n",
    "                         index = X_train.columns)"
   ]
  },
  {
   "cell_type": "code",
   "execution_count": 17,
   "id": "07f397ec-218c-4c20-94e2-b7cfabd5e84e",
   "metadata": {},
   "outputs": [
    {
     "data": {
      "text/plain": [
       "Text(0.5, 0, 'Değişken Önem Düzeyleri')"
      ]
     },
     "execution_count": 17,
     "metadata": {},
     "output_type": "execute_result"
    },
    {
     "data": {
      "image/png": "[encoded data removed]",
      "text/plain": [
       "<Figure size 640x480 with 1 Axes>"
      ]
     },
     "metadata": {},
     "output_type": "display_data"
    }
   ],
   "source": [
    "Importance.sort_values(by = \"Importance\", \n",
    "                       axis = 0, \n",
    "                       ascending = True).plot(kind =\"barh\", color = \"r\")\n",
    "\n",
    "plt.xlabel(\"Değişken Önem Düzeyleri\")"
   ]
  },
  {
   "cell_type": "markdown",
   "id": "1ef6298f-9bd3-4c7c-ae3f-0c0968999524",
   "metadata": {},
   "source": [
    "# XGBOOST"
   ]
  },
  {
   "cell_type": "markdown",
   "id": "d81be854-0d20-4b66-8541-99cfd087774c",
   "metadata": {},
   "source": [
    "XGBOOST, GBM'in hız ve tahmin performansını arttırmak üzere optimize edilmiş ölçeklenebilir ve farklı platformlara entegre edilebilir halidir."
   ]
  },
  {
   "cell_type": "markdown",
   "id": "06efc1cc-8bb0-4719-b555-8ab0d98f9996",
   "metadata": {},
   "source": [
    "# Model"
   ]
  },
  {
   "cell_type": "code",
   "execution_count": 18,
   "id": "8408df5c-8b7e-4179-8ee0-f1dd8bea529b",
   "metadata": {},
   "outputs": [],
   "source": [
    "hit = pd.read_csv(\"Hitters.csv\")\n",
    "df = hit.copy()\n",
    "df = df.dropna()\n",
    "dms = pd.get_dummies(df[['League', 'Division', 'NewLeague']])\n",
    "y = df[\"Salary\"]\n",
    "X_ = df.drop(['Salary', 'League', 'Division', 'NewLeague'], axis=1).astype('float64')\n",
    "X = pd.concat([X_, dms[['League_N', 'Division_W', 'NewLeague_N']]], axis=1)\n",
    "X_train, X_test, y_train, y_test = train_test_split(X, y, \n",
    "                                                    test_size=0.25, \n",
    "                                                    random_state=42)"
   ]
  },
  {
   "cell_type": "code",
   "execution_count": 19,
   "id": "a6bf1490-e4be-4760-a12b-61f2be8bbe64",
   "metadata": {},
   "outputs": [
    {
     "name": "stdout",
     "output_type": "stream",
     "text": [
      "Collecting xgboost\n",
      "  Downloading xgboost-2.0.0-py3-none-win_amd64.whl (99.7 MB)\n",
      "     -------------------------------------- 99.7/99.7 MB 519.5 kB/s eta 0:00:00\n",
      "Requirement already satisfied: scipy in c:\\users\\hakan\\anaconda3\\lib\\site-packages (from xgboost) (1.9.1)\n",
      "Requirement already satisfied: numpy in c:\\users\\hakan\\anaconda3\\lib\\site-packages (from xgboost) (1.24.3)\n",
      "Installing collected packages: xgboost\n",
      "Successfully installed xgboost-2.0.0\n",
      "Note: you may need to restart the kernel to use updated packages.\n"
     ]
    }
   ],
   "source": [
    "pip install xgboost"
   ]
  },
  {
   "cell_type": "code",
   "execution_count": 28,
   "id": "2f4b09a8-0c4b-49ab-ba3a-8a39fa698d8e",
   "metadata": {},
   "outputs": [],
   "source": [
    "import xgboost as xgb"
   ]
  },
  {
   "cell_type": "code",
   "execution_count": 29,
   "id": "ae989306-5029-409b-9ec7-574db79b9f86",
   "metadata": {},
   "outputs": [],
   "source": [
    "DM_train = xgb.DMatrix(data = X_train, label = y_train)\n",
    "DM_test = xgb.DMatrix(data = X_test, label = y_test)"
   ]
  },
  {
   "cell_type": "code",
   "execution_count": 30,
   "id": "99f20abe-b546-484e-af45-d6145d58e1ab",
   "metadata": {},
   "outputs": [],
   "source": [
    "from xgboost import XGBRegressor"
   ]
  },
  {
   "cell_type": "code",
   "execution_count": 34,
   "id": "6c96ddcd-a7bf-49b6-bffa-4e9d2ac6e8aa",
   "metadata": {},
   "outputs": [],
   "source": [
    "xgb_model = XGBRegressor().fit(X_train, y_train)"
   ]
  },
  {
   "cell_type": "markdown",
   "id": "7f27eb9b-1d55-4b83-a21f-87c3c1ed5795",
   "metadata": {},
   "source": [
    "# Tahmin"
   ]
  },
  {
   "cell_type": "code",
   "execution_count": 35,
   "id": "fb472a3a-92a1-47ba-95f6-33052837607b",
   "metadata": {},
   "outputs": [
    {
     "data": {
      "text/plain": [
       "366.3863437634965"
      ]
     },
     "execution_count": 35,
     "metadata": {},
     "output_type": "execute_result"
    }
   ],
   "source": [
    "y_pred = xgb_model.predict(X_test)\n",
    "np.sqrt(mean_squared_error(y_test, y_pred))"
   ]
  },
  {
   "cell_type": "markdown",
   "id": "5782330f-b19f-4be6-895e-45b5095b601a",
   "metadata": {},
   "source": [
    "# Model Tuning"
   ]
  },
  {
   "cell_type": "code",
   "execution_count": 36,
   "id": "0e6cec6e-18a8-46b3-915b-c1320d42a422",
   "metadata": {},
   "outputs": [
    {
     "data": {
      "text/plain": [
       "XGBRegressor(base_score=None, booster=None, callbacks=None,\n",
       "             colsample_bylevel=None, colsample_bynode=None,\n",
       "             colsample_bytree=None, device=None, early_stopping_rounds=None,\n",
       "             enable_categorical=False, eval_metric=None, feature_types=None,\n",
       "             gamma=None, grow_policy=None, importance_type=None,\n",
       "             interaction_constraints=None, learning_rate=None, max_bin=None,\n",
       "             max_cat_threshold=None, max_cat_to_onehot=None,\n",
       "             max_delta_step=None, max_depth=None, max_leaves=None,\n",
       "             min_child_weight=None, missing=nan, monotone_constraints=None,\n",
       "             multi_strategy=None, n_estimators=None, n_jobs=None,\n",
       "             num_parallel_tree=None, random_state=None, ...)"
      ]
     },
     "execution_count": 36,
     "metadata": {},
     "output_type": "execute_result"
    }
   ],
   "source": [
    "xgb_model"
   ]
  },
  {
   "cell_type": "code",
   "execution_count": 37,
   "id": "b9316c64-d779-440f-865d-034104bbc0fc",
   "metadata": {},
   "outputs": [],
   "source": [
    "xgb_grid = {\n",
    "     'colsample_bytree': [0.4, 0.5,0.6,0.9,1], \n",
    "     'n_estimators':[100, 200, 500, 1000],\n",
    "     'max_depth': [2,3,4,5,6],\n",
    "     'learning_rate': [0.1, 0.01, 0.5]\n",
    "}\n"
   ]
  },
  {
   "cell_type": "code",
   "execution_count": 38,
   "id": "2746ad0c-372f-4d86-b540-c656ae025a82",
   "metadata": {},
   "outputs": [
    {
     "name": "stdout",
     "output_type": "stream",
     "text": [
      "Fitting 10 folds for each of 300 candidates, totalling 3000 fits\n"
     ]
    },
    {
     "data": {
      "text/plain": [
       "GridSearchCV(cv=10,\n",
       "             estimator=XGBRegressor(base_score=None, booster=None,\n",
       "                                    callbacks=None, colsample_bylevel=None,\n",
       "                                    colsample_bynode=None,\n",
       "                                    colsample_bytree=None, device=None,\n",
       "                                    early_stopping_rounds=None,\n",
       "                                    enable_categorical=False, eval_metric=None,\n",
       "                                    feature_types=None, gamma=None,\n",
       "                                    grow_policy=None, importance_type=None,\n",
       "                                    interaction_constraints=None,\n",
       "                                    learning_rate=None,...\n",
       "                                    max_cat_to_onehot=None, max_delta_step=None,\n",
       "                                    max_depth=None, max_leaves=None,\n",
       "                                    min_child_weight=None, missing=nan,\n",
       "                                    monotone_constraints=None,\n",
       "                                    multi_strategy=None, n_estimators=None,\n",
       "                                    n_jobs=None, num_parallel_tree=None,\n",
       "                                    random_state=None, ...),\n",
       "             n_jobs=-1,\n",
       "             param_grid={'colsample_bytree': [0.4, 0.5, 0.6, 0.9, 1],\n",
       "                         'learning_rate': [0.1, 0.01, 0.5],\n",
       "                         'max_depth': [2, 3, 4, 5, 6],\n",
       "                         'n_estimators': [100, 200, 500, 1000]},\n",
       "             verbose=2)"
      ]
     },
     "execution_count": 38,
     "metadata": {},
     "output_type": "execute_result"
    }
   ],
   "source": [
    "xgb = XGBRegressor()\n",
    "\n",
    "xgb_cv = GridSearchCV(xgb, \n",
    "                      param_grid = xgb_grid, \n",
    "                      cv = 10, \n",
    "                      n_jobs = -1,\n",
    "                      verbose = 2)\n",
    "\n",
    "\n",
    "xgb_cv.fit(X_train, y_train)"
   ]
  },
  {
   "cell_type": "code",
   "execution_count": 39,
   "id": "ae14e174-5f31-483a-b9d7-bdf4da2da999",
   "metadata": {},
   "outputs": [
    {
     "data": {
      "text/plain": [
       "{'colsample_bytree': 0.4,\n",
       " 'learning_rate': 0.1,\n",
       " 'max_depth': 6,\n",
       " 'n_estimators': 100}"
      ]
     },
     "execution_count": 39,
     "metadata": {},
     "output_type": "execute_result"
    }
   ],
   "source": [
    "xgb_cv.best_params_"
   ]
  },
  {
   "cell_type": "code",
   "execution_count": 40,
   "id": "7cefc1b4-337f-4953-bec2-7b2dc55e4c46",
   "metadata": {},
   "outputs": [],
   "source": [
    "xgb_tuned = XGBRegressor(colsample_bytree = 0.4, \n",
    "                         learning_rate = 0.1, \n",
    "                         max_depth = 6, \n",
    "                         n_estimators = 100) \n",
    "\n",
    "xgb_tuned = xgb_tuned.fit(X_train,y_train)"
   ]
  },
  {
   "cell_type": "code",
   "execution_count": 41,
   "id": "218a1205-2c10-4882-94eb-f155006b88a4",
   "metadata": {},
   "outputs": [
    {
     "data": {
      "text/plain": [
       "343.6101991802883"
      ]
     },
     "execution_count": 41,
     "metadata": {},
     "output_type": "execute_result"
    }
   ],
   "source": [
    "y_pred = xgb_tuned.predict(X_test)\n",
    "np.sqrt(mean_squared_error(y_test, y_pred))"
   ]
  },
  {
   "cell_type": "markdown",
   "id": "7972a8d6-d2d3-4d36-9ef4-ad32b0b9de37",
   "metadata": {},
   "source": [
    "# LightGBM"
   ]
  },
  {
   "cell_type": "markdown",
   "id": "8e15c883-cc26-45a0-b5ae-b146d53fbdc0",
   "metadata": {},
   "source": [
    "LightGBM, XGBoost'un eğitim süresi performansını arttırmaya yönelik geliştirilen bir diğer GMB türüdür."
   ]
  },
  {
   "cell_type": "markdown",
   "id": "4ce3df57-9cbc-4c3a-a7af-028a6494821f",
   "metadata": {},
   "source": [
    "# Model"
   ]
  },
  {
   "cell_type": "code",
   "execution_count": 42,
   "id": "4a43c733-838b-4a5a-946b-7ac62e7afecc",
   "metadata": {},
   "outputs": [],
   "source": [
    "hit = pd.read_csv(\"Hitters.csv\")\n",
    "df = hit.copy()\n",
    "df = df.dropna()\n",
    "dms = pd.get_dummies(df[['League', 'Division', 'NewLeague']])\n",
    "y = df[\"Salary\"]\n",
    "X_ = df.drop(['Salary', 'League', 'Division', 'NewLeague'], axis=1).astype('float64')\n",
    "X = pd.concat([X_, dms[['League_N', 'Division_W', 'NewLeague_N']]], axis=1)\n",
    "X_train, X_test, y_train, y_test = train_test_split(X, y, \n",
    "                                                    test_size=0.25, \n",
    "                                                    random_state=42)\n"
   ]
  },
  {
   "cell_type": "code",
   "execution_count": 43,
   "id": "41150083-223a-4b6b-8fef-89c33f618114",
   "metadata": {},
   "outputs": [
    {
     "name": "stdout",
     "output_type": "stream",
     "text": [
      "Collecting lightgbmNote: you may need to restart the kernel to use updated packages.\n",
      "\n",
      "  Downloading lightgbm-4.1.0-py3-none-win_amd64.whl (1.3 MB)\n",
      "     ---------------------------------------- 1.3/1.3 MB 1.0 MB/s eta 0:00:00\n",
      "Requirement already satisfied: scipy in c:\\users\\hakan\\anaconda3\\lib\\site-packages (from lightgbm) (1.9.1)\n",
      "Requirement already satisfied: numpy in c:\\users\\hakan\\anaconda3\\lib\\site-packages (from lightgbm) (1.24.3)\n",
      "Installing collected packages: lightgbm\n",
      "Successfully installed lightgbm-4.1.0\n"
     ]
    }
   ],
   "source": [
    "pip install lightgbm"
   ]
  },
  {
   "cell_type": "code",
   "execution_count": 45,
   "id": "7a1b3ff6-248e-4138-a749-b69514f9231a",
   "metadata": {},
   "outputs": [],
   "source": [
    "from lightgbm import LGBMRegressor"
   ]
  },
  {
   "cell_type": "code",
   "execution_count": 46,
   "id": "dd1a6cad-510f-4226-9d81-57ca4f8c559e",
   "metadata": {},
   "outputs": [
    {
     "name": "stdout",
     "output_type": "stream",
     "text": [
      "[LightGBM] [Info] Auto-choosing col-wise multi-threading, the overhead of testing was 0.000134 seconds.\n",
      "You can set `force_col_wise=true` to remove the overhead.\n",
      "[LightGBM] [Info] Total Bins 831\n",
      "[LightGBM] [Info] Number of data points in the train set: 197, number of used features: 19\n",
      "[LightGBM] [Info] Start training from score 543.483442\n",
      "[LightGBM] [Warning] No further splits with positive gain, best gain: -inf\n",
      "[LightGBM] [Warning] No further splits with positive gain, best gain: -inf\n",
      "[LightGBM] [Warning] No further splits with positive gain, best gain: -inf\n",
      "[LightGBM] [Warning] No further splits with positive gain, best gain: -inf\n",
      "[LightGBM] [Warning] No further splits with positive gain, best gain: -inf\n",
      "[LightGBM] [Warning] No further splits with positive gain, best gain: -inf\n",
      "[LightGBM] [Warning] No further splits with positive gain, best gain: -inf\n",
      "[LightGBM] [Warning] No further splits with positive gain, best gain: -inf\n",
      "[LightGBM] [Warning] No further splits with positive gain, best gain: -inf\n",
      "[LightGBM] [Warning] No further splits with positive gain, best gain: -inf\n",
      "[LightGBM] [Warning] No further splits with positive gain, best gain: -inf\n",
      "[LightGBM] [Warning] No further splits with positive gain, best gain: -inf\n",
      "[LightGBM] [Warning] No further splits with positive gain, best gain: -inf\n",
      "[LightGBM] [Warning] No further splits with positive gain, best gain: -inf\n",
      "[LightGBM] [Warning] No further splits with positive gain, best gain: -inf\n",
      "[LightGBM] [Warning] No further splits with positive gain, best gain: -inf\n",
      "[LightGBM] [Warning] No further splits with positive gain, best gain: -inf\n",
      "[LightGBM] [Warning] No further splits with positive gain, best gain: -inf\n",
      "[LightGBM] [Warning] No further splits with positive gain, best gain: -inf\n",
      "[LightGBM] [Warning] No further splits with positive gain, best gain: -inf\n",
      "[LightGBM] [Warning] No further splits with positive gain, best gain: -inf\n",
      "[LightGBM] [Warning] No further splits with positive gain, best gain: -inf\n",
      "[LightGBM] [Warning] No further splits with positive gain, best gain: -inf\n",
      "[LightGBM] [Warning] No further splits with positive gain, best gain: -inf\n",
      "[LightGBM] [Warning] No further splits with positive gain, best gain: -inf\n",
      "[LightGBM] [Warning] No further splits with positive gain, best gain: -inf\n",
      "[LightGBM] [Warning] No further splits with positive gain, best gain: -inf\n",
      "[LightGBM] [Warning] No further splits with positive gain, best gain: -inf\n",
      "[LightGBM] [Warning] No further splits with positive gain, best gain: -inf\n",
      "[LightGBM] [Warning] No further splits with positive gain, best gain: -inf\n",
      "[LightGBM] [Warning] No further splits with positive gain, best gain: -inf\n",
      "[LightGBM] [Warning] No further splits with positive gain, best gain: -inf\n",
      "[LightGBM] [Warning] No further splits with positive gain, best gain: -inf\n",
      "[LightGBM] [Warning] No further splits with positive gain, best gain: -inf\n",
      "[LightGBM] [Warning] No further splits with positive gain, best gain: -inf\n",
      "[LightGBM] [Warning] No further splits with positive gain, best gain: -inf\n",
      "[LightGBM] [Warning] No further splits with positive gain, best gain: -inf\n",
      "[LightGBM] [Warning] No further splits with positive gain, best gain: -inf\n",
      "[LightGBM] [Warning] No further splits with positive gain, best gain: -inf\n",
      "[LightGBM] [Warning] No further splits with positive gain, best gain: -inf\n",
      "[LightGBM] [Warning] No further splits with positive gain, best gain: -inf\n",
      "[LightGBM] [Warning] No further splits with positive gain, best gain: -inf\n",
      "[LightGBM] [Warning] No further splits with positive gain, best gain: -inf\n",
      "[LightGBM] [Warning] No further splits with positive gain, best gain: -inf\n",
      "[LightGBM] [Warning] No further splits with positive gain, best gain: -inf\n",
      "[LightGBM] [Warning] No further splits with positive gain, best gain: -inf\n",
      "[LightGBM] [Warning] No further splits with positive gain, best gain: -inf\n",
      "[LightGBM] [Warning] No further splits with positive gain, best gain: -inf\n",
      "[LightGBM] [Warning] No further splits with positive gain, best gain: -inf\n",
      "[LightGBM] [Warning] No further splits with positive gain, best gain: -inf\n",
      "[LightGBM] [Warning] No further splits with positive gain, best gain: -inf\n",
      "[LightGBM] [Warning] No further splits with positive gain, best gain: -inf\n",
      "[LightGBM] [Warning] No further splits with positive gain, best gain: -inf\n",
      "[LightGBM] [Warning] No further splits with positive gain, best gain: -inf\n",
      "[LightGBM] [Warning] No further splits with positive gain, best gain: -inf\n",
      "[LightGBM] [Warning] No further splits with positive gain, best gain: -inf\n",
      "[LightGBM] [Warning] No further splits with positive gain, best gain: -inf\n",
      "[LightGBM] [Warning] No further splits with positive gain, best gain: -inf\n",
      "[LightGBM] [Warning] No further splits with positive gain, best gain: -inf\n",
      "[LightGBM] [Warning] No further splits with positive gain, best gain: -inf\n",
      "[LightGBM] [Warning] No further splits with positive gain, best gain: -inf\n",
      "[LightGBM] [Warning] No further splits with positive gain, best gain: -inf\n",
      "[LightGBM] [Warning] No further splits with positive gain, best gain: -inf\n",
      "[LightGBM] [Warning] No further splits with positive gain, best gain: -inf\n",
      "[LightGBM] [Warning] No further splits with positive gain, best gain: -inf\n",
      "[LightGBM] [Warning] No further splits with positive gain, best gain: -inf\n",
      "[LightGBM] [Warning] No further splits with positive gain, best gain: -inf\n",
      "[LightGBM] [Warning] No further splits with positive gain, best gain: -inf\n",
      "[LightGBM] [Warning] No further splits with positive gain, best gain: -inf\n",
      "[LightGBM] [Warning] No further splits with positive gain, best gain: -inf\n",
      "[LightGBM] [Warning] No further splits with positive gain, best gain: -inf\n",
      "[LightGBM] [Warning] No further splits with positive gain, best gain: -inf\n",
      "[LightGBM] [Warning] No further splits with positive gain, best gain: -inf\n",
      "[LightGBM] [Warning] No further splits with positive gain, best gain: -inf\n",
      "[LightGBM] [Warning] No further splits with positive gain, best gain: -inf\n",
      "[LightGBM] [Warning] No further splits with positive gain, best gain: -inf\n",
      "[LightGBM] [Warning] No further splits with positive gain, best gain: -inf\n",
      "[LightGBM] [Warning] No further splits with positive gain, best gain: -inf\n",
      "[LightGBM] [Warning] No further splits with positive gain, best gain: -inf\n",
      "[LightGBM] [Warning] No further splits with positive gain, best gain: -inf\n",
      "[LightGBM] [Warning] No further splits with positive gain, best gain: -inf\n",
      "[LightGBM] [Warning] No further splits with positive gain, best gain: -inf\n",
      "[LightGBM] [Warning] No further splits with positive gain, best gain: -inf\n",
      "[LightGBM] [Warning] No further splits with positive gain, best gain: -inf\n",
      "[LightGBM] [Warning] No further splits with positive gain, best gain: -inf\n",
      "[LightGBM] [Warning] No further splits with positive gain, best gain: -inf\n",
      "[LightGBM] [Warning] No further splits with positive gain, best gain: -inf\n",
      "[LightGBM] [Warning] No further splits with positive gain, best gain: -inf\n",
      "[LightGBM] [Warning] No further splits with positive gain, best gain: -inf\n",
      "[LightGBM] [Warning] No further splits with positive gain, best gain: -inf\n",
      "[LightGBM] [Warning] No further splits with positive gain, best gain: -inf\n",
      "[LightGBM] [Warning] No further splits with positive gain, best gain: -inf\n",
      "[LightGBM] [Warning] No further splits with positive gain, best gain: -inf\n",
      "[LightGBM] [Warning] No further splits with positive gain, best gain: -inf\n",
      "[LightGBM] [Warning] No further splits with positive gain, best gain: -inf\n",
      "[LightGBM] [Warning] No further splits with positive gain, best gain: -inf\n",
      "[LightGBM] [Warning] No further splits with positive gain, best gain: -inf\n",
      "[LightGBM] [Warning] No further splits with positive gain, best gain: -inf\n",
      "[LightGBM] [Warning] No further splits with positive gain, best gain: -inf\n",
      "[LightGBM] [Warning] No further splits with positive gain, best gain: -inf\n"
     ]
    }
   ],
   "source": [
    "lgbm = LGBMRegressor()\n",
    "lgbm_model = lgbm.fit(X_train, y_train)"
   ]
  },
  {
   "cell_type": "markdown",
   "id": "4c8e9f51-4127-4975-a429-d2b90b9a80f3",
   "metadata": {},
   "source": [
    "# Tahmin"
   ]
  },
  {
   "cell_type": "code",
   "execution_count": 47,
   "id": "3a4440db-34d3-4243-8052-5c71eefac1b4",
   "metadata": {},
   "outputs": [],
   "source": [
    "y_pred = lgbm_model.predict(X_test, \n",
    "                            num_iteration = lgbm_model.best_iteration_)"
   ]
  },
  {
   "cell_type": "code",
   "execution_count": 48,
   "id": "454214de-8443-4326-8db7-f03fcfa82f89",
   "metadata": {},
   "outputs": [
    {
     "data": {
      "text/plain": [
       "363.8712087611089"
      ]
     },
     "execution_count": 48,
     "metadata": {},
     "output_type": "execute_result"
    }
   ],
   "source": [
    "np.sqrt(mean_squared_error(y_test, y_pred))"
   ]
  },
  {
   "cell_type": "markdown",
   "id": "7c35ca58-0115-49af-a3f9-d25b58b199f4",
   "metadata": {},
   "source": [
    "# Model Tuning"
   ]
  },
  {
   "cell_type": "code",
   "execution_count": 49,
   "id": "c7d9626b-27d1-4cfa-bce7-13a57a5080e8",
   "metadata": {},
   "outputs": [
    {
     "data": {
      "text/plain": [
       "LGBMRegressor()"
      ]
     },
     "execution_count": 49,
     "metadata": {},
     "output_type": "execute_result"
    }
   ],
   "source": [
    "lgbm_model"
   ]
  },
  {
   "cell_type": "code",
   "execution_count": 50,
   "id": "5fa62e4b-3e32-49c9-adf2-1ba5cb0f9955",
   "metadata": {},
   "outputs": [],
   "source": [
    "lgbm_grid = {\n",
    "    'colsample_bytree': [0.4, 0.5,0.6,0.9,1],\n",
    "    'learning_rate': [0.01, 0.1, 0.5,1],\n",
    "    'n_estimators': [20, 40, 100, 200, 500,1000],\n",
    "    'max_depth': [1,2,3,4,5,6,7,8] }\n",
    "\n",
    "lgbm = LGBMRegressor()\n",
    "lgbm_cv_model = GridSearchCV(lgbm, lgbm_grid, cv=10, n_jobs = -1, verbose = 2)"
   ]
  },
  {
   "cell_type": "code",
   "execution_count": 51,
   "id": "f4d40ef0-aa4a-4bfd-bc82-fcf8bc1cb9e1",
   "metadata": {},
   "outputs": [
    {
     "name": "stdout",
     "output_type": "stream",
     "text": [
      "Fitting 10 folds for each of 960 candidates, totalling 9600 fits\n",
      "[LightGBM] [Warning] Accuracy may be bad since you didn't explicitly set num_leaves OR 2^max_depth > num_leaves. (num_leaves=31).\n",
      "[LightGBM] [Warning] Accuracy may be bad since you didn't explicitly set num_leaves OR 2^max_depth > num_leaves. (num_leaves=31).\n",
      "[LightGBM] [Info] Auto-choosing col-wise multi-threading, the overhead of testing was 0.000134 seconds.\n",
      "You can set `force_col_wise=true` to remove the overhead.\n",
      "[LightGBM] [Info] Total Bins 831\n",
      "[LightGBM] [Info] Number of data points in the train set: 197, number of used features: 19\n",
      "[LightGBM] [Info] Start training from score 543.483442\n",
      "[LightGBM] [Warning] No further splits with positive gain, best gain: -inf\n",
      "[LightGBM] [Warning] No further splits with positive gain, best gain: -inf\n",
      "[LightGBM] [Warning] No further splits with positive gain, best gain: -inf\n",
      "[LightGBM] [Warning] No further splits with positive gain, best gain: -inf\n",
      "[LightGBM] [Warning] No further splits with positive gain, best gain: -inf\n",
      "[LightGBM] [Warning] No further splits with positive gain, best gain: -inf\n",
      "[LightGBM] [Warning] No further splits with positive gain, best gain: -inf\n",
      "[LightGBM] [Warning] No further splits with positive gain, best gain: -inf\n",
      "[LightGBM] [Warning] No further splits with positive gain, best gain: -inf\n",
      "[LightGBM] [Warning] No further splits with positive gain, best gain: -inf\n",
      "[LightGBM] [Warning] No further splits with positive gain, best gain: -inf\n",
      "[LightGBM] [Warning] No further splits with positive gain, best gain: -inf\n",
      "[LightGBM] [Warning] No further splits with positive gain, best gain: -inf\n",
      "[LightGBM] [Warning] No further splits with positive gain, best gain: -inf\n",
      "[LightGBM] [Warning] No further splits with positive gain, best gain: -inf\n",
      "[LightGBM] [Warning] No further splits with positive gain, best gain: -inf\n",
      "[LightGBM] [Warning] No further splits with positive gain, best gain: -inf\n",
      "[LightGBM] [Warning] No further splits with positive gain, best gain: -inf\n",
      "[LightGBM] [Warning] No further splits with positive gain, best gain: -inf\n",
      "[LightGBM] [Warning] No further splits with positive gain, best gain: -inf\n"
     ]
    },
    {
     "data": {
      "text/plain": [
       "GridSearchCV(cv=10, estimator=LGBMRegressor(), n_jobs=-1,\n",
       "             param_grid={'colsample_bytree': [0.4, 0.5, 0.6, 0.9, 1],\n",
       "                         'learning_rate': [0.01, 0.1, 0.5, 1],\n",
       "                         'max_depth': [1, 2, 3, 4, 5, 6, 7, 8],\n",
       "                         'n_estimators': [20, 40, 100, 200, 500, 1000]},\n",
       "             verbose=2)"
      ]
     },
     "execution_count": 51,
     "metadata": {},
     "output_type": "execute_result"
    }
   ],
   "source": [
    "lgbm_cv_model.fit(X_train, y_train)"
   ]
  },
  {
   "cell_type": "code",
   "execution_count": 52,
   "id": "2eebc2c3-f227-4a2b-aba2-ab50f8526e4a",
   "metadata": {},
   "outputs": [
    {
     "data": {
      "text/plain": [
       "{'colsample_bytree': 0.5,\n",
       " 'learning_rate': 0.1,\n",
       " 'max_depth': 6,\n",
       " 'n_estimators': 20}"
      ]
     },
     "execution_count": 52,
     "metadata": {},
     "output_type": "execute_result"
    }
   ],
   "source": [
    "lgbm_cv_model.best_params_"
   ]
  },
  {
   "cell_type": "code",
   "execution_count": 56,
   "id": "9ecab804-3ab8-4245-841d-b37f50b9bfec",
   "metadata": {},
   "outputs": [
    {
     "name": "stdout",
     "output_type": "stream",
     "text": [
      "[LightGBM] [Warning] Accuracy may be bad since you didn't explicitly set num_leaves OR 2^max_depth > num_leaves. (num_leaves=31).\n",
      "[LightGBM] [Warning] Accuracy may be bad since you didn't explicitly set num_leaves OR 2^max_depth > num_leaves. (num_leaves=31).\n",
      "[LightGBM] [Info] Auto-choosing col-wise multi-threading, the overhead of testing was 0.000082 seconds.\n",
      "You can set `force_col_wise=true` to remove the overhead.\n",
      "[LightGBM] [Info] Total Bins 831\n",
      "[LightGBM] [Info] Number of data points in the train set: 197, number of used features: 19\n",
      "[LightGBM] [Info] Start training from score 543.483442\n",
      "[LightGBM] [Warning] No further splits with positive gain, best gain: -inf\n",
      "[LightGBM] [Warning] No further splits with positive gain, best gain: -inf\n",
      "[LightGBM] [Warning] No further splits with positive gain, best gain: -inf\n",
      "[LightGBM] [Warning] No further splits with positive gain, best gain: -inf\n",
      "[LightGBM] [Warning] No further splits with positive gain, best gain: -inf\n",
      "[LightGBM] [Warning] No further splits with positive gain, best gain: -inf\n",
      "[LightGBM] [Warning] No further splits with positive gain, best gain: -inf\n",
      "[LightGBM] [Warning] No further splits with positive gain, best gain: -inf\n",
      "[LightGBM] [Warning] No further splits with positive gain, best gain: -inf\n",
      "[LightGBM] [Warning] No further splits with positive gain, best gain: -inf\n",
      "[LightGBM] [Warning] No further splits with positive gain, best gain: -inf\n",
      "[LightGBM] [Warning] No further splits with positive gain, best gain: -inf\n",
      "[LightGBM] [Warning] No further splits with positive gain, best gain: -inf\n",
      "[LightGBM] [Warning] No further splits with positive gain, best gain: -inf\n",
      "[LightGBM] [Warning] No further splits with positive gain, best gain: -inf\n",
      "[LightGBM] [Warning] No further splits with positive gain, best gain: -inf\n",
      "[LightGBM] [Warning] No further splits with positive gain, best gain: -inf\n",
      "[LightGBM] [Warning] No further splits with positive gain, best gain: -inf\n",
      "[LightGBM] [Warning] No further splits with positive gain, best gain: -inf\n",
      "[LightGBM] [Warning] No further splits with positive gain, best gain: -inf\n"
     ]
    }
   ],
   "source": [
    "lgbm_tuned = LGBMRegressor(learning_rate = 0.1, \n",
    "                           max_depth = 6, \n",
    "                           n_estimators = 20,\n",
    "                          colsample_bytree = 0.5)\n",
    "\n",
    "lgbm_tuned = lgbm_tuned.fit(X_train,y_train)"
   ]
  },
  {
   "cell_type": "code",
   "execution_count": 57,
   "id": "2afcd241-0e09-46cb-9337-f1a99ae7220d",
   "metadata": {},
   "outputs": [
    {
     "name": "stdout",
     "output_type": "stream",
     "text": [
      "[LightGBM] [Warning] Accuracy may be bad since you didn't explicitly set num_leaves OR 2^max_depth > num_leaves. (num_leaves=31).\n"
     ]
    }
   ],
   "source": [
    "y_pred = lgbm_tuned.predict(X_test)"
   ]
  },
  {
   "cell_type": "code",
   "execution_count": 58,
   "id": "91930999-d6b0-4ca9-a217-dccffe81d1bf",
   "metadata": {},
   "outputs": [
    {
     "data": {
      "text/plain": [
       "375.6085209015434"
      ]
     },
     "execution_count": 58,
     "metadata": {},
     "output_type": "execute_result"
    }
   ],
   "source": [
    "np.sqrt(mean_squared_error(y_test, y_pred))"
   ]
  },
  {
   "cell_type": "markdown",
   "id": "87d8af31-e0da-4682-bd37-640f0419989e",
   "metadata": {},
   "source": [
    "# CATBOOST"
   ]
  },
  {
   "cell_type": "markdown",
   "id": "e5d2f124-023c-4a96-86f6-178f66ed23cc",
   "metadata": {},
   "source": [
    "Kategorik değişkenler ile otomatik olarak mücadele edebilen, hızlı, başarılı bir diğer GMB türevidir."
   ]
  },
  {
   "cell_type": "markdown",
   "id": "88721d91-cd71-44a9-9bfc-6327aa88371b",
   "metadata": {},
   "source": [
    "# Model"
   ]
  },
  {
   "cell_type": "code",
   "execution_count": 59,
   "id": "dd3ff54c-256e-49d9-b5da-e3b59810e92e",
   "metadata": {},
   "outputs": [],
   "source": [
    "hit = pd.read_csv(\"Hitters.csv\")\n",
    "df = hit.copy()\n",
    "df = df.dropna()\n",
    "dms = pd.get_dummies(df[['League', 'Division', 'NewLeague']])\n",
    "y = df[\"Salary\"]\n",
    "X_ = df.drop(['Salary', 'League', 'Division', 'NewLeague'], axis=1).astype('float64')\n",
    "X = pd.concat([X_, dms[['League_N', 'Division_W', 'NewLeague_N']]], axis=1)\n",
    "X_train, X_test, y_train, y_test = train_test_split(X, y, \n",
    "                                                    test_size=0.25, \n",
    "                                                    random_state=42)\n"
   ]
  },
  {
   "cell_type": "code",
   "execution_count": 60,
   "id": "5a10cd01-75a4-41b7-8ff0-08b89178698b",
   "metadata": {},
   "outputs": [
    {
     "name": "stdout",
     "output_type": "stream",
     "text": [
      "Collecting catboost\n",
      "  Downloading catboost-1.2.2-cp39-cp39-win_amd64.whl (101.0 MB)\n",
      "     -------------------------------------- 101.0/101.0 MB 1.6 MB/s eta 0:00:00\n",
      "Requirement already satisfied: numpy>=1.16.0 in c:\\users\\hakan\\anaconda3\\lib\\site-packages (from catboost) (1.24.3)\n",
      "Requirement already satisfied: matplotlib in c:\\users\\hakan\\anaconda3\\lib\\site-packages (from catboost) (3.5.2)\n",
      "Requirement already satisfied: scipy in c:\\users\\hakan\\anaconda3\\lib\\site-packages (from catboost) (1.9.1)\n",
      "Requirement already satisfied: plotly in c:\\users\\hakan\\anaconda3\\lib\\site-packages (from catboost) (5.9.0)\n",
      "Requirement already satisfied: six in c:\\users\\hakan\\anaconda3\\lib\\site-packages (from catboost) (1.16.0)\n",
      "Requirement already satisfied: pandas>=0.24 in c:\\users\\hakan\\anaconda3\\lib\\site-packages (from catboost) (1.4.4)\n",
      "Collecting graphviz\n",
      "  Downloading graphviz-0.20.1-py3-none-any.whl (47 kB)\n",
      "     ---------------------------------------- 47.0/47.0 kB 1.2 MB/s eta 0:00:00\n",
      "Requirement already satisfied: python-dateutil>=2.8.1 in c:\\users\\hakan\\anaconda3\\lib\\site-packages (from pandas>=0.24->catboost) (2.8.2)\n",
      "Requirement already satisfied: pytz>=2020.1 in c:\\users\\hakan\\anaconda3\\lib\\site-packages (from pandas>=0.24->catboost) (2023.3)\n",
      "Requirement already satisfied: cycler>=0.10 in c:\\users\\hakan\\anaconda3\\lib\\site-packages (from matplotlib->catboost) (0.11.0)\n",
      "Requirement already satisfied: pyparsing>=2.2.1 in c:\\users\\hakan\\anaconda3\\lib\\site-packages (from matplotlib->catboost) (3.0.9)\n",
      "Requirement already satisfied: kiwisolver>=1.0.1 in c:\\users\\hakan\\anaconda3\\lib\\site-packages (from matplotlib->catboost) (1.4.2)\n",
      "Requirement already satisfied: fonttools>=4.22.0 in c:\\users\\hakan\\anaconda3\\lib\\site-packages (from matplotlib->catboost) (4.25.0)\n",
      "Requirement already satisfied: pillow>=6.2.0 in c:\\users\\hakan\\anaconda3\\lib\\site-packages (from matplotlib->catboost) (9.2.0)\n",
      "Requirement already satisfied: packaging>=20.0 in c:\\users\\hakan\\anaconda3\\lib\\site-packages (from matplotlib->catboost) (21.3)\n",
      "Requirement already satisfied: tenacity>=6.2.0 in c:\\users\\hakan\\anaconda3\\lib\\site-packages (from plotly->catboost) (8.0.1)\n",
      "Installing collected packages: graphviz, catboost\n",
      "Successfully installed catboost-1.2.2 graphviz-0.20.1\n",
      "Note: you may need to restart the kernel to use updated packages.\n"
     ]
    }
   ],
   "source": [
    "pip install catboost"
   ]
  },
  {
   "cell_type": "code",
   "execution_count": 61,
   "id": "2db4677a-e93a-4ee3-a9b6-d8fbb72eea59",
   "metadata": {},
   "outputs": [],
   "source": [
    "from catboost import CatBoostRegressor"
   ]
  },
  {
   "cell_type": "code",
   "execution_count": 62,
   "id": "79df5d44-cb5a-4505-b794-731d6586f066",
   "metadata": {},
   "outputs": [
    {
     "name": "stdout",
     "output_type": "stream",
     "text": [
      "Learning rate set to 0.031674\n",
      "0:\tlearn: 437.6430699\ttotal: 138ms\tremaining: 2m 17s\n",
      "1:\tlearn: 431.3923642\ttotal: 140ms\tremaining: 1m 9s\n",
      "2:\tlearn: 424.8820360\ttotal: 142ms\tremaining: 47.1s\n",
      "3:\tlearn: 418.2514904\ttotal: 143ms\tremaining: 35.5s\n",
      "4:\tlearn: 412.6394021\ttotal: 144ms\tremaining: 28.6s\n",
      "5:\tlearn: 406.6247020\ttotal: 144ms\tremaining: 23.9s\n",
      "6:\tlearn: 400.5321206\ttotal: 145ms\tremaining: 20.6s\n",
      "7:\tlearn: 394.6683437\ttotal: 146ms\tremaining: 18.1s\n",
      "8:\tlearn: 388.2496484\ttotal: 147ms\tremaining: 16.1s\n",
      "9:\tlearn: 382.9448842\ttotal: 148ms\tremaining: 14.6s\n",
      "10:\tlearn: 377.2600080\ttotal: 148ms\tremaining: 13.3s\n",
      "11:\tlearn: 372.4829606\ttotal: 149ms\tremaining: 12.3s\n",
      "12:\tlearn: 366.6823437\ttotal: 150ms\tremaining: 11.4s\n",
      "13:\tlearn: 362.6076230\ttotal: 151ms\tremaining: 10.6s\n",
      "14:\tlearn: 358.0107745\ttotal: 151ms\tremaining: 9.95s\n",
      "15:\tlearn: 353.2802665\ttotal: 152ms\tremaining: 9.36s\n",
      "16:\tlearn: 348.5646265\ttotal: 153ms\tremaining: 8.85s\n",
      "17:\tlearn: 343.6407912\ttotal: 154ms\tremaining: 8.39s\n",
      "18:\tlearn: 339.2363847\ttotal: 155ms\tremaining: 7.99s\n",
      "19:\tlearn: 334.3431252\ttotal: 155ms\tremaining: 7.62s\n",
      "20:\tlearn: 330.3247028\ttotal: 156ms\tremaining: 7.28s\n",
      "21:\tlearn: 326.6118334\ttotal: 157ms\tremaining: 6.98s\n",
      "22:\tlearn: 322.7759981\ttotal: 158ms\tremaining: 6.7s\n",
      "23:\tlearn: 318.9511822\ttotal: 159ms\tremaining: 6.45s\n",
      "24:\tlearn: 315.4216253\ttotal: 159ms\tremaining: 6.21s\n",
      "25:\tlearn: 311.3551377\ttotal: 160ms\tremaining: 6s\n",
      "26:\tlearn: 308.1492371\ttotal: 161ms\tremaining: 5.8s\n",
      "27:\tlearn: 304.7284729\ttotal: 162ms\tremaining: 5.62s\n",
      "28:\tlearn: 301.3893204\ttotal: 163ms\tremaining: 5.45s\n",
      "29:\tlearn: 298.2080758\ttotal: 163ms\tremaining: 5.28s\n",
      "30:\tlearn: 295.6878398\ttotal: 164ms\tremaining: 5.13s\n",
      "31:\tlearn: 292.3912243\ttotal: 165ms\tremaining: 4.99s\n",
      "32:\tlearn: 289.6345744\ttotal: 166ms\tremaining: 4.85s\n",
      "33:\tlearn: 287.2158711\ttotal: 166ms\tremaining: 4.73s\n",
      "34:\tlearn: 284.3879081\ttotal: 167ms\tremaining: 4.61s\n",
      "35:\tlearn: 281.7994818\ttotal: 168ms\tremaining: 4.5s\n",
      "36:\tlearn: 279.2028261\ttotal: 169ms\tremaining: 4.39s\n",
      "37:\tlearn: 276.5821160\ttotal: 170ms\tremaining: 4.29s\n",
      "38:\tlearn: 273.8890894\ttotal: 170ms\tremaining: 4.19s\n",
      "39:\tlearn: 271.1681677\ttotal: 171ms\tremaining: 4.11s\n",
      "40:\tlearn: 269.0159531\ttotal: 172ms\tremaining: 4.02s\n",
      "41:\tlearn: 266.3601804\ttotal: 173ms\tremaining: 3.94s\n",
      "42:\tlearn: 263.8608958\ttotal: 174ms\tremaining: 3.86s\n",
      "43:\tlearn: 261.1405566\ttotal: 174ms\tremaining: 3.79s\n",
      "44:\tlearn: 258.9314736\ttotal: 175ms\tremaining: 3.72s\n",
      "45:\tlearn: 256.3885577\ttotal: 176ms\tremaining: 3.65s\n",
      "46:\tlearn: 254.2857349\ttotal: 177ms\tremaining: 3.58s\n",
      "47:\tlearn: 252.2347121\ttotal: 177ms\tremaining: 3.52s\n",
      "48:\tlearn: 250.1779367\ttotal: 178ms\tremaining: 3.46s\n",
      "49:\tlearn: 248.2687430\ttotal: 179ms\tremaining: 3.4s\n",
      "50:\tlearn: 246.3685582\ttotal: 180ms\tremaining: 3.35s\n",
      "51:\tlearn: 244.8719988\ttotal: 181ms\tremaining: 3.29s\n",
      "52:\tlearn: 242.7348892\ttotal: 181ms\tremaining: 3.24s\n",
      "53:\tlearn: 241.1611112\ttotal: 182ms\tremaining: 3.19s\n",
      "54:\tlearn: 239.4819462\ttotal: 183ms\tremaining: 3.14s\n",
      "55:\tlearn: 237.3877895\ttotal: 184ms\tremaining: 3.1s\n",
      "56:\tlearn: 235.7619262\ttotal: 185ms\tremaining: 3.05s\n",
      "57:\tlearn: 233.9604804\ttotal: 185ms\tremaining: 3.01s\n",
      "58:\tlearn: 232.4948011\ttotal: 186ms\tremaining: 2.97s\n",
      "59:\tlearn: 230.6283304\ttotal: 187ms\tremaining: 2.93s\n",
      "60:\tlearn: 228.9920307\ttotal: 188ms\tremaining: 2.89s\n",
      "61:\tlearn: 227.5197637\ttotal: 188ms\tremaining: 2.85s\n",
      "62:\tlearn: 226.0561213\ttotal: 189ms\tremaining: 2.81s\n",
      "63:\tlearn: 224.3484762\ttotal: 190ms\tremaining: 2.78s\n",
      "64:\tlearn: 223.0652023\ttotal: 191ms\tremaining: 2.74s\n",
      "65:\tlearn: 221.6608069\ttotal: 192ms\tremaining: 2.71s\n",
      "66:\tlearn: 220.2445284\ttotal: 192ms\tremaining: 2.68s\n",
      "67:\tlearn: 219.0044262\ttotal: 193ms\tremaining: 2.65s\n",
      "68:\tlearn: 217.4624313\ttotal: 194ms\tremaining: 2.62s\n",
      "69:\tlearn: 216.0502248\ttotal: 195ms\tremaining: 2.59s\n",
      "70:\tlearn: 214.5361705\ttotal: 196ms\tremaining: 2.56s\n",
      "71:\tlearn: 213.1812509\ttotal: 196ms\tremaining: 2.53s\n",
      "72:\tlearn: 211.7399390\ttotal: 197ms\tremaining: 2.5s\n",
      "73:\tlearn: 210.5557639\ttotal: 198ms\tremaining: 2.47s\n",
      "74:\tlearn: 209.4242283\ttotal: 199ms\tremaining: 2.45s\n",
      "75:\tlearn: 208.4366109\ttotal: 199ms\tremaining: 2.42s\n",
      "76:\tlearn: 207.4514860\ttotal: 200ms\tremaining: 2.4s\n",
      "77:\tlearn: 206.1912213\ttotal: 201ms\tremaining: 2.38s\n",
      "78:\tlearn: 205.2585316\ttotal: 202ms\tremaining: 2.36s\n",
      "79:\tlearn: 203.8747879\ttotal: 203ms\tremaining: 2.34s\n",
      "80:\tlearn: 202.5993031\ttotal: 204ms\tremaining: 2.32s\n",
      "81:\tlearn: 201.4719061\ttotal: 206ms\tremaining: 2.3s\n",
      "82:\tlearn: 200.2871874\ttotal: 206ms\tremaining: 2.28s\n",
      "83:\tlearn: 199.1074683\ttotal: 207ms\tremaining: 2.26s\n",
      "84:\tlearn: 197.8511342\ttotal: 208ms\tremaining: 2.24s\n",
      "85:\tlearn: 196.8788042\ttotal: 209ms\tremaining: 2.22s\n",
      "86:\tlearn: 195.9815130\ttotal: 210ms\tremaining: 2.2s\n",
      "87:\tlearn: 195.0807956\ttotal: 211ms\tremaining: 2.18s\n",
      "88:\tlearn: 193.9775466\ttotal: 212ms\tremaining: 2.17s\n",
      "89:\tlearn: 192.8810426\ttotal: 213ms\tremaining: 2.15s\n",
      "90:\tlearn: 192.5363626\ttotal: 214ms\tremaining: 2.13s\n",
      "91:\tlearn: 191.3259849\ttotal: 215ms\tremaining: 2.12s\n",
      "92:\tlearn: 190.3650025\ttotal: 216ms\tremaining: 2.1s\n",
      "93:\tlearn: 189.3255643\ttotal: 217ms\tremaining: 2.09s\n",
      "94:\tlearn: 188.2433480\ttotal: 217ms\tremaining: 2.07s\n",
      "95:\tlearn: 187.2786096\ttotal: 218ms\tremaining: 2.06s\n",
      "96:\tlearn: 186.1284681\ttotal: 219ms\tremaining: 2.04s\n",
      "97:\tlearn: 185.0190872\ttotal: 220ms\tremaining: 2.03s\n",
      "98:\tlearn: 184.2888024\ttotal: 221ms\tremaining: 2.01s\n",
      "99:\tlearn: 183.3111217\ttotal: 222ms\tremaining: 2s\n",
      "100:\tlearn: 182.2519940\ttotal: 223ms\tremaining: 1.98s\n",
      "101:\tlearn: 181.0186200\ttotal: 224ms\tremaining: 1.97s\n",
      "102:\tlearn: 179.9672344\ttotal: 225ms\tremaining: 1.96s\n",
      "103:\tlearn: 178.9776753\ttotal: 226ms\tremaining: 1.95s\n",
      "104:\tlearn: 178.2445101\ttotal: 227ms\tremaining: 1.93s\n",
      "105:\tlearn: 177.4055906\ttotal: 228ms\tremaining: 1.92s\n",
      "106:\tlearn: 176.2405445\ttotal: 228ms\tremaining: 1.91s\n",
      "107:\tlearn: 175.1813091\ttotal: 229ms\tremaining: 1.89s\n",
      "108:\tlearn: 174.5537682\ttotal: 230ms\tremaining: 1.88s\n",
      "109:\tlearn: 173.8231890\ttotal: 231ms\tremaining: 1.87s\n",
      "110:\tlearn: 172.9324461\ttotal: 232ms\tremaining: 1.85s\n",
      "111:\tlearn: 172.0019421\ttotal: 232ms\tremaining: 1.84s\n",
      "112:\tlearn: 171.2945678\ttotal: 233ms\tremaining: 1.83s\n",
      "113:\tlearn: 170.4815313\ttotal: 234ms\tremaining: 1.82s\n",
      "114:\tlearn: 169.9491294\ttotal: 235ms\tremaining: 1.81s\n",
      "115:\tlearn: 169.2483859\ttotal: 236ms\tremaining: 1.79s\n",
      "116:\tlearn: 168.7342383\ttotal: 236ms\tremaining: 1.78s\n",
      "117:\tlearn: 168.1837140\ttotal: 237ms\tremaining: 1.77s\n",
      "118:\tlearn: 167.1222358\ttotal: 238ms\tremaining: 1.76s\n",
      "119:\tlearn: 166.3472734\ttotal: 239ms\tremaining: 1.75s\n",
      "120:\tlearn: 165.5330342\ttotal: 240ms\tremaining: 1.74s\n",
      "121:\tlearn: 164.8476246\ttotal: 240ms\tremaining: 1.73s\n",
      "122:\tlearn: 164.2399797\ttotal: 241ms\tremaining: 1.72s\n",
      "123:\tlearn: 164.0121571\ttotal: 242ms\tremaining: 1.71s\n",
      "124:\tlearn: 162.9794212\ttotal: 243ms\tremaining: 1.7s\n",
      "125:\tlearn: 162.2095741\ttotal: 244ms\tremaining: 1.69s\n",
      "126:\tlearn: 161.1695920\ttotal: 244ms\tremaining: 1.68s\n",
      "127:\tlearn: 160.3516612\ttotal: 245ms\tremaining: 1.67s\n",
      "128:\tlearn: 159.1596356\ttotal: 246ms\tremaining: 1.66s\n",
      "129:\tlearn: 158.5354394\ttotal: 247ms\tremaining: 1.65s\n",
      "130:\tlearn: 157.5922383\ttotal: 247ms\tremaining: 1.64s\n",
      "131:\tlearn: 156.9689796\ttotal: 248ms\tremaining: 1.63s\n",
      "132:\tlearn: 156.4170623\ttotal: 249ms\tremaining: 1.62s\n",
      "133:\tlearn: 156.1222595\ttotal: 250ms\tremaining: 1.61s\n",
      "134:\tlearn: 155.5996569\ttotal: 250ms\tremaining: 1.6s\n",
      "135:\tlearn: 154.8990155\ttotal: 251ms\tremaining: 1.59s\n",
      "136:\tlearn: 154.3704896\ttotal: 252ms\tremaining: 1.59s\n",
      "137:\tlearn: 153.8560012\ttotal: 253ms\tremaining: 1.58s\n",
      "138:\tlearn: 153.2399938\ttotal: 254ms\tremaining: 1.57s\n",
      "139:\tlearn: 152.2142414\ttotal: 254ms\tremaining: 1.56s\n",
      "140:\tlearn: 151.5976950\ttotal: 255ms\tremaining: 1.55s\n",
      "141:\tlearn: 151.4426506\ttotal: 256ms\tremaining: 1.54s\n",
      "142:\tlearn: 150.8467135\ttotal: 257ms\tremaining: 1.54s\n",
      "143:\tlearn: 150.0175883\ttotal: 257ms\tremaining: 1.53s\n",
      "144:\tlearn: 149.6327647\ttotal: 258ms\tremaining: 1.52s\n",
      "145:\tlearn: 148.9265718\ttotal: 259ms\tremaining: 1.51s\n",
      "146:\tlearn: 148.4460764\ttotal: 260ms\tremaining: 1.51s\n",
      "147:\tlearn: 147.8108318\ttotal: 260ms\tremaining: 1.5s\n",
      "148:\tlearn: 147.2766525\ttotal: 261ms\tremaining: 1.49s\n",
      "149:\tlearn: 146.8537279\ttotal: 262ms\tremaining: 1.48s\n",
      "150:\tlearn: 146.0227438\ttotal: 263ms\tremaining: 1.48s\n",
      "151:\tlearn: 145.5603059\ttotal: 264ms\tremaining: 1.47s\n",
      "152:\tlearn: 145.0318400\ttotal: 265ms\tremaining: 1.46s\n",
      "153:\tlearn: 144.6082188\ttotal: 265ms\tremaining: 1.46s\n",
      "154:\tlearn: 144.2070501\ttotal: 266ms\tremaining: 1.45s\n",
      "155:\tlearn: 143.8060676\ttotal: 267ms\tremaining: 1.44s\n",
      "156:\tlearn: 143.3819707\ttotal: 268ms\tremaining: 1.44s\n",
      "157:\tlearn: 143.0764402\ttotal: 268ms\tremaining: 1.43s\n",
      "158:\tlearn: 142.4609449\ttotal: 269ms\tremaining: 1.42s\n",
      "159:\tlearn: 142.3321970\ttotal: 270ms\tremaining: 1.42s\n",
      "160:\tlearn: 141.9044208\ttotal: 271ms\tremaining: 1.41s\n",
      "161:\tlearn: 141.4544471\ttotal: 272ms\tremaining: 1.41s\n",
      "162:\tlearn: 140.9391569\ttotal: 272ms\tremaining: 1.4s\n",
      "163:\tlearn: 140.3413557\ttotal: 273ms\tremaining: 1.39s\n",
      "164:\tlearn: 139.7992277\ttotal: 274ms\tremaining: 1.39s\n",
      "165:\tlearn: 139.3139418\ttotal: 275ms\tremaining: 1.38s\n",
      "166:\tlearn: 139.1617594\ttotal: 276ms\tremaining: 1.37s\n",
      "167:\tlearn: 138.8837397\ttotal: 276ms\tremaining: 1.37s\n",
      "168:\tlearn: 138.6951410\ttotal: 277ms\tremaining: 1.36s\n",
      "169:\tlearn: 138.0167618\ttotal: 278ms\tremaining: 1.36s\n",
      "170:\tlearn: 137.7020324\ttotal: 279ms\tremaining: 1.35s\n",
      "171:\tlearn: 137.1976478\ttotal: 279ms\tremaining: 1.34s\n",
      "172:\tlearn: 136.6670434\ttotal: 280ms\tremaining: 1.34s\n",
      "173:\tlearn: 136.4670074\ttotal: 281ms\tremaining: 1.33s\n",
      "174:\tlearn: 136.0663779\ttotal: 282ms\tremaining: 1.33s\n",
      "175:\tlearn: 135.9542221\ttotal: 283ms\tremaining: 1.32s\n",
      "176:\tlearn: 135.6178437\ttotal: 283ms\tremaining: 1.32s\n",
      "177:\tlearn: 134.6062854\ttotal: 284ms\tremaining: 1.31s\n",
      "178:\tlearn: 134.5063344\ttotal: 285ms\tremaining: 1.3s\n",
      "179:\tlearn: 133.9371247\ttotal: 285ms\tremaining: 1.3s\n",
      "180:\tlearn: 133.8431589\ttotal: 286ms\tremaining: 1.29s\n",
      "181:\tlearn: 133.4293648\ttotal: 286ms\tremaining: 1.29s\n",
      "182:\tlearn: 133.2065999\ttotal: 287ms\tremaining: 1.28s\n",
      "183:\tlearn: 132.9235113\ttotal: 288ms\tremaining: 1.28s\n",
      "184:\tlearn: 132.6695944\ttotal: 289ms\tremaining: 1.27s\n",
      "185:\tlearn: 132.3135234\ttotal: 289ms\tremaining: 1.27s\n",
      "186:\tlearn: 132.2233433\ttotal: 290ms\tremaining: 1.26s\n",
      "187:\tlearn: 132.0628764\ttotal: 291ms\tremaining: 1.25s\n",
      "188:\tlearn: 131.8624217\ttotal: 292ms\tremaining: 1.25s\n",
      "189:\tlearn: 131.3846390\ttotal: 292ms\tremaining: 1.25s\n",
      "190:\tlearn: 131.0638781\ttotal: 293ms\tremaining: 1.24s\n",
      "191:\tlearn: 130.4721276\ttotal: 294ms\tremaining: 1.24s\n",
      "192:\tlearn: 129.9910319\ttotal: 295ms\tremaining: 1.23s\n",
      "193:\tlearn: 129.7074214\ttotal: 295ms\tremaining: 1.23s\n",
      "194:\tlearn: 129.0491404\ttotal: 296ms\tremaining: 1.22s\n",
      "195:\tlearn: 128.6928621\ttotal: 297ms\tremaining: 1.22s\n",
      "196:\tlearn: 128.5117514\ttotal: 298ms\tremaining: 1.22s\n",
      "197:\tlearn: 128.4035709\ttotal: 299ms\tremaining: 1.21s\n",
      "198:\tlearn: 127.9924182\ttotal: 300ms\tremaining: 1.21s\n",
      "199:\tlearn: 127.7690317\ttotal: 301ms\tremaining: 1.2s\n",
      "200:\tlearn: 127.6252249\ttotal: 301ms\tremaining: 1.2s\n",
      "201:\tlearn: 127.4951417\ttotal: 302ms\tremaining: 1.19s\n",
      "202:\tlearn: 127.0315349\ttotal: 303ms\tremaining: 1.19s\n",
      "203:\tlearn: 126.7791475\ttotal: 304ms\tremaining: 1.19s\n",
      "204:\tlearn: 126.4903107\ttotal: 304ms\tremaining: 1.18s\n",
      "205:\tlearn: 126.0664803\ttotal: 305ms\tremaining: 1.18s\n",
      "206:\tlearn: 125.3934071\ttotal: 306ms\tremaining: 1.17s\n",
      "207:\tlearn: 125.0899622\ttotal: 307ms\tremaining: 1.17s\n",
      "208:\tlearn: 124.7757310\ttotal: 308ms\tremaining: 1.16s\n",
      "209:\tlearn: 124.5475960\ttotal: 308ms\tremaining: 1.16s\n",
      "210:\tlearn: 124.1962887\ttotal: 309ms\tremaining: 1.16s\n",
      "211:\tlearn: 123.9686937\ttotal: 310ms\tremaining: 1.15s\n",
      "212:\tlearn: 123.0280048\ttotal: 311ms\tremaining: 1.15s\n",
      "213:\tlearn: 122.5447141\ttotal: 312ms\tremaining: 1.14s\n",
      "214:\tlearn: 122.1785305\ttotal: 312ms\tremaining: 1.14s\n",
      "215:\tlearn: 121.4403560\ttotal: 313ms\tremaining: 1.14s\n",
      "216:\tlearn: 120.8269584\ttotal: 314ms\tremaining: 1.13s\n",
      "217:\tlearn: 120.2399329\ttotal: 315ms\tremaining: 1.13s\n",
      "218:\tlearn: 119.4852557\ttotal: 315ms\tremaining: 1.13s\n",
      "219:\tlearn: 119.2094151\ttotal: 316ms\tremaining: 1.12s\n",
      "220:\tlearn: 119.0417229\ttotal: 317ms\tremaining: 1.12s\n",
      "221:\tlearn: 118.9557915\ttotal: 318ms\tremaining: 1.11s\n",
      "222:\tlearn: 118.3082421\ttotal: 319ms\tremaining: 1.11s\n",
      "223:\tlearn: 117.7364211\ttotal: 319ms\tremaining: 1.11s\n",
      "224:\tlearn: 117.6324235\ttotal: 320ms\tremaining: 1.1s\n",
      "225:\tlearn: 117.2879743\ttotal: 321ms\tremaining: 1.1s\n",
      "226:\tlearn: 117.0422612\ttotal: 322ms\tremaining: 1.09s\n",
      "227:\tlearn: 116.8001379\ttotal: 322ms\tremaining: 1.09s\n",
      "228:\tlearn: 116.4854978\ttotal: 323ms\tremaining: 1.09s\n",
      "229:\tlearn: 115.7559740\ttotal: 324ms\tremaining: 1.08s\n",
      "230:\tlearn: 115.1896271\ttotal: 325ms\tremaining: 1.08s\n",
      "231:\tlearn: 114.9666291\ttotal: 325ms\tremaining: 1.08s\n",
      "232:\tlearn: 114.1239318\ttotal: 326ms\tremaining: 1.07s\n",
      "233:\tlearn: 113.9964466\ttotal: 327ms\tremaining: 1.07s\n",
      "234:\tlearn: 113.8912592\ttotal: 328ms\tremaining: 1.07s\n",
      "235:\tlearn: 113.4606970\ttotal: 328ms\tremaining: 1.06s\n",
      "236:\tlearn: 113.0958922\ttotal: 329ms\tremaining: 1.06s\n",
      "237:\tlearn: 113.0091361\ttotal: 330ms\tremaining: 1.06s\n",
      "238:\tlearn: 112.7657197\ttotal: 331ms\tremaining: 1.05s\n",
      "239:\tlearn: 112.2315070\ttotal: 331ms\tremaining: 1.05s\n",
      "240:\tlearn: 111.9507125\ttotal: 332ms\tremaining: 1.05s\n",
      "241:\tlearn: 111.7384492\ttotal: 333ms\tremaining: 1.04s\n",
      "242:\tlearn: 111.0693763\ttotal: 334ms\tremaining: 1.04s\n",
      "243:\tlearn: 110.3499926\ttotal: 334ms\tremaining: 1.04s\n",
      "244:\tlearn: 110.2316231\ttotal: 335ms\tremaining: 1.03s\n",
      "245:\tlearn: 109.6985998\ttotal: 336ms\tremaining: 1.03s\n",
      "246:\tlearn: 109.4279824\ttotal: 337ms\tremaining: 1.03s\n",
      "247:\tlearn: 109.1466762\ttotal: 338ms\tremaining: 1.02s\n",
      "248:\tlearn: 108.9628542\ttotal: 338ms\tremaining: 1.02s\n",
      "249:\tlearn: 108.7268676\ttotal: 339ms\tremaining: 1.02s\n",
      "250:\tlearn: 108.0921190\ttotal: 340ms\tremaining: 1.01s\n",
      "251:\tlearn: 107.6167844\ttotal: 341ms\tremaining: 1.01s\n",
      "252:\tlearn: 106.9716563\ttotal: 341ms\tremaining: 1.01s\n",
      "253:\tlearn: 106.4272485\ttotal: 342ms\tremaining: 1s\n",
      "254:\tlearn: 106.2032614\ttotal: 343ms\tremaining: 1s\n",
      "255:\tlearn: 105.5756794\ttotal: 344ms\tremaining: 999ms\n",
      "256:\tlearn: 105.4918649\ttotal: 345ms\tremaining: 996ms\n",
      "257:\tlearn: 105.2466976\ttotal: 345ms\tremaining: 993ms\n",
      "258:\tlearn: 105.0461428\ttotal: 346ms\tremaining: 990ms\n",
      "259:\tlearn: 104.5887628\ttotal: 347ms\tremaining: 987ms\n",
      "260:\tlearn: 104.1305873\ttotal: 348ms\tremaining: 984ms\n",
      "261:\tlearn: 103.5527158\ttotal: 348ms\tremaining: 981ms\n",
      "262:\tlearn: 103.0334823\ttotal: 349ms\tremaining: 978ms\n",
      "263:\tlearn: 102.6732388\ttotal: 350ms\tremaining: 976ms\n",
      "264:\tlearn: 102.4678728\ttotal: 351ms\tremaining: 973ms\n",
      "265:\tlearn: 101.9608852\ttotal: 351ms\tremaining: 970ms\n",
      "266:\tlearn: 101.4449668\ttotal: 352ms\tremaining: 967ms\n",
      "267:\tlearn: 100.9647899\ttotal: 353ms\tremaining: 964ms\n",
      "268:\tlearn: 100.4376357\ttotal: 354ms\tremaining: 961ms\n",
      "269:\tlearn: 100.1038322\ttotal: 355ms\tremaining: 959ms\n",
      "270:\tlearn: 99.8991183\ttotal: 355ms\tremaining: 956ms\n",
      "271:\tlearn: 99.4016031\ttotal: 356ms\tremaining: 953ms\n",
      "272:\tlearn: 98.9231252\ttotal: 357ms\tremaining: 951ms\n",
      "273:\tlearn: 98.5734863\ttotal: 358ms\tremaining: 948ms\n",
      "274:\tlearn: 98.3333355\ttotal: 359ms\tremaining: 945ms\n",
      "275:\tlearn: 97.9164082\ttotal: 359ms\tremaining: 943ms\n",
      "276:\tlearn: 97.3911203\ttotal: 360ms\tremaining: 940ms\n",
      "277:\tlearn: 96.9317789\ttotal: 361ms\tremaining: 937ms\n",
      "278:\tlearn: 96.6243997\ttotal: 362ms\tremaining: 935ms\n",
      "279:\tlearn: 96.3288821\ttotal: 362ms\tremaining: 932ms\n",
      "280:\tlearn: 95.8579534\ttotal: 363ms\tremaining: 929ms\n",
      "281:\tlearn: 95.4136026\ttotal: 364ms\tremaining: 927ms\n",
      "282:\tlearn: 95.3442077\ttotal: 365ms\tremaining: 924ms\n",
      "283:\tlearn: 95.1166584\ttotal: 366ms\tremaining: 922ms\n",
      "284:\tlearn: 94.8017360\ttotal: 366ms\tremaining: 919ms\n",
      "285:\tlearn: 94.5863908\ttotal: 367ms\tremaining: 916ms\n",
      "286:\tlearn: 94.4111694\ttotal: 368ms\tremaining: 914ms\n",
      "287:\tlearn: 94.2678024\ttotal: 369ms\tremaining: 911ms\n",
      "288:\tlearn: 93.7753419\ttotal: 369ms\tremaining: 908ms\n",
      "289:\tlearn: 93.3772710\ttotal: 370ms\tremaining: 906ms\n",
      "290:\tlearn: 92.8750904\ttotal: 371ms\tremaining: 903ms\n",
      "291:\tlearn: 92.6654794\ttotal: 372ms\tremaining: 901ms\n",
      "292:\tlearn: 92.2659876\ttotal: 372ms\tremaining: 898ms\n",
      "293:\tlearn: 92.0282495\ttotal: 373ms\tremaining: 896ms\n",
      "294:\tlearn: 91.8288855\ttotal: 374ms\tremaining: 894ms\n",
      "295:\tlearn: 91.6752612\ttotal: 375ms\tremaining: 891ms\n",
      "296:\tlearn: 91.2561883\ttotal: 375ms\tremaining: 889ms\n",
      "297:\tlearn: 91.0227123\ttotal: 376ms\tremaining: 886ms\n",
      "298:\tlearn: 90.8392142\ttotal: 377ms\tremaining: 884ms\n",
      "299:\tlearn: 90.6853014\ttotal: 378ms\tremaining: 881ms\n",
      "300:\tlearn: 90.5986761\ttotal: 378ms\tremaining: 879ms\n",
      "301:\tlearn: 90.2180036\ttotal: 379ms\tremaining: 877ms\n",
      "302:\tlearn: 89.8313622\ttotal: 380ms\tremaining: 874ms\n",
      "303:\tlearn: 89.6872837\ttotal: 381ms\tremaining: 872ms\n",
      "304:\tlearn: 89.3853276\ttotal: 382ms\tremaining: 869ms\n",
      "305:\tlearn: 88.9459206\ttotal: 382ms\tremaining: 867ms\n",
      "306:\tlearn: 88.7258770\ttotal: 383ms\tremaining: 865ms\n",
      "307:\tlearn: 88.5374358\ttotal: 384ms\tremaining: 862ms\n",
      "308:\tlearn: 88.0624447\ttotal: 385ms\tremaining: 860ms\n",
      "309:\tlearn: 87.7942692\ttotal: 385ms\tremaining: 858ms\n",
      "310:\tlearn: 87.6354184\ttotal: 386ms\tremaining: 856ms\n",
      "311:\tlearn: 87.4879486\ttotal: 387ms\tremaining: 853ms\n",
      "312:\tlearn: 87.0294739\ttotal: 388ms\tremaining: 851ms\n",
      "313:\tlearn: 86.6746221\ttotal: 388ms\tremaining: 849ms\n",
      "314:\tlearn: 86.2792146\ttotal: 389ms\tremaining: 846ms\n",
      "315:\tlearn: 86.2127070\ttotal: 390ms\tremaining: 844ms\n",
      "316:\tlearn: 86.1507368\ttotal: 391ms\tremaining: 842ms\n",
      "317:\tlearn: 85.7089141\ttotal: 392ms\tremaining: 840ms\n",
      "318:\tlearn: 85.6035137\ttotal: 393ms\tremaining: 839ms\n",
      "319:\tlearn: 85.3587988\ttotal: 394ms\tremaining: 837ms\n",
      "320:\tlearn: 84.9660906\ttotal: 395ms\tremaining: 836ms\n",
      "321:\tlearn: 84.5474713\ttotal: 396ms\tremaining: 834ms\n",
      "322:\tlearn: 84.1996852\ttotal: 397ms\tremaining: 832ms\n",
      "323:\tlearn: 84.0654282\ttotal: 398ms\tremaining: 830ms\n",
      "324:\tlearn: 83.7937327\ttotal: 399ms\tremaining: 828ms\n",
      "325:\tlearn: 83.5064288\ttotal: 399ms\tremaining: 826ms\n",
      "326:\tlearn: 83.3997655\ttotal: 400ms\tremaining: 824ms\n",
      "327:\tlearn: 83.2958622\ttotal: 401ms\tremaining: 822ms\n",
      "328:\tlearn: 82.9877578\ttotal: 402ms\tremaining: 820ms\n",
      "329:\tlearn: 82.6286638\ttotal: 403ms\tremaining: 818ms\n",
      "330:\tlearn: 82.2827132\ttotal: 404ms\tremaining: 816ms\n",
      "331:\tlearn: 82.0895251\ttotal: 405ms\tremaining: 814ms\n",
      "332:\tlearn: 82.0130649\ttotal: 406ms\tremaining: 812ms\n",
      "333:\tlearn: 81.6771734\ttotal: 406ms\tremaining: 811ms\n",
      "334:\tlearn: 81.3519124\ttotal: 407ms\tremaining: 809ms\n",
      "335:\tlearn: 81.0170326\ttotal: 408ms\tremaining: 807ms\n",
      "336:\tlearn: 80.6917886\ttotal: 409ms\tremaining: 805ms\n",
      "337:\tlearn: 80.3455177\ttotal: 410ms\tremaining: 803ms\n",
      "338:\tlearn: 80.0260727\ttotal: 411ms\tremaining: 801ms\n",
      "339:\tlearn: 79.9154748\ttotal: 412ms\tremaining: 799ms\n",
      "340:\tlearn: 79.7813079\ttotal: 413ms\tremaining: 797ms\n",
      "341:\tlearn: 79.3513293\ttotal: 413ms\tremaining: 796ms\n",
      "342:\tlearn: 78.8666019\ttotal: 414ms\tremaining: 794ms\n",
      "343:\tlearn: 78.7959013\ttotal: 415ms\tremaining: 792ms\n",
      "344:\tlearn: 78.7081334\ttotal: 416ms\tremaining: 790ms\n",
      "345:\tlearn: 78.3354931\ttotal: 417ms\tremaining: 788ms\n",
      "346:\tlearn: 77.9475067\ttotal: 418ms\tremaining: 786ms\n",
      "347:\tlearn: 77.8910420\ttotal: 419ms\tremaining: 784ms\n",
      "348:\tlearn: 77.5461672\ttotal: 420ms\tremaining: 783ms\n",
      "349:\tlearn: 77.3717101\ttotal: 421ms\tremaining: 782ms\n",
      "350:\tlearn: 77.0729657\ttotal: 422ms\tremaining: 780ms\n",
      "351:\tlearn: 76.7699287\ttotal: 423ms\tremaining: 778ms\n",
      "352:\tlearn: 76.6029759\ttotal: 424ms\tremaining: 777ms\n",
      "353:\tlearn: 76.1642615\ttotal: 425ms\tremaining: 775ms\n",
      "354:\tlearn: 76.1202523\ttotal: 425ms\tremaining: 773ms\n",
      "355:\tlearn: 75.9487132\ttotal: 426ms\tremaining: 771ms\n",
      "356:\tlearn: 75.6748479\ttotal: 427ms\tremaining: 769ms\n",
      "357:\tlearn: 75.4290864\ttotal: 428ms\tremaining: 767ms\n",
      "358:\tlearn: 75.0463849\ttotal: 428ms\tremaining: 765ms\n",
      "359:\tlearn: 74.9902381\ttotal: 429ms\tremaining: 763ms\n",
      "360:\tlearn: 74.5243875\ttotal: 430ms\tremaining: 762ms\n",
      "361:\tlearn: 74.1913065\ttotal: 431ms\tremaining: 760ms\n",
      "362:\tlearn: 73.8413359\ttotal: 432ms\tremaining: 758ms\n",
      "363:\tlearn: 73.7602119\ttotal: 433ms\tremaining: 756ms\n",
      "364:\tlearn: 73.3278135\ttotal: 433ms\tremaining: 754ms\n",
      "365:\tlearn: 72.9524336\ttotal: 434ms\tremaining: 752ms\n",
      "366:\tlearn: 72.6791856\ttotal: 435ms\tremaining: 750ms\n",
      "367:\tlearn: 72.4333577\ttotal: 436ms\tremaining: 749ms\n",
      "368:\tlearn: 72.1672937\ttotal: 437ms\tremaining: 747ms\n",
      "369:\tlearn: 71.9070276\ttotal: 438ms\tremaining: 745ms\n",
      "370:\tlearn: 71.5496196\ttotal: 438ms\tremaining: 743ms\n",
      "371:\tlearn: 71.3161902\ttotal: 439ms\tremaining: 741ms\n",
      "372:\tlearn: 71.1259191\ttotal: 440ms\tremaining: 739ms\n",
      "373:\tlearn: 70.9889962\ttotal: 441ms\tremaining: 738ms\n",
      "374:\tlearn: 70.7417966\ttotal: 441ms\tremaining: 736ms\n",
      "375:\tlearn: 70.4931174\ttotal: 442ms\tremaining: 734ms\n",
      "376:\tlearn: 70.3300576\ttotal: 443ms\tremaining: 732ms\n",
      "377:\tlearn: 69.9233248\ttotal: 444ms\tremaining: 730ms\n",
      "378:\tlearn: 69.6261005\ttotal: 444ms\tremaining: 728ms\n",
      "379:\tlearn: 69.3989708\ttotal: 445ms\tremaining: 726ms\n",
      "380:\tlearn: 69.0085387\ttotal: 446ms\tremaining: 725ms\n",
      "381:\tlearn: 68.7604153\ttotal: 447ms\tremaining: 723ms\n",
      "382:\tlearn: 68.4602767\ttotal: 448ms\tremaining: 721ms\n",
      "383:\tlearn: 68.1005452\ttotal: 448ms\tremaining: 719ms\n",
      "384:\tlearn: 68.0540467\ttotal: 449ms\tremaining: 718ms\n",
      "385:\tlearn: 67.8972753\ttotal: 450ms\tremaining: 716ms\n",
      "386:\tlearn: 67.5389629\ttotal: 451ms\tremaining: 714ms\n",
      "387:\tlearn: 67.2390178\ttotal: 452ms\tremaining: 712ms\n",
      "388:\tlearn: 67.0279888\ttotal: 452ms\tremaining: 711ms\n",
      "389:\tlearn: 66.8375919\ttotal: 453ms\tremaining: 709ms\n",
      "390:\tlearn: 66.4118315\ttotal: 454ms\tremaining: 707ms\n",
      "391:\tlearn: 66.3642690\ttotal: 455ms\tremaining: 706ms\n",
      "392:\tlearn: 66.1673138\ttotal: 456ms\tremaining: 704ms\n",
      "393:\tlearn: 66.0177482\ttotal: 456ms\tremaining: 702ms\n",
      "394:\tlearn: 65.8018038\ttotal: 457ms\tremaining: 700ms\n",
      "395:\tlearn: 65.6886505\ttotal: 458ms\tremaining: 699ms\n",
      "396:\tlearn: 65.6120185\ttotal: 459ms\tremaining: 697ms\n",
      "397:\tlearn: 65.5746662\ttotal: 460ms\tremaining: 695ms\n",
      "398:\tlearn: 65.2974851\ttotal: 460ms\tremaining: 694ms\n",
      "399:\tlearn: 65.2464764\ttotal: 461ms\tremaining: 692ms\n",
      "400:\tlearn: 65.1241314\ttotal: 462ms\tremaining: 690ms\n",
      "401:\tlearn: 65.0515740\ttotal: 463ms\tremaining: 688ms\n",
      "402:\tlearn: 64.8089636\ttotal: 464ms\tremaining: 687ms\n",
      "403:\tlearn: 64.5992230\ttotal: 464ms\tremaining: 685ms\n",
      "404:\tlearn: 64.2907010\ttotal: 465ms\tremaining: 683ms\n",
      "405:\tlearn: 64.1568642\ttotal: 466ms\tremaining: 682ms\n",
      "406:\tlearn: 63.8279106\ttotal: 467ms\tremaining: 680ms\n",
      "407:\tlearn: 63.5558565\ttotal: 468ms\tremaining: 679ms\n",
      "408:\tlearn: 63.3865445\ttotal: 468ms\tremaining: 677ms\n",
      "409:\tlearn: 63.2752408\ttotal: 469ms\tremaining: 675ms\n",
      "410:\tlearn: 63.1070190\ttotal: 470ms\tremaining: 673ms\n",
      "411:\tlearn: 62.7868376\ttotal: 471ms\tremaining: 672ms\n",
      "412:\tlearn: 62.5345803\ttotal: 471ms\tremaining: 670ms\n",
      "413:\tlearn: 62.2729058\ttotal: 472ms\tremaining: 668ms\n",
      "414:\tlearn: 61.9850985\ttotal: 473ms\tremaining: 667ms\n",
      "415:\tlearn: 61.7784164\ttotal: 474ms\tremaining: 665ms\n",
      "416:\tlearn: 61.7431976\ttotal: 474ms\tremaining: 663ms\n",
      "417:\tlearn: 61.4309964\ttotal: 475ms\tremaining: 662ms\n",
      "418:\tlearn: 61.3513660\ttotal: 476ms\tremaining: 660ms\n",
      "419:\tlearn: 61.1253739\ttotal: 477ms\tremaining: 658ms\n",
      "420:\tlearn: 61.0742571\ttotal: 478ms\tremaining: 657ms\n",
      "421:\tlearn: 61.0390980\ttotal: 478ms\tremaining: 655ms\n",
      "422:\tlearn: 61.0095757\ttotal: 479ms\tremaining: 653ms\n",
      "423:\tlearn: 60.6843255\ttotal: 480ms\tremaining: 652ms\n",
      "424:\tlearn: 60.4045551\ttotal: 481ms\tremaining: 650ms\n",
      "425:\tlearn: 60.3649587\ttotal: 481ms\tremaining: 649ms\n",
      "426:\tlearn: 60.3315828\ttotal: 482ms\tremaining: 647ms\n",
      "427:\tlearn: 60.1047027\ttotal: 483ms\tremaining: 645ms\n",
      "428:\tlearn: 59.9170736\ttotal: 484ms\tremaining: 644ms\n",
      "429:\tlearn: 59.6875648\ttotal: 485ms\tremaining: 642ms\n",
      "430:\tlearn: 59.6662150\ttotal: 485ms\tremaining: 641ms\n",
      "431:\tlearn: 59.4208112\ttotal: 486ms\tremaining: 639ms\n",
      "432:\tlearn: 59.2358034\ttotal: 487ms\tremaining: 638ms\n",
      "433:\tlearn: 58.9818868\ttotal: 488ms\tremaining: 636ms\n",
      "434:\tlearn: 58.7089433\ttotal: 488ms\tremaining: 634ms\n",
      "435:\tlearn: 58.5898817\ttotal: 489ms\tremaining: 633ms\n",
      "436:\tlearn: 58.5425342\ttotal: 490ms\tremaining: 631ms\n",
      "437:\tlearn: 58.2884605\ttotal: 491ms\tremaining: 630ms\n",
      "438:\tlearn: 58.2643873\ttotal: 491ms\tremaining: 628ms\n",
      "439:\tlearn: 58.2330868\ttotal: 492ms\tremaining: 626ms\n",
      "440:\tlearn: 57.9676592\ttotal: 493ms\tremaining: 625ms\n",
      "441:\tlearn: 57.7670212\ttotal: 494ms\tremaining: 623ms\n",
      "442:\tlearn: 57.5322464\ttotal: 494ms\tremaining: 622ms\n",
      "443:\tlearn: 57.2771620\ttotal: 495ms\tremaining: 620ms\n",
      "444:\tlearn: 57.0227885\ttotal: 496ms\tremaining: 619ms\n",
      "445:\tlearn: 56.7616770\ttotal: 497ms\tremaining: 617ms\n",
      "446:\tlearn: 56.7367450\ttotal: 498ms\tremaining: 616ms\n",
      "447:\tlearn: 56.6715001\ttotal: 498ms\tremaining: 614ms\n",
      "448:\tlearn: 56.4881346\ttotal: 499ms\tremaining: 613ms\n",
      "449:\tlearn: 56.3749776\ttotal: 500ms\tremaining: 611ms\n",
      "450:\tlearn: 56.2172319\ttotal: 501ms\tremaining: 610ms\n",
      "451:\tlearn: 55.9461925\ttotal: 502ms\tremaining: 608ms\n",
      "452:\tlearn: 55.8884270\ttotal: 503ms\tremaining: 607ms\n",
      "453:\tlearn: 55.7987432\ttotal: 503ms\tremaining: 605ms\n",
      "454:\tlearn: 55.7376337\ttotal: 504ms\tremaining: 604ms\n",
      "455:\tlearn: 55.5150595\ttotal: 505ms\tremaining: 602ms\n",
      "456:\tlearn: 55.4819680\ttotal: 506ms\tremaining: 601ms\n",
      "457:\tlearn: 55.1719919\ttotal: 506ms\tremaining: 599ms\n",
      "458:\tlearn: 55.1295759\ttotal: 507ms\tremaining: 598ms\n",
      "459:\tlearn: 55.0856302\ttotal: 508ms\tremaining: 596ms\n",
      "460:\tlearn: 54.8056235\ttotal: 509ms\tremaining: 595ms\n",
      "461:\tlearn: 54.4030407\ttotal: 510ms\tremaining: 593ms\n",
      "462:\tlearn: 54.3308204\ttotal: 510ms\tremaining: 592ms\n",
      "463:\tlearn: 54.0283724\ttotal: 511ms\tremaining: 590ms\n",
      "464:\tlearn: 53.9962714\ttotal: 512ms\tremaining: 589ms\n",
      "465:\tlearn: 53.8149476\ttotal: 513ms\tremaining: 587ms\n",
      "466:\tlearn: 53.7806209\ttotal: 513ms\tremaining: 586ms\n",
      "467:\tlearn: 53.7585727\ttotal: 514ms\tremaining: 585ms\n",
      "468:\tlearn: 53.5042777\ttotal: 515ms\tremaining: 583ms\n",
      "469:\tlearn: 53.3257034\ttotal: 516ms\tremaining: 582ms\n",
      "470:\tlearn: 53.0801119\ttotal: 517ms\tremaining: 580ms\n",
      "471:\tlearn: 53.0136550\ttotal: 518ms\tremaining: 579ms\n",
      "472:\tlearn: 52.9408930\ttotal: 518ms\tremaining: 578ms\n",
      "473:\tlearn: 52.7089062\ttotal: 519ms\tremaining: 576ms\n",
      "474:\tlearn: 52.6819781\ttotal: 520ms\tremaining: 575ms\n",
      "475:\tlearn: 52.5065568\ttotal: 521ms\tremaining: 574ms\n",
      "476:\tlearn: 52.3688770\ttotal: 522ms\tremaining: 573ms\n",
      "477:\tlearn: 52.2402473\ttotal: 523ms\tremaining: 571ms\n",
      "478:\tlearn: 52.1406517\ttotal: 524ms\tremaining: 570ms\n",
      "479:\tlearn: 52.1107144\ttotal: 524ms\tremaining: 568ms\n",
      "480:\tlearn: 51.9239449\ttotal: 525ms\tremaining: 567ms\n",
      "481:\tlearn: 51.7096820\ttotal: 526ms\tremaining: 565ms\n",
      "482:\tlearn: 51.6266918\ttotal: 527ms\tremaining: 564ms\n",
      "483:\tlearn: 51.5969797\ttotal: 528ms\tremaining: 563ms\n",
      "484:\tlearn: 51.4480162\ttotal: 528ms\tremaining: 561ms\n",
      "485:\tlearn: 51.2269261\ttotal: 529ms\tremaining: 560ms\n",
      "486:\tlearn: 50.9904632\ttotal: 530ms\tremaining: 558ms\n",
      "487:\tlearn: 50.9342043\ttotal: 531ms\tremaining: 557ms\n",
      "488:\tlearn: 50.8423680\ttotal: 532ms\tremaining: 556ms\n",
      "489:\tlearn: 50.7269788\ttotal: 533ms\tremaining: 554ms\n",
      "490:\tlearn: 50.5384699\ttotal: 533ms\tremaining: 553ms\n",
      "491:\tlearn: 50.5047793\ttotal: 534ms\tremaining: 552ms\n",
      "492:\tlearn: 50.3234448\ttotal: 535ms\tremaining: 550ms\n",
      "493:\tlearn: 50.1653421\ttotal: 536ms\tremaining: 549ms\n",
      "494:\tlearn: 49.9835558\ttotal: 536ms\tremaining: 547ms\n",
      "495:\tlearn: 49.8884283\ttotal: 537ms\tremaining: 546ms\n",
      "496:\tlearn: 49.6217364\ttotal: 538ms\tremaining: 544ms\n",
      "497:\tlearn: 49.5268562\ttotal: 539ms\tremaining: 543ms\n",
      "498:\tlearn: 49.3078402\ttotal: 540ms\tremaining: 542ms\n",
      "499:\tlearn: 49.2571676\ttotal: 540ms\tremaining: 540ms\n",
      "500:\tlearn: 49.2173141\ttotal: 541ms\tremaining: 539ms\n",
      "501:\tlearn: 48.9813103\ttotal: 542ms\tremaining: 538ms\n",
      "502:\tlearn: 48.8304542\ttotal: 543ms\tremaining: 536ms\n",
      "503:\tlearn: 48.7430936\ttotal: 544ms\tremaining: 535ms\n",
      "504:\tlearn: 48.5493989\ttotal: 544ms\tremaining: 533ms\n",
      "505:\tlearn: 48.5134839\ttotal: 545ms\tremaining: 532ms\n",
      "506:\tlearn: 48.3516141\ttotal: 546ms\tremaining: 531ms\n",
      "507:\tlearn: 48.0631542\ttotal: 547ms\tremaining: 529ms\n",
      "508:\tlearn: 47.8591880\ttotal: 547ms\tremaining: 528ms\n",
      "509:\tlearn: 47.7182444\ttotal: 548ms\tremaining: 527ms\n",
      "510:\tlearn: 47.6301870\ttotal: 549ms\tremaining: 525ms\n",
      "511:\tlearn: 47.4767324\ttotal: 550ms\tremaining: 524ms\n",
      "512:\tlearn: 47.2822625\ttotal: 551ms\tremaining: 523ms\n",
      "513:\tlearn: 47.1022658\ttotal: 552ms\tremaining: 522ms\n",
      "514:\tlearn: 47.0536181\ttotal: 552ms\tremaining: 520ms\n",
      "515:\tlearn: 47.0249559\ttotal: 553ms\tremaining: 519ms\n",
      "516:\tlearn: 46.8789720\ttotal: 554ms\tremaining: 517ms\n",
      "517:\tlearn: 46.7133769\ttotal: 555ms\tremaining: 516ms\n",
      "518:\tlearn: 46.5157986\ttotal: 555ms\tremaining: 515ms\n",
      "519:\tlearn: 46.3630405\ttotal: 556ms\tremaining: 513ms\n",
      "520:\tlearn: 46.1730188\ttotal: 557ms\tremaining: 512ms\n",
      "521:\tlearn: 46.1360908\ttotal: 558ms\tremaining: 511ms\n",
      "522:\tlearn: 45.9652487\ttotal: 559ms\tremaining: 510ms\n",
      "523:\tlearn: 45.8122703\ttotal: 559ms\tremaining: 508ms\n",
      "524:\tlearn: 45.4984451\ttotal: 560ms\tremaining: 507ms\n",
      "525:\tlearn: 45.3161076\ttotal: 561ms\tremaining: 506ms\n",
      "526:\tlearn: 45.2802854\ttotal: 562ms\tremaining: 504ms\n",
      "527:\tlearn: 45.2448275\ttotal: 563ms\tremaining: 503ms\n",
      "528:\tlearn: 45.0816321\ttotal: 563ms\tremaining: 501ms\n",
      "529:\tlearn: 44.9794319\ttotal: 564ms\tremaining: 500ms\n",
      "530:\tlearn: 44.6832140\ttotal: 565ms\tremaining: 499ms\n",
      "531:\tlearn: 44.4460046\ttotal: 566ms\tremaining: 498ms\n",
      "532:\tlearn: 44.2118287\ttotal: 567ms\tremaining: 496ms\n",
      "533:\tlearn: 44.0693524\ttotal: 567ms\tremaining: 495ms\n",
      "534:\tlearn: 43.7781614\ttotal: 568ms\tremaining: 494ms\n",
      "535:\tlearn: 43.5541731\ttotal: 569ms\tremaining: 493ms\n",
      "536:\tlearn: 43.5134866\ttotal: 570ms\tremaining: 491ms\n",
      "537:\tlearn: 43.3609810\ttotal: 571ms\tremaining: 490ms\n",
      "538:\tlearn: 43.1828364\ttotal: 571ms\tremaining: 489ms\n",
      "539:\tlearn: 43.1681810\ttotal: 572ms\tremaining: 487ms\n",
      "540:\tlearn: 43.0597548\ttotal: 572ms\tremaining: 486ms\n",
      "541:\tlearn: 43.0399237\ttotal: 573ms\tremaining: 484ms\n",
      "542:\tlearn: 42.7955247\ttotal: 574ms\tremaining: 483ms\n",
      "543:\tlearn: 42.5339065\ttotal: 575ms\tremaining: 482ms\n",
      "544:\tlearn: 42.4295635\ttotal: 576ms\tremaining: 481ms\n",
      "545:\tlearn: 42.2338376\ttotal: 576ms\tremaining: 479ms\n",
      "546:\tlearn: 42.0124060\ttotal: 577ms\tremaining: 478ms\n",
      "547:\tlearn: 41.8255183\ttotal: 578ms\tremaining: 477ms\n",
      "548:\tlearn: 41.6388681\ttotal: 579ms\tremaining: 476ms\n",
      "549:\tlearn: 41.4001270\ttotal: 580ms\tremaining: 474ms\n",
      "550:\tlearn: 41.1013528\ttotal: 581ms\tremaining: 473ms\n",
      "551:\tlearn: 41.0100295\ttotal: 581ms\tremaining: 472ms\n",
      "552:\tlearn: 40.9906076\ttotal: 582ms\tremaining: 471ms\n",
      "553:\tlearn: 40.8809109\ttotal: 583ms\tremaining: 469ms\n",
      "554:\tlearn: 40.7831302\ttotal: 584ms\tremaining: 468ms\n",
      "555:\tlearn: 40.7317763\ttotal: 585ms\tremaining: 467ms\n",
      "556:\tlearn: 40.6321710\ttotal: 585ms\tremaining: 466ms\n",
      "557:\tlearn: 40.4475073\ttotal: 586ms\tremaining: 464ms\n",
      "558:\tlearn: 40.2859957\ttotal: 587ms\tremaining: 463ms\n",
      "559:\tlearn: 40.0262057\ttotal: 588ms\tremaining: 462ms\n",
      "560:\tlearn: 39.9326350\ttotal: 589ms\tremaining: 461ms\n",
      "561:\tlearn: 39.8735956\ttotal: 589ms\tremaining: 459ms\n",
      "562:\tlearn: 39.7083019\ttotal: 590ms\tremaining: 458ms\n",
      "563:\tlearn: 39.5379855\ttotal: 591ms\tremaining: 457ms\n",
      "564:\tlearn: 39.3451301\ttotal: 592ms\tremaining: 456ms\n",
      "565:\tlearn: 39.2041273\ttotal: 593ms\tremaining: 455ms\n",
      "566:\tlearn: 38.9870162\ttotal: 594ms\tremaining: 454ms\n",
      "567:\tlearn: 38.8638040\ttotal: 595ms\tremaining: 453ms\n",
      "568:\tlearn: 38.7752116\ttotal: 596ms\tremaining: 452ms\n",
      "569:\tlearn: 38.6530297\ttotal: 597ms\tremaining: 450ms\n",
      "570:\tlearn: 38.5505372\ttotal: 598ms\tremaining: 449ms\n",
      "571:\tlearn: 38.5134486\ttotal: 599ms\tremaining: 448ms\n",
      "572:\tlearn: 38.3680902\ttotal: 600ms\tremaining: 447ms\n",
      "573:\tlearn: 38.1897295\ttotal: 600ms\tremaining: 446ms\n",
      "574:\tlearn: 38.1083536\ttotal: 601ms\tremaining: 444ms\n",
      "575:\tlearn: 37.9229216\ttotal: 602ms\tremaining: 443ms\n",
      "576:\tlearn: 37.8377087\ttotal: 603ms\tremaining: 442ms\n",
      "577:\tlearn: 37.7966900\ttotal: 604ms\tremaining: 441ms\n",
      "578:\tlearn: 37.6700761\ttotal: 605ms\tremaining: 440ms\n",
      "579:\tlearn: 37.6355177\ttotal: 605ms\tremaining: 438ms\n",
      "580:\tlearn: 37.4648199\ttotal: 606ms\tremaining: 437ms\n",
      "581:\tlearn: 37.2959505\ttotal: 607ms\tremaining: 436ms\n",
      "582:\tlearn: 37.1423961\ttotal: 608ms\tremaining: 435ms\n",
      "583:\tlearn: 36.9297315\ttotal: 609ms\tremaining: 434ms\n",
      "584:\tlearn: 36.8850382\ttotal: 610ms\tremaining: 433ms\n",
      "585:\tlearn: 36.7546519\ttotal: 611ms\tremaining: 431ms\n",
      "586:\tlearn: 36.7377554\ttotal: 612ms\tremaining: 430ms\n",
      "587:\tlearn: 36.6899102\ttotal: 612ms\tremaining: 429ms\n",
      "588:\tlearn: 36.5617094\ttotal: 613ms\tremaining: 428ms\n",
      "589:\tlearn: 36.4272921\ttotal: 614ms\tremaining: 427ms\n",
      "590:\tlearn: 36.2657889\ttotal: 615ms\tremaining: 426ms\n",
      "591:\tlearn: 36.2539345\ttotal: 616ms\tremaining: 424ms\n",
      "592:\tlearn: 36.2314399\ttotal: 616ms\tremaining: 423ms\n",
      "593:\tlearn: 36.0683824\ttotal: 617ms\tremaining: 422ms\n",
      "594:\tlearn: 35.9283095\ttotal: 618ms\tremaining: 421ms\n",
      "595:\tlearn: 35.7968288\ttotal: 619ms\tremaining: 420ms\n",
      "596:\tlearn: 35.7223423\ttotal: 620ms\tremaining: 418ms\n",
      "597:\tlearn: 35.5848854\ttotal: 621ms\tremaining: 417ms\n",
      "598:\tlearn: 35.4754344\ttotal: 621ms\tremaining: 416ms\n",
      "599:\tlearn: 35.3533890\ttotal: 622ms\tremaining: 415ms\n",
      "600:\tlearn: 35.2201505\ttotal: 623ms\tremaining: 414ms\n",
      "601:\tlearn: 35.0873272\ttotal: 624ms\tremaining: 413ms\n",
      "602:\tlearn: 35.0461873\ttotal: 625ms\tremaining: 412ms\n",
      "603:\tlearn: 34.9273071\ttotal: 626ms\tremaining: 411ms\n",
      "604:\tlearn: 34.8162855\ttotal: 627ms\tremaining: 409ms\n",
      "605:\tlearn: 34.7130059\ttotal: 628ms\tremaining: 408ms\n",
      "606:\tlearn: 34.5585617\ttotal: 629ms\tremaining: 407ms\n",
      "607:\tlearn: 34.4611907\ttotal: 630ms\tremaining: 406ms\n",
      "608:\tlearn: 34.4326546\ttotal: 631ms\tremaining: 405ms\n",
      "609:\tlearn: 34.2846979\ttotal: 632ms\tremaining: 404ms\n",
      "610:\tlearn: 34.1734501\ttotal: 633ms\tremaining: 403ms\n",
      "611:\tlearn: 34.0230965\ttotal: 633ms\tremaining: 402ms\n",
      "612:\tlearn: 33.8282501\ttotal: 634ms\tremaining: 400ms\n",
      "613:\tlearn: 33.7746747\ttotal: 635ms\tremaining: 399ms\n",
      "614:\tlearn: 33.7068386\ttotal: 636ms\tremaining: 398ms\n",
      "615:\tlearn: 33.5780800\ttotal: 637ms\tremaining: 397ms\n",
      "616:\tlearn: 33.4695325\ttotal: 637ms\tremaining: 396ms\n",
      "617:\tlearn: 33.3463443\ttotal: 638ms\tremaining: 394ms\n",
      "618:\tlearn: 33.2877395\ttotal: 639ms\tremaining: 393ms\n",
      "619:\tlearn: 33.2418826\ttotal: 640ms\tremaining: 392ms\n",
      "620:\tlearn: 33.1045465\ttotal: 641ms\tremaining: 391ms\n",
      "621:\tlearn: 32.9400639\ttotal: 641ms\tremaining: 390ms\n",
      "622:\tlearn: 32.8996970\ttotal: 642ms\tremaining: 389ms\n",
      "623:\tlearn: 32.7429487\ttotal: 643ms\tremaining: 387ms\n",
      "624:\tlearn: 32.6132355\ttotal: 644ms\tremaining: 386ms\n",
      "625:\tlearn: 32.4714976\ttotal: 644ms\tremaining: 385ms\n",
      "626:\tlearn: 32.4320448\ttotal: 645ms\tremaining: 384ms\n",
      "627:\tlearn: 32.2628258\ttotal: 646ms\tremaining: 383ms\n",
      "628:\tlearn: 32.2038569\ttotal: 647ms\tremaining: 381ms\n",
      "629:\tlearn: 32.0940738\ttotal: 647ms\tremaining: 380ms\n",
      "630:\tlearn: 32.0068495\ttotal: 648ms\tremaining: 379ms\n",
      "631:\tlearn: 31.9053748\ttotal: 649ms\tremaining: 378ms\n",
      "632:\tlearn: 31.7715772\ttotal: 650ms\tremaining: 377ms\n",
      "633:\tlearn: 31.6687835\ttotal: 651ms\tremaining: 376ms\n",
      "634:\tlearn: 31.6368050\ttotal: 651ms\tremaining: 374ms\n",
      "635:\tlearn: 31.5709628\ttotal: 652ms\tremaining: 373ms\n",
      "636:\tlearn: 31.4052213\ttotal: 653ms\tremaining: 372ms\n",
      "637:\tlearn: 31.2452229\ttotal: 654ms\tremaining: 371ms\n",
      "638:\tlearn: 31.1221828\ttotal: 655ms\tremaining: 370ms\n",
      "639:\tlearn: 31.0853500\ttotal: 655ms\tremaining: 369ms\n",
      "640:\tlearn: 30.9167355\ttotal: 656ms\tremaining: 368ms\n",
      "641:\tlearn: 30.8667253\ttotal: 657ms\tremaining: 366ms\n",
      "642:\tlearn: 30.7427129\ttotal: 658ms\tremaining: 365ms\n",
      "643:\tlearn: 30.5748228\ttotal: 659ms\tremaining: 364ms\n",
      "644:\tlearn: 30.5080592\ttotal: 659ms\tremaining: 363ms\n",
      "645:\tlearn: 30.3444228\ttotal: 660ms\tremaining: 362ms\n",
      "646:\tlearn: 30.1858385\ttotal: 661ms\tremaining: 361ms\n",
      "647:\tlearn: 30.1481951\ttotal: 662ms\tremaining: 360ms\n",
      "648:\tlearn: 30.1139150\ttotal: 663ms\tremaining: 358ms\n",
      "649:\tlearn: 30.0147177\ttotal: 663ms\tremaining: 357ms\n",
      "650:\tlearn: 29.8610501\ttotal: 664ms\tremaining: 356ms\n",
      "651:\tlearn: 29.7793561\ttotal: 665ms\tremaining: 355ms\n",
      "652:\tlearn: 29.6870188\ttotal: 666ms\tremaining: 354ms\n",
      "653:\tlearn: 29.6229921\ttotal: 667ms\tremaining: 353ms\n",
      "654:\tlearn: 29.5806823\ttotal: 667ms\tremaining: 352ms\n",
      "655:\tlearn: 29.4903496\ttotal: 668ms\tremaining: 350ms\n",
      "656:\tlearn: 29.4011642\ttotal: 669ms\tremaining: 349ms\n",
      "657:\tlearn: 29.3880977\ttotal: 670ms\tremaining: 348ms\n",
      "658:\tlearn: 29.2615919\ttotal: 671ms\tremaining: 347ms\n",
      "659:\tlearn: 29.1004727\ttotal: 672ms\tremaining: 346ms\n",
      "660:\tlearn: 29.0530692\ttotal: 672ms\tremaining: 345ms\n",
      "661:\tlearn: 28.9863628\ttotal: 673ms\tremaining: 344ms\n",
      "662:\tlearn: 28.8714304\ttotal: 674ms\tremaining: 343ms\n",
      "663:\tlearn: 28.7331979\ttotal: 675ms\tremaining: 341ms\n",
      "664:\tlearn: 28.6366801\ttotal: 675ms\tremaining: 340ms\n",
      "665:\tlearn: 28.5716341\ttotal: 676ms\tremaining: 339ms\n",
      "666:\tlearn: 28.4974876\ttotal: 677ms\tremaining: 338ms\n",
      "667:\tlearn: 28.4112710\ttotal: 678ms\tremaining: 337ms\n",
      "668:\tlearn: 28.2984651\ttotal: 679ms\tremaining: 336ms\n",
      "669:\tlearn: 28.1339510\ttotal: 679ms\tremaining: 335ms\n",
      "670:\tlearn: 28.1075789\ttotal: 680ms\tremaining: 334ms\n",
      "671:\tlearn: 28.0922293\ttotal: 681ms\tremaining: 332ms\n",
      "672:\tlearn: 27.9723760\ttotal: 682ms\tremaining: 331ms\n",
      "673:\tlearn: 27.9055283\ttotal: 683ms\tremaining: 330ms\n",
      "674:\tlearn: 27.8205243\ttotal: 683ms\tremaining: 329ms\n",
      "675:\tlearn: 27.8084834\ttotal: 684ms\tremaining: 328ms\n",
      "676:\tlearn: 27.7891840\ttotal: 685ms\tremaining: 327ms\n",
      "677:\tlearn: 27.6730952\ttotal: 686ms\tremaining: 326ms\n",
      "678:\tlearn: 27.6094279\ttotal: 687ms\tremaining: 325ms\n",
      "679:\tlearn: 27.5709406\ttotal: 687ms\tremaining: 323ms\n",
      "680:\tlearn: 27.5062932\ttotal: 688ms\tremaining: 322ms\n",
      "681:\tlearn: 27.4149358\ttotal: 689ms\tremaining: 321ms\n",
      "682:\tlearn: 27.3480578\ttotal: 690ms\tremaining: 320ms\n",
      "683:\tlearn: 27.2546632\ttotal: 691ms\tremaining: 319ms\n",
      "684:\tlearn: 27.1581242\ttotal: 692ms\tremaining: 318ms\n",
      "685:\tlearn: 27.1291330\ttotal: 692ms\tremaining: 317ms\n",
      "686:\tlearn: 27.0589760\ttotal: 693ms\tremaining: 316ms\n",
      "687:\tlearn: 26.9207571\ttotal: 694ms\tremaining: 315ms\n",
      "688:\tlearn: 26.8046340\ttotal: 695ms\tremaining: 314ms\n",
      "689:\tlearn: 26.7346039\ttotal: 696ms\tremaining: 313ms\n",
      "690:\tlearn: 26.6359238\ttotal: 696ms\tremaining: 311ms\n",
      "691:\tlearn: 26.5458163\ttotal: 697ms\tremaining: 310ms\n",
      "692:\tlearn: 26.5287024\ttotal: 698ms\tremaining: 309ms\n",
      "693:\tlearn: 26.4436127\ttotal: 699ms\tremaining: 308ms\n",
      "694:\tlearn: 26.3860996\ttotal: 700ms\tremaining: 307ms\n",
      "695:\tlearn: 26.3271824\ttotal: 700ms\tremaining: 306ms\n",
      "696:\tlearn: 26.1929180\ttotal: 701ms\tremaining: 305ms\n",
      "697:\tlearn: 26.0989501\ttotal: 702ms\tremaining: 304ms\n",
      "698:\tlearn: 26.0348052\ttotal: 703ms\tremaining: 303ms\n",
      "699:\tlearn: 25.9715846\ttotal: 703ms\tremaining: 301ms\n",
      "700:\tlearn: 25.8624783\ttotal: 704ms\tremaining: 300ms\n",
      "701:\tlearn: 25.8020332\ttotal: 705ms\tremaining: 299ms\n",
      "702:\tlearn: 25.7940141\ttotal: 706ms\tremaining: 298ms\n",
      "703:\tlearn: 25.6937173\ttotal: 707ms\tremaining: 297ms\n",
      "704:\tlearn: 25.6133995\ttotal: 707ms\tremaining: 296ms\n",
      "705:\tlearn: 25.5272559\ttotal: 708ms\tremaining: 295ms\n",
      "706:\tlearn: 25.5087600\ttotal: 709ms\tremaining: 294ms\n",
      "707:\tlearn: 25.3506858\ttotal: 710ms\tremaining: 293ms\n",
      "708:\tlearn: 25.3314352\ttotal: 711ms\tremaining: 292ms\n",
      "709:\tlearn: 25.3263712\ttotal: 711ms\tremaining: 290ms\n",
      "710:\tlearn: 25.2377772\ttotal: 712ms\tremaining: 289ms\n",
      "711:\tlearn: 25.1296003\ttotal: 713ms\tremaining: 288ms\n",
      "712:\tlearn: 25.1138661\ttotal: 713ms\tremaining: 287ms\n",
      "713:\tlearn: 25.0606164\ttotal: 714ms\tremaining: 286ms\n",
      "714:\tlearn: 24.9701122\ttotal: 715ms\tremaining: 285ms\n",
      "715:\tlearn: 24.9266980\ttotal: 716ms\tremaining: 284ms\n",
      "716:\tlearn: 24.8355245\ttotal: 717ms\tremaining: 283ms\n",
      "717:\tlearn: 24.7892595\ttotal: 717ms\tremaining: 282ms\n",
      "718:\tlearn: 24.7784156\ttotal: 718ms\tremaining: 281ms\n",
      "719:\tlearn: 24.7204068\ttotal: 719ms\tremaining: 280ms\n",
      "720:\tlearn: 24.6868946\ttotal: 720ms\tremaining: 278ms\n",
      "721:\tlearn: 24.5835248\ttotal: 720ms\tremaining: 277ms\n",
      "722:\tlearn: 24.4605667\ttotal: 721ms\tremaining: 276ms\n",
      "723:\tlearn: 24.3780491\ttotal: 722ms\tremaining: 275ms\n",
      "724:\tlearn: 24.3695387\ttotal: 723ms\tremaining: 274ms\n",
      "725:\tlearn: 24.2713928\ttotal: 724ms\tremaining: 273ms\n",
      "726:\tlearn: 24.2564573\ttotal: 724ms\tremaining: 272ms\n",
      "727:\tlearn: 24.1259045\ttotal: 725ms\tremaining: 271ms\n",
      "728:\tlearn: 24.0410925\ttotal: 726ms\tremaining: 270ms\n",
      "729:\tlearn: 23.9454740\ttotal: 727ms\tremaining: 269ms\n",
      "730:\tlearn: 23.9293944\ttotal: 728ms\tremaining: 268ms\n",
      "731:\tlearn: 23.8408373\ttotal: 729ms\tremaining: 267ms\n",
      "732:\tlearn: 23.7301307\ttotal: 729ms\tremaining: 266ms\n",
      "733:\tlearn: 23.6751178\ttotal: 730ms\tremaining: 265ms\n",
      "734:\tlearn: 23.5518474\ttotal: 731ms\tremaining: 264ms\n",
      "735:\tlearn: 23.5054838\ttotal: 732ms\tremaining: 263ms\n",
      "736:\tlearn: 23.4781040\ttotal: 733ms\tremaining: 262ms\n",
      "737:\tlearn: 23.3774725\ttotal: 734ms\tremaining: 260ms\n",
      "738:\tlearn: 23.3081022\ttotal: 735ms\tremaining: 259ms\n",
      "739:\tlearn: 23.2915892\ttotal: 735ms\tremaining: 258ms\n",
      "740:\tlearn: 23.2095735\ttotal: 736ms\tremaining: 257ms\n",
      "741:\tlearn: 23.1588315\ttotal: 737ms\tremaining: 256ms\n",
      "742:\tlearn: 23.1197993\ttotal: 738ms\tremaining: 255ms\n",
      "743:\tlearn: 23.0327780\ttotal: 739ms\tremaining: 254ms\n",
      "744:\tlearn: 22.9759480\ttotal: 739ms\tremaining: 253ms\n",
      "745:\tlearn: 22.8751423\ttotal: 740ms\tremaining: 252ms\n",
      "746:\tlearn: 22.7768127\ttotal: 741ms\tremaining: 251ms\n",
      "747:\tlearn: 22.6474970\ttotal: 742ms\tremaining: 250ms\n",
      "748:\tlearn: 22.5780525\ttotal: 743ms\tremaining: 249ms\n",
      "749:\tlearn: 22.5338308\ttotal: 744ms\tremaining: 248ms\n",
      "750:\tlearn: 22.4330276\ttotal: 745ms\tremaining: 247ms\n",
      "751:\tlearn: 22.4193891\ttotal: 745ms\tremaining: 246ms\n",
      "752:\tlearn: 22.4093040\ttotal: 746ms\tremaining: 245ms\n",
      "753:\tlearn: 22.3758979\ttotal: 747ms\tremaining: 244ms\n",
      "754:\tlearn: 22.3560173\ttotal: 748ms\tremaining: 243ms\n",
      "755:\tlearn: 22.3264261\ttotal: 749ms\tremaining: 242ms\n",
      "756:\tlearn: 22.2796605\ttotal: 749ms\tremaining: 241ms\n",
      "757:\tlearn: 22.2253439\ttotal: 750ms\tremaining: 239ms\n",
      "758:\tlearn: 22.1636409\ttotal: 751ms\tremaining: 238ms\n",
      "759:\tlearn: 22.1078491\ttotal: 752ms\tremaining: 237ms\n",
      "760:\tlearn: 22.0275756\ttotal: 753ms\tremaining: 236ms\n",
      "761:\tlearn: 22.0174143\ttotal: 754ms\tremaining: 235ms\n",
      "762:\tlearn: 21.9887391\ttotal: 754ms\tremaining: 234ms\n",
      "763:\tlearn: 21.9746733\ttotal: 755ms\tremaining: 233ms\n",
      "764:\tlearn: 21.9529216\ttotal: 756ms\tremaining: 232ms\n",
      "765:\tlearn: 21.8767644\ttotal: 757ms\tremaining: 231ms\n",
      "766:\tlearn: 21.8668039\ttotal: 758ms\tremaining: 230ms\n",
      "767:\tlearn: 21.8008688\ttotal: 758ms\tremaining: 229ms\n",
      "768:\tlearn: 21.7612208\ttotal: 759ms\tremaining: 228ms\n",
      "769:\tlearn: 21.6977978\ttotal: 760ms\tremaining: 227ms\n",
      "770:\tlearn: 21.6870461\ttotal: 761ms\tremaining: 226ms\n",
      "771:\tlearn: 21.6599780\ttotal: 762ms\tremaining: 225ms\n",
      "772:\tlearn: 21.5522064\ttotal: 763ms\tremaining: 224ms\n",
      "773:\tlearn: 21.5426327\ttotal: 763ms\tremaining: 223ms\n",
      "774:\tlearn: 21.4391089\ttotal: 764ms\tremaining: 222ms\n",
      "775:\tlearn: 21.4042993\ttotal: 765ms\tremaining: 221ms\n",
      "776:\tlearn: 21.3284836\ttotal: 766ms\tremaining: 220ms\n",
      "777:\tlearn: 21.3163774\ttotal: 767ms\tremaining: 219ms\n",
      "778:\tlearn: 21.2708416\ttotal: 767ms\tremaining: 218ms\n",
      "779:\tlearn: 21.2056943\ttotal: 768ms\tremaining: 217ms\n",
      "780:\tlearn: 21.1434774\ttotal: 769ms\tremaining: 216ms\n",
      "781:\tlearn: 21.0672473\ttotal: 770ms\tremaining: 215ms\n",
      "782:\tlearn: 20.9629645\ttotal: 771ms\tremaining: 214ms\n",
      "783:\tlearn: 20.9522537\ttotal: 772ms\tremaining: 213ms\n",
      "784:\tlearn: 20.9252425\ttotal: 772ms\tremaining: 212ms\n",
      "785:\tlearn: 20.8576799\ttotal: 773ms\tremaining: 211ms\n",
      "786:\tlearn: 20.7922970\ttotal: 774ms\tremaining: 209ms\n",
      "787:\tlearn: 20.7802134\ttotal: 775ms\tremaining: 208ms\n",
      "788:\tlearn: 20.7125213\ttotal: 775ms\tremaining: 207ms\n",
      "789:\tlearn: 20.7000005\ttotal: 776ms\tremaining: 206ms\n",
      "790:\tlearn: 20.6366378\ttotal: 777ms\tremaining: 205ms\n",
      "791:\tlearn: 20.6170923\ttotal: 778ms\tremaining: 204ms\n",
      "792:\tlearn: 20.5485950\ttotal: 779ms\tremaining: 203ms\n",
      "793:\tlearn: 20.5212323\ttotal: 780ms\tremaining: 202ms\n",
      "794:\tlearn: 20.5004347\ttotal: 780ms\tremaining: 201ms\n",
      "795:\tlearn: 20.4884649\ttotal: 781ms\tremaining: 200ms\n",
      "796:\tlearn: 20.3727007\ttotal: 782ms\tremaining: 199ms\n",
      "797:\tlearn: 20.2776166\ttotal: 783ms\tremaining: 198ms\n",
      "798:\tlearn: 20.2690965\ttotal: 784ms\tremaining: 197ms\n",
      "799:\tlearn: 20.2166634\ttotal: 784ms\tremaining: 196ms\n",
      "800:\tlearn: 20.1160179\ttotal: 786ms\tremaining: 195ms\n",
      "801:\tlearn: 20.0642268\ttotal: 786ms\tremaining: 194ms\n",
      "802:\tlearn: 20.0323601\ttotal: 787ms\tremaining: 193ms\n",
      "803:\tlearn: 19.9485334\ttotal: 788ms\tremaining: 192ms\n",
      "804:\tlearn: 19.9071725\ttotal: 789ms\tremaining: 191ms\n",
      "805:\tlearn: 19.8943564\ttotal: 790ms\tremaining: 190ms\n",
      "806:\tlearn: 19.7804687\ttotal: 791ms\tremaining: 189ms\n",
      "807:\tlearn: 19.7343406\ttotal: 792ms\tremaining: 188ms\n",
      "808:\tlearn: 19.6963930\ttotal: 793ms\tremaining: 187ms\n",
      "809:\tlearn: 19.6705675\ttotal: 794ms\tremaining: 186ms\n",
      "810:\tlearn: 19.6382933\ttotal: 795ms\tremaining: 185ms\n",
      "811:\tlearn: 19.5889191\ttotal: 795ms\tremaining: 184ms\n",
      "812:\tlearn: 19.5638487\ttotal: 796ms\tremaining: 183ms\n",
      "813:\tlearn: 19.4926424\ttotal: 797ms\tremaining: 182ms\n",
      "814:\tlearn: 19.3961396\ttotal: 798ms\tremaining: 181ms\n",
      "815:\tlearn: 19.3880242\ttotal: 799ms\tremaining: 180ms\n",
      "816:\tlearn: 19.2808372\ttotal: 800ms\tremaining: 179ms\n",
      "817:\tlearn: 19.1712815\ttotal: 801ms\tremaining: 178ms\n",
      "818:\tlearn: 19.0909823\ttotal: 802ms\tremaining: 177ms\n",
      "819:\tlearn: 18.9993504\ttotal: 803ms\tremaining: 176ms\n",
      "820:\tlearn: 18.9773399\ttotal: 804ms\tremaining: 175ms\n",
      "821:\tlearn: 18.8989735\ttotal: 804ms\tremaining: 174ms\n",
      "822:\tlearn: 18.8275176\ttotal: 805ms\tremaining: 173ms\n",
      "823:\tlearn: 18.8092278\ttotal: 806ms\tremaining: 172ms\n",
      "824:\tlearn: 18.7938447\ttotal: 807ms\tremaining: 171ms\n",
      "825:\tlearn: 18.7871267\ttotal: 808ms\tremaining: 170ms\n",
      "826:\tlearn: 18.7299674\ttotal: 809ms\tremaining: 169ms\n",
      "827:\tlearn: 18.6808264\ttotal: 810ms\tremaining: 168ms\n",
      "828:\tlearn: 18.5984875\ttotal: 811ms\tremaining: 167ms\n",
      "829:\tlearn: 18.5170088\ttotal: 812ms\tremaining: 166ms\n",
      "830:\tlearn: 18.4707382\ttotal: 813ms\tremaining: 165ms\n",
      "831:\tlearn: 18.4368619\ttotal: 813ms\tremaining: 164ms\n",
      "832:\tlearn: 18.3683191\ttotal: 814ms\tremaining: 163ms\n",
      "833:\tlearn: 18.3295058\ttotal: 815ms\tremaining: 162ms\n",
      "834:\tlearn: 18.2587263\ttotal: 816ms\tremaining: 161ms\n",
      "835:\tlearn: 18.2103679\ttotal: 817ms\tremaining: 160ms\n",
      "836:\tlearn: 18.1781032\ttotal: 818ms\tremaining: 159ms\n",
      "837:\tlearn: 18.0746921\ttotal: 819ms\tremaining: 158ms\n",
      "838:\tlearn: 18.0131984\ttotal: 820ms\tremaining: 157ms\n",
      "839:\tlearn: 17.9510877\ttotal: 821ms\tremaining: 156ms\n",
      "840:\tlearn: 17.8893536\ttotal: 822ms\tremaining: 155ms\n",
      "841:\tlearn: 17.8813583\ttotal: 823ms\tremaining: 154ms\n",
      "842:\tlearn: 17.8129857\ttotal: 824ms\tremaining: 153ms\n",
      "843:\tlearn: 17.7981202\ttotal: 825ms\tremaining: 153ms\n",
      "844:\tlearn: 17.7414627\ttotal: 826ms\tremaining: 152ms\n",
      "845:\tlearn: 17.7255534\ttotal: 827ms\tremaining: 151ms\n",
      "846:\tlearn: 17.6965545\ttotal: 829ms\tremaining: 150ms\n",
      "847:\tlearn: 17.6499397\ttotal: 830ms\tremaining: 149ms\n",
      "848:\tlearn: 17.6133852\ttotal: 830ms\tremaining: 148ms\n",
      "849:\tlearn: 17.5621620\ttotal: 831ms\tremaining: 147ms\n",
      "850:\tlearn: 17.5064049\ttotal: 832ms\tremaining: 146ms\n",
      "851:\tlearn: 17.4643467\ttotal: 833ms\tremaining: 145ms\n",
      "852:\tlearn: 17.4569544\ttotal: 834ms\tremaining: 144ms\n",
      "853:\tlearn: 17.3731897\ttotal: 835ms\tremaining: 143ms\n",
      "854:\tlearn: 17.3313609\ttotal: 835ms\tremaining: 142ms\n",
      "855:\tlearn: 17.2781582\ttotal: 836ms\tremaining: 141ms\n",
      "856:\tlearn: 17.2283433\ttotal: 837ms\tremaining: 140ms\n",
      "857:\tlearn: 17.1944614\ttotal: 838ms\tremaining: 139ms\n",
      "858:\tlearn: 17.1573393\ttotal: 839ms\tremaining: 138ms\n",
      "859:\tlearn: 17.0975067\ttotal: 840ms\tremaining: 137ms\n",
      "860:\tlearn: 17.0462043\ttotal: 840ms\tremaining: 136ms\n",
      "861:\tlearn: 17.0118805\ttotal: 841ms\tremaining: 135ms\n",
      "862:\tlearn: 17.0045195\ttotal: 842ms\tremaining: 134ms\n",
      "863:\tlearn: 16.9528999\ttotal: 843ms\tremaining: 133ms\n",
      "864:\tlearn: 16.9270632\ttotal: 844ms\tremaining: 132ms\n",
      "865:\tlearn: 16.8915252\ttotal: 844ms\tremaining: 131ms\n",
      "866:\tlearn: 16.7946576\ttotal: 845ms\tremaining: 130ms\n",
      "867:\tlearn: 16.7737222\ttotal: 846ms\tremaining: 129ms\n",
      "868:\tlearn: 16.7192509\ttotal: 847ms\tremaining: 128ms\n",
      "869:\tlearn: 16.7138388\ttotal: 848ms\tremaining: 127ms\n",
      "870:\tlearn: 16.6877768\ttotal: 849ms\tremaining: 126ms\n",
      "871:\tlearn: 16.6265748\ttotal: 849ms\tremaining: 125ms\n",
      "872:\tlearn: 16.5641199\ttotal: 850ms\tremaining: 124ms\n",
      "873:\tlearn: 16.4935111\ttotal: 851ms\tremaining: 123ms\n",
      "874:\tlearn: 16.4250863\ttotal: 852ms\tremaining: 122ms\n",
      "875:\tlearn: 16.3566947\ttotal: 853ms\tremaining: 121ms\n",
      "876:\tlearn: 16.2731185\ttotal: 853ms\tremaining: 120ms\n",
      "877:\tlearn: 16.2207923\ttotal: 854ms\tremaining: 119ms\n",
      "878:\tlearn: 16.2073108\ttotal: 855ms\tremaining: 118ms\n",
      "879:\tlearn: 16.1336576\ttotal: 856ms\tremaining: 117ms\n",
      "880:\tlearn: 16.0994139\ttotal: 857ms\tremaining: 116ms\n",
      "881:\tlearn: 16.0720217\ttotal: 858ms\tremaining: 115ms\n",
      "882:\tlearn: 16.0192163\ttotal: 858ms\tremaining: 114ms\n",
      "883:\tlearn: 16.0021989\ttotal: 859ms\tremaining: 113ms\n",
      "884:\tlearn: 15.9003005\ttotal: 860ms\tremaining: 112ms\n",
      "885:\tlearn: 15.8685768\ttotal: 861ms\tremaining: 111ms\n",
      "886:\tlearn: 15.7757199\ttotal: 862ms\tremaining: 110ms\n",
      "887:\tlearn: 15.7280015\ttotal: 862ms\tremaining: 109ms\n",
      "888:\tlearn: 15.7037867\ttotal: 863ms\tremaining: 108ms\n",
      "889:\tlearn: 15.6876254\ttotal: 864ms\tremaining: 107ms\n",
      "890:\tlearn: 15.6002589\ttotal: 865ms\tremaining: 106ms\n",
      "891:\tlearn: 15.5663914\ttotal: 866ms\tremaining: 105ms\n",
      "892:\tlearn: 15.4827503\ttotal: 866ms\tremaining: 104ms\n",
      "893:\tlearn: 15.4422647\ttotal: 867ms\tremaining: 103ms\n",
      "894:\tlearn: 15.4230904\ttotal: 868ms\tremaining: 102ms\n",
      "895:\tlearn: 15.3907978\ttotal: 869ms\tremaining: 101ms\n",
      "896:\tlearn: 15.3022423\ttotal: 870ms\tremaining: 99.8ms\n",
      "897:\tlearn: 15.2770800\ttotal: 870ms\tremaining: 98.9ms\n",
      "898:\tlearn: 15.2708396\ttotal: 871ms\tremaining: 97.9ms\n",
      "899:\tlearn: 15.2217814\ttotal: 872ms\tremaining: 96.9ms\n",
      "900:\tlearn: 15.2150872\ttotal: 873ms\tremaining: 95.9ms\n",
      "901:\tlearn: 15.1938758\ttotal: 874ms\tremaining: 94.9ms\n",
      "902:\tlearn: 15.1087389\ttotal: 874ms\tremaining: 93.9ms\n",
      "903:\tlearn: 15.0270836\ttotal: 875ms\tremaining: 93ms\n",
      "904:\tlearn: 14.9579009\ttotal: 876ms\tremaining: 92ms\n",
      "905:\tlearn: 14.9321713\ttotal: 877ms\tremaining: 91ms\n",
      "906:\tlearn: 14.9254894\ttotal: 878ms\tremaining: 90ms\n",
      "907:\tlearn: 14.8662999\ttotal: 878ms\tremaining: 89ms\n",
      "908:\tlearn: 14.7969088\ttotal: 879ms\tremaining: 88ms\n",
      "909:\tlearn: 14.7187437\ttotal: 880ms\tremaining: 87.1ms\n",
      "910:\tlearn: 14.6594229\ttotal: 881ms\tremaining: 86.1ms\n",
      "911:\tlearn: 14.6109629\ttotal: 882ms\tremaining: 85.1ms\n",
      "912:\tlearn: 14.5833869\ttotal: 883ms\tremaining: 84.1ms\n",
      "913:\tlearn: 14.5677206\ttotal: 884ms\tremaining: 83.1ms\n",
      "914:\tlearn: 14.5260964\ttotal: 884ms\tremaining: 82.2ms\n",
      "915:\tlearn: 14.4838792\ttotal: 885ms\tremaining: 81.2ms\n",
      "916:\tlearn: 14.4614097\ttotal: 886ms\tremaining: 80.2ms\n",
      "917:\tlearn: 14.4432212\ttotal: 887ms\tremaining: 79.2ms\n",
      "918:\tlearn: 14.4363977\ttotal: 888ms\tremaining: 78.2ms\n",
      "919:\tlearn: 14.3740822\ttotal: 888ms\tremaining: 77.2ms\n",
      "920:\tlearn: 14.3363459\ttotal: 889ms\tremaining: 76.3ms\n",
      "921:\tlearn: 14.2862425\ttotal: 890ms\tremaining: 75.3ms\n",
      "922:\tlearn: 14.2195191\ttotal: 891ms\tremaining: 74.3ms\n",
      "923:\tlearn: 14.1752422\ttotal: 892ms\tremaining: 73.3ms\n",
      "924:\tlearn: 14.1582897\ttotal: 892ms\tremaining: 72.4ms\n",
      "925:\tlearn: 14.0892518\ttotal: 893ms\tremaining: 71.4ms\n",
      "926:\tlearn: 14.0163904\ttotal: 894ms\tremaining: 70.4ms\n",
      "927:\tlearn: 13.9674906\ttotal: 895ms\tremaining: 69.4ms\n",
      "928:\tlearn: 13.9421041\ttotal: 896ms\tremaining: 68.5ms\n",
      "929:\tlearn: 13.9264108\ttotal: 897ms\tremaining: 67.5ms\n",
      "930:\tlearn: 13.8953443\ttotal: 897ms\tremaining: 66.5ms\n",
      "931:\tlearn: 13.8514821\ttotal: 898ms\tremaining: 65.5ms\n",
      "932:\tlearn: 13.8317730\ttotal: 899ms\tremaining: 64.6ms\n",
      "933:\tlearn: 13.7980615\ttotal: 900ms\tremaining: 63.6ms\n",
      "934:\tlearn: 13.7252551\ttotal: 901ms\tremaining: 62.6ms\n",
      "935:\tlearn: 13.6867475\ttotal: 902ms\tremaining: 61.6ms\n",
      "936:\tlearn: 13.6663164\ttotal: 902ms\tremaining: 60.7ms\n",
      "937:\tlearn: 13.6108173\ttotal: 903ms\tremaining: 59.7ms\n",
      "938:\tlearn: 13.5827380\ttotal: 904ms\tremaining: 58.7ms\n",
      "939:\tlearn: 13.5211246\ttotal: 905ms\tremaining: 57.8ms\n",
      "940:\tlearn: 13.4752089\ttotal: 906ms\tremaining: 56.8ms\n",
      "941:\tlearn: 13.4283115\ttotal: 906ms\tremaining: 55.8ms\n",
      "942:\tlearn: 13.3912327\ttotal: 907ms\tremaining: 54.8ms\n",
      "943:\tlearn: 13.3593766\ttotal: 908ms\tremaining: 53.9ms\n",
      "944:\tlearn: 13.3015250\ttotal: 909ms\tremaining: 52.9ms\n",
      "945:\tlearn: 13.2587480\ttotal: 910ms\tremaining: 51.9ms\n",
      "946:\tlearn: 13.1949436\ttotal: 911ms\tremaining: 51ms\n",
      "947:\tlearn: 13.1552441\ttotal: 911ms\tremaining: 50ms\n",
      "948:\tlearn: 13.0700947\ttotal: 912ms\tremaining: 49ms\n",
      "949:\tlearn: 13.0460884\ttotal: 913ms\tremaining: 48.1ms\n",
      "950:\tlearn: 13.0315972\ttotal: 914ms\tremaining: 47.1ms\n",
      "951:\tlearn: 12.9964111\ttotal: 915ms\tremaining: 46.1ms\n",
      "952:\tlearn: 12.9757139\ttotal: 916ms\tremaining: 45.2ms\n",
      "953:\tlearn: 12.9120533\ttotal: 916ms\tremaining: 44.2ms\n",
      "954:\tlearn: 12.8776679\ttotal: 917ms\tremaining: 43.2ms\n",
      "955:\tlearn: 12.8703243\ttotal: 918ms\tremaining: 42.3ms\n",
      "956:\tlearn: 12.8058615\ttotal: 919ms\tremaining: 41.3ms\n",
      "957:\tlearn: 12.7637381\ttotal: 920ms\tremaining: 40.3ms\n",
      "958:\tlearn: 12.7517063\ttotal: 921ms\tremaining: 39.4ms\n",
      "959:\tlearn: 12.7382108\ttotal: 921ms\tremaining: 38.4ms\n",
      "960:\tlearn: 12.6881713\ttotal: 922ms\tremaining: 37.4ms\n",
      "961:\tlearn: 12.6728317\ttotal: 923ms\tremaining: 36.5ms\n",
      "962:\tlearn: 12.6386609\ttotal: 924ms\tremaining: 35.5ms\n",
      "963:\tlearn: 12.5837642\ttotal: 924ms\tremaining: 34.5ms\n",
      "964:\tlearn: 12.5689789\ttotal: 925ms\tremaining: 33.6ms\n",
      "965:\tlearn: 12.5362136\ttotal: 926ms\tremaining: 32.6ms\n",
      "966:\tlearn: 12.5186020\ttotal: 927ms\tremaining: 31.6ms\n",
      "967:\tlearn: 12.4787889\ttotal: 928ms\tremaining: 30.7ms\n",
      "968:\tlearn: 12.4463866\ttotal: 928ms\tremaining: 29.7ms\n",
      "969:\tlearn: 12.3919484\ttotal: 929ms\tremaining: 28.7ms\n",
      "970:\tlearn: 12.3583173\ttotal: 930ms\tremaining: 27.8ms\n",
      "971:\tlearn: 12.3430204\ttotal: 931ms\tremaining: 26.8ms\n",
      "972:\tlearn: 12.3036135\ttotal: 932ms\tremaining: 25.9ms\n",
      "973:\tlearn: 12.2785886\ttotal: 933ms\tremaining: 24.9ms\n",
      "974:\tlearn: 12.2424148\ttotal: 934ms\tremaining: 23.9ms\n",
      "975:\tlearn: 12.2287225\ttotal: 935ms\tremaining: 23ms\n",
      "976:\tlearn: 12.1894056\ttotal: 936ms\tremaining: 22ms\n",
      "977:\tlearn: 12.1399699\ttotal: 937ms\tremaining: 21.1ms\n",
      "978:\tlearn: 12.1165698\ttotal: 938ms\tremaining: 20.1ms\n",
      "979:\tlearn: 12.1084930\ttotal: 939ms\tremaining: 19.2ms\n",
      "980:\tlearn: 12.1041455\ttotal: 940ms\tremaining: 18.2ms\n",
      "981:\tlearn: 12.0749440\ttotal: 940ms\tremaining: 17.2ms\n",
      "982:\tlearn: 12.0676323\ttotal: 941ms\tremaining: 16.3ms\n",
      "983:\tlearn: 12.0253491\ttotal: 942ms\tremaining: 15.3ms\n",
      "984:\tlearn: 11.9725269\ttotal: 943ms\tremaining: 14.4ms\n",
      "985:\tlearn: 11.9344239\ttotal: 944ms\tremaining: 13.4ms\n",
      "986:\tlearn: 11.8870660\ttotal: 944ms\tremaining: 12.4ms\n",
      "987:\tlearn: 11.8411099\ttotal: 945ms\tremaining: 11.5ms\n",
      "988:\tlearn: 11.7973602\ttotal: 946ms\tremaining: 10.5ms\n",
      "989:\tlearn: 11.7514376\ttotal: 947ms\tremaining: 9.56ms\n",
      "990:\tlearn: 11.7232746\ttotal: 948ms\tremaining: 8.61ms\n",
      "991:\tlearn: 11.6852796\ttotal: 949ms\tremaining: 7.65ms\n",
      "992:\tlearn: 11.6463794\ttotal: 949ms\tremaining: 6.69ms\n",
      "993:\tlearn: 11.6106308\ttotal: 950ms\tremaining: 5.74ms\n",
      "994:\tlearn: 11.5731961\ttotal: 951ms\tremaining: 4.78ms\n",
      "995:\tlearn: 11.5417359\ttotal: 952ms\tremaining: 3.82ms\n",
      "996:\tlearn: 11.5167117\ttotal: 953ms\tremaining: 2.87ms\n",
      "997:\tlearn: 11.4745232\ttotal: 954ms\tremaining: 1.91ms\n",
      "998:\tlearn: 11.4604481\ttotal: 954ms\tremaining: 955us\n",
      "999:\tlearn: 11.4510502\ttotal: 955ms\tremaining: 0us\n"
     ]
    }
   ],
   "source": [
    "catb = CatBoostRegressor()\n",
    "catb_model = catb.fit(X_train, y_train)"
   ]
  },
  {
   "cell_type": "markdown",
   "id": "cf70c5b7-4532-4582-98b4-3262a4f7a606",
   "metadata": {},
   "source": [
    "# Tahmin"
   ]
  },
  {
   "cell_type": "code",
   "execution_count": 63,
   "id": "5ce29003-689d-47e7-8bb4-58e3dd072738",
   "metadata": {},
   "outputs": [
    {
     "data": {
      "text/plain": [
       "351.194631344607"
      ]
     },
     "execution_count": 63,
     "metadata": {},
     "output_type": "execute_result"
    }
   ],
   "source": [
    "y_pred = catb_model.predict(X_test)\n",
    "np.sqrt(mean_squared_error(y_test, y_pred))"
   ]
  },
  {
   "cell_type": "markdown",
   "id": "55cce1aa-7690-4261-af4a-2f537bd44d48",
   "metadata": {},
   "source": [
    "# Model Tuning"
   ]
  },
  {
   "cell_type": "code",
   "execution_count": 64,
   "id": "d38fb180-0915-4b0a-8204-2ca5b0e3d2b5",
   "metadata": {},
   "outputs": [],
   "source": [
    "catb_grid = {\n",
    "    'iterations': [200,500,1000,2000],\n",
    "    'learning_rate': [0.01, 0.03, 0.05, 0.1],\n",
    "    'depth': [3,4,5,6,7,8] }"
   ]
  },
  {
   "cell_type": "code",
   "execution_count": 65,
   "id": "30e4f951-255c-437f-891e-ab08f26f4716",
   "metadata": {
    "tags": []
   },
   "outputs": [],
   "source": [
    "catb = CatBoostRegressor()\n",
    "catb_cv_model = GridSearchCV(catb, catb_grid, cv=5, n_jobs = -1, verbose = 2)"
   ]
  },
  {
   "cell_type": "code",
   "execution_count": 1,
   "id": "775d4d81-3894-4186-af72-087dfaccfbd3",
   "metadata": {},
   "outputs": [],
   "source": [
    "#catb_cv_model.fit(X_train, y_train)"
   ]
  },
  {
   "cell_type": "code",
   "execution_count": 3,
   "id": "a02bfb85-50a9-49e1-baea-9258ea2503c3",
   "metadata": {},
   "outputs": [],
   "source": [
    "#catb_cv_model.best_params_"
   ]
  },
  {
   "cell_type": "code",
   "execution_count": 4,
   "id": "4fb44e85-2a03-402c-ad8a-234ddf6bb586",
   "metadata": {},
   "outputs": [],
   "source": [
    "#catb_tuned = CatBoostRegressor(iterations = 200, \n",
    "                               #learning_rate = 0.01, \n",
    "                               #depth = 8)\n",
    "\n",
    "#catb_tuned = catb_tuned.fit(X_train,y_train)"
   ]
  },
  {
   "cell_type": "code",
   "execution_count": 5,
   "id": "a37ba720-0b23-47cf-9911-d06b48329d3b",
   "metadata": {},
   "outputs": [],
   "source": [
    "#y_pred = catb_tuned.predict(X_test)\n",
    "#np.sqrt(mean_squared_error(y_test, y_pred))"
   ]
  },
  {
   "cell_type": "code",
   "execution_count": null,
   "id": "14a65208-6773-4a13-bfef-5a06032d1019",
   "metadata": {},
   "outputs": [],
   "source": []
  }
 ],
 "metadata": {
  "kernelspec": {
   "display_name": "Python 3 (ipykernel)",
   "language": "python",
   "name": "python3"
  },
  "language_info": {
   "codemirror_mode": {
    "name": "ipython",
    "version": 3
   },
   "file_extension": ".py",
   "mimetype": "text/x-python",
   "name": "python",
   "nbconvert_exporter": "python",
   "pygments_lexer": "ipython3",
   "version": "3.9.13"
  }
 },
 "nbformat": 4,
 "nbformat_minor": 5
}
