{
 "cells": [
  {
   "cell_type": "markdown",
   "id": "96da594c-f6f3-45d1-9cc8-9e995e9beb71",
   "metadata": {},
   "source": [
    "# SINIFLANDIRMA MODELLERİ"
   ]
  },
  {
   "cell_type": "code",
   "execution_count": 1,
   "id": "3bf8963b-4112-4e9b-8181-954291bb9186",
   "metadata": {},
   "outputs": [],
   "source": [
    "import numpy as np\n",
    "import pandas as pd \n",
    "import statsmodels.api as sm\n",
    "import statsmodels.formula.api as smf\n",
    "import seaborn as sns\n",
    "from sklearn.preprocessing import scale \n",
    "from sklearn.model_selection import train_test_split, GridSearchCV, cross_val_score\n",
    "from sklearn.metrics import confusion_matrix, accuracy_score, classification_report\n",
    "from sklearn.metrics import roc_auc_score,roc_curve\n",
    "import statsmodels.formula.api as smf\n",
    "import matplotlib.pyplot as plt\n",
    "from sklearn.neighbors import KNeighborsClassifier\n",
    "from sklearn.discriminant_analysis import LinearDiscriminantAnalysis\n",
    "from sklearn.linear_model import LogisticRegression\n",
    "from sklearn.svm import SVC\n",
    "from sklearn.naive_bayes import GaussianNB\n",
    "from sklearn import tree\n",
    "from sklearn.ensemble import RandomForestClassifier\n",
    "from sklearn.ensemble import GradientBoostingClassifier\n",
    "from xgboost import XGBClassifier\n",
    "from lightgbm import LGBMClassifier\n",
    "from catboost import CatBoostClassifier\n",
    "\n",
    "from warnings import filterwarnings\n",
    "filterwarnings('ignore')"
   ]
  },
  {
   "cell_type": "markdown",
   "id": "27c0a0e1-6d7d-45a9-b106-5e1ee3923824",
   "metadata": {},
   "source": [
    "# LOJİSTİK REGRESYON"
   ]
  },
  {
   "cell_type": "markdown",
   "id": "6ae19fcd-1b91-4741-8d24-403954ef8fbf",
   "metadata": {},
   "source": [
    "Amaç sınıflandırma problemi için bağımlı ve bağımsız değişkenler arasındaki ilişkiyi tanımlayan doğrusal bir model kurmaktır."
   ]
  },
  {
   "cell_type": "markdown",
   "id": "8bf4a632-a52d-4ced-b1b9-e9d36d9b0956",
   "metadata": {},
   "source": [
    "# Model - Tahmin"
   ]
  },
  {
   "cell_type": "code",
   "execution_count": 2,
   "id": "cb835c02-17b4-48aa-a1fd-60d6ff166794",
   "metadata": {},
   "outputs": [
    {
     "data": {
      "text/html": [
       "<div>\n",
       "<style scoped>\n",
       "    .dataframe tbody tr th:only-of-type {\n",
       "        vertical-align: middle;\n",
       "    }\n",
       "\n",
       "    .dataframe tbody tr th {\n",
       "        vertical-align: top;\n",
       "    }\n",
       "\n",
       "    .dataframe thead th {\n",
       "        text-align: right;\n",
       "    }\n",
       "</style>\n",
       "<table border=\"1\" class=\"dataframe\">\n",
       "  <thead>\n",
       "    <tr style=\"text-align: right;\">\n",
       "      <th></th>\n",
       "      <th>Pregnancies</th>\n",
       "      <th>Glucose</th>\n",
       "      <th>BloodPressure</th>\n",
       "      <th>SkinThickness</th>\n",
       "      <th>Insulin</th>\n",
       "      <th>BMI</th>\n",
       "      <th>DiabetesPedigreeFunction</th>\n",
       "      <th>Age</th>\n",
       "      <th>Outcome</th>\n",
       "    </tr>\n",
       "  </thead>\n",
       "  <tbody>\n",
       "    <tr>\n",
       "      <th>0</th>\n",
       "      <td>6</td>\n",
       "      <td>148</td>\n",
       "      <td>72</td>\n",
       "      <td>35</td>\n",
       "      <td>0</td>\n",
       "      <td>33.6</td>\n",
       "      <td>0.627</td>\n",
       "      <td>50</td>\n",
       "      <td>1</td>\n",
       "    </tr>\n",
       "    <tr>\n",
       "      <th>1</th>\n",
       "      <td>1</td>\n",
       "      <td>85</td>\n",
       "      <td>66</td>\n",
       "      <td>29</td>\n",
       "      <td>0</td>\n",
       "      <td>26.6</td>\n",
       "      <td>0.351</td>\n",
       "      <td>31</td>\n",
       "      <td>0</td>\n",
       "    </tr>\n",
       "    <tr>\n",
       "      <th>2</th>\n",
       "      <td>8</td>\n",
       "      <td>183</td>\n",
       "      <td>64</td>\n",
       "      <td>0</td>\n",
       "      <td>0</td>\n",
       "      <td>23.3</td>\n",
       "      <td>0.672</td>\n",
       "      <td>32</td>\n",
       "      <td>1</td>\n",
       "    </tr>\n",
       "    <tr>\n",
       "      <th>3</th>\n",
       "      <td>1</td>\n",
       "      <td>89</td>\n",
       "      <td>66</td>\n",
       "      <td>23</td>\n",
       "      <td>94</td>\n",
       "      <td>28.1</td>\n",
       "      <td>0.167</td>\n",
       "      <td>21</td>\n",
       "      <td>0</td>\n",
       "    </tr>\n",
       "    <tr>\n",
       "      <th>4</th>\n",
       "      <td>0</td>\n",
       "      <td>137</td>\n",
       "      <td>40</td>\n",
       "      <td>35</td>\n",
       "      <td>168</td>\n",
       "      <td>43.1</td>\n",
       "      <td>2.288</td>\n",
       "      <td>33</td>\n",
       "      <td>1</td>\n",
       "    </tr>\n",
       "  </tbody>\n",
       "</table>\n",
       "</div>"
      ],
      "text/plain": [
       "   Pregnancies  Glucose  BloodPressure  SkinThickness  Insulin   BMI  \\\n",
       "0            6      148             72             35        0  33.6   \n",
       "1            1       85             66             29        0  26.6   \n",
       "2            8      183             64              0        0  23.3   \n",
       "3            1       89             66             23       94  28.1   \n",
       "4            0      137             40             35      168  43.1   \n",
       "\n",
       "   DiabetesPedigreeFunction  Age  Outcome  \n",
       "0                     0.627   50        1  \n",
       "1                     0.351   31        0  \n",
       "2                     0.672   32        1  \n",
       "3                     0.167   21        0  \n",
       "4                     2.288   33        1  "
      ]
     },
     "execution_count": 2,
     "metadata": {},
     "output_type": "execute_result"
    }
   ],
   "source": [
    "diabetes = pd.read_csv(\"diabetes.csv\")\n",
    "df = diabetes.copy()\n",
    "df = df.dropna()\n",
    "df.head()"
   ]
  },
  {
   "cell_type": "code",
   "execution_count": 3,
   "id": "62637be5-043e-422f-9153-d5c68edc189b",
   "metadata": {},
   "outputs": [
    {
     "name": "stdout",
     "output_type": "stream",
     "text": [
      "<class 'pandas.core.frame.DataFrame'>\n",
      "RangeIndex: 768 entries, 0 to 767\n",
      "Data columns (total 9 columns):\n",
      " #   Column                    Non-Null Count  Dtype  \n",
      "---  ------                    --------------  -----  \n",
      " 0   Pregnancies               768 non-null    int64  \n",
      " 1   Glucose                   768 non-null    int64  \n",
      " 2   BloodPressure             768 non-null    int64  \n",
      " 3   SkinThickness             768 non-null    int64  \n",
      " 4   Insulin                   768 non-null    int64  \n",
      " 5   BMI                       768 non-null    float64\n",
      " 6   DiabetesPedigreeFunction  768 non-null    float64\n",
      " 7   Age                       768 non-null    int64  \n",
      " 8   Outcome                   768 non-null    int64  \n",
      "dtypes: float64(2), int64(7)\n",
      "memory usage: 54.1 KB\n"
     ]
    }
   ],
   "source": [
    "df.info()"
   ]
  },
  {
   "cell_type": "code",
   "execution_count": 4,
   "id": "03849668-0428-45b7-ad58-bc93058c6772",
   "metadata": {},
   "outputs": [
    {
     "data": {
      "text/plain": [
       "0    500\n",
       "1    268\n",
       "Name: Outcome, dtype: int64"
      ]
     },
     "execution_count": 4,
     "metadata": {},
     "output_type": "execute_result"
    }
   ],
   "source": [
    "df[\"Outcome\"].value_counts()"
   ]
  },
  {
   "cell_type": "code",
   "execution_count": 5,
   "id": "e3524657-4957-4551-ba78-de42f52adb0f",
   "metadata": {},
   "outputs": [
    {
     "data": {
      "text/plain": [
       "<AxesSubplot:>"
      ]
     },
     "execution_count": 5,
     "metadata": {},
     "output_type": "execute_result"
    },
    {
     "data": {
      "image/png": "[encoded data removed]",
      "text/plain": [
       "<Figure size 640x480 with 1 Axes>"
      ]
     },
     "metadata": {},
     "output_type": "display_data"
    }
   ],
   "source": [
    "df[\"Outcome\"].value_counts().plot.barh()"
   ]
  },
  {
   "cell_type": "code",
   "execution_count": 6,
   "id": "c80904ac-42b4-4b1e-b49d-6413f7997c8c",
   "metadata": {},
   "outputs": [
    {
     "data": {
      "text/html": [
       "<div>\n",
       "<style scoped>\n",
       "    .dataframe tbody tr th:only-of-type {\n",
       "        vertical-align: middle;\n",
       "    }\n",
       "\n",
       "    .dataframe tbody tr th {\n",
       "        vertical-align: top;\n",
       "    }\n",
       "\n",
       "    .dataframe thead th {\n",
       "        text-align: right;\n",
       "    }\n",
       "</style>\n",
       "<table border=\"1\" class=\"dataframe\">\n",
       "  <thead>\n",
       "    <tr style=\"text-align: right;\">\n",
       "      <th></th>\n",
       "      <th>count</th>\n",
       "      <th>mean</th>\n",
       "      <th>std</th>\n",
       "      <th>min</th>\n",
       "      <th>25%</th>\n",
       "      <th>50%</th>\n",
       "      <th>75%</th>\n",
       "      <th>max</th>\n",
       "    </tr>\n",
       "  </thead>\n",
       "  <tbody>\n",
       "    <tr>\n",
       "      <th>Pregnancies</th>\n",
       "      <td>768.0</td>\n",
       "      <td>3.845052</td>\n",
       "      <td>3.369578</td>\n",
       "      <td>0.000</td>\n",
       "      <td>1.00000</td>\n",
       "      <td>3.0000</td>\n",
       "      <td>6.00000</td>\n",
       "      <td>17.00</td>\n",
       "    </tr>\n",
       "    <tr>\n",
       "      <th>Glucose</th>\n",
       "      <td>768.0</td>\n",
       "      <td>120.894531</td>\n",
       "      <td>31.972618</td>\n",
       "      <td>0.000</td>\n",
       "      <td>99.00000</td>\n",
       "      <td>117.0000</td>\n",
       "      <td>140.25000</td>\n",
       "      <td>199.00</td>\n",
       "    </tr>\n",
       "    <tr>\n",
       "      <th>BloodPressure</th>\n",
       "      <td>768.0</td>\n",
       "      <td>69.105469</td>\n",
       "      <td>19.355807</td>\n",
       "      <td>0.000</td>\n",
       "      <td>62.00000</td>\n",
       "      <td>72.0000</td>\n",
       "      <td>80.00000</td>\n",
       "      <td>122.00</td>\n",
       "    </tr>\n",
       "    <tr>\n",
       "      <th>SkinThickness</th>\n",
       "      <td>768.0</td>\n",
       "      <td>20.536458</td>\n",
       "      <td>15.952218</td>\n",
       "      <td>0.000</td>\n",
       "      <td>0.00000</td>\n",
       "      <td>23.0000</td>\n",
       "      <td>32.00000</td>\n",
       "      <td>99.00</td>\n",
       "    </tr>\n",
       "    <tr>\n",
       "      <th>Insulin</th>\n",
       "      <td>768.0</td>\n",
       "      <td>79.799479</td>\n",
       "      <td>115.244002</td>\n",
       "      <td>0.000</td>\n",
       "      <td>0.00000</td>\n",
       "      <td>30.5000</td>\n",
       "      <td>127.25000</td>\n",
       "      <td>846.00</td>\n",
       "    </tr>\n",
       "    <tr>\n",
       "      <th>BMI</th>\n",
       "      <td>768.0</td>\n",
       "      <td>31.992578</td>\n",
       "      <td>7.884160</td>\n",
       "      <td>0.000</td>\n",
       "      <td>27.30000</td>\n",
       "      <td>32.0000</td>\n",
       "      <td>36.60000</td>\n",
       "      <td>67.10</td>\n",
       "    </tr>\n",
       "    <tr>\n",
       "      <th>DiabetesPedigreeFunction</th>\n",
       "      <td>768.0</td>\n",
       "      <td>0.471876</td>\n",
       "      <td>0.331329</td>\n",
       "      <td>0.078</td>\n",
       "      <td>0.24375</td>\n",
       "      <td>0.3725</td>\n",
       "      <td>0.62625</td>\n",
       "      <td>2.42</td>\n",
       "    </tr>\n",
       "    <tr>\n",
       "      <th>Age</th>\n",
       "      <td>768.0</td>\n",
       "      <td>33.240885</td>\n",
       "      <td>11.760232</td>\n",
       "      <td>21.000</td>\n",
       "      <td>24.00000</td>\n",
       "      <td>29.0000</td>\n",
       "      <td>41.00000</td>\n",
       "      <td>81.00</td>\n",
       "    </tr>\n",
       "    <tr>\n",
       "      <th>Outcome</th>\n",
       "      <td>768.0</td>\n",
       "      <td>0.348958</td>\n",
       "      <td>0.476951</td>\n",
       "      <td>0.000</td>\n",
       "      <td>0.00000</td>\n",
       "      <td>0.0000</td>\n",
       "      <td>1.00000</td>\n",
       "      <td>1.00</td>\n",
       "    </tr>\n",
       "  </tbody>\n",
       "</table>\n",
       "</div>"
      ],
      "text/plain": [
       "                          count        mean         std     min       25%  \\\n",
       "Pregnancies               768.0    3.845052    3.369578   0.000   1.00000   \n",
       "Glucose                   768.0  120.894531   31.972618   0.000  99.00000   \n",
       "BloodPressure             768.0   69.105469   19.355807   0.000  62.00000   \n",
       "SkinThickness             768.0   20.536458   15.952218   0.000   0.00000   \n",
       "Insulin                   768.0   79.799479  115.244002   0.000   0.00000   \n",
       "BMI                       768.0   31.992578    7.884160   0.000  27.30000   \n",
       "DiabetesPedigreeFunction  768.0    0.471876    0.331329   0.078   0.24375   \n",
       "Age                       768.0   33.240885   11.760232  21.000  24.00000   \n",
       "Outcome                   768.0    0.348958    0.476951   0.000   0.00000   \n",
       "\n",
       "                               50%        75%     max  \n",
       "Pregnancies                 3.0000    6.00000   17.00  \n",
       "Glucose                   117.0000  140.25000  199.00  \n",
       "BloodPressure              72.0000   80.00000  122.00  \n",
       "SkinThickness              23.0000   32.00000   99.00  \n",
       "Insulin                    30.5000  127.25000  846.00  \n",
       "BMI                        32.0000   36.60000   67.10  \n",
       "DiabetesPedigreeFunction    0.3725    0.62625    2.42  \n",
       "Age                        29.0000   41.00000   81.00  \n",
       "Outcome                     0.0000    1.00000    1.00  "
      ]
     },
     "execution_count": 6,
     "metadata": {},
     "output_type": "execute_result"
    }
   ],
   "source": [
    "df.describe().T"
   ]
  },
  {
   "cell_type": "code",
   "execution_count": 8,
   "id": "15735b3f-db47-4d34-92c9-0f2edb358480",
   "metadata": {},
   "outputs": [],
   "source": [
    "y = df[\"Outcome\"]\n",
    "X = df.drop([\"Outcome\"], axis = 1)"
   ]
  },
  {
   "cell_type": "code",
   "execution_count": 9,
   "id": "59b25ca2-e721-44b3-94f1-b38ad81248c2",
   "metadata": {},
   "outputs": [
    {
     "name": "stdout",
     "output_type": "stream",
     "text": [
      "Optimization terminated successfully.\n",
      "         Current function value: 0.608498\n",
      "         Iterations 5\n"
     ]
    }
   ],
   "source": [
    "loj = sm.Logit(y, X)\n",
    "loj_model = loj.fit()"
   ]
  },
  {
   "cell_type": "code",
   "execution_count": 10,
   "id": "0c741e3d-7e45-4a7a-9d0e-06b11ea40689",
   "metadata": {},
   "outputs": [
    {
     "data": {
      "text/html": [
       "<table class=\"simpletable\">\n",
       "<caption>Logit Regression Results</caption>\n",
       "<tr>\n",
       "  <th>Dep. Variable:</th>        <td>Outcome</td>     <th>  No. Observations:  </th>  <td>   768</td>  \n",
       "</tr>\n",
       "<tr>\n",
       "  <th>Model:</th>                 <td>Logit</td>      <th>  Df Residuals:      </th>  <td>   760</td>  \n",
       "</tr>\n",
       "<tr>\n",
       "  <th>Method:</th>                 <td>MLE</td>       <th>  Df Model:          </th>  <td>     7</td>  \n",
       "</tr>\n",
       "<tr>\n",
       "  <th>Date:</th>            <td>Mon, 25 Sep 2023</td> <th>  Pseudo R-squ.:     </th>  <td>0.05922</td> \n",
       "</tr>\n",
       "<tr>\n",
       "  <th>Time:</th>                <td>13:08:43</td>     <th>  Log-Likelihood:    </th> <td> -467.33</td> \n",
       "</tr>\n",
       "<tr>\n",
       "  <th>converged:</th>             <td>True</td>       <th>  LL-Null:           </th> <td> -496.74</td> \n",
       "</tr>\n",
       "<tr>\n",
       "  <th>Covariance Type:</th>     <td>nonrobust</td>    <th>  LLR p-value:       </th> <td>2.583e-10</td>\n",
       "</tr>\n",
       "</table>\n",
       "<table class=\"simpletable\">\n",
       "<tr>\n",
       "              <td></td>                <th>coef</th>     <th>std err</th>      <th>z</th>      <th>P>|z|</th>  <th>[0.025</th>    <th>0.975]</th>  \n",
       "</tr>\n",
       "<tr>\n",
       "  <th>Pregnancies</th>              <td>    0.1284</td> <td>    0.029</td> <td>    4.484</td> <td> 0.000</td> <td>    0.072</td> <td>    0.185</td>\n",
       "</tr>\n",
       "<tr>\n",
       "  <th>Glucose</th>                  <td>    0.0129</td> <td>    0.003</td> <td>    4.757</td> <td> 0.000</td> <td>    0.008</td> <td>    0.018</td>\n",
       "</tr>\n",
       "<tr>\n",
       "  <th>BloodPressure</th>            <td>   -0.0303</td> <td>    0.005</td> <td>   -6.481</td> <td> 0.000</td> <td>   -0.039</td> <td>   -0.021</td>\n",
       "</tr>\n",
       "<tr>\n",
       "  <th>SkinThickness</th>            <td>    0.0002</td> <td>    0.006</td> <td>    0.032</td> <td> 0.974</td> <td>   -0.012</td> <td>    0.012</td>\n",
       "</tr>\n",
       "<tr>\n",
       "  <th>Insulin</th>                  <td>    0.0007</td> <td>    0.001</td> <td>    0.942</td> <td> 0.346</td> <td>   -0.001</td> <td>    0.002</td>\n",
       "</tr>\n",
       "<tr>\n",
       "  <th>BMI</th>                      <td>   -0.0048</td> <td>    0.011</td> <td>   -0.449</td> <td> 0.653</td> <td>   -0.026</td> <td>    0.016</td>\n",
       "</tr>\n",
       "<tr>\n",
       "  <th>DiabetesPedigreeFunction</th> <td>    0.3203</td> <td>    0.240</td> <td>    1.335</td> <td> 0.182</td> <td>   -0.150</td> <td>    0.790</td>\n",
       "</tr>\n",
       "<tr>\n",
       "  <th>Age</th>                      <td>   -0.0156</td> <td>    0.008</td> <td>   -1.852</td> <td> 0.064</td> <td>   -0.032</td> <td>    0.001</td>\n",
       "</tr>\n",
       "</table>"
      ],
      "text/plain": [
       "<class 'statsmodels.iolib.summary.Summary'>\n",
       "\"\"\"\n",
       "                           Logit Regression Results                           \n",
       "==============================================================================\n",
       "Dep. Variable:                Outcome   No. Observations:                  768\n",
       "Model:                          Logit   Df Residuals:                      760\n",
       "Method:                           MLE   Df Model:                            7\n",
       "Date:                Mon, 25 Sep 2023   Pseudo R-squ.:                 0.05922\n",
       "Time:                        13:08:43   Log-Likelihood:                -467.33\n",
       "converged:                       True   LL-Null:                       -496.74\n",
       "Covariance Type:            nonrobust   LLR p-value:                 2.583e-10\n",
       "============================================================================================\n",
       "                               coef    std err          z      P>|z|      [0.025      0.975]\n",
       "--------------------------------------------------------------------------------------------\n",
       "Pregnancies                  0.1284      0.029      4.484      0.000       0.072       0.185\n",
       "Glucose                      0.0129      0.003      4.757      0.000       0.008       0.018\n",
       "BloodPressure               -0.0303      0.005     -6.481      0.000      -0.039      -0.021\n",
       "SkinThickness                0.0002      0.006      0.032      0.974      -0.012       0.012\n",
       "Insulin                      0.0007      0.001      0.942      0.346      -0.001       0.002\n",
       "BMI                         -0.0048      0.011     -0.449      0.653      -0.026       0.016\n",
       "DiabetesPedigreeFunction     0.3203      0.240      1.335      0.182      -0.150       0.790\n",
       "Age                         -0.0156      0.008     -1.852      0.064      -0.032       0.001\n",
       "============================================================================================\n",
       "\"\"\""
      ]
     },
     "execution_count": 10,
     "metadata": {},
     "output_type": "execute_result"
    }
   ],
   "source": [
    "loj_model.summary()"
   ]
  },
  {
   "cell_type": "code",
   "execution_count": 11,
   "id": "c39e2c1b-8f6b-4209-919f-5607014ef413",
   "metadata": {},
   "outputs": [
    {
     "data": {
      "text/plain": [
       "LogisticRegression(solver='liblinear')"
      ]
     },
     "execution_count": 11,
     "metadata": {},
     "output_type": "execute_result"
    }
   ],
   "source": [
    "from sklearn.linear_model import LogisticRegression\n",
    "loj = LogisticRegression(solver = \"liblinear\")\n",
    "loj_model = loj.fit(X,y)\n",
    "loj_model"
   ]
  },
  {
   "cell_type": "code",
   "execution_count": 12,
   "id": "7d145f82-9e44-45f6-82f2-66d2f26b8429",
   "metadata": {},
   "outputs": [
    {
     "data": {
      "text/plain": [
       "array([-5.87567981])"
      ]
     },
     "execution_count": 12,
     "metadata": {},
     "output_type": "execute_result"
    }
   ],
   "source": [
    "loj_model.intercept_"
   ]
  },
  {
   "cell_type": "code",
   "execution_count": 13,
   "id": "2edbe9ef-daa8-4c67-bcbd-2b64e016fc05",
   "metadata": {},
   "outputs": [
    {
     "data": {
      "text/plain": [
       "array([[ 1.17026040e-01,  2.83447017e-02, -1.69142223e-02,\n",
       "         7.58028032e-04, -6.38933355e-04,  5.95883532e-02,\n",
       "         6.74657098e-01,  7.19078501e-03]])"
      ]
     },
     "execution_count": 13,
     "metadata": {},
     "output_type": "execute_result"
    }
   ],
   "source": [
    "loj_model.coef_"
   ]
  },
  {
   "cell_type": "markdown",
   "id": "88bb3848-15f3-4e4b-a682-af2ab60b39ca",
   "metadata": {},
   "source": [
    "# Model Tuning"
   ]
  },
  {
   "cell_type": "code",
   "execution_count": 14,
   "id": "d62370de-fff7-42c2-9be8-357985087c88",
   "metadata": {},
   "outputs": [],
   "source": [
    "y_pred = loj_model.predict(X)"
   ]
  },
  {
   "cell_type": "code",
   "execution_count": 15,
   "id": "866f6d8b-cce2-4d2f-b0f4-81bf07ca63cd",
   "metadata": {},
   "outputs": [
    {
     "data": {
      "text/plain": [
       "array([[448,  52],\n",
       "       [121, 147]], dtype=int64)"
      ]
     },
     "execution_count": 15,
     "metadata": {},
     "output_type": "execute_result"
    }
   ],
   "source": [
    "confusion_matrix(y, y_pred)"
   ]
  },
  {
   "cell_type": "code",
   "execution_count": 16,
   "id": "e73b550d-f8a3-4553-a0e2-a33599a40e5a",
   "metadata": {},
   "outputs": [
    {
     "data": {
      "text/plain": [
       "0.7747395833333334"
      ]
     },
     "execution_count": 16,
     "metadata": {},
     "output_type": "execute_result"
    }
   ],
   "source": [
    "accuracy_score(y, y_pred)"
   ]
  },
  {
   "cell_type": "code",
   "execution_count": 17,
   "id": "8101a4a9-3085-41fc-8324-a3cb7b7cdeba",
   "metadata": {},
   "outputs": [
    {
     "name": "stdout",
     "output_type": "stream",
     "text": [
      "              precision    recall  f1-score   support\n",
      "\n",
      "           0       0.79      0.90      0.84       500\n",
      "           1       0.74      0.55      0.63       268\n",
      "\n",
      "    accuracy                           0.77       768\n",
      "   macro avg       0.76      0.72      0.73       768\n",
      "weighted avg       0.77      0.77      0.77       768\n",
      "\n"
     ]
    }
   ],
   "source": [
    "print(classification_report(y, y_pred))"
   ]
  },
  {
   "cell_type": "code",
   "execution_count": 18,
   "id": "2b5b23a9-0efd-49bb-b9b7-564a67e99c86",
   "metadata": {},
   "outputs": [
    {
     "data": {
      "text/plain": [
       "array([1, 0, 1, 0, 1, 0, 0, 1, 1, 0], dtype=int64)"
      ]
     },
     "execution_count": 18,
     "metadata": {},
     "output_type": "execute_result"
    }
   ],
   "source": [
    "loj_model.predict(X)[0:10]"
   ]
  },
  {
   "cell_type": "code",
   "execution_count": 19,
   "id": "a3841116-7acc-43e5-b2d5-6330264bbee7",
   "metadata": {},
   "outputs": [
    {
     "data": {
      "text/plain": [
       "array([[0.35093834, 0.64906166],\n",
       "       [0.9167465 , 0.0832535 ],\n",
       "       [0.22496175, 0.77503825],\n",
       "       [0.92105964, 0.07894036],\n",
       "       [0.16807458, 0.83192542],\n",
       "       [0.79857716, 0.20142284],\n",
       "       [0.87973055, 0.12026945],\n",
       "       [0.27755404, 0.72244596],\n",
       "       [0.32068936, 0.67931064],\n",
       "       [0.9223939 , 0.0776061 ]])"
      ]
     },
     "execution_count": 19,
     "metadata": {},
     "output_type": "execute_result"
    }
   ],
   "source": [
    "loj_model.predict_proba(X)[0:10][:,0:2]"
   ]
  },
  {
   "cell_type": "code",
   "execution_count": 20,
   "id": "4afd2475-f3dc-4991-89ea-cf55999a02a5",
   "metadata": {},
   "outputs": [
    {
     "data": {
      "text/plain": [
       "0    1\n",
       "1    0\n",
       "2    1\n",
       "3    0\n",
       "4    1\n",
       "5    0\n",
       "6    1\n",
       "7    0\n",
       "8    1\n",
       "9    1\n",
       "Name: Outcome, dtype: int64"
      ]
     },
     "execution_count": 20,
     "metadata": {},
     "output_type": "execute_result"
    }
   ],
   "source": [
    "y[0:10]"
   ]
  },
  {
   "cell_type": "code",
   "execution_count": 22,
   "id": "1218bf53-92ea-4e1e-9c20-045f50850930",
   "metadata": {},
   "outputs": [],
   "source": [
    "y_probs = loj_model.predict_proba(X)\n",
    "y_probs = y_probs[:,1]\n",
    "y_pred = [1 if i > 0.5 else 0 for i in y_probs]"
   ]
  },
  {
   "cell_type": "code",
   "execution_count": 23,
   "id": "59a951c9-f525-4587-a1f2-0e8bf936fd59",
   "metadata": {},
   "outputs": [
    {
     "data": {
      "text/plain": [
       "[1, 0, 1, 0, 1, 0, 0, 1, 1, 0]"
      ]
     },
     "execution_count": 23,
     "metadata": {},
     "output_type": "execute_result"
    }
   ],
   "source": [
    "y_pred[0:10]"
   ]
  },
  {
   "cell_type": "code",
   "execution_count": 24,
   "id": "b33384d8-e011-4330-a060-53069518ea52",
   "metadata": {},
   "outputs": [
    {
     "data": {
      "text/plain": [
       "array([[448,  52],\n",
       "       [121, 147]], dtype=int64)"
      ]
     },
     "execution_count": 24,
     "metadata": {},
     "output_type": "execute_result"
    }
   ],
   "source": [
    "confusion_matrix(y, y_pred)"
   ]
  },
  {
   "cell_type": "code",
   "execution_count": 25,
   "id": "ed30d5d4-cb3b-4746-a784-aa5724e4f7f3",
   "metadata": {},
   "outputs": [
    {
     "data": {
      "text/plain": [
       "0.7747395833333334"
      ]
     },
     "execution_count": 25,
     "metadata": {},
     "output_type": "execute_result"
    }
   ],
   "source": [
    "accuracy_score(y, y_pred)"
   ]
  },
  {
   "cell_type": "code",
   "execution_count": 26,
   "id": "242c268e-a45d-4cb1-853e-783e5410370f",
   "metadata": {},
   "outputs": [
    {
     "name": "stdout",
     "output_type": "stream",
     "text": [
      "              precision    recall  f1-score   support\n",
      "\n",
      "           0       0.79      0.90      0.84       500\n",
      "           1       0.74      0.55      0.63       268\n",
      "\n",
      "    accuracy                           0.77       768\n",
      "   macro avg       0.76      0.72      0.73       768\n",
      "weighted avg       0.77      0.77      0.77       768\n",
      "\n"
     ]
    }
   ],
   "source": [
    "print(classification_report(y, y_pred))"
   ]
  },
  {
   "cell_type": "code",
   "execution_count": 27,
   "id": "d75f0d4f-8478-4f32-8458-4fd19a0bdf77",
   "metadata": {},
   "outputs": [
    {
     "data": {
      "text/plain": [
       "array([0.64906166, 0.0832535 , 0.77503825, 0.07894036, 0.83192542])"
      ]
     },
     "execution_count": 27,
     "metadata": {},
     "output_type": "execute_result"
    }
   ],
   "source": [
    "loj_model.predict_proba(X)[:,1][0:5]"
   ]
  },
  {
   "cell_type": "code",
   "execution_count": 28,
   "id": "e0039d4b-4a0f-48ea-a28a-bd05659f4f26",
   "metadata": {},
   "outputs": [
    {
     "data": {
      "image/png": "[encoded data removed]",
      "text/plain": [
       "<Figure size 640x480 with 1 Axes>"
      ]
     },
     "metadata": {},
     "output_type": "display_data"
    }
   ],
   "source": [
    "logit_roc_auc = roc_auc_score(y, loj_model.predict(X))\n",
    "\n",
    "fpr, tpr, thresholds = roc_curve(y, loj_model.predict_proba(X)[:,1])\n",
    "plt.figure()\n",
    "plt.plot(fpr, tpr, label='AUC (area = %0.2f)' % logit_roc_auc)\n",
    "plt.plot([0, 1], [0, 1],'r--')\n",
    "plt.xlim([0.0, 1.0])\n",
    "plt.ylim([0.0, 1.05])\n",
    "plt.xlabel('False Positive Oranı')\n",
    "plt.ylabel('True Positive Oranı')\n",
    "plt.title('ROC')\n",
    "plt.show()"
   ]
  },
  {
   "cell_type": "code",
   "execution_count": 29,
   "id": "8b179293-a6be-44ff-9161-efb299a11252",
   "metadata": {},
   "outputs": [],
   "source": [
    "X_train, X_test, y_train, y_test = train_test_split(X, y, \n",
    "                                                    test_size = 0.30, \n",
    "                                                    random_state = 42)"
   ]
  },
  {
   "cell_type": "code",
   "execution_count": 30,
   "id": "1fb196be-8984-4555-8ec3-3928e170bef1",
   "metadata": {},
   "outputs": [
    {
     "data": {
      "text/plain": [
       "LogisticRegression(solver='liblinear')"
      ]
     },
     "execution_count": 30,
     "metadata": {},
     "output_type": "execute_result"
    }
   ],
   "source": [
    "loj = LogisticRegression(solver = \"liblinear\")\n",
    "loj_model = loj.fit(X_train,y_train)\n",
    "loj_model"
   ]
  },
  {
   "cell_type": "code",
   "execution_count": 31,
   "id": "642f6247-89f5-4985-b409-854259f7624d",
   "metadata": {},
   "outputs": [
    {
     "data": {
      "text/plain": [
       "0.7532467532467533"
      ]
     },
     "execution_count": 31,
     "metadata": {},
     "output_type": "execute_result"
    }
   ],
   "source": [
    "accuracy_score(y_test, loj_model.predict(X_test))"
   ]
  },
  {
   "cell_type": "code",
   "execution_count": 32,
   "id": "4087f171-19e5-410f-b1bd-5c5a8aa11b78",
   "metadata": {},
   "outputs": [
    {
     "data": {
      "text/plain": [
       "0.7661231884057971"
      ]
     },
     "execution_count": 32,
     "metadata": {},
     "output_type": "execute_result"
    }
   ],
   "source": [
    "cross_val_score(loj_model, X_test, y_test, cv = 10).mean()"
   ]
  },
  {
   "cell_type": "markdown",
   "id": "9c063bc5-f3bb-4362-aa6e-1491813979fd",
   "metadata": {},
   "source": [
    "# Naive Bayes"
   ]
  },
  {
   "cell_type": "markdown",
   "id": "30ebbcd0-9973-4582-bc34-d002e27e1fa5",
   "metadata": {},
   "source": [
    "Olasılık temelli bir modelleme tekniğidir. Amaç belirli bir örneğin her bir sınıfa ait olma olasılığının koşullu olasılık temelli hesaplanmasıdır."
   ]
  },
  {
   "cell_type": "markdown",
   "id": "4f6a4278-214d-49fe-b6de-1d10d7b2c3cc",
   "metadata": {},
   "source": [
    "# Model - Tahmin"
   ]
  },
  {
   "cell_type": "code",
   "execution_count": 33,
   "id": "56f4ae21-4bf8-4cce-8577-0bba2b88fbf2",
   "metadata": {},
   "outputs": [],
   "source": [
    "df = diabetes.copy()\n",
    "df = df.dropna()\n",
    "y = df[\"Outcome\"]\n",
    "X = df.drop(['Outcome'], axis=1)\n",
    "X_train, X_test, y_train, y_test = train_test_split(X, y, \n",
    "                                                    test_size=0.30, \n",
    "                                                    random_state=42)\n"
   ]
  },
  {
   "cell_type": "code",
   "execution_count": 34,
   "id": "9a2811c1-a541-443f-a479-9bad954f2521",
   "metadata": {},
   "outputs": [],
   "source": [
    "from sklearn.naive_bayes import GaussianNB"
   ]
  },
  {
   "cell_type": "code",
   "execution_count": 35,
   "id": "ba19e1eb-57ce-49cb-9f74-75c502a696bd",
   "metadata": {},
   "outputs": [
    {
     "data": {
      "text/plain": [
       "GaussianNB()"
      ]
     },
     "execution_count": 35,
     "metadata": {},
     "output_type": "execute_result"
    }
   ],
   "source": [
    "nb = GaussianNB()\n",
    "nb_model = nb.fit(X_train, y_train)\n",
    "nb_model"
   ]
  },
  {
   "cell_type": "code",
   "execution_count": 36,
   "id": "57a411de-469d-483c-82fd-58c3fa82464f",
   "metadata": {},
   "outputs": [
    {
     "data": {
      "text/plain": [
       "array([0, 0, 0, 0, 1, 1, 0, 0, 0, 1], dtype=int64)"
      ]
     },
     "execution_count": 36,
     "metadata": {},
     "output_type": "execute_result"
    }
   ],
   "source": [
    "nb_model.predict(X_test)[0:10]"
   ]
  },
  {
   "cell_type": "code",
   "execution_count": 37,
   "id": "bd680e22-8d87-4972-9cef-496851cf850f",
   "metadata": {},
   "outputs": [
    {
     "data": {
      "text/plain": [
       "array([[0.73815858, 0.26184142],\n",
       "       [0.94027894, 0.05972106],\n",
       "       [0.97242831, 0.02757169],\n",
       "       [0.82840069, 0.17159931],\n",
       "       [0.47153473, 0.52846527],\n",
       "       [0.47274458, 0.52725542],\n",
       "       [0.99607705, 0.00392295],\n",
       "       [0.69925055, 0.30074945],\n",
       "       [0.53838117, 0.46161883],\n",
       "       [0.25004536, 0.74995464]])"
      ]
     },
     "execution_count": 37,
     "metadata": {},
     "output_type": "execute_result"
    }
   ],
   "source": [
    "nb_model.predict_proba(X_test)[0:10]"
   ]
  },
  {
   "cell_type": "code",
   "execution_count": 38,
   "id": "743ff8e2-3e39-4724-9b9c-cf7109c7ff28",
   "metadata": {},
   "outputs": [],
   "source": [
    "y_pred = nb_model.predict(X_test)"
   ]
  },
  {
   "cell_type": "code",
   "execution_count": 39,
   "id": "b439775a-f1fe-4b92-bd7a-6e18abdf9da9",
   "metadata": {},
   "outputs": [
    {
     "data": {
      "text/plain": [
       "0.7445887445887446"
      ]
     },
     "execution_count": 39,
     "metadata": {},
     "output_type": "execute_result"
    }
   ],
   "source": [
    "accuracy_score(y_test, y_pred)"
   ]
  },
  {
   "cell_type": "code",
   "execution_count": 40,
   "id": "233fe5ee-39d8-4350-a836-c8daa5975cfc",
   "metadata": {},
   "outputs": [
    {
     "data": {
      "text/plain": [
       "0.775"
      ]
     },
     "execution_count": 40,
     "metadata": {},
     "output_type": "execute_result"
    }
   ],
   "source": [
    "cross_val_score(nb_model, X_test, y_test, cv = 10).mean()"
   ]
  },
  {
   "cell_type": "markdown",
   "id": "a4669419-5d5c-4d93-b385-24338a5b0bb3",
   "metadata": {},
   "source": [
    "# K-EN YAKIN KOMŞU (KNN)"
   ]
  },
  {
   "cell_type": "markdown",
   "id": "6efefa3c-978a-4e4b-90cd-84f1d313705f",
   "metadata": {},
   "source": [
    "Tahminler gözlem benzerliğine göre yapılır."
   ]
  },
  {
   "cell_type": "markdown",
   "id": "2d97a077-03c5-4825-88a0-8c566fa8fcd1",
   "metadata": {},
   "source": [
    "# Model - Tahmin"
   ]
  },
  {
   "cell_type": "code",
   "execution_count": 41,
   "id": "892e4833-908b-40a4-b674-b833e95a4755",
   "metadata": {},
   "outputs": [],
   "source": [
    "df = diabetes.copy()\n",
    "df = df.dropna()\n",
    "y = df[\"Outcome\"]\n",
    "X = df.drop(['Outcome'], axis=1)\n",
    "X_train, X_test, y_train, y_test = train_test_split(X, y, \n",
    "                                                    test_size=0.30, \n",
    "                                                    random_state=42)"
   ]
  },
  {
   "cell_type": "code",
   "execution_count": 42,
   "id": "b07c6536-5718-4987-9b15-3180ace20140",
   "metadata": {},
   "outputs": [
    {
     "data": {
      "text/plain": [
       "KNeighborsClassifier()"
      ]
     },
     "execution_count": 42,
     "metadata": {},
     "output_type": "execute_result"
    }
   ],
   "source": [
    "knn = KNeighborsClassifier()\n",
    "knn_model = knn.fit(X_train, y_train)\n",
    "knn_model"
   ]
  },
  {
   "cell_type": "code",
   "execution_count": 43,
   "id": "ccbf547f-cd1e-4bde-b55d-fe9b1f26596c",
   "metadata": {},
   "outputs": [],
   "source": [
    "y_pred = knn_model.predict(X_test)"
   ]
  },
  {
   "cell_type": "code",
   "execution_count": 44,
   "id": "b4e10aff-09af-4282-84a2-fe30be1cd3b0",
   "metadata": {},
   "outputs": [
    {
     "data": {
      "text/plain": [
       "0.6883116883116883"
      ]
     },
     "execution_count": 44,
     "metadata": {},
     "output_type": "execute_result"
    }
   ],
   "source": [
    "accuracy_score(y_test, y_pred)"
   ]
  },
  {
   "cell_type": "code",
   "execution_count": 45,
   "id": "3d21305a-d922-4026-874c-43186c894494",
   "metadata": {},
   "outputs": [
    {
     "name": "stdout",
     "output_type": "stream",
     "text": [
      "              precision    recall  f1-score   support\n",
      "\n",
      "           0       0.77      0.75      0.76       151\n",
      "           1       0.55      0.56      0.56        80\n",
      "\n",
      "    accuracy                           0.69       231\n",
      "   macro avg       0.66      0.66      0.66       231\n",
      "weighted avg       0.69      0.69      0.69       231\n",
      "\n"
     ]
    }
   ],
   "source": [
    "print(classification_report(y_test, y_pred))"
   ]
  },
  {
   "cell_type": "markdown",
   "id": "f9e9bf50-e607-4337-80d6-887b6498c809",
   "metadata": {},
   "source": [
    "# Model Tuning"
   ]
  },
  {
   "cell_type": "code",
   "execution_count": 46,
   "id": "92df7e8e-ba55-4814-969c-195d0a3f73e5",
   "metadata": {},
   "outputs": [],
   "source": [
    "knn_params = {\"n_neighbors\": np.arange(1,50)}"
   ]
  },
  {
   "cell_type": "code",
   "execution_count": 47,
   "id": "84f8f7ce-39ed-438e-a5fa-cfc8b752fe6f",
   "metadata": {},
   "outputs": [
    {
     "data": {
      "text/plain": [
       "GridSearchCV(cv=10, estimator=KNeighborsClassifier(),\n",
       "             param_grid={'n_neighbors': array([ 1,  2,  3,  4,  5,  6,  7,  8,  9, 10, 11, 12, 13, 14, 15, 16, 17,\n",
       "       18, 19, 20, 21, 22, 23, 24, 25, 26, 27, 28, 29, 30, 31, 32, 33, 34,\n",
       "       35, 36, 37, 38, 39, 40, 41, 42, 43, 44, 45, 46, 47, 48, 49])})"
      ]
     },
     "execution_count": 47,
     "metadata": {},
     "output_type": "execute_result"
    }
   ],
   "source": [
    "knn = KNeighborsClassifier()\n",
    "knn_cv = GridSearchCV(knn, knn_params, cv=10)\n",
    "knn_cv.fit(X_train, y_train)"
   ]
  },
  {
   "cell_type": "code",
   "execution_count": 48,
   "id": "6f54a619-44cc-4397-b386-8befdeca9c8e",
   "metadata": {},
   "outputs": [
    {
     "name": "stdout",
     "output_type": "stream",
     "text": [
      "En iyi skor:0.748637316561845\n",
      "En iyi parametreler: {'n_neighbors': 11}\n"
     ]
    }
   ],
   "source": [
    "print(\"En iyi skor:\" + str(knn_cv.best_score_))\n",
    "print(\"En iyi parametreler: \" + str(knn_cv.best_params_))"
   ]
  },
  {
   "cell_type": "code",
   "execution_count": 49,
   "id": "584e2ead-6868-46b4-b699-25f22eef3b3c",
   "metadata": {},
   "outputs": [],
   "source": [
    "knn = KNeighborsClassifier(11)\n",
    "knn_tuned = knn.fit(X_train, y_train)"
   ]
  },
  {
   "cell_type": "code",
   "execution_count": 50,
   "id": "ead4a1e8-e08f-4218-82a0-a198a023ee52",
   "metadata": {},
   "outputs": [
    {
     "data": {
      "text/plain": [
       "0.7316017316017316"
      ]
     },
     "execution_count": 50,
     "metadata": {},
     "output_type": "execute_result"
    }
   ],
   "source": [
    "knn_tuned.score(X_test, y_test)"
   ]
  },
  {
   "cell_type": "code",
   "execution_count": 51,
   "id": "7fbe451d-d1e5-4ba3-9420-a2721dc5a307",
   "metadata": {},
   "outputs": [],
   "source": [
    "y_pred = knn_tuned.predict(X_test)"
   ]
  },
  {
   "cell_type": "code",
   "execution_count": 52,
   "id": "5358ee5a-dec5-4a38-b40b-c7611d380001",
   "metadata": {},
   "outputs": [
    {
     "data": {
      "text/plain": [
       "0.7316017316017316"
      ]
     },
     "execution_count": 52,
     "metadata": {},
     "output_type": "execute_result"
    }
   ],
   "source": [
    "accuracy_score(y_test, y_pred)"
   ]
  },
  {
   "cell_type": "markdown",
   "id": "6bef848b-19a4-4754-9856-63575845fe0d",
   "metadata": {},
   "source": [
    "# DESTEK VEKTÖR MAKİNELERİ (SVC)"
   ]
  },
  {
   "cell_type": "markdown",
   "id": "8593a26b-21a8-45bc-943a-96bb4063d960",
   "metadata": {},
   "source": [
    "Amaç iki sınıf arasındaki ayrımın optimumm olmasını sağlayacak hiper-düzlemi bulmaktır."
   ]
  },
  {
   "cell_type": "markdown",
   "id": "6dc1e8f3-4cd8-47f8-96be-7bae4d24afef",
   "metadata": {},
   "source": [
    "# Model - Tahmin"
   ]
  },
  {
   "cell_type": "code",
   "execution_count": 53,
   "id": "80e2b846-706a-4d5a-a681-28f21baa7cc9",
   "metadata": {},
   "outputs": [],
   "source": [
    "df = diabetes.copy()\n",
    "df = df.dropna()\n",
    "y = df[\"Outcome\"]\n",
    "X = df.drop(['Outcome'], axis=1)\n",
    "X_train, X_test, y_train, y_test = train_test_split(X, y, \n",
    "                                                    test_size=0.30, \n",
    "                                                    random_state=42)"
   ]
  },
  {
   "cell_type": "code",
   "execution_count": 54,
   "id": "7ffb2bd4-9a40-4999-b6c2-43ecf9411450",
   "metadata": {},
   "outputs": [],
   "source": [
    "svm_model = SVC(kernel = \"linear\").fit(X_train, y_train)"
   ]
  },
  {
   "cell_type": "code",
   "execution_count": 55,
   "id": "daf6456b-eb37-4ac5-afa2-c4703352a6e2",
   "metadata": {},
   "outputs": [
    {
     "data": {
      "text/plain": [
       "SVC(kernel='linear')"
      ]
     },
     "execution_count": 55,
     "metadata": {},
     "output_type": "execute_result"
    }
   ],
   "source": [
    "svm_model"
   ]
  },
  {
   "cell_type": "code",
   "execution_count": 56,
   "id": "a4910c5e-5851-4792-8e75-7a81cdc6fd29",
   "metadata": {},
   "outputs": [],
   "source": [
    "y_pred = svm_model.predict(X_test)"
   ]
  },
  {
   "cell_type": "code",
   "execution_count": 57,
   "id": "5d68d019-575b-4a32-8996-3df70784aea9",
   "metadata": {},
   "outputs": [
    {
     "data": {
      "text/plain": [
       "0.7445887445887446"
      ]
     },
     "execution_count": 57,
     "metadata": {},
     "output_type": "execute_result"
    }
   ],
   "source": [
    "accuracy_score(y_test, y_pred)"
   ]
  },
  {
   "cell_type": "markdown",
   "id": "c96300c5-1335-44d7-961a-f3ca17747c83",
   "metadata": {},
   "source": [
    "# Model Tuning"
   ]
  },
  {
   "cell_type": "code",
   "execution_count": 58,
   "id": "71bbd84c-a18b-4ca1-aece-689a69f5d85e",
   "metadata": {},
   "outputs": [
    {
     "name": "stdout",
     "output_type": "stream",
     "text": [
      "Fitting 10 folds for each of 9 candidates, totalling 90 fits\n"
     ]
    },
    {
     "data": {
      "text/plain": [
       "GridSearchCV(cv=10, estimator=SVC(kernel='linear'), n_jobs=-1,\n",
       "             param_grid={'C': array([1, 2, 3, 4, 5, 6, 7, 8, 9])}, verbose=2)"
      ]
     },
     "execution_count": 58,
     "metadata": {},
     "output_type": "execute_result"
    }
   ],
   "source": [
    "svc_params = {\"C\": np.arange(1,10)}\n",
    "\n",
    "svc = SVC(kernel = \"linear\")\n",
    "\n",
    "svc_cv_model = GridSearchCV(svc,svc_params, \n",
    "                            cv = 10, \n",
    "                            n_jobs = -1, \n",
    "                            verbose = 2 )\n",
    "\n",
    "svc_cv_model.fit(X_train, y_train)"
   ]
  },
  {
   "cell_type": "code",
   "execution_count": 59,
   "id": "904caa59-ed81-44f1-93ee-6a630ebae51d",
   "metadata": {},
   "outputs": [
    {
     "name": "stdout",
     "output_type": "stream",
     "text": [
      "En iyi parametreler: {'C': 1}\n"
     ]
    }
   ],
   "source": [
    "print(\"En iyi parametreler: \" + str(svc_cv_model.best_params_))"
   ]
  },
  {
   "cell_type": "code",
   "execution_count": 62,
   "id": "73d7c26f-8f4e-4e93-9fcf-c6ef4d51fcf4",
   "metadata": {},
   "outputs": [],
   "source": [
    "svc_tuned = SVC(kernel = \"linear\", C = 1).fit(X_train, y_train)"
   ]
  },
  {
   "cell_type": "code",
   "execution_count": 63,
   "id": "3bdedf91-81d1-404b-a595-aad237b8047a",
   "metadata": {},
   "outputs": [
    {
     "data": {
      "text/plain": [
       "0.7445887445887446"
      ]
     },
     "execution_count": 63,
     "metadata": {},
     "output_type": "execute_result"
    }
   ],
   "source": [
    "y_pred = svc_tuned.predict(X_test)\n",
    "accuracy_score(y_test, y_pred)"
   ]
  },
  {
   "cell_type": "markdown",
   "id": "042aba56-5739-488c-9c58-cdc48ab523df",
   "metadata": {},
   "source": [
    "# Model - Tahmin (RBF SVC)"
   ]
  },
  {
   "cell_type": "code",
   "execution_count": 64,
   "id": "b4b084de-2dc7-4095-b88a-b7ecffafcdad",
   "metadata": {},
   "outputs": [],
   "source": [
    "df = diabetes.copy()\n",
    "df = df.dropna()\n",
    "y = df[\"Outcome\"]\n",
    "X = df.drop(['Outcome'], axis=1)\n",
    "X_train, X_test, y_train, y_test = train_test_split(X, y, \n",
    "                                                    test_size=0.30, \n",
    "                                                    random_state=42)"
   ]
  },
  {
   "cell_type": "code",
   "execution_count": 65,
   "id": "6b1ea2a0-eca1-42be-b235-6ce6b4a779a3",
   "metadata": {},
   "outputs": [],
   "source": [
    "svc_model = SVC(kernel = \"rbf\").fit(X_train, y_train)"
   ]
  },
  {
   "cell_type": "code",
   "execution_count": 66,
   "id": "d6a5f089-34ed-41b6-ae90-66f8f6f46c83",
   "metadata": {},
   "outputs": [
    {
     "data": {
      "text/plain": [
       "SVC()"
      ]
     },
     "execution_count": 66,
     "metadata": {},
     "output_type": "execute_result"
    }
   ],
   "source": [
    "svc_model"
   ]
  },
  {
   "cell_type": "code",
   "execution_count": 67,
   "id": "77915c0a-519a-449b-a88d-39a747fba2af",
   "metadata": {},
   "outputs": [
    {
     "data": {
      "text/plain": [
       "0.7359307359307359"
      ]
     },
     "execution_count": 67,
     "metadata": {},
     "output_type": "execute_result"
    }
   ],
   "source": [
    "y_pred = svc_model.predict(X_test)\n",
    "accuracy_score(y_test, y_pred)"
   ]
  },
  {
   "cell_type": "markdown",
   "id": "ec3febd1-855e-43ae-801b-26262f36f3d1",
   "metadata": {},
   "source": [
    "# Model Tuning (RBF SVC)"
   ]
  },
  {
   "cell_type": "code",
   "execution_count": 68,
   "id": "e74f868c-1f12-4c9f-9f75-47e170b1c02f",
   "metadata": {},
   "outputs": [],
   "source": [
    "svc_params = {\"C\": [0.0001, 0.001, 0.1, 1, 5, 10 ,50 ,100],\n",
    "             \"gamma\": [0.0001, 0.001, 0.1, 1, 5, 10 ,50 ,100]}"
   ]
  },
  {
   "cell_type": "code",
   "execution_count": 69,
   "id": "c8cccc29-7c74-4b6f-a1e2-28dd7786e5b7",
   "metadata": {},
   "outputs": [
    {
     "name": "stdout",
     "output_type": "stream",
     "text": [
      "Fitting 10 folds for each of 64 candidates, totalling 640 fits\n"
     ]
    },
    {
     "data": {
      "text/plain": [
       "GridSearchCV(cv=10, estimator=SVC(), n_jobs=-1,\n",
       "             param_grid={'C': [0.0001, 0.001, 0.1, 1, 5, 10, 50, 100],\n",
       "                         'gamma': [0.0001, 0.001, 0.1, 1, 5, 10, 50, 100]},\n",
       "             verbose=2)"
      ]
     },
     "execution_count": 69,
     "metadata": {},
     "output_type": "execute_result"
    }
   ],
   "source": [
    "svc = SVC()\n",
    "svc_cv_model = GridSearchCV(svc, svc_params, \n",
    "                         cv = 10, \n",
    "                         n_jobs = -1,\n",
    "                         verbose = 2)\n",
    "\n",
    "svc_cv_model.fit(X_train, y_train)"
   ]
  },
  {
   "cell_type": "code",
   "execution_count": 70,
   "id": "2e6edd3f-0562-41c4-9def-ff56c4996d20",
   "metadata": {},
   "outputs": [
    {
     "name": "stdout",
     "output_type": "stream",
     "text": [
      "En iyi parametreler: {'C': 10, 'gamma': 0.0001}\n"
     ]
    }
   ],
   "source": [
    "print(\"En iyi parametreler: \" + str(svc_cv_model.best_params_))"
   ]
  },
  {
   "cell_type": "code",
   "execution_count": 71,
   "id": "7e4820de-74b9-491b-af47-16e77ac278c6",
   "metadata": {},
   "outputs": [],
   "source": [
    "svc_tuned = SVC(C = 10, gamma = 0.0001).fit(X_train, y_train)"
   ]
  },
  {
   "cell_type": "code",
   "execution_count": 72,
   "id": "7bc9d18d-cb78-440a-8fb5-5bc49fecd259",
   "metadata": {},
   "outputs": [
    {
     "data": {
      "text/plain": [
       "0.7359307359307359"
      ]
     },
     "execution_count": 72,
     "metadata": {},
     "output_type": "execute_result"
    }
   ],
   "source": [
    "y_pred = svc_tuned.predict(X_test)\n",
    "accuracy_score(y_test, y_pred)"
   ]
  },
  {
   "cell_type": "markdown",
   "id": "77f0065b-13ec-4c84-85f1-90317a9d8432",
   "metadata": {},
   "source": [
    "# YAPAY SİNİR AĞLARI"
   ]
  },
  {
   "cell_type": "markdown",
   "id": "b346ca07-a7e9-4816-ba3f-876147af5c11",
   "metadata": {},
   "source": [
    "İnsan beyninin bilgi işleme şeklini referans alan sınıflandırma ve regresyon problemleri için kullanılabilen kuvvetli makine öğrenmesi algoritmalarından birisidir."
   ]
  },
  {
   "cell_type": "markdown",
   "id": "539765f8-695c-42f5-9db7-27a9504c9b5a",
   "metadata": {},
   "source": [
    "# Model - Tahmin"
   ]
  },
  {
   "cell_type": "code",
   "execution_count": 74,
   "id": "f5d4a42a-006b-49f2-9f03-673b3b9f83fd",
   "metadata": {},
   "outputs": [],
   "source": [
    "df = diabetes.copy()\n",
    "df = df.dropna()\n",
    "y = df[\"Outcome\"]\n",
    "X = df.drop(['Outcome'], axis=1)\n",
    "X_train, X_test, y_train, y_test = train_test_split(X, y, \n",
    "                                                    test_size=0.30, \n",
    "                                                    random_state=42)"
   ]
  },
  {
   "cell_type": "code",
   "execution_count": 75,
   "id": "719222ae-808c-481d-9441-1920e54a4b66",
   "metadata": {},
   "outputs": [],
   "source": [
    "from sklearn.preprocessing import StandardScaler  "
   ]
  },
  {
   "cell_type": "code",
   "execution_count": 76,
   "id": "bf13cb85-a77e-4b19-83dd-221f4735da41",
   "metadata": {},
   "outputs": [],
   "source": [
    "scaler = StandardScaler()"
   ]
  },
  {
   "cell_type": "code",
   "execution_count": 77,
   "id": "d4a90c48-eaca-415f-9f27-a557b3d08216",
   "metadata": {},
   "outputs": [],
   "source": [
    "scaler.fit(X_train)\n",
    "X_train_scaled = scaler.transform(X_train)\n",
    "X_test_scaled = scaler.transform(X_test)"
   ]
  },
  {
   "cell_type": "code",
   "execution_count": 78,
   "id": "d0535bc4-cad7-4c57-bf33-c910f96df66b",
   "metadata": {},
   "outputs": [
    {
     "data": {
      "text/plain": [
       "array([[ 0.69748316, -0.70719864, -0.64639893,  0.81207927,  0.95720244,\n",
       "         0.26575953, -0.11680393,  0.85019217],\n",
       "       [-0.52953881, -0.27388818,  0.29399563,  0.74746428, -0.6936878 ,\n",
       "         0.488933  , -0.94192338, -1.03426754],\n",
       "       [-0.52953881, -0.39769117, -0.31449497, -1.3202154 , -0.6936878 ,\n",
       "        -0.1543317 , -0.91266382, -1.03426754],\n",
       "       [ 1.31099414, -0.42864191,  0.57058226, -1.3202154 , -0.6936878 ,\n",
       "        -0.96825847,  1.12965312,  0.07927683],\n",
       "       [ 1.00423865,  0.46892976,  1.12375553, -1.3202154 , -0.6936878 ,\n",
       "        -0.27248236, -0.76051413,  1.44979298]])"
      ]
     },
     "execution_count": 78,
     "metadata": {},
     "output_type": "execute_result"
    }
   ],
   "source": [
    "X_test_scaled[0:5]"
   ]
  },
  {
   "cell_type": "code",
   "execution_count": 79,
   "id": "3a09f44e-da81-4bda-8b49-7a4e5e3d3591",
   "metadata": {},
   "outputs": [],
   "source": [
    "from sklearn.neural_network import MLPClassifier"
   ]
  },
  {
   "cell_type": "code",
   "execution_count": 80,
   "id": "f29f3518-2541-4e8c-a200-b9070c52576c",
   "metadata": {},
   "outputs": [],
   "source": [
    "mlpc = MLPClassifier().fit(X_train_scaled, y_train)"
   ]
  },
  {
   "cell_type": "code",
   "execution_count": 81,
   "id": "d0c35e8f-2968-4430-b14f-6bea549cac47",
   "metadata": {},
   "outputs": [
    {
     "data": {
      "text/plain": [
       "0.7402597402597403"
      ]
     },
     "execution_count": 81,
     "metadata": {},
     "output_type": "execute_result"
    }
   ],
   "source": [
    "y_pred = mlpc.predict(X_test_scaled)\n",
    "accuracy_score(y_test, y_pred)"
   ]
  },
  {
   "cell_type": "markdown",
   "id": "949f027e-734d-4764-80ef-3f9ae0e99a3c",
   "metadata": {},
   "source": [
    "# Model Tuning"
   ]
  },
  {
   "cell_type": "code",
   "execution_count": 82,
   "id": "f838812e-ac74-4516-b30e-c03dc3b95015",
   "metadata": {},
   "outputs": [
    {
     "data": {
      "text/plain": [
       "MLPClassifier()"
      ]
     },
     "execution_count": 82,
     "metadata": {},
     "output_type": "execute_result"
    }
   ],
   "source": [
    "mlpc"
   ]
  },
  {
   "cell_type": "code",
   "execution_count": 83,
   "id": "536d312a-9dc2-4919-9f99-96c073fcf909",
   "metadata": {
    "collapsed": true,
    "jupyter": {
     "outputs_hidden": true
    },
    "tags": []
   },
   "outputs": [
    {
     "data": {
      "text/plain": [
       "\u001b[1;31mType:\u001b[0m        MLPClassifier\n",
       "\u001b[1;31mString form:\u001b[0m MLPClassifier()\n",
       "\u001b[1;31mFile:\u001b[0m        c:\\users\\hakan\\anaconda3\\lib\\site-packages\\sklearn\\neural_network\\_multilayer_perceptron.py\n",
       "\u001b[1;31mDocstring:\u001b[0m  \n",
       "Multi-layer Perceptron classifier.\n",
       "\n",
       "This model optimizes the log-loss function using LBFGS or stochastic\n",
       "gradient descent.\n",
       "\n",
       ".. versionadded:: 0.18\n",
       "\n",
       "Parameters\n",
       "----------\n",
       "hidden_layer_sizes : tuple, length = n_layers - 2, default=(100,)\n",
       "    The ith element represents the number of neurons in the ith\n",
       "    hidden layer.\n",
       "\n",
       "activation : {'identity', 'logistic', 'tanh', 'relu'}, default='relu'\n",
       "    Activation function for the hidden layer.\n",
       "\n",
       "    - 'identity', no-op activation, useful to implement linear bottleneck,\n",
       "      returns f(x) = x\n",
       "\n",
       "    - 'logistic', the logistic sigmoid function,\n",
       "      returns f(x) = 1 / (1 + exp(-x)).\n",
       "\n",
       "    - 'tanh', the hyperbolic tan function,\n",
       "      returns f(x) = tanh(x).\n",
       "\n",
       "    - 'relu', the rectified linear unit function,\n",
       "      returns f(x) = max(0, x)\n",
       "\n",
       "solver : {'lbfgs', 'sgd', 'adam'}, default='adam'\n",
       "    The solver for weight optimization.\n",
       "\n",
       "    - 'lbfgs' is an optimizer in the family of quasi-Newton methods.\n",
       "\n",
       "    - 'sgd' refers to stochastic gradient descent.\n",
       "\n",
       "    - 'adam' refers to a stochastic gradient-based optimizer proposed\n",
       "      by Kingma, Diederik, and Jimmy Ba\n",
       "\n",
       "    Note: The default solver 'adam' works pretty well on relatively\n",
       "    large datasets (with thousands of training samples or more) in terms of\n",
       "    both training time and validation score.\n",
       "    For small datasets, however, 'lbfgs' can converge faster and perform\n",
       "    better.\n",
       "\n",
       "alpha : float, default=0.0001\n",
       "    L2 penalty (regularization term) parameter.\n",
       "\n",
       "batch_size : int, default='auto'\n",
       "    Size of minibatches for stochastic optimizers.\n",
       "    If the solver is 'lbfgs', the classifier will not use minibatch.\n",
       "    When set to \"auto\", `batch_size=min(200, n_samples)`.\n",
       "\n",
       "learning_rate : {'constant', 'invscaling', 'adaptive'}, default='constant'\n",
       "    Learning rate schedule for weight updates.\n",
       "\n",
       "    - 'constant' is a constant learning rate given by\n",
       "      'learning_rate_init'.\n",
       "\n",
       "    - 'invscaling' gradually decreases the learning rate at each\n",
       "      time step 't' using an inverse scaling exponent of 'power_t'.\n",
       "      effective_learning_rate = learning_rate_init / pow(t, power_t)\n",
       "\n",
       "    - 'adaptive' keeps the learning rate constant to\n",
       "      'learning_rate_init' as long as training loss keeps decreasing.\n",
       "      Each time two consecutive epochs fail to decrease training loss by at\n",
       "      least tol, or fail to increase validation score by at least tol if\n",
       "      'early_stopping' is on, the current learning rate is divided by 5.\n",
       "\n",
       "    Only used when ``solver='sgd'``.\n",
       "\n",
       "learning_rate_init : float, default=0.001\n",
       "    The initial learning rate used. It controls the step-size\n",
       "    in updating the weights. Only used when solver='sgd' or 'adam'.\n",
       "\n",
       "power_t : float, default=0.5\n",
       "    The exponent for inverse scaling learning rate.\n",
       "    It is used in updating effective learning rate when the learning_rate\n",
       "    is set to 'invscaling'. Only used when solver='sgd'.\n",
       "\n",
       "max_iter : int, default=200\n",
       "    Maximum number of iterations. The solver iterates until convergence\n",
       "    (determined by 'tol') or this number of iterations. For stochastic\n",
       "    solvers ('sgd', 'adam'), note that this determines the number of epochs\n",
       "    (how many times each data point will be used), not the number of\n",
       "    gradient steps.\n",
       "\n",
       "shuffle : bool, default=True\n",
       "    Whether to shuffle samples in each iteration. Only used when\n",
       "    solver='sgd' or 'adam'.\n",
       "\n",
       "random_state : int, RandomState instance, default=None\n",
       "    Determines random number generation for weights and bias\n",
       "    initialization, train-test split if early stopping is used, and batch\n",
       "    sampling when solver='sgd' or 'adam'.\n",
       "    Pass an int for reproducible results across multiple function calls.\n",
       "    See :term:`Glossary <random_state>`.\n",
       "\n",
       "tol : float, default=1e-4\n",
       "    Tolerance for the optimization. When the loss or score is not improving\n",
       "    by at least ``tol`` for ``n_iter_no_change`` consecutive iterations,\n",
       "    unless ``learning_rate`` is set to 'adaptive', convergence is\n",
       "    considered to be reached and training stops.\n",
       "\n",
       "verbose : bool, default=False\n",
       "    Whether to print progress messages to stdout.\n",
       "\n",
       "warm_start : bool, default=False\n",
       "    When set to True, reuse the solution of the previous\n",
       "    call to fit as initialization, otherwise, just erase the\n",
       "    previous solution. See :term:`the Glossary <warm_start>`.\n",
       "\n",
       "momentum : float, default=0.9\n",
       "    Momentum for gradient descent update. Should be between 0 and 1. Only\n",
       "    used when solver='sgd'.\n",
       "\n",
       "nesterovs_momentum : bool, default=True\n",
       "    Whether to use Nesterov's momentum. Only used when solver='sgd' and\n",
       "    momentum > 0.\n",
       "\n",
       "early_stopping : bool, default=False\n",
       "    Whether to use early stopping to terminate training when validation\n",
       "    score is not improving. If set to true, it will automatically set\n",
       "    aside 10% of training data as validation and terminate training when\n",
       "    validation score is not improving by at least tol for\n",
       "    ``n_iter_no_change`` consecutive epochs. The split is stratified,\n",
       "    except in a multilabel setting.\n",
       "    If early stopping is False, then the training stops when the training\n",
       "    loss does not improve by more than tol for n_iter_no_change consecutive\n",
       "    passes over the training set.\n",
       "    Only effective when solver='sgd' or 'adam'.\n",
       "\n",
       "validation_fraction : float, default=0.1\n",
       "    The proportion of training data to set aside as validation set for\n",
       "    early stopping. Must be between 0 and 1.\n",
       "    Only used if early_stopping is True.\n",
       "\n",
       "beta_1 : float, default=0.9\n",
       "    Exponential decay rate for estimates of first moment vector in adam,\n",
       "    should be in [0, 1). Only used when solver='adam'.\n",
       "\n",
       "beta_2 : float, default=0.999\n",
       "    Exponential decay rate for estimates of second moment vector in adam,\n",
       "    should be in [0, 1). Only used when solver='adam'.\n",
       "\n",
       "epsilon : float, default=1e-8\n",
       "    Value for numerical stability in adam. Only used when solver='adam'.\n",
       "\n",
       "n_iter_no_change : int, default=10\n",
       "    Maximum number of epochs to not meet ``tol`` improvement.\n",
       "    Only effective when solver='sgd' or 'adam'.\n",
       "\n",
       "    .. versionadded:: 0.20\n",
       "\n",
       "max_fun : int, default=15000\n",
       "    Only used when solver='lbfgs'. Maximum number of loss function calls.\n",
       "    The solver iterates until convergence (determined by 'tol'), number\n",
       "    of iterations reaches max_iter, or this number of loss function calls.\n",
       "    Note that number of loss function calls will be greater than or equal\n",
       "    to the number of iterations for the `MLPClassifier`.\n",
       "\n",
       "    .. versionadded:: 0.22\n",
       "\n",
       "Attributes\n",
       "----------\n",
       "classes_ : ndarray or list of ndarray of shape (n_classes,)\n",
       "    Class labels for each output.\n",
       "\n",
       "loss_ : float\n",
       "    The current loss computed with the loss function.\n",
       "\n",
       "best_loss_ : float\n",
       "    The minimum loss reached by the solver throughout fitting.\n",
       "\n",
       "loss_curve_ : list of shape (`n_iter_`,)\n",
       "    The ith element in the list represents the loss at the ith iteration.\n",
       "\n",
       "t_ : int\n",
       "    The number of training samples seen by the solver during fitting.\n",
       "\n",
       "coefs_ : list of shape (n_layers - 1,)\n",
       "    The ith element in the list represents the weight matrix corresponding\n",
       "    to layer i.\n",
       "\n",
       "intercepts_ : list of shape (n_layers - 1,)\n",
       "    The ith element in the list represents the bias vector corresponding to\n",
       "    layer i + 1.\n",
       "\n",
       "n_features_in_ : int\n",
       "    Number of features seen during :term:`fit`.\n",
       "\n",
       "    .. versionadded:: 0.24\n",
       "\n",
       "feature_names_in_ : ndarray of shape (`n_features_in_`,)\n",
       "    Names of features seen during :term:`fit`. Defined only when `X`\n",
       "    has feature names that are all strings.\n",
       "\n",
       "    .. versionadded:: 1.0\n",
       "\n",
       "n_iter_ : int\n",
       "    The number of iterations the solver has run.\n",
       "\n",
       "n_layers_ : int\n",
       "    Number of layers.\n",
       "\n",
       "n_outputs_ : int\n",
       "    Number of outputs.\n",
       "\n",
       "out_activation_ : str\n",
       "    Name of the output activation function.\n",
       "\n",
       "See Also\n",
       "--------\n",
       "MLPRegressor : Multi-layer Perceptron regressor.\n",
       "BernoulliRBM : Bernoulli Restricted Boltzmann Machine (RBM).\n",
       "\n",
       "Notes\n",
       "-----\n",
       "MLPClassifier trains iteratively since at each time step\n",
       "the partial derivatives of the loss function with respect to the model\n",
       "parameters are computed to update the parameters.\n",
       "\n",
       "It can also have a regularization term added to the loss function\n",
       "that shrinks model parameters to prevent overfitting.\n",
       "\n",
       "This implementation works with data represented as dense numpy arrays or\n",
       "sparse scipy arrays of floating point values.\n",
       "\n",
       "References\n",
       "----------\n",
       "Hinton, Geoffrey E.\n",
       "    \"Connectionist learning procedures.\" Artificial intelligence 40.1\n",
       "    (1989): 185-234.\n",
       "\n",
       "Glorot, Xavier, and Yoshua Bengio. \"Understanding the difficulty of\n",
       "    training deep feedforward neural networks.\" International Conference\n",
       "    on Artificial Intelligence and Statistics. 2010.\n",
       "\n",
       "He, Kaiming, et al. \"Delving deep into rectifiers: Surpassing human-level\n",
       "    performance on imagenet classification.\" arXiv preprint\n",
       "    arXiv:1502.01852 (2015).\n",
       "\n",
       "Kingma, Diederik, and Jimmy Ba. \"Adam: A method for stochastic\n",
       "    optimization.\" arXiv preprint arXiv:1412.6980 (2014).\n",
       "\n",
       "Examples\n",
       "--------\n",
       ">>> from sklearn.neural_network import MLPClassifier\n",
       ">>> from sklearn.datasets import make_classification\n",
       ">>> from sklearn.model_selection import train_test_split\n",
       ">>> X, y = make_classification(n_samples=100, random_state=1)\n",
       ">>> X_train, X_test, y_train, y_test = train_test_split(X, y, stratify=y,\n",
       "...                                                     random_state=1)\n",
       ">>> clf = MLPClassifier(random_state=1, max_iter=300).fit(X_train, y_train)\n",
       ">>> clf.predict_proba(X_test[:1])\n",
       "array([[0.038..., 0.961...]])\n",
       ">>> clf.predict(X_test[:5, :])\n",
       "array([1, 0, 1, 0, 1])\n",
       ">>> clf.score(X_test, y_test)\n",
       "0.8...\n"
      ]
     },
     "metadata": {},
     "output_type": "display_data"
    }
   ],
   "source": [
    "?mlpc"
   ]
  },
  {
   "cell_type": "code",
   "execution_count": 84,
   "id": "d9682c54-6f11-4c9b-8f43-71f48d550b39",
   "metadata": {},
   "outputs": [],
   "source": [
    "mlpc_params = {\"alpha\": [0.1, 0.01, 0.02, 0.005, 0.0001,0.00001],\n",
    "              \"hidden_layer_sizes\": [(10,10,10),\n",
    "                                     (100,100,100),\n",
    "                                     (100,100),\n",
    "                                     (3,5), \n",
    "                                     (5, 3)],\n",
    "              \"solver\" : [\"lbfgs\",\"adam\",\"sgd\"],\n",
    "              \"activation\": [\"relu\",\"logistic\"]}\n"
   ]
  },
  {
   "cell_type": "code",
   "execution_count": 85,
   "id": "fe7ce48f-3ad0-4718-906e-d5c104c8b93c",
   "metadata": {},
   "outputs": [
    {
     "name": "stdout",
     "output_type": "stream",
     "text": [
      "Fitting 10 folds for each of 180 candidates, totalling 1800 fits\n"
     ]
    },
    {
     "data": {
      "text/plain": [
       "GridSearchCV(cv=10, estimator=MLPClassifier(), n_jobs=-1,\n",
       "             param_grid={'activation': ['relu', 'logistic'],\n",
       "                         'alpha': [0.1, 0.01, 0.02, 0.005, 0.0001, 1e-05],\n",
       "                         'hidden_layer_sizes': [(10, 10, 10), (100, 100, 100),\n",
       "                                                (100, 100), (3, 5), (5, 3)],\n",
       "                         'solver': ['lbfgs', 'adam', 'sgd']},\n",
       "             verbose=2)"
      ]
     },
     "execution_count": 85,
     "metadata": {},
     "output_type": "execute_result"
    }
   ],
   "source": [
    "mlpc = MLPClassifier()\n",
    "mlpc_cv_model = GridSearchCV(mlpc, mlpc_params, \n",
    "                         cv = 10, \n",
    "                         n_jobs = -1,\n",
    "                         verbose = 2)\n",
    "\n",
    "mlpc_cv_model.fit(X_train_scaled, y_train)"
   ]
  },
  {
   "cell_type": "code",
   "execution_count": 86,
   "id": "68b01237-8887-4844-b8b7-00a09bbecc64",
   "metadata": {},
   "outputs": [
    {
     "name": "stdout",
     "output_type": "stream",
     "text": [
      "En iyi parametreler: {'activation': 'relu', 'alpha': 0.0001, 'hidden_layer_sizes': (100, 100), 'solver': 'sgd'}\n"
     ]
    }
   ],
   "source": [
    "print(\"En iyi parametreler: \" + str(mlpc_cv_model.best_params_))"
   ]
  },
  {
   "cell_type": "code",
   "execution_count": 93,
   "id": "90e8dba5-319c-4d25-a7a5-86f0437b4f58",
   "metadata": {},
   "outputs": [],
   "source": [
    "mlpc_tuned = MLPClassifier(activation = \"relu\", \n",
    "                           alpha = 0.0001, \n",
    "                           hidden_layer_sizes = (100, 100, 100),\n",
    "                          solver = \"sgd\")"
   ]
  },
  {
   "cell_type": "code",
   "execution_count": 94,
   "id": "df19f03f-73cd-4786-9eca-a4b891b1ba62",
   "metadata": {},
   "outputs": [
    {
     "data": {
      "text/plain": [
       "MLPClassifier(hidden_layer_sizes=(100, 100, 100), solver='sgd')"
      ]
     },
     "execution_count": 94,
     "metadata": {},
     "output_type": "execute_result"
    }
   ],
   "source": [
    "mlpc_tuned.fit(X_train_scaled, y_train)"
   ]
  },
  {
   "cell_type": "code",
   "execution_count": 95,
   "id": "73b1003b-5783-4834-b0ec-09021f217382",
   "metadata": {},
   "outputs": [
    {
     "data": {
      "text/plain": [
       "0.7532467532467533"
      ]
     },
     "execution_count": 95,
     "metadata": {},
     "output_type": "execute_result"
    }
   ],
   "source": [
    "y_pred = mlpc_tuned.predict(X_test_scaled)\n",
    "accuracy_score(y_test, y_pred)"
   ]
  },
  {
   "cell_type": "markdown",
   "id": "2234cc97-4b4e-4103-aa08-dc01d920f70b",
   "metadata": {},
   "source": [
    "# CART"
   ]
  },
  {
   "cell_type": "markdown",
   "id": "49f54795-64af-42a8-8943-17f917c6e723",
   "metadata": {},
   "source": [
    "Amaç veri seti içerisindeki karmaşık yapıları basit karar yapılarına dönüştürmektir. Heterojen veri setleri belirlenmiş bir hedef değişkene göre homojen alt gruplara ayrılır."
   ]
  },
  {
   "cell_type": "markdown",
   "id": "80951deb-5da2-4606-b189-e169f81f871f",
   "metadata": {},
   "source": [
    "# Model - Tahmin"
   ]
  },
  {
   "cell_type": "code",
   "execution_count": 96,
   "id": "2f4105e4-c81c-4cc8-892d-711fda9a0b76",
   "metadata": {},
   "outputs": [],
   "source": [
    "df = diabetes.copy()\n",
    "df = df.dropna()\n",
    "y = df[\"Outcome\"]\n",
    "X = df.drop(['Outcome'], axis=1)\n",
    "#X = df[\"Pregnancies\"]\n",
    "X = pd.DataFrame(X)\n",
    "X_train, X_test, y_train, y_test = train_test_split(X, y, \n",
    "                                                    test_size=0.30, \n",
    "                                                    random_state=42)"
   ]
  },
  {
   "cell_type": "code",
   "execution_count": 97,
   "id": "60e8855e-6f22-4069-914d-26718adfc066",
   "metadata": {},
   "outputs": [],
   "source": [
    "from sklearn.tree import DecisionTreeClassifier"
   ]
  },
  {
   "cell_type": "code",
   "execution_count": 98,
   "id": "36c69d32-099a-4569-8b48-17202160f2d6",
   "metadata": {},
   "outputs": [],
   "source": [
    "cart = DecisionTreeClassifier()\n",
    "cart_model = cart.fit(X_train, y_train)"
   ]
  },
  {
   "cell_type": "code",
   "execution_count": 99,
   "id": "3cd83517-3ad1-4bbc-98dc-5c1ea31637fd",
   "metadata": {},
   "outputs": [
    {
     "data": {
      "text/plain": [
       "DecisionTreeClassifier()"
      ]
     },
     "execution_count": 99,
     "metadata": {},
     "output_type": "execute_result"
    }
   ],
   "source": [
    "cart_model"
   ]
  },
  {
   "cell_type": "code",
   "execution_count": 104,
   "id": "eb8e9c7d-a807-459c-b8f6-4d5dca802dfc",
   "metadata": {},
   "outputs": [
    {
     "name": "stdout",
     "output_type": "stream",
     "text": [
      "((((((0 if x[6] <= 0.671999990940094 else 1 if x[6] <= 0.6974999904632568 else\n",
      "    0) if x[5] <= 31.40000057220459 else ((0 if x[3] <= 40.5 else 1) if x[1\n",
      "    ] <= 111.5 else ((1 if x[1] <= 123.0 else 0) if x[2] <= 65.0 else 0) if\n",
      "    x[2] <= 72.0 else 1) if x[4] <= 9.0 else (0 if x[6] <= \n",
      "    0.6395000219345093 else 1 if x[6] <= 0.6759999990463257 else 0) if x[0] <=\n",
      "    4.5 else 0 if x[6] <= 0.39149999618530273 else 1) if x[5] <= \n",
      "    49.10000038146973 else 1) if x[1] <= 127.5 else 1 if x[2] <= 56.0 else \n",
      "    (0 if x[7] <= 27.5 else 0 if x[4] <= 57.5 else 1) if x[5] <= \n",
      "    30.300000190734863 else 1 if x[5] <= 32.000000953674316 else ((0 if x[5\n",
      "    ] <= 33.75 else 1) if x[0] <= 0.5 else 1 if x[5] <= 32.45000076293945 else\n",
      "    0) if x[2] <= 85.0 else 1) if x[7] <= 28.5 else (1 if x[7] <= 29.5 else\n",
      "    (0 if x[1] <= 133.0 else (0 if x[7] <= 48.5 else 1) if x[0] <= 4.5 else\n",
      "    0) if x[2] <= 94.0 else 1 if x[5] <= 12.0 else 0) if x[5] <= \n",
      "    26.949999809265137 else (1 if x[1] <= 28.5 else 0 if x[0] <= 9.5 else 0 if\n",
      "    x[1] <= 80.0 else 1 if x[4] <= 27.0 else 0) if x[1] <= 94.5 else ((((0 if\n",
      "    x[6] <= 0.24950000643730164 else 1 if x[4] <= 115.5 else 0) if x[5] <= \n",
      "    28.34999942779541 else 1 if x[5] <= 31.15000057220459 else (1 if x[2] <=\n",
      "    66.0 else 0) if x[7] <= 36.5 else (1 if x[6] <= 0.13649999350309372 else\n",
      "    0) if x[6] <= 0.21000000089406967 else 1 if x[0] <= 9.0 else 0 if x[6] <=\n",
      "    0.26500000059604645 else 1) if x[3] <= 26.5 else ((1 if x[4] <= 41.5 else\n",
      "    1 if x[0] <= 0.5 else 0) if x[2] <= 67.0 else 0 if x[2] <= 80.0 else 1 if\n",
      "    x[6] <= 0.27300000190734863 else 0) if x[1] <= 127.5 else (0 if x[0] <=\n",
      "    12.0 else 1) if x[6] <= 0.3110000044107437 else 1) if x[2] <= 83.0 else\n",
      "    ((0 if x[3] <= 39.5 else 1 if x[2] <= 87.0 else 0) if x[5] <= \n",
      "    41.19999885559082 else 1) if x[4] <= 124.0 else 0 if x[3] <= 19.5 else \n",
      "    1) if x[6] <= 0.527999997138977 else ((((1 if x[6] <= \n",
      "    0.7134999930858612 else 0) if x[7] <= 32.5 else 1) if x[1] <= 132.0 else\n",
      "    0) if x[5] <= 29.09999942779541 else 0 if x[7] <= 50.0 else 1) if x[5] <=\n",
      "    31.600000381469727 else ((1 if x[2] <= 87.0 else 0 if x[7] <= 31.5 else\n",
      "    1) if x[3] <= 54.5 else 0) if x[6] <= 1.1489999890327454 else 1 if x[7] <=\n",
      "    36.0 else 0) if x[1] <= 154.5 else (1 if x[5] <= 25.350000381469727 else\n",
      "    (0 if x[0] <= 1.5 else 1) if x[7] <= 52.5 else 0) if x[5] <= \n",
      "    28.700000762939453 else (((((1 if x[6] <= 0.2695000022649765 else 0) if\n",
      "    x[4] <= 180.0 else 0) if x[4] <= 457.0 else 1) if x[7] <= 30.5 else 1) if\n",
      "    x[6] <= 0.3044999986886978 else (1 if x[1] <= 164.5 else 0) if x[1] <= \n",
      "    165.5 else 1) if x[6] <= 1.4275000095367432 else 1 if x[0] <= 3.5 else 0)\n",
      "\n"
     ]
    }
   ],
   "source": [
    "from skompiler import skompile\n",
    "print(skompile(cart_model.predict).to(\"python/code\"))"
   ]
  },
  {
   "cell_type": "code",
   "execution_count": 106,
   "id": "817d71a6-49e9-42d7-8420-a943152e3e70",
   "metadata": {},
   "outputs": [],
   "source": [
    "x = [9]"
   ]
  },
  {
   "cell_type": "code",
   "execution_count": 108,
   "id": "f64a19f1-119f-4d73-be98-6a015faf7079",
   "metadata": {},
   "outputs": [
    {
     "data": {
      "text/plain": [
       "1"
      ]
     },
     "execution_count": 108,
     "metadata": {},
     "output_type": "execute_result"
    }
   ],
   "source": [
    "((0 if x[0] <= 2.5 else 0) if x[0] <= 6.5 else 1 if x[0] <= 13.5 else 1)"
   ]
  },
  {
   "cell_type": "code",
   "execution_count": 109,
   "id": "5f74cb1e-193b-4a28-ad4f-22cb8b5b97d7",
   "metadata": {},
   "outputs": [
    {
     "data": {
      "text/plain": [
       "0.7142857142857143"
      ]
     },
     "execution_count": 109,
     "metadata": {},
     "output_type": "execute_result"
    }
   ],
   "source": [
    "y_pred = cart_model.predict(X_test)\n",
    "accuracy_score(y_test, y_pred)"
   ]
  },
  {
   "cell_type": "markdown",
   "id": "1df361b4-981e-47c5-9d6e-49f3b7f11354",
   "metadata": {},
   "source": [
    "# Model Tuning"
   ]
  },
  {
   "cell_type": "code",
   "execution_count": 110,
   "id": "378dcb08-539e-4205-afe0-13cff98472b6",
   "metadata": {
    "collapsed": true,
    "jupyter": {
     "outputs_hidden": true
    },
    "tags": []
   },
   "outputs": [
    {
     "data": {
      "text/plain": [
       "\u001b[1;31mType:\u001b[0m        DecisionTreeClassifier\n",
       "\u001b[1;31mString form:\u001b[0m DecisionTreeClassifier()\n",
       "\u001b[1;31mFile:\u001b[0m        c:\\users\\hakan\\anaconda3\\lib\\site-packages\\sklearn\\tree\\_classes.py\n",
       "\u001b[1;31mDocstring:\u001b[0m  \n",
       "A decision tree classifier.\n",
       "\n",
       "Read more in the :ref:`User Guide <tree>`.\n",
       "\n",
       "Parameters\n",
       "----------\n",
       "criterion : {\"gini\", \"entropy\"}, default=\"gini\"\n",
       "    The function to measure the quality of a split. Supported criteria are\n",
       "    \"gini\" for the Gini impurity and \"entropy\" for the information gain.\n",
       "\n",
       "splitter : {\"best\", \"random\"}, default=\"best\"\n",
       "    The strategy used to choose the split at each node. Supported\n",
       "    strategies are \"best\" to choose the best split and \"random\" to choose\n",
       "    the best random split.\n",
       "\n",
       "max_depth : int, default=None\n",
       "    The maximum depth of the tree. If None, then nodes are expanded until\n",
       "    all leaves are pure or until all leaves contain less than\n",
       "    min_samples_split samples.\n",
       "\n",
       "min_samples_split : int or float, default=2\n",
       "    The minimum number of samples required to split an internal node:\n",
       "\n",
       "    - If int, then consider `min_samples_split` as the minimum number.\n",
       "    - If float, then `min_samples_split` is a fraction and\n",
       "      `ceil(min_samples_split * n_samples)` are the minimum\n",
       "      number of samples for each split.\n",
       "\n",
       "    .. versionchanged:: 0.18\n",
       "       Added float values for fractions.\n",
       "\n",
       "min_samples_leaf : int or float, default=1\n",
       "    The minimum number of samples required to be at a leaf node.\n",
       "    A split point at any depth will only be considered if it leaves at\n",
       "    least ``min_samples_leaf`` training samples in each of the left and\n",
       "    right branches.  This may have the effect of smoothing the model,\n",
       "    especially in regression.\n",
       "\n",
       "    - If int, then consider `min_samples_leaf` as the minimum number.\n",
       "    - If float, then `min_samples_leaf` is a fraction and\n",
       "      `ceil(min_samples_leaf * n_samples)` are the minimum\n",
       "      number of samples for each node.\n",
       "\n",
       "    .. versionchanged:: 0.18\n",
       "       Added float values for fractions.\n",
       "\n",
       "min_weight_fraction_leaf : float, default=0.0\n",
       "    The minimum weighted fraction of the sum total of weights (of all\n",
       "    the input samples) required to be at a leaf node. Samples have\n",
       "    equal weight when sample_weight is not provided.\n",
       "\n",
       "max_features : int, float or {\"auto\", \"sqrt\", \"log2\"}, default=None\n",
       "    The number of features to consider when looking for the best split:\n",
       "\n",
       "        - If int, then consider `max_features` features at each split.\n",
       "        - If float, then `max_features` is a fraction and\n",
       "          `int(max_features * n_features)` features are considered at each\n",
       "          split.\n",
       "        - If \"auto\", then `max_features=sqrt(n_features)`.\n",
       "        - If \"sqrt\", then `max_features=sqrt(n_features)`.\n",
       "        - If \"log2\", then `max_features=log2(n_features)`.\n",
       "        - If None, then `max_features=n_features`.\n",
       "\n",
       "    Note: the search for a split does not stop until at least one\n",
       "    valid partition of the node samples is found, even if it requires to\n",
       "    effectively inspect more than ``max_features`` features.\n",
       "\n",
       "random_state : int, RandomState instance or None, default=None\n",
       "    Controls the randomness of the estimator. The features are always\n",
       "    randomly permuted at each split, even if ``splitter`` is set to\n",
       "    ``\"best\"``. When ``max_features < n_features``, the algorithm will\n",
       "    select ``max_features`` at random at each split before finding the best\n",
       "    split among them. But the best found split may vary across different\n",
       "    runs, even if ``max_features=n_features``. That is the case, if the\n",
       "    improvement of the criterion is identical for several splits and one\n",
       "    split has to be selected at random. To obtain a deterministic behaviour\n",
       "    during fitting, ``random_state`` has to be fixed to an integer.\n",
       "    See :term:`Glossary <random_state>` for details.\n",
       "\n",
       "max_leaf_nodes : int, default=None\n",
       "    Grow a tree with ``max_leaf_nodes`` in best-first fashion.\n",
       "    Best nodes are defined as relative reduction in impurity.\n",
       "    If None then unlimited number of leaf nodes.\n",
       "\n",
       "min_impurity_decrease : float, default=0.0\n",
       "    A node will be split if this split induces a decrease of the impurity\n",
       "    greater than or equal to this value.\n",
       "\n",
       "    The weighted impurity decrease equation is the following::\n",
       "\n",
       "        N_t / N * (impurity - N_t_R / N_t * right_impurity\n",
       "                            - N_t_L / N_t * left_impurity)\n",
       "\n",
       "    where ``N`` is the total number of samples, ``N_t`` is the number of\n",
       "    samples at the current node, ``N_t_L`` is the number of samples in the\n",
       "    left child, and ``N_t_R`` is the number of samples in the right child.\n",
       "\n",
       "    ``N``, ``N_t``, ``N_t_R`` and ``N_t_L`` all refer to the weighted sum,\n",
       "    if ``sample_weight`` is passed.\n",
       "\n",
       "    .. versionadded:: 0.19\n",
       "\n",
       "class_weight : dict, list of dict or \"balanced\", default=None\n",
       "    Weights associated with classes in the form ``{class_label: weight}``.\n",
       "    If None, all classes are supposed to have weight one. For\n",
       "    multi-output problems, a list of dicts can be provided in the same\n",
       "    order as the columns of y.\n",
       "\n",
       "    Note that for multioutput (including multilabel) weights should be\n",
       "    defined for each class of every column in its own dict. For example,\n",
       "    for four-class multilabel classification weights should be\n",
       "    [{0: 1, 1: 1}, {0: 1, 1: 5}, {0: 1, 1: 1}, {0: 1, 1: 1}] instead of\n",
       "    [{1:1}, {2:5}, {3:1}, {4:1}].\n",
       "\n",
       "    The \"balanced\" mode uses the values of y to automatically adjust\n",
       "    weights inversely proportional to class frequencies in the input data\n",
       "    as ``n_samples / (n_classes * np.bincount(y))``\n",
       "\n",
       "    For multi-output, the weights of each column of y will be multiplied.\n",
       "\n",
       "    Note that these weights will be multiplied with sample_weight (passed\n",
       "    through the fit method) if sample_weight is specified.\n",
       "\n",
       "ccp_alpha : non-negative float, default=0.0\n",
       "    Complexity parameter used for Minimal Cost-Complexity Pruning. The\n",
       "    subtree with the largest cost complexity that is smaller than\n",
       "    ``ccp_alpha`` will be chosen. By default, no pruning is performed. See\n",
       "    :ref:`minimal_cost_complexity_pruning` for details.\n",
       "\n",
       "    .. versionadded:: 0.22\n",
       "\n",
       "Attributes\n",
       "----------\n",
       "classes_ : ndarray of shape (n_classes,) or list of ndarray\n",
       "    The classes labels (single output problem),\n",
       "    or a list of arrays of class labels (multi-output problem).\n",
       "\n",
       "feature_importances_ : ndarray of shape (n_features,)\n",
       "    The impurity-based feature importances.\n",
       "    The higher, the more important the feature.\n",
       "    The importance of a feature is computed as the (normalized)\n",
       "    total reduction of the criterion brought by that feature.  It is also\n",
       "    known as the Gini importance [4]_.\n",
       "\n",
       "    Warning: impurity-based feature importances can be misleading for\n",
       "    high cardinality features (many unique values). See\n",
       "    :func:`sklearn.inspection.permutation_importance` as an alternative.\n",
       "\n",
       "max_features_ : int\n",
       "    The inferred value of max_features.\n",
       "\n",
       "n_classes_ : int or list of int\n",
       "    The number of classes (for single output problems),\n",
       "    or a list containing the number of classes for each\n",
       "    output (for multi-output problems).\n",
       "\n",
       "n_features_ : int\n",
       "    The number of features when ``fit`` is performed.\n",
       "\n",
       "    .. deprecated:: 1.0\n",
       "       `n_features_` is deprecated in 1.0 and will be removed in\n",
       "       1.2. Use `n_features_in_` instead.\n",
       "\n",
       "n_features_in_ : int\n",
       "    Number of features seen during :term:`fit`.\n",
       "\n",
       "    .. versionadded:: 0.24\n",
       "\n",
       "feature_names_in_ : ndarray of shape (`n_features_in_`,)\n",
       "    Names of features seen during :term:`fit`. Defined only when `X`\n",
       "    has feature names that are all strings.\n",
       "\n",
       "    .. versionadded:: 1.0\n",
       "\n",
       "n_outputs_ : int\n",
       "    The number of outputs when ``fit`` is performed.\n",
       "\n",
       "tree_ : Tree instance\n",
       "    The underlying Tree object. Please refer to\n",
       "    ``help(sklearn.tree._tree.Tree)`` for attributes of Tree object and\n",
       "    :ref:`sphx_glr_auto_examples_tree_plot_unveil_tree_structure.py`\n",
       "    for basic usage of these attributes.\n",
       "\n",
       "See Also\n",
       "--------\n",
       "DecisionTreeRegressor : A decision tree regressor.\n",
       "\n",
       "Notes\n",
       "-----\n",
       "The default values for the parameters controlling the size of the trees\n",
       "(e.g. ``max_depth``, ``min_samples_leaf``, etc.) lead to fully grown and\n",
       "unpruned trees which can potentially be very large on some data sets. To\n",
       "reduce memory consumption, the complexity and size of the trees should be\n",
       "controlled by setting those parameter values.\n",
       "\n",
       "The :meth:`predict` method operates using the :func:`numpy.argmax`\n",
       "function on the outputs of :meth:`predict_proba`. This means that in\n",
       "case the highest predicted probabilities are tied, the classifier will\n",
       "predict the tied class with the lowest index in :term:`classes_`.\n",
       "\n",
       "References\n",
       "----------\n",
       "\n",
       ".. [1] https://en.wikipedia.org/wiki/Decision_tree_learning\n",
       "\n",
       ".. [2] L. Breiman, J. Friedman, R. Olshen, and C. Stone, \"Classification\n",
       "       and Regression Trees\", Wadsworth, Belmont, CA, 1984.\n",
       "\n",
       ".. [3] T. Hastie, R. Tibshirani and J. Friedman. \"Elements of Statistical\n",
       "       Learning\", Springer, 2009.\n",
       "\n",
       ".. [4] L. Breiman, and A. Cutler, \"Random Forests\",\n",
       "       https://www.stat.berkeley.edu/~breiman/RandomForests/cc_home.htm\n",
       "\n",
       "Examples\n",
       "--------\n",
       ">>> from sklearn.datasets import load_iris\n",
       ">>> from sklearn.model_selection import cross_val_score\n",
       ">>> from sklearn.tree import DecisionTreeClassifier\n",
       ">>> clf = DecisionTreeClassifier(random_state=0)\n",
       ">>> iris = load_iris()\n",
       ">>> cross_val_score(clf, iris.data, iris.target, cv=10)\n",
       "...                             # doctest: +SKIP\n",
       "...\n",
       "array([ 1.     ,  0.93...,  0.86...,  0.93...,  0.93...,\n",
       "        0.93...,  0.93...,  1.     ,  0.93...,  1.      ])\n"
      ]
     },
     "metadata": {},
     "output_type": "display_data"
    }
   ],
   "source": [
    "?cart_model"
   ]
  },
  {
   "cell_type": "code",
   "execution_count": 111,
   "id": "afed95b2-7fdd-4205-9e85-dba11e88e688",
   "metadata": {},
   "outputs": [],
   "source": [
    "cart_grid = {\"max_depth\": range(1,10),\n",
    "            \"min_samples_split\" : list(range(2,50)) }"
   ]
  },
  {
   "cell_type": "code",
   "execution_count": 112,
   "id": "68ecf48f-8021-40f6-94d7-9b3a17c2efbf",
   "metadata": {},
   "outputs": [
    {
     "name": "stdout",
     "output_type": "stream",
     "text": [
      "Fitting 10 folds for each of 432 candidates, totalling 4320 fits\n"
     ]
    }
   ],
   "source": [
    "cart = tree.DecisionTreeClassifier()\n",
    "cart_cv = GridSearchCV(cart, cart_grid, cv = 10, n_jobs = -1, verbose = 2)\n",
    "cart_cv_model = cart_cv.fit(X_train, y_train)"
   ]
  },
  {
   "cell_type": "code",
   "execution_count": 113,
   "id": "f517b143-68b6-4a71-bb6e-3faf81d93b1b",
   "metadata": {},
   "outputs": [
    {
     "name": "stdout",
     "output_type": "stream",
     "text": [
      "En iyi parametreler: {'max_depth': 5, 'min_samples_split': 19}\n"
     ]
    }
   ],
   "source": [
    "print(\"En iyi parametreler: \" + str(cart_cv_model.best_params_))"
   ]
  },
  {
   "cell_type": "code",
   "execution_count": 114,
   "id": "e2c52db1-4763-4229-94be-ecf2ceaff676",
   "metadata": {},
   "outputs": [],
   "source": [
    "cart = tree.DecisionTreeClassifier(max_depth = 5, min_samples_split = 19)\n",
    "cart_tuned = cart.fit(X_train, y_train)"
   ]
  },
  {
   "cell_type": "code",
   "execution_count": 115,
   "id": "5cdbfedc-b598-49a2-8f53-162b49c96409",
   "metadata": {},
   "outputs": [
    {
     "data": {
      "text/plain": [
       "0.7532467532467533"
      ]
     },
     "execution_count": 115,
     "metadata": {},
     "output_type": "execute_result"
    }
   ],
   "source": [
    "y_pred = cart_tuned.predict(X_test)\n",
    "accuracy_score(y_test, y_pred)"
   ]
  },
  {
   "cell_type": "markdown",
   "id": "e1296ecb-1f41-475a-aca7-e66c15e16be4",
   "metadata": {},
   "source": [
    "# RANDOM FORESTS SINIFLANDIRMA"
   ]
  },
  {
   "cell_type": "markdown",
   "id": "391a3a42-0ff3-48aa-827b-3a4709922dca",
   "metadata": {},
   "source": [
    "Temeli birden çok karar ağacının ürettiği tahminlerin bir araya getirilerek değerlendirilmesine dayanır."
   ]
  },
  {
   "cell_type": "markdown",
   "id": "49a1940e-2794-4536-80eb-7bac0600a56e",
   "metadata": {},
   "source": [
    "# Model - Tahmin"
   ]
  },
  {
   "cell_type": "code",
   "execution_count": 116,
   "id": "f9535459-c127-4985-97d5-ff4fe2bc9fe4",
   "metadata": {},
   "outputs": [],
   "source": [
    "df = diabetes.copy()\n",
    "df = df.dropna()\n",
    "y = df[\"Outcome\"]\n",
    "X = df.drop(['Outcome'], axis=1)\n",
    "#X = df[\"Pregnancies\"]\n",
    "X = pd.DataFrame(X)\n",
    "X_train, X_test, y_train, y_test = train_test_split(X, y, \n",
    "                                                    test_size=0.30, \n",
    "                                                    random_state=42)"
   ]
  },
  {
   "cell_type": "code",
   "execution_count": 117,
   "id": "2d340441-ccca-406e-88a1-d243b4109b17",
   "metadata": {},
   "outputs": [],
   "source": [
    "from sklearn.ensemble import RandomForestClassifier"
   ]
  },
  {
   "cell_type": "code",
   "execution_count": 118,
   "id": "a1a98b1c-fee0-4fb4-a824-5c0adbe5020b",
   "metadata": {},
   "outputs": [],
   "source": [
    "rf_model = RandomForestClassifier().fit(X_train, y_train)"
   ]
  },
  {
   "cell_type": "code",
   "execution_count": 119,
   "id": "aea1b037-c80a-445f-8fb3-f6b6f9d75210",
   "metadata": {},
   "outputs": [
    {
     "data": {
      "text/plain": [
       "RandomForestClassifier()"
      ]
     },
     "execution_count": 119,
     "metadata": {},
     "output_type": "execute_result"
    }
   ],
   "source": [
    "rf_model"
   ]
  },
  {
   "cell_type": "code",
   "execution_count": 120,
   "id": "ce7c7e55-eed9-40d9-9422-7e3d3ae3b556",
   "metadata": {},
   "outputs": [
    {
     "data": {
      "text/plain": [
       "0.7619047619047619"
      ]
     },
     "execution_count": 120,
     "metadata": {},
     "output_type": "execute_result"
    }
   ],
   "source": [
    "y_pred = rf_model.predict(X_test)\n",
    "accuracy_score(y_test, y_pred)"
   ]
  },
  {
   "cell_type": "markdown",
   "id": "bc520e61-0953-44ba-8212-8a3ca4ce7a3f",
   "metadata": {},
   "source": [
    "# Model Tuning"
   ]
  },
  {
   "cell_type": "code",
   "execution_count": 121,
   "id": "3b72b102-01b6-4d78-857d-e49bde043f59",
   "metadata": {
    "collapsed": true,
    "jupyter": {
     "outputs_hidden": true
    },
    "tags": []
   },
   "outputs": [
    {
     "data": {
      "text/plain": [
       "\u001b[1;31mType:\u001b[0m        RandomForestClassifier\n",
       "\u001b[1;31mString form:\u001b[0m RandomForestClassifier()\n",
       "\u001b[1;31mLength:\u001b[0m      100\n",
       "\u001b[1;31mFile:\u001b[0m        c:\\users\\hakan\\anaconda3\\lib\\site-packages\\sklearn\\ensemble\\_forest.py\n",
       "\u001b[1;31mDocstring:\u001b[0m  \n",
       "A random forest classifier.\n",
       "\n",
       "A random forest is a meta estimator that fits a number of decision tree\n",
       "classifiers on various sub-samples of the dataset and uses averaging to\n",
       "improve the predictive accuracy and control over-fitting.\n",
       "The sub-sample size is controlled with the `max_samples` parameter if\n",
       "`bootstrap=True` (default), otherwise the whole dataset is used to build\n",
       "each tree.\n",
       "\n",
       "Read more in the :ref:`User Guide <forest>`.\n",
       "\n",
       "Parameters\n",
       "----------\n",
       "n_estimators : int, default=100\n",
       "    The number of trees in the forest.\n",
       "\n",
       "    .. versionchanged:: 0.22\n",
       "       The default value of ``n_estimators`` changed from 10 to 100\n",
       "       in 0.22.\n",
       "\n",
       "criterion : {\"gini\", \"entropy\"}, default=\"gini\"\n",
       "    The function to measure the quality of a split. Supported criteria are\n",
       "    \"gini\" for the Gini impurity and \"entropy\" for the information gain.\n",
       "    Note: this parameter is tree-specific.\n",
       "\n",
       "max_depth : int, default=None\n",
       "    The maximum depth of the tree. If None, then nodes are expanded until\n",
       "    all leaves are pure or until all leaves contain less than\n",
       "    min_samples_split samples.\n",
       "\n",
       "min_samples_split : int or float, default=2\n",
       "    The minimum number of samples required to split an internal node:\n",
       "\n",
       "    - If int, then consider `min_samples_split` as the minimum number.\n",
       "    - If float, then `min_samples_split` is a fraction and\n",
       "      `ceil(min_samples_split * n_samples)` are the minimum\n",
       "      number of samples for each split.\n",
       "\n",
       "    .. versionchanged:: 0.18\n",
       "       Added float values for fractions.\n",
       "\n",
       "min_samples_leaf : int or float, default=1\n",
       "    The minimum number of samples required to be at a leaf node.\n",
       "    A split point at any depth will only be considered if it leaves at\n",
       "    least ``min_samples_leaf`` training samples in each of the left and\n",
       "    right branches.  This may have the effect of smoothing the model,\n",
       "    especially in regression.\n",
       "\n",
       "    - If int, then consider `min_samples_leaf` as the minimum number.\n",
       "    - If float, then `min_samples_leaf` is a fraction and\n",
       "      `ceil(min_samples_leaf * n_samples)` are the minimum\n",
       "      number of samples for each node.\n",
       "\n",
       "    .. versionchanged:: 0.18\n",
       "       Added float values for fractions.\n",
       "\n",
       "min_weight_fraction_leaf : float, default=0.0\n",
       "    The minimum weighted fraction of the sum total of weights (of all\n",
       "    the input samples) required to be at a leaf node. Samples have\n",
       "    equal weight when sample_weight is not provided.\n",
       "\n",
       "max_features : {\"auto\", \"sqrt\", \"log2\"}, int or float, default=\"auto\"\n",
       "    The number of features to consider when looking for the best split:\n",
       "\n",
       "    - If int, then consider `max_features` features at each split.\n",
       "    - If float, then `max_features` is a fraction and\n",
       "      `round(max_features * n_features)` features are considered at each\n",
       "      split.\n",
       "    - If \"auto\", then `max_features=sqrt(n_features)`.\n",
       "    - If \"sqrt\", then `max_features=sqrt(n_features)` (same as \"auto\").\n",
       "    - If \"log2\", then `max_features=log2(n_features)`.\n",
       "    - If None, then `max_features=n_features`.\n",
       "\n",
       "    Note: the search for a split does not stop until at least one\n",
       "    valid partition of the node samples is found, even if it requires to\n",
       "    effectively inspect more than ``max_features`` features.\n",
       "\n",
       "max_leaf_nodes : int, default=None\n",
       "    Grow trees with ``max_leaf_nodes`` in best-first fashion.\n",
       "    Best nodes are defined as relative reduction in impurity.\n",
       "    If None then unlimited number of leaf nodes.\n",
       "\n",
       "min_impurity_decrease : float, default=0.0\n",
       "    A node will be split if this split induces a decrease of the impurity\n",
       "    greater than or equal to this value.\n",
       "\n",
       "    The weighted impurity decrease equation is the following::\n",
       "\n",
       "        N_t / N * (impurity - N_t_R / N_t * right_impurity\n",
       "                            - N_t_L / N_t * left_impurity)\n",
       "\n",
       "    where ``N`` is the total number of samples, ``N_t`` is the number of\n",
       "    samples at the current node, ``N_t_L`` is the number of samples in the\n",
       "    left child, and ``N_t_R`` is the number of samples in the right child.\n",
       "\n",
       "    ``N``, ``N_t``, ``N_t_R`` and ``N_t_L`` all refer to the weighted sum,\n",
       "    if ``sample_weight`` is passed.\n",
       "\n",
       "    .. versionadded:: 0.19\n",
       "\n",
       "bootstrap : bool, default=True\n",
       "    Whether bootstrap samples are used when building trees. If False, the\n",
       "    whole dataset is used to build each tree.\n",
       "\n",
       "oob_score : bool, default=False\n",
       "    Whether to use out-of-bag samples to estimate the generalization score.\n",
       "    Only available if bootstrap=True.\n",
       "\n",
       "n_jobs : int, default=None\n",
       "    The number of jobs to run in parallel. :meth:`fit`, :meth:`predict`,\n",
       "    :meth:`decision_path` and :meth:`apply` are all parallelized over the\n",
       "    trees. ``None`` means 1 unless in a :obj:`joblib.parallel_backend`\n",
       "    context. ``-1`` means using all processors. See :term:`Glossary\n",
       "    <n_jobs>` for more details.\n",
       "\n",
       "random_state : int, RandomState instance or None, default=None\n",
       "    Controls both the randomness of the bootstrapping of the samples used\n",
       "    when building trees (if ``bootstrap=True``) and the sampling of the\n",
       "    features to consider when looking for the best split at each node\n",
       "    (if ``max_features < n_features``).\n",
       "    See :term:`Glossary <random_state>` for details.\n",
       "\n",
       "verbose : int, default=0\n",
       "    Controls the verbosity when fitting and predicting.\n",
       "\n",
       "warm_start : bool, default=False\n",
       "    When set to ``True``, reuse the solution of the previous call to fit\n",
       "    and add more estimators to the ensemble, otherwise, just fit a whole\n",
       "    new forest. See :term:`the Glossary <warm_start>`.\n",
       "\n",
       "class_weight : {\"balanced\", \"balanced_subsample\"}, dict or list of dicts,             default=None\n",
       "    Weights associated with classes in the form ``{class_label: weight}``.\n",
       "    If not given, all classes are supposed to have weight one. For\n",
       "    multi-output problems, a list of dicts can be provided in the same\n",
       "    order as the columns of y.\n",
       "\n",
       "    Note that for multioutput (including multilabel) weights should be\n",
       "    defined for each class of every column in its own dict. For example,\n",
       "    for four-class multilabel classification weights should be\n",
       "    [{0: 1, 1: 1}, {0: 1, 1: 5}, {0: 1, 1: 1}, {0: 1, 1: 1}] instead of\n",
       "    [{1:1}, {2:5}, {3:1}, {4:1}].\n",
       "\n",
       "    The \"balanced\" mode uses the values of y to automatically adjust\n",
       "    weights inversely proportional to class frequencies in the input data\n",
       "    as ``n_samples / (n_classes * np.bincount(y))``\n",
       "\n",
       "    The \"balanced_subsample\" mode is the same as \"balanced\" except that\n",
       "    weights are computed based on the bootstrap sample for every tree\n",
       "    grown.\n",
       "\n",
       "    For multi-output, the weights of each column of y will be multiplied.\n",
       "\n",
       "    Note that these weights will be multiplied with sample_weight (passed\n",
       "    through the fit method) if sample_weight is specified.\n",
       "\n",
       "ccp_alpha : non-negative float, default=0.0\n",
       "    Complexity parameter used for Minimal Cost-Complexity Pruning. The\n",
       "    subtree with the largest cost complexity that is smaller than\n",
       "    ``ccp_alpha`` will be chosen. By default, no pruning is performed. See\n",
       "    :ref:`minimal_cost_complexity_pruning` for details.\n",
       "\n",
       "    .. versionadded:: 0.22\n",
       "\n",
       "max_samples : int or float, default=None\n",
       "    If bootstrap is True, the number of samples to draw from X\n",
       "    to train each base estimator.\n",
       "\n",
       "    - If None (default), then draw `X.shape[0]` samples.\n",
       "    - If int, then draw `max_samples` samples.\n",
       "    - If float, then draw `max_samples * X.shape[0]` samples. Thus,\n",
       "      `max_samples` should be in the interval `(0.0, 1.0]`.\n",
       "\n",
       "    .. versionadded:: 0.22\n",
       "\n",
       "Attributes\n",
       "----------\n",
       "base_estimator_ : DecisionTreeClassifier\n",
       "    The child estimator template used to create the collection of fitted\n",
       "    sub-estimators.\n",
       "\n",
       "estimators_ : list of DecisionTreeClassifier\n",
       "    The collection of fitted sub-estimators.\n",
       "\n",
       "classes_ : ndarray of shape (n_classes,) or a list of such arrays\n",
       "    The classes labels (single output problem), or a list of arrays of\n",
       "    class labels (multi-output problem).\n",
       "\n",
       "n_classes_ : int or list\n",
       "    The number of classes (single output problem), or a list containing the\n",
       "    number of classes for each output (multi-output problem).\n",
       "\n",
       "n_features_ : int\n",
       "    The number of features when ``fit`` is performed.\n",
       "\n",
       "    .. deprecated:: 1.0\n",
       "        Attribute `n_features_` was deprecated in version 1.0 and will be\n",
       "        removed in 1.2. Use `n_features_in_` instead.\n",
       "\n",
       "n_features_in_ : int\n",
       "    Number of features seen during :term:`fit`.\n",
       "\n",
       "    .. versionadded:: 0.24\n",
       "\n",
       "feature_names_in_ : ndarray of shape (`n_features_in_`,)\n",
       "    Names of features seen during :term:`fit`. Defined only when `X`\n",
       "    has feature names that are all strings.\n",
       "\n",
       "    .. versionadded:: 1.0\n",
       "\n",
       "n_outputs_ : int\n",
       "    The number of outputs when ``fit`` is performed.\n",
       "\n",
       "feature_importances_ : ndarray of shape (n_features,)\n",
       "    The impurity-based feature importances.\n",
       "    The higher, the more important the feature.\n",
       "    The importance of a feature is computed as the (normalized)\n",
       "    total reduction of the criterion brought by that feature.  It is also\n",
       "    known as the Gini importance.\n",
       "\n",
       "    Warning: impurity-based feature importances can be misleading for\n",
       "    high cardinality features (many unique values). See\n",
       "    :func:`sklearn.inspection.permutation_importance` as an alternative.\n",
       "\n",
       "oob_score_ : float\n",
       "    Score of the training dataset obtained using an out-of-bag estimate.\n",
       "    This attribute exists only when ``oob_score`` is True.\n",
       "\n",
       "oob_decision_function_ : ndarray of shape (n_samples, n_classes) or             (n_samples, n_classes, n_outputs)\n",
       "    Decision function computed with out-of-bag estimate on the training\n",
       "    set. If n_estimators is small it might be possible that a data point\n",
       "    was never left out during the bootstrap. In this case,\n",
       "    `oob_decision_function_` might contain NaN. This attribute exists\n",
       "    only when ``oob_score`` is True.\n",
       "\n",
       "See Also\n",
       "--------\n",
       "sklearn.tree.DecisionTreeClassifier : A decision tree classifier.\n",
       "sklearn.ensemble.ExtraTreesClassifier : Ensemble of extremely randomized\n",
       "    tree classifiers.\n",
       "\n",
       "Notes\n",
       "-----\n",
       "The default values for the parameters controlling the size of the trees\n",
       "(e.g. ``max_depth``, ``min_samples_leaf``, etc.) lead to fully grown and\n",
       "unpruned trees which can potentially be very large on some data sets. To\n",
       "reduce memory consumption, the complexity and size of the trees should be\n",
       "controlled by setting those parameter values.\n",
       "\n",
       "The features are always randomly permuted at each split. Therefore,\n",
       "the best found split may vary, even with the same training data,\n",
       "``max_features=n_features`` and ``bootstrap=False``, if the improvement\n",
       "of the criterion is identical for several splits enumerated during the\n",
       "search of the best split. To obtain a deterministic behaviour during\n",
       "fitting, ``random_state`` has to be fixed.\n",
       "\n",
       "References\n",
       "----------\n",
       ".. [1] L. Breiman, \"Random Forests\", Machine Learning, 45(1), 5-32, 2001.\n",
       "\n",
       "Examples\n",
       "--------\n",
       ">>> from sklearn.ensemble import RandomForestClassifier\n",
       ">>> from sklearn.datasets import make_classification\n",
       ">>> X, y = make_classification(n_samples=1000, n_features=4,\n",
       "...                            n_informative=2, n_redundant=0,\n",
       "...                            random_state=0, shuffle=False)\n",
       ">>> clf = RandomForestClassifier(max_depth=2, random_state=0)\n",
       ">>> clf.fit(X, y)\n",
       "RandomForestClassifier(...)\n",
       ">>> print(clf.predict([[0, 0, 0, 0]]))\n",
       "[1]\n"
      ]
     },
     "metadata": {},
     "output_type": "display_data"
    }
   ],
   "source": [
    "?rf_model"
   ]
  },
  {
   "cell_type": "code",
   "execution_count": 122,
   "id": "4747613d-d968-48c5-a813-81d7d79b3c96",
   "metadata": {},
   "outputs": [],
   "source": [
    "rf_params = {\"max_depth\": [2,5,8,10],\n",
    "            \"max_features\": [2,5,8],\n",
    "            \"n_estimators\": [10,500,1000],\n",
    "            \"min_samples_split\": [2,5,10]}"
   ]
  },
  {
   "cell_type": "code",
   "execution_count": 123,
   "id": "b2b5ab9b-744d-406f-aca9-553bea9744f2",
   "metadata": {},
   "outputs": [],
   "source": [
    "rf_model = RandomForestClassifier()\n",
    "\n",
    "rf_cv_model = GridSearchCV(rf_model, \n",
    "                           rf_params, \n",
    "                           cv = 10, \n",
    "                           n_jobs = -1, \n",
    "                           verbose = 2) "
   ]
  },
  {
   "cell_type": "code",
   "execution_count": 124,
   "id": "1ab567ee-a27e-41aa-ac2f-c9a583556d52",
   "metadata": {},
   "outputs": [
    {
     "name": "stdout",
     "output_type": "stream",
     "text": [
      "Fitting 10 folds for each of 108 candidates, totalling 1080 fits\n"
     ]
    },
    {
     "data": {
      "text/plain": [
       "GridSearchCV(cv=10, estimator=RandomForestClassifier(), n_jobs=-1,\n",
       "             param_grid={'max_depth': [2, 5, 8, 10], 'max_features': [2, 5, 8],\n",
       "                         'min_samples_split': [2, 5, 10],\n",
       "                         'n_estimators': [10, 500, 1000]},\n",
       "             verbose=2)"
      ]
     },
     "execution_count": 124,
     "metadata": {},
     "output_type": "execute_result"
    }
   ],
   "source": [
    "rf_cv_model.fit(X_train, y_train)"
   ]
  },
  {
   "cell_type": "code",
   "execution_count": 125,
   "id": "307a578e-3590-4225-918d-87f6ae53c5fa",
   "metadata": {},
   "outputs": [
    {
     "name": "stdout",
     "output_type": "stream",
     "text": [
      "En iyi parametreler: {'max_depth': 8, 'max_features': 8, 'min_samples_split': 5, 'n_estimators': 500}\n"
     ]
    }
   ],
   "source": [
    "print(\"En iyi parametreler: \" + str(rf_cv_model.best_params_))"
   ]
  },
  {
   "cell_type": "code",
   "execution_count": 128,
   "id": "c862d51b-e108-4e83-899f-2033df99e0b1",
   "metadata": {},
   "outputs": [
    {
     "data": {
      "text/plain": [
       "RandomForestClassifier(max_depth=8, max_features=8, min_samples_split=5,\n",
       "                       n_estimators=500)"
      ]
     },
     "execution_count": 128,
     "metadata": {},
     "output_type": "execute_result"
    }
   ],
   "source": [
    "rf_tuned = RandomForestClassifier(max_depth = 8, \n",
    "                                  max_features = 8, \n",
    "                                  min_samples_split = 5,\n",
    "                                  n_estimators = 500)\n",
    "\n",
    "rf_tuned.fit(X_train, y_train)"
   ]
  },
  {
   "cell_type": "code",
   "execution_count": 129,
   "id": "9c99ca34-75fe-45df-b206-c8bb68202ea1",
   "metadata": {},
   "outputs": [
    {
     "data": {
      "text/plain": [
       "0.7662337662337663"
      ]
     },
     "execution_count": 129,
     "metadata": {},
     "output_type": "execute_result"
    }
   ],
   "source": [
    "y_pred = rf_tuned.predict(X_test)\n",
    "accuracy_score(y_test, y_pred)"
   ]
  },
  {
   "cell_type": "code",
   "execution_count": 130,
   "id": "25dcd626-8517-4ed7-8341-3c619572bf14",
   "metadata": {},
   "outputs": [],
   "source": [
    "Importance = pd.DataFrame({\"Importance\": rf_tuned.feature_importances_*100},\n",
    "                         index = X_train.columns)"
   ]
  },
  {
   "cell_type": "code",
   "execution_count": 131,
   "id": "7eac947f-8685-4c6f-9f7f-43cca665301e",
   "metadata": {},
   "outputs": [
    {
     "data": {
      "text/plain": [
       "Text(0.5, 0, 'Değişken Önem Düzeyleri')"
      ]
     },
     "execution_count": 131,
     "metadata": {},
     "output_type": "execute_result"
    },
    {
     "data": {
      "image/png": "[encoded data removed]",
      "text/plain": [
       "<Figure size 640x480 with 1 Axes>"
      ]
     },
     "metadata": {},
     "output_type": "display_data"
    }
   ],
   "source": [
    "Importance.sort_values(by = \"Importance\", \n",
    "                       axis = 0, \n",
    "                       ascending = True).plot(kind =\"barh\", color = \"r\")\n",
    "\n",
    "plt.xlabel(\"Değişken Önem Düzeyleri\")"
   ]
  },
  {
   "cell_type": "markdown",
   "id": "36d7ad7a-34b2-40f4-ba2b-33a5ef45ceec",
   "metadata": {},
   "source": [
    "# GRADIENT BOOSTING MACHINES"
   ]
  },
  {
   "cell_type": "markdown",
   "id": "fefe1be3-82c9-43bb-b801-bb3accf46ca9",
   "metadata": {},
   "source": [
    "AdaBoost'un sınıflandırma ve regresyon problemlerine kolayca uyarlanabilen genelleştirilmiş versiyonudur. Artıklar üzerine tek bir tahminsel model formunda olan modeller serisi kurulur."
   ]
  },
  {
   "cell_type": "markdown",
   "id": "2ef5ab1f-2fa6-48f9-9ad3-2835e38f5ade",
   "metadata": {},
   "source": [
    "# Model - Tahmin"
   ]
  },
  {
   "cell_type": "code",
   "execution_count": 132,
   "id": "0812b755-db20-4319-a41e-59f68d5fbf4e",
   "metadata": {},
   "outputs": [],
   "source": [
    "df = diabetes.copy()\n",
    "df = df.dropna()\n",
    "y = df[\"Outcome\"]\n",
    "X = df.drop(['Outcome'], axis=1)\n",
    "#X = df[\"Pregnancies\"]\n",
    "X = pd.DataFrame(X)\n",
    "X_train, X_test, y_train, y_test = train_test_split(X, y, \n",
    "                                                    test_size=0.30, \n",
    "                                                    random_state=42)"
   ]
  },
  {
   "cell_type": "code",
   "execution_count": 133,
   "id": "423fd51d-9313-4c2b-adee-ad697a616e95",
   "metadata": {},
   "outputs": [],
   "source": [
    "from sklearn.ensemble import GradientBoostingClassifier"
   ]
  },
  {
   "cell_type": "code",
   "execution_count": 134,
   "id": "1824b08d-0c1d-4357-aad2-ac31e57d8e2d",
   "metadata": {},
   "outputs": [],
   "source": [
    "gbm_model = GradientBoostingClassifier().fit(X_train, y_train)"
   ]
  },
  {
   "cell_type": "code",
   "execution_count": 135,
   "id": "a67229f2-08be-4c7a-b618-4db2e50757b9",
   "metadata": {},
   "outputs": [
    {
     "data": {
      "text/plain": [
       "0.7445887445887446"
      ]
     },
     "execution_count": 135,
     "metadata": {},
     "output_type": "execute_result"
    }
   ],
   "source": [
    "y_pred = gbm_model.predict(X_test)\n",
    "accuracy_score(y_test, y_pred)"
   ]
  },
  {
   "cell_type": "markdown",
   "id": "7435e704-2af1-40f2-a532-c32f285a1556",
   "metadata": {},
   "source": [
    "# Model Tuning"
   ]
  },
  {
   "cell_type": "code",
   "execution_count": 136,
   "id": "62c8166a-6fd4-42fd-87ed-9c415eb2b847",
   "metadata": {
    "collapsed": true,
    "jupyter": {
     "outputs_hidden": true
    },
    "tags": []
   },
   "outputs": [
    {
     "data": {
      "text/plain": [
       "\u001b[1;31mType:\u001b[0m        GradientBoostingClassifier\n",
       "\u001b[1;31mString form:\u001b[0m GradientBoostingClassifier()\n",
       "\u001b[1;31mLength:\u001b[0m      100\n",
       "\u001b[1;31mFile:\u001b[0m        c:\\users\\hakan\\anaconda3\\lib\\site-packages\\sklearn\\ensemble\\_gb.py\n",
       "\u001b[1;31mDocstring:\u001b[0m  \n",
       "Gradient Boosting for classification.\n",
       "\n",
       "GB builds an additive model in a\n",
       "forward stage-wise fashion; it allows for the optimization of\n",
       "arbitrary differentiable loss functions. In each stage ``n_classes_``\n",
       "regression trees are fit on the negative gradient of the\n",
       "binomial or multinomial deviance loss function. Binary classification\n",
       "is a special case where only a single regression tree is induced.\n",
       "\n",
       "Read more in the :ref:`User Guide <gradient_boosting>`.\n",
       "\n",
       "Parameters\n",
       "----------\n",
       "loss : {'deviance', 'exponential'}, default='deviance'\n",
       "    The loss function to be optimized. 'deviance' refers to\n",
       "    deviance (= logistic regression) for classification\n",
       "    with probabilistic outputs. For loss 'exponential' gradient\n",
       "    boosting recovers the AdaBoost algorithm.\n",
       "\n",
       "learning_rate : float, default=0.1\n",
       "    Learning rate shrinks the contribution of each tree by `learning_rate`.\n",
       "    There is a trade-off between learning_rate and n_estimators.\n",
       "\n",
       "n_estimators : int, default=100\n",
       "    The number of boosting stages to perform. Gradient boosting\n",
       "    is fairly robust to over-fitting so a large number usually\n",
       "    results in better performance.\n",
       "\n",
       "subsample : float, default=1.0\n",
       "    The fraction of samples to be used for fitting the individual base\n",
       "    learners. If smaller than 1.0 this results in Stochastic Gradient\n",
       "    Boosting. `subsample` interacts with the parameter `n_estimators`.\n",
       "    Choosing `subsample < 1.0` leads to a reduction of variance\n",
       "    and an increase in bias.\n",
       "\n",
       "criterion : {'friedman_mse', 'squared_error', 'mse', 'mae'},             default='friedman_mse'\n",
       "    The function to measure the quality of a split. Supported criteria\n",
       "    are 'friedman_mse' for the mean squared error with improvement\n",
       "    score by Friedman, 'squared_error' for mean squared error, and 'mae'\n",
       "    for the mean absolute error. The default value of 'friedman_mse' is\n",
       "    generally the best as it can provide a better approximation in some\n",
       "    cases.\n",
       "\n",
       "    .. versionadded:: 0.18\n",
       "\n",
       "    .. deprecated:: 0.24\n",
       "        `criterion='mae'` is deprecated and will be removed in version\n",
       "        1.1 (renaming of 0.26). Use `criterion='friedman_mse'` or\n",
       "        `'squared_error'` instead, as trees should use a squared error\n",
       "        criterion in Gradient Boosting.\n",
       "\n",
       "    .. deprecated:: 1.0\n",
       "        Criterion 'mse' was deprecated in v1.0 and will be removed in\n",
       "        version 1.2. Use `criterion='squared_error'` which is equivalent.\n",
       "\n",
       "min_samples_split : int or float, default=2\n",
       "    The minimum number of samples required to split an internal node:\n",
       "\n",
       "    - If int, then consider `min_samples_split` as the minimum number.\n",
       "    - If float, then `min_samples_split` is a fraction and\n",
       "      `ceil(min_samples_split * n_samples)` are the minimum\n",
       "      number of samples for each split.\n",
       "\n",
       "    .. versionchanged:: 0.18\n",
       "       Added float values for fractions.\n",
       "\n",
       "min_samples_leaf : int or float, default=1\n",
       "    The minimum number of samples required to be at a leaf node.\n",
       "    A split point at any depth will only be considered if it leaves at\n",
       "    least ``min_samples_leaf`` training samples in each of the left and\n",
       "    right branches.  This may have the effect of smoothing the model,\n",
       "    especially in regression.\n",
       "\n",
       "    - If int, then consider `min_samples_leaf` as the minimum number.\n",
       "    - If float, then `min_samples_leaf` is a fraction and\n",
       "      `ceil(min_samples_leaf * n_samples)` are the minimum\n",
       "      number of samples for each node.\n",
       "\n",
       "    .. versionchanged:: 0.18\n",
       "       Added float values for fractions.\n",
       "\n",
       "min_weight_fraction_leaf : float, default=0.0\n",
       "    The minimum weighted fraction of the sum total of weights (of all\n",
       "    the input samples) required to be at a leaf node. Samples have\n",
       "    equal weight when sample_weight is not provided.\n",
       "\n",
       "max_depth : int, default=3\n",
       "    The maximum depth of the individual regression estimators. The maximum\n",
       "    depth limits the number of nodes in the tree. Tune this parameter\n",
       "    for best performance; the best value depends on the interaction\n",
       "    of the input variables.\n",
       "\n",
       "min_impurity_decrease : float, default=0.0\n",
       "    A node will be split if this split induces a decrease of the impurity\n",
       "    greater than or equal to this value.\n",
       "\n",
       "    The weighted impurity decrease equation is the following::\n",
       "\n",
       "        N_t / N * (impurity - N_t_R / N_t * right_impurity\n",
       "                            - N_t_L / N_t * left_impurity)\n",
       "\n",
       "    where ``N`` is the total number of samples, ``N_t`` is the number of\n",
       "    samples at the current node, ``N_t_L`` is the number of samples in the\n",
       "    left child, and ``N_t_R`` is the number of samples in the right child.\n",
       "\n",
       "    ``N``, ``N_t``, ``N_t_R`` and ``N_t_L`` all refer to the weighted sum,\n",
       "    if ``sample_weight`` is passed.\n",
       "\n",
       "    .. versionadded:: 0.19\n",
       "\n",
       "init : estimator or 'zero', default=None\n",
       "    An estimator object that is used to compute the initial predictions.\n",
       "    ``init`` has to provide :meth:`fit` and :meth:`predict_proba`. If\n",
       "    'zero', the initial raw predictions are set to zero. By default, a\n",
       "    ``DummyEstimator`` predicting the classes priors is used.\n",
       "\n",
       "random_state : int, RandomState instance or None, default=None\n",
       "    Controls the random seed given to each Tree estimator at each\n",
       "    boosting iteration.\n",
       "    In addition, it controls the random permutation of the features at\n",
       "    each split (see Notes for more details).\n",
       "    It also controls the random splitting of the training data to obtain a\n",
       "    validation set if `n_iter_no_change` is not None.\n",
       "    Pass an int for reproducible output across multiple function calls.\n",
       "    See :term:`Glossary <random_state>`.\n",
       "\n",
       "max_features : {'auto', 'sqrt', 'log2'}, int or float, default=None\n",
       "    The number of features to consider when looking for the best split:\n",
       "\n",
       "    - If int, then consider `max_features` features at each split.\n",
       "    - If float, then `max_features` is a fraction and\n",
       "      `int(max_features * n_features)` features are considered at each\n",
       "      split.\n",
       "    - If 'auto', then `max_features=sqrt(n_features)`.\n",
       "    - If 'sqrt', then `max_features=sqrt(n_features)`.\n",
       "    - If 'log2', then `max_features=log2(n_features)`.\n",
       "    - If None, then `max_features=n_features`.\n",
       "\n",
       "    Choosing `max_features < n_features` leads to a reduction of variance\n",
       "    and an increase in bias.\n",
       "\n",
       "    Note: the search for a split does not stop until at least one\n",
       "    valid partition of the node samples is found, even if it requires to\n",
       "    effectively inspect more than ``max_features`` features.\n",
       "\n",
       "verbose : int, default=0\n",
       "    Enable verbose output. If 1 then it prints progress and performance\n",
       "    once in a while (the more trees the lower the frequency). If greater\n",
       "    than 1 then it prints progress and performance for every tree.\n",
       "\n",
       "max_leaf_nodes : int, default=None\n",
       "    Grow trees with ``max_leaf_nodes`` in best-first fashion.\n",
       "    Best nodes are defined as relative reduction in impurity.\n",
       "    If None then unlimited number of leaf nodes.\n",
       "\n",
       "warm_start : bool, default=False\n",
       "    When set to ``True``, reuse the solution of the previous call to fit\n",
       "    and add more estimators to the ensemble, otherwise, just erase the\n",
       "    previous solution. See :term:`the Glossary <warm_start>`.\n",
       "\n",
       "validation_fraction : float, default=0.1\n",
       "    The proportion of training data to set aside as validation set for\n",
       "    early stopping. Must be between 0 and 1.\n",
       "    Only used if ``n_iter_no_change`` is set to an integer.\n",
       "\n",
       "    .. versionadded:: 0.20\n",
       "\n",
       "n_iter_no_change : int, default=None\n",
       "    ``n_iter_no_change`` is used to decide if early stopping will be used\n",
       "    to terminate training when validation score is not improving. By\n",
       "    default it is set to None to disable early stopping. If set to a\n",
       "    number, it will set aside ``validation_fraction`` size of the training\n",
       "    data as validation and terminate training when validation score is not\n",
       "    improving in all of the previous ``n_iter_no_change`` numbers of\n",
       "    iterations. The split is stratified.\n",
       "\n",
       "    .. versionadded:: 0.20\n",
       "\n",
       "tol : float, default=1e-4\n",
       "    Tolerance for the early stopping. When the loss is not improving\n",
       "    by at least tol for ``n_iter_no_change`` iterations (if set to a\n",
       "    number), the training stops.\n",
       "\n",
       "    .. versionadded:: 0.20\n",
       "\n",
       "ccp_alpha : non-negative float, default=0.0\n",
       "    Complexity parameter used for Minimal Cost-Complexity Pruning. The\n",
       "    subtree with the largest cost complexity that is smaller than\n",
       "    ``ccp_alpha`` will be chosen. By default, no pruning is performed. See\n",
       "    :ref:`minimal_cost_complexity_pruning` for details.\n",
       "\n",
       "    .. versionadded:: 0.22\n",
       "\n",
       "Attributes\n",
       "----------\n",
       "n_estimators_ : int\n",
       "    The number of estimators as selected by early stopping (if\n",
       "    ``n_iter_no_change`` is specified). Otherwise it is set to\n",
       "    ``n_estimators``.\n",
       "\n",
       "    .. versionadded:: 0.20\n",
       "\n",
       "feature_importances_ : ndarray of shape (n_features,)\n",
       "    The impurity-based feature importances.\n",
       "    The higher, the more important the feature.\n",
       "    The importance of a feature is computed as the (normalized)\n",
       "    total reduction of the criterion brought by that feature.  It is also\n",
       "    known as the Gini importance.\n",
       "\n",
       "    Warning: impurity-based feature importances can be misleading for\n",
       "    high cardinality features (many unique values). See\n",
       "    :func:`sklearn.inspection.permutation_importance` as an alternative.\n",
       "\n",
       "oob_improvement_ : ndarray of shape (n_estimators,)\n",
       "    The improvement in loss (= deviance) on the out-of-bag samples\n",
       "    relative to the previous iteration.\n",
       "    ``oob_improvement_[0]`` is the improvement in\n",
       "    loss of the first stage over the ``init`` estimator.\n",
       "    Only available if ``subsample < 1.0``\n",
       "\n",
       "train_score_ : ndarray of shape (n_estimators,)\n",
       "    The i-th score ``train_score_[i]`` is the deviance (= loss) of the\n",
       "    model at iteration ``i`` on the in-bag sample.\n",
       "    If ``subsample == 1`` this is the deviance on the training data.\n",
       "\n",
       "loss_ : LossFunction\n",
       "    The concrete ``LossFunction`` object.\n",
       "\n",
       "init_ : estimator\n",
       "    The estimator that provides the initial predictions.\n",
       "    Set via the ``init`` argument or ``loss.init_estimator``.\n",
       "\n",
       "estimators_ : ndarray of DecisionTreeRegressor of             shape (n_estimators, ``loss_.K``)\n",
       "    The collection of fitted sub-estimators. ``loss_.K`` is 1 for binary\n",
       "    classification, otherwise n_classes.\n",
       "\n",
       "classes_ : ndarray of shape (n_classes,)\n",
       "    The classes labels.\n",
       "\n",
       "n_features_ : int\n",
       "    The number of data features.\n",
       "\n",
       "    .. deprecated:: 1.0\n",
       "        Attribute `n_features_` was deprecated in version 1.0 and will be\n",
       "        removed in 1.2. Use `n_features_in_` instead.\n",
       "\n",
       "n_features_in_ : int\n",
       "    Number of features seen during :term:`fit`.\n",
       "\n",
       "    .. versionadded:: 0.24\n",
       "\n",
       "feature_names_in_ : ndarray of shape (`n_features_in_`,)\n",
       "    Names of features seen during :term:`fit`. Defined only when `X`\n",
       "    has feature names that are all strings.\n",
       "\n",
       "    .. versionadded:: 1.0\n",
       "\n",
       "n_classes_ : int\n",
       "    The number of classes.\n",
       "\n",
       "max_features_ : int\n",
       "    The inferred value of max_features.\n",
       "\n",
       "See Also\n",
       "--------\n",
       "HistGradientBoostingClassifier : Histogram-based Gradient Boosting\n",
       "    Classification Tree.\n",
       "sklearn.tree.DecisionTreeClassifier : A decision tree classifier.\n",
       "RandomForestClassifier : A meta-estimator that fits a number of decision\n",
       "    tree classifiers on various sub-samples of the dataset and uses\n",
       "    averaging to improve the predictive accuracy and control over-fitting.\n",
       "AdaBoostClassifier : A meta-estimator that begins by fitting a classifier\n",
       "    on the original dataset and then fits additional copies of the\n",
       "    classifier on the same dataset where the weights of incorrectly\n",
       "    classified instances are adjusted such that subsequent classifiers\n",
       "    focus more on difficult cases.\n",
       "\n",
       "Notes\n",
       "-----\n",
       "The features are always randomly permuted at each split. Therefore,\n",
       "the best found split may vary, even with the same training data and\n",
       "``max_features=n_features``, if the improvement of the criterion is\n",
       "identical for several splits enumerated during the search of the best\n",
       "split. To obtain a deterministic behaviour during fitting,\n",
       "``random_state`` has to be fixed.\n",
       "\n",
       "References\n",
       "----------\n",
       "J. Friedman, Greedy Function Approximation: A Gradient Boosting\n",
       "Machine, The Annals of Statistics, Vol. 29, No. 5, 2001.\n",
       "\n",
       "J. Friedman, Stochastic Gradient Boosting, 1999\n",
       "\n",
       "T. Hastie, R. Tibshirani and J. Friedman.\n",
       "Elements of Statistical Learning Ed. 2, Springer, 2009.\n",
       "\n",
       "Examples\n",
       "--------\n",
       "The following example shows how to fit a gradient boosting classifier with\n",
       "100 decision stumps as weak learners.\n",
       "\n",
       ">>> from sklearn.datasets import make_hastie_10_2\n",
       ">>> from sklearn.ensemble import GradientBoostingClassifier\n",
       "\n",
       ">>> X, y = make_hastie_10_2(random_state=0)\n",
       ">>> X_train, X_test = X[:2000], X[2000:]\n",
       ">>> y_train, y_test = y[:2000], y[2000:]\n",
       "\n",
       ">>> clf = GradientBoostingClassifier(n_estimators=100, learning_rate=1.0,\n",
       "...     max_depth=1, random_state=0).fit(X_train, y_train)\n",
       ">>> clf.score(X_test, y_test)\n",
       "0.913...\n"
      ]
     },
     "metadata": {},
     "output_type": "display_data"
    }
   ],
   "source": [
    "?gbm_model"
   ]
  },
  {
   "cell_type": "code",
   "execution_count": 137,
   "id": "b39234b8-b60c-4ab1-a20f-b13b9ac76891",
   "metadata": {},
   "outputs": [],
   "source": [
    "gbm_params = {\"learning_rate\" : [0.001, 0.01, 0.1, 0.05],\n",
    "             \"n_estimators\": [100,500,100],\n",
    "             \"max_depth\": [3,5,10],\n",
    "             \"min_samples_split\": [2,5,10]}"
   ]
  },
  {
   "cell_type": "code",
   "execution_count": 138,
   "id": "83a93504-aa38-46c3-b45a-c0f86ab13c0e",
   "metadata": {},
   "outputs": [],
   "source": [
    "gbm = GradientBoostingClassifier()\n",
    "\n",
    "gbm_cv = GridSearchCV(gbm, gbm_params, cv = 10, n_jobs = -1, verbose = 2)"
   ]
  },
  {
   "cell_type": "code",
   "execution_count": 139,
   "id": "bdcf54fd-6abb-4de1-9482-65ac873004f8",
   "metadata": {},
   "outputs": [
    {
     "name": "stdout",
     "output_type": "stream",
     "text": [
      "Fitting 10 folds for each of 108 candidates, totalling 1080 fits\n"
     ]
    },
    {
     "data": {
      "text/plain": [
       "GridSearchCV(cv=10, estimator=GradientBoostingClassifier(), n_jobs=-1,\n",
       "             param_grid={'learning_rate': [0.001, 0.01, 0.1, 0.05],\n",
       "                         'max_depth': [3, 5, 10],\n",
       "                         'min_samples_split': [2, 5, 10],\n",
       "                         'n_estimators': [100, 500, 100]},\n",
       "             verbose=2)"
      ]
     },
     "execution_count": 139,
     "metadata": {},
     "output_type": "execute_result"
    }
   ],
   "source": [
    "gbm_cv.fit(X_train, y_train)"
   ]
  },
  {
   "cell_type": "code",
   "execution_count": 140,
   "id": "d6fbda41-1990-42f9-bdf1-e9f6d7fb667f",
   "metadata": {},
   "outputs": [
    {
     "name": "stdout",
     "output_type": "stream",
     "text": [
      "En iyi parametreler: {'learning_rate': 0.1, 'max_depth': 3, 'min_samples_split': 5, 'n_estimators': 100}\n"
     ]
    }
   ],
   "source": [
    "print(\"En iyi parametreler: \" + str(gbm_cv.best_params_))"
   ]
  },
  {
   "cell_type": "code",
   "execution_count": 147,
   "id": "b0499e76-136a-4fed-86dd-d637ab36b382",
   "metadata": {},
   "outputs": [],
   "source": [
    "gbm = GradientBoostingClassifier(learning_rate = 0.1, \n",
    "                                 max_depth = 3,\n",
    "                                min_samples_split = 5,\n",
    "                                n_estimators = 100)"
   ]
  },
  {
   "cell_type": "code",
   "execution_count": 148,
   "id": "1e6170e7-ffab-41f8-a0a4-ea3d06b4485e",
   "metadata": {},
   "outputs": [],
   "source": [
    "gbm_tuned =  gbm.fit(X_train,y_train)"
   ]
  },
  {
   "cell_type": "code",
   "execution_count": 149,
   "id": "049cbf05-6af8-4efc-a38b-b9100273aa61",
   "metadata": {},
   "outputs": [
    {
     "data": {
      "text/plain": [
       "0.7445887445887446"
      ]
     },
     "execution_count": 149,
     "metadata": {},
     "output_type": "execute_result"
    }
   ],
   "source": [
    "y_pred = gbm_tuned.predict(X_test)\n",
    "accuracy_score(y_test, y_pred)"
   ]
  },
  {
   "cell_type": "markdown",
   "id": "4a2f2d45-1ec2-43f7-a623-376bdd503ebe",
   "metadata": {},
   "source": [
    "# XGBOOST"
   ]
  },
  {
   "cell_type": "markdown",
   "id": "fc0d2aa4-00bb-49b5-a78b-d2796bea0e37",
   "metadata": {},
   "source": [
    "XGBoost, GBM'in hzı ve tahmin performansını arttırmak üzere optimize edilmiş; ölçeklenebilir ve farklı platformlara entegre edilebilir halidir."
   ]
  },
  {
   "cell_type": "markdown",
   "id": "f2917a3f-0693-4658-9916-2cdba4448eaa",
   "metadata": {},
   "source": [
    "# Model - Tahmin"
   ]
  },
  {
   "cell_type": "code",
   "execution_count": 150,
   "id": "e821ce82-0c2b-40ae-899b-999291057ac2",
   "metadata": {},
   "outputs": [],
   "source": [
    "df = diabetes.copy()\n",
    "df = df.dropna()\n",
    "y = df[\"Outcome\"]\n",
    "X = df.drop(['Outcome'], axis=1)\n",
    "#X = df[\"Pregnancies\"]\n",
    "X = pd.DataFrame(X)\n",
    "X_train, X_test, y_train, y_test = train_test_split(X, y, \n",
    "                                                    test_size=0.30, \n",
    "                                                    random_state=42)"
   ]
  },
  {
   "cell_type": "code",
   "execution_count": 151,
   "id": "14cd38dc-a44d-4509-9a7d-60aac21f687d",
   "metadata": {},
   "outputs": [],
   "source": [
    "#!pip install xgboost\n",
    "from xgboost import XGBClassifier"
   ]
  },
  {
   "cell_type": "code",
   "execution_count": 152,
   "id": "ed4ec606-f491-4824-81ca-1c7cf832a3dd",
   "metadata": {},
   "outputs": [],
   "source": [
    "xgb_model = XGBClassifier().fit(X_train, y_train)"
   ]
  },
  {
   "cell_type": "code",
   "execution_count": 153,
   "id": "9a15ebb4-932f-4b34-8764-cd17b094026a",
   "metadata": {},
   "outputs": [
    {
     "data": {
      "text/plain": [
       "XGBClassifier(base_score=None, booster=None, callbacks=None,\n",
       "              colsample_bylevel=None, colsample_bynode=None,\n",
       "              colsample_bytree=None, device=None, early_stopping_rounds=None,\n",
       "              enable_categorical=False, eval_metric=None, feature_types=None,\n",
       "              gamma=None, grow_policy=None, importance_type=None,\n",
       "              interaction_constraints=None, learning_rate=None, max_bin=None,\n",
       "              max_cat_threshold=None, max_cat_to_onehot=None,\n",
       "              max_delta_step=None, max_depth=None, max_leaves=None,\n",
       "              min_child_weight=None, missing=nan, monotone_constraints=None,\n",
       "              multi_strategy=None, n_estimators=None, n_jobs=None,\n",
       "              num_parallel_tree=None, random_state=None, ...)"
      ]
     },
     "execution_count": 153,
     "metadata": {},
     "output_type": "execute_result"
    }
   ],
   "source": [
    "xgb_model"
   ]
  },
  {
   "cell_type": "code",
   "execution_count": 154,
   "id": "11a88907-e3fa-4e7f-b5f9-bfe34681b6f3",
   "metadata": {},
   "outputs": [
    {
     "data": {
      "text/plain": [
       "0.7272727272727273"
      ]
     },
     "execution_count": 154,
     "metadata": {},
     "output_type": "execute_result"
    }
   ],
   "source": [
    "y_pred = xgb_model.predict(X_test)\n",
    "accuracy_score(y_test, y_pred)"
   ]
  },
  {
   "cell_type": "markdown",
   "id": "46717d3c-95ef-46aa-b4ce-72a3ce5cdd57",
   "metadata": {},
   "source": [
    "# Model Tuning"
   ]
  },
  {
   "cell_type": "code",
   "execution_count": 155,
   "id": "fb7cb143-17eb-440b-8b7b-5eade0f19e7e",
   "metadata": {
    "collapsed": true,
    "jupyter": {
     "outputs_hidden": true
    },
    "tags": []
   },
   "outputs": [
    {
     "data": {
      "text/plain": [
       "\u001b[1;31mType:\u001b[0m        XGBClassifier\n",
       "\u001b[1;31mString form:\u001b[0m\n",
       "XGBClassifier(base_score=None, booster=None, callbacks=None,\n",
       "           colsample_bylevel=None <...> ne, n_estimators=None, n_jobs=None,\n",
       "           num_parallel_tree=None, random_state=None, ...)\n",
       "\u001b[1;31mFile:\u001b[0m        c:\\users\\hakan\\anaconda3\\lib\\site-packages\\xgboost\\sklearn.py\n",
       "\u001b[1;31mDocstring:\u001b[0m  \n",
       "Implementation of the scikit-learn API for XGBoost classification.\n",
       "See :doc:`/python/sklearn_estimator` for more information.\n",
       "\n",
       "Parameters\n",
       "----------\n",
       "\n",
       "    n_estimators : Optional[int]\n",
       "        Number of boosting rounds.\n",
       "\n",
       "    max_depth :  Optional[int]\n",
       "        Maximum tree depth for base learners.\n",
       "    max_leaves :\n",
       "        Maximum number of leaves; 0 indicates no limit.\n",
       "    max_bin :\n",
       "        If using histogram-based algorithm, maximum number of bins per feature\n",
       "    grow_policy :\n",
       "        Tree growing policy. 0: favor splitting at nodes closest to the node, i.e. grow\n",
       "        depth-wise. 1: favor splitting at nodes with highest loss change.\n",
       "    learning_rate : Optional[float]\n",
       "        Boosting learning rate (xgb's \"eta\")\n",
       "    verbosity : Optional[int]\n",
       "        The degree of verbosity. Valid values are 0 (silent) - 3 (debug).\n",
       "    objective : typing.Union[str, typing.Callable[[numpy.ndarray, numpy.ndarray], typing.Tuple[numpy.ndarray, numpy.ndarray]], NoneType]\n",
       "        Specify the learning task and the corresponding learning objective or\n",
       "        a custom objective function to be used (see note below).\n",
       "    booster: Optional[str]\n",
       "        Specify which booster to use: gbtree, gblinear or dart.\n",
       "    tree_method: Optional[str]\n",
       "        Specify which tree method to use.  Default to auto.  If this parameter is set to\n",
       "        default, XGBoost will choose the most conservative option available.  It's\n",
       "        recommended to study this option from the parameters document :doc:`tree method\n",
       "        </treemethod>`\n",
       "    n_jobs : Optional[int]\n",
       "        Number of parallel threads used to run xgboost.  When used with other\n",
       "        Scikit-Learn algorithms like grid search, you may choose which algorithm to\n",
       "        parallelize and balance the threads.  Creating thread contention will\n",
       "        significantly slow down both algorithms.\n",
       "    gamma : Optional[float]\n",
       "        (min_split_loss) Minimum loss reduction required to make a further partition on a\n",
       "        leaf node of the tree.\n",
       "    min_child_weight : Optional[float]\n",
       "        Minimum sum of instance weight(hessian) needed in a child.\n",
       "    max_delta_step : Optional[float]\n",
       "        Maximum delta step we allow each tree's weight estimation to be.\n",
       "    subsample : Optional[float]\n",
       "        Subsample ratio of the training instance.\n",
       "    sampling_method :\n",
       "        Sampling method. Used only by the GPU version of ``hist`` tree method.\n",
       "          - ``uniform``: select random training instances uniformly.\n",
       "          - ``gradient_based`` select random training instances with higher probability\n",
       "            when the gradient and hessian are larger. (cf. CatBoost)\n",
       "    colsample_bytree : Optional[float]\n",
       "        Subsample ratio of columns when constructing each tree.\n",
       "    colsample_bylevel : Optional[float]\n",
       "        Subsample ratio of columns for each level.\n",
       "    colsample_bynode : Optional[float]\n",
       "        Subsample ratio of columns for each split.\n",
       "    reg_alpha : Optional[float]\n",
       "        L1 regularization term on weights (xgb's alpha).\n",
       "    reg_lambda : Optional[float]\n",
       "        L2 regularization term on weights (xgb's lambda).\n",
       "    scale_pos_weight : Optional[float]\n",
       "        Balancing of positive and negative weights.\n",
       "    base_score : Optional[float]\n",
       "        The initial prediction score of all instances, global bias.\n",
       "    random_state : Optional[Union[numpy.random.RandomState, int]]\n",
       "        Random number seed.\n",
       "\n",
       "        .. note::\n",
       "\n",
       "           Using gblinear booster with shotgun updater is nondeterministic as\n",
       "           it uses Hogwild algorithm.\n",
       "\n",
       "    missing : float, default np.nan\n",
       "        Value in the data which needs to be present as a missing value.\n",
       "    num_parallel_tree: Optional[int]\n",
       "        Used for boosting random forest.\n",
       "    monotone_constraints : Optional[Union[Dict[str, int], str]]\n",
       "        Constraint of variable monotonicity.  See :doc:`tutorial </tutorials/monotonic>`\n",
       "        for more information.\n",
       "    interaction_constraints : Optional[Union[str, List[Tuple[str]]]]\n",
       "        Constraints for interaction representing permitted interactions.  The\n",
       "        constraints must be specified in the form of a nested list, e.g. ``[[0, 1], [2,\n",
       "        3, 4]]``, where each inner list is a group of indices of features that are\n",
       "        allowed to interact with each other.  See :doc:`tutorial\n",
       "        </tutorials/feature_interaction_constraint>` for more information\n",
       "    importance_type: Optional[str]\n",
       "        The feature importance type for the feature_importances\\_ property:\n",
       "\n",
       "        * For tree model, it's either \"gain\", \"weight\", \"cover\", \"total_gain\" or\n",
       "          \"total_cover\".\n",
       "        * For linear model, only \"weight\" is defined and it's the normalized coefficients\n",
       "          without bias.\n",
       "\n",
       "    device : Optional[str]\n",
       "\n",
       "        .. versionadded:: 2.0.0\n",
       "\n",
       "        Device ordinal, available options are `cpu`, `cuda`, and `gpu`.\n",
       "\n",
       "    validate_parameters : Optional[bool]\n",
       "\n",
       "        Give warnings for unknown parameter.\n",
       "\n",
       "    enable_categorical : bool\n",
       "\n",
       "        .. versionadded:: 1.5.0\n",
       "\n",
       "        .. note:: This parameter is experimental\n",
       "\n",
       "        Experimental support for categorical data.  When enabled, cudf/pandas.DataFrame\n",
       "        should be used to specify categorical data type.  Also, JSON/UBJSON\n",
       "        serialization format is required.\n",
       "\n",
       "    feature_types : Optional[FeatureTypes]\n",
       "\n",
       "        .. versionadded:: 1.7.0\n",
       "\n",
       "        Used for specifying feature types without constructing a dataframe. See\n",
       "        :py:class:`DMatrix` for details.\n",
       "\n",
       "    max_cat_to_onehot : Optional[int]\n",
       "\n",
       "        .. versionadded:: 1.6.0\n",
       "\n",
       "        .. note:: This parameter is experimental\n",
       "\n",
       "        A threshold for deciding whether XGBoost should use one-hot encoding based split\n",
       "        for categorical data.  When number of categories is lesser than the threshold\n",
       "        then one-hot encoding is chosen, otherwise the categories will be partitioned\n",
       "        into children nodes. Also, `enable_categorical` needs to be set to have\n",
       "        categorical feature support. See :doc:`Categorical Data\n",
       "        </tutorials/categorical>` and :ref:`cat-param` for details.\n",
       "\n",
       "    max_cat_threshold : Optional[int]\n",
       "\n",
       "        .. versionadded:: 1.7.0\n",
       "\n",
       "        .. note:: This parameter is experimental\n",
       "\n",
       "        Maximum number of categories considered for each split. Used only by\n",
       "        partition-based splits for preventing over-fitting. Also, `enable_categorical`\n",
       "        needs to be set to have categorical feature support. See :doc:`Categorical Data\n",
       "        </tutorials/categorical>` and :ref:`cat-param` for details.\n",
       "\n",
       "    multi_strategy : Optional[str]\n",
       "\n",
       "        .. versionadded:: 2.0.0\n",
       "\n",
       "        .. note:: This parameter is working-in-progress.\n",
       "\n",
       "        The strategy used for training multi-target models, including multi-target\n",
       "        regression and multi-class classification. See :doc:`/tutorials/multioutput` for\n",
       "        more information.\n",
       "\n",
       "        - ``one_output_per_tree``: One model for each target.\n",
       "        - ``multi_output_tree``:  Use multi-target trees.\n",
       "\n",
       "    eval_metric : Optional[Union[str, List[str], Callable]]\n",
       "\n",
       "        .. versionadded:: 1.6.0\n",
       "\n",
       "        Metric used for monitoring the training result and early stopping.  It can be a\n",
       "        string or list of strings as names of predefined metric in XGBoost (See\n",
       "        doc/parameter.rst), one of the metrics in :py:mod:`sklearn.metrics`, or any other\n",
       "        user defined metric that looks like `sklearn.metrics`.\n",
       "\n",
       "        If custom objective is also provided, then custom metric should implement the\n",
       "        corresponding reverse link function.\n",
       "\n",
       "        Unlike the `scoring` parameter commonly used in scikit-learn, when a callable\n",
       "        object is provided, it's assumed to be a cost function and by default XGBoost will\n",
       "        minimize the result during early stopping.\n",
       "\n",
       "        For advanced usage on Early stopping like directly choosing to maximize instead of\n",
       "        minimize, see :py:obj:`xgboost.callback.EarlyStopping`.\n",
       "\n",
       "        See :doc:`Custom Objective and Evaluation Metric </tutorials/custom_metric_obj>`\n",
       "        for more.\n",
       "\n",
       "        .. note::\n",
       "\n",
       "             This parameter replaces `eval_metric` in :py:meth:`fit` method.  The old\n",
       "             one receives un-transformed prediction regardless of whether custom\n",
       "             objective is being used.\n",
       "\n",
       "        .. code-block:: python\n",
       "\n",
       "            from sklearn.datasets import load_diabetes\n",
       "            from sklearn.metrics import mean_absolute_error\n",
       "            X, y = load_diabetes(return_X_y=True)\n",
       "            reg = xgb.XGBRegressor(\n",
       "                tree_method=\"hist\",\n",
       "                eval_metric=mean_absolute_error,\n",
       "            )\n",
       "            reg.fit(X, y, eval_set=[(X, y)])\n",
       "\n",
       "    early_stopping_rounds : Optional[int]\n",
       "\n",
       "        .. versionadded:: 1.6.0\n",
       "\n",
       "        - Activates early stopping. Validation metric needs to improve at least once in\n",
       "          every **early_stopping_rounds** round(s) to continue training.  Requires at\n",
       "          least one item in **eval_set** in :py:meth:`fit`.\n",
       "\n",
       "        - If early stopping occurs, the model will have two additional attributes:\n",
       "          :py:attr:`best_score` and :py:attr:`best_iteration`. These are used by the\n",
       "          :py:meth:`predict` and :py:meth:`apply` methods to determine the optimal\n",
       "          number of trees during inference. If users want to access the full model\n",
       "          (including trees built after early stopping), they can specify the\n",
       "          `iteration_range` in these inference methods. In addition, other utilities\n",
       "          like model plotting can also use the entire model.\n",
       "\n",
       "        - If you prefer to discard the trees after `best_iteration`, consider using the\n",
       "          callback function :py:class:`xgboost.callback.EarlyStopping`.\n",
       "\n",
       "        - If there's more than one item in **eval_set**, the last entry will be used for\n",
       "          early stopping.  If there's more than one metric in **eval_metric**, the last\n",
       "          metric will be used for early stopping.\n",
       "\n",
       "        .. note::\n",
       "\n",
       "            This parameter replaces `early_stopping_rounds` in :py:meth:`fit` method.\n",
       "\n",
       "    callbacks : Optional[List[TrainingCallback]]\n",
       "        List of callback functions that are applied at end of each iteration.\n",
       "        It is possible to use predefined callbacks by using\n",
       "        :ref:`Callback API <callback_api>`.\n",
       "\n",
       "        .. note::\n",
       "\n",
       "           States in callback are not preserved during training, which means callback\n",
       "           objects can not be reused for multiple training sessions without\n",
       "           reinitialization or deepcopy.\n",
       "\n",
       "        .. code-block:: python\n",
       "\n",
       "            for params in parameters_grid:\n",
       "                # be sure to (re)initialize the callbacks before each run\n",
       "                callbacks = [xgb.callback.LearningRateScheduler(custom_rates)]\n",
       "                reg = xgboost.XGBRegressor(**params, callbacks=callbacks)\n",
       "                reg.fit(X, y)\n",
       "\n",
       "    kwargs : dict, optional\n",
       "        Keyword arguments for XGBoost Booster object.  Full documentation of parameters\n",
       "        can be found :doc:`here </parameter>`.\n",
       "        Attempting to set a parameter via the constructor args and \\*\\*kwargs\n",
       "        dict simultaneously will result in a TypeError.\n",
       "\n",
       "        .. note:: \\*\\*kwargs unsupported by scikit-learn\n",
       "\n",
       "            \\*\\*kwargs is unsupported by scikit-learn.  We do not guarantee\n",
       "            that parameters passed via this argument will interact properly\n",
       "            with scikit-learn.\n",
       "\n",
       "        .. note::  Custom objective function\n",
       "\n",
       "            A custom objective function can be provided for the ``objective``\n",
       "            parameter. In this case, it should have the signature\n",
       "            ``objective(y_true, y_pred) -> grad, hess``:\n",
       "\n",
       "            y_true: array_like of shape [n_samples]\n",
       "                The target values\n",
       "            y_pred: array_like of shape [n_samples]\n",
       "                The predicted values\n",
       "\n",
       "            grad: array_like of shape [n_samples]\n",
       "                The value of the gradient for each sample point.\n",
       "            hess: array_like of shape [n_samples]\n",
       "                The value of the second derivative for each sample point\n"
      ]
     },
     "metadata": {},
     "output_type": "display_data"
    }
   ],
   "source": [
    "?xgb_model"
   ]
  },
  {
   "cell_type": "code",
   "execution_count": 156,
   "id": "dcd0e8d6-212c-4d6a-8557-e33df924afa8",
   "metadata": {},
   "outputs": [],
   "source": [
    "xgb_params = {\n",
    "        'n_estimators': [100, 500, 1000, 2000],\n",
    "        'subsample': [0.6, 0.8, 1.0],\n",
    "        'max_depth': [3, 4, 5,6],\n",
    "        'learning_rate': [0.1,0.01,0.02,0.05],\n",
    "        \"min_samples_split\": [2,5,10]}"
   ]
  },
  {
   "cell_type": "code",
   "execution_count": 157,
   "id": "515f0867-3c27-4b30-a670-b635c43cfccc",
   "metadata": {},
   "outputs": [],
   "source": [
    "xgb = XGBClassifier()\n",
    "\n",
    "xgb_cv_model = GridSearchCV(xgb, xgb_params, cv = 10, n_jobs = -1, verbose = 2)"
   ]
  },
  {
   "cell_type": "code",
   "execution_count": 158,
   "id": "f6b4988a-36d2-4600-b4cc-65b667f071b6",
   "metadata": {},
   "outputs": [
    {
     "name": "stdout",
     "output_type": "stream",
     "text": [
      "Fitting 10 folds for each of 576 candidates, totalling 5760 fits\n"
     ]
    },
    {
     "data": {
      "text/plain": [
       "GridSearchCV(cv=10,\n",
       "             estimator=XGBClassifier(base_score=None, booster=None,\n",
       "                                     callbacks=None, colsample_bylevel=None,\n",
       "                                     colsample_bynode=None,\n",
       "                                     colsample_bytree=None, device=None,\n",
       "                                     early_stopping_rounds=None,\n",
       "                                     enable_categorical=False, eval_metric=None,\n",
       "                                     feature_types=None, gamma=None,\n",
       "                                     grow_policy=None, importance_type=None,\n",
       "                                     interaction_constraints=None,\n",
       "                                     learning_rate=None...\n",
       "                                     max_leaves=None, min_child_weight=None,\n",
       "                                     missing=nan, monotone_constraints=None,\n",
       "                                     multi_strategy=None, n_estimators=None,\n",
       "                                     n_jobs=None, num_parallel_tree=None,\n",
       "                                     random_state=None, ...),\n",
       "             n_jobs=-1,\n",
       "             param_grid={'learning_rate': [0.1, 0.01, 0.02, 0.05],\n",
       "                         'max_depth': [3, 4, 5, 6],\n",
       "                         'min_samples_split': [2, 5, 10],\n",
       "                         'n_estimators': [100, 500, 1000, 2000],\n",
       "                         'subsample': [0.6, 0.8, 1.0]},\n",
       "             verbose=2)"
      ]
     },
     "execution_count": 158,
     "metadata": {},
     "output_type": "execute_result"
    }
   ],
   "source": [
    "xgb_cv_model.fit(X_train, y_train)"
   ]
  },
  {
   "cell_type": "code",
   "execution_count": 159,
   "id": "93294d2e-51aa-4894-b27a-622a7c18c2f1",
   "metadata": {},
   "outputs": [
    {
     "data": {
      "text/plain": [
       "{'learning_rate': 0.05,\n",
       " 'max_depth': 3,\n",
       " 'min_samples_split': 2,\n",
       " 'n_estimators': 100,\n",
       " 'subsample': 1.0}"
      ]
     },
     "execution_count": 159,
     "metadata": {},
     "output_type": "execute_result"
    }
   ],
   "source": [
    "xgb_cv_model.best_params_"
   ]
  },
  {
   "cell_type": "code",
   "execution_count": 160,
   "id": "fac7274a-231a-4398-9969-c34ea7e5665b",
   "metadata": {},
   "outputs": [],
   "source": [
    "xgb = XGBClassifier(learning_rate = 0.05, \n",
    "                    max_depth = 3,\n",
    "                    min_samples_split = 2,\n",
    "                    n_estimators = 100,\n",
    "                    subsample = 1)"
   ]
  },
  {
   "cell_type": "code",
   "execution_count": 161,
   "id": "7fc14666-beaf-4c20-9c1d-adf741f5abe8",
   "metadata": {},
   "outputs": [],
   "source": [
    "xgb_tuned =  xgb.fit(X_train,y_train)"
   ]
  },
  {
   "cell_type": "code",
   "execution_count": 162,
   "id": "c75a9c55-96c2-4c21-8fdf-557920aacbd0",
   "metadata": {},
   "outputs": [
    {
     "data": {
      "text/plain": [
       "0.7662337662337663"
      ]
     },
     "execution_count": 162,
     "metadata": {},
     "output_type": "execute_result"
    }
   ],
   "source": [
    "y_pred = xgb_tuned.predict(X_test)\n",
    "accuracy_score(y_test, y_pred)"
   ]
  },
  {
   "cell_type": "markdown",
   "id": "bf050279-24f0-4e75-a1c6-3011ad70ef77",
   "metadata": {},
   "source": [
    "# LightGBM"
   ]
  },
  {
   "cell_type": "markdown",
   "id": "71db43d5-407c-4c9a-8b90-41513f3318ee",
   "metadata": {},
   "source": [
    "LightGBM, XGBoost'un eğitim süresi performansını arttırmaya yönelik geliştirilen bir diğer GBM türüdür."
   ]
  },
  {
   "cell_type": "markdown",
   "id": "7f77ddfc-50c5-4923-bc2c-8fa9f7429461",
   "metadata": {},
   "source": [
    "# Model - Tahmin"
   ]
  },
  {
   "cell_type": "code",
   "execution_count": 163,
   "id": "ecc36bf2-9390-40ea-8039-a99a5050d6e5",
   "metadata": {},
   "outputs": [],
   "source": [
    "df = diabetes.copy()\n",
    "df = df.dropna()\n",
    "y = df[\"Outcome\"]\n",
    "X = df.drop(['Outcome'], axis=1)\n",
    "#X = df[\"Pregnancies\"]\n",
    "X = pd.DataFrame(X)\n",
    "X_train, X_test, y_train, y_test = train_test_split(X, y, \n",
    "                                                    test_size=0.30, \n",
    "                                                    random_state=42)"
   ]
  },
  {
   "cell_type": "code",
   "execution_count": 164,
   "id": "c0d6da26-377b-4cff-9f69-8684d66c264d",
   "metadata": {},
   "outputs": [],
   "source": [
    "#!conda install -c conda-forge lightgbm\n",
    "from lightgbm import LGBMClassifier"
   ]
  },
  {
   "cell_type": "code",
   "execution_count": 165,
   "id": "2ffa4507-9ae4-407f-8fab-d7ccc31d593a",
   "metadata": {
    "collapsed": true,
    "jupyter": {
     "outputs_hidden": true
    },
    "tags": []
   },
   "outputs": [
    {
     "name": "stdout",
     "output_type": "stream",
     "text": [
      "[LightGBM] [Info] Number of positive: 188, number of negative: 349\n",
      "[LightGBM] [Info] Auto-choosing row-wise multi-threading, the overhead of testing was 0.000480 seconds.\n",
      "You can set `force_row_wise=true` to remove the overhead.\n",
      "And if memory is not enough, you can set `force_col_wise=true`.\n",
      "[LightGBM] [Info] Total Bins 606\n",
      "[LightGBM] [Info] Number of data points in the train set: 537, number of used features: 8\n",
      "[LightGBM] [Info] [binary:BoostFromScore]: pavg=0.350093 -> initscore=-0.618630\n",
      "[LightGBM] [Info] Start training from score -0.618630\n",
      "[LightGBM] [Warning] No further splits with positive gain, best gain: -inf\n",
      "[LightGBM] [Warning] No further splits with positive gain, best gain: -inf\n",
      "[LightGBM] [Warning] No further splits with positive gain, best gain: -inf\n",
      "[LightGBM] [Warning] No further splits with positive gain, best gain: -inf\n",
      "[LightGBM] [Warning] No further splits with positive gain, best gain: -inf\n",
      "[LightGBM] [Warning] No further splits with positive gain, best gain: -inf\n",
      "[LightGBM] [Warning] No further splits with positive gain, best gain: -inf\n",
      "[LightGBM] [Warning] No further splits with positive gain, best gain: -inf\n",
      "[LightGBM] [Warning] No further splits with positive gain, best gain: -inf\n",
      "[LightGBM] [Warning] No further splits with positive gain, best gain: -inf\n",
      "[LightGBM] [Warning] No further splits with positive gain, best gain: -inf\n",
      "[LightGBM] [Warning] No further splits with positive gain, best gain: -inf\n",
      "[LightGBM] [Warning] No further splits with positive gain, best gain: -inf\n",
      "[LightGBM] [Warning] No further splits with positive gain, best gain: -inf\n",
      "[LightGBM] [Warning] No further splits with positive gain, best gain: -inf\n",
      "[LightGBM] [Warning] No further splits with positive gain, best gain: -inf\n",
      "[LightGBM] [Warning] No further splits with positive gain, best gain: -inf\n",
      "[LightGBM] [Warning] No further splits with positive gain, best gain: -inf\n",
      "[LightGBM] [Warning] No further splits with positive gain, best gain: -inf\n",
      "[LightGBM] [Warning] No further splits with positive gain, best gain: -inf\n",
      "[LightGBM] [Warning] No further splits with positive gain, best gain: -inf\n",
      "[LightGBM] [Warning] No further splits with positive gain, best gain: -inf\n",
      "[LightGBM] [Warning] No further splits with positive gain, best gain: -inf\n",
      "[LightGBM] [Warning] No further splits with positive gain, best gain: -inf\n",
      "[LightGBM] [Warning] No further splits with positive gain, best gain: -inf\n",
      "[LightGBM] [Warning] No further splits with positive gain, best gain: -inf\n",
      "[LightGBM] [Warning] No further splits with positive gain, best gain: -inf\n",
      "[LightGBM] [Warning] No further splits with positive gain, best gain: -inf\n",
      "[LightGBM] [Warning] No further splits with positive gain, best gain: -inf\n",
      "[LightGBM] [Warning] No further splits with positive gain, best gain: -inf\n",
      "[LightGBM] [Warning] No further splits with positive gain, best gain: -inf\n",
      "[LightGBM] [Warning] No further splits with positive gain, best gain: -inf\n",
      "[LightGBM] [Warning] No further splits with positive gain, best gain: -inf\n",
      "[LightGBM] [Warning] No further splits with positive gain, best gain: -inf\n",
      "[LightGBM] [Warning] No further splits with positive gain, best gain: -inf\n",
      "[LightGBM] [Warning] No further splits with positive gain, best gain: -inf\n",
      "[LightGBM] [Warning] No further splits with positive gain, best gain: -inf\n",
      "[LightGBM] [Warning] No further splits with positive gain, best gain: -inf\n",
      "[LightGBM] [Warning] No further splits with positive gain, best gain: -inf\n",
      "[LightGBM] [Warning] No further splits with positive gain, best gain: -inf\n",
      "[LightGBM] [Warning] No further splits with positive gain, best gain: -inf\n",
      "[LightGBM] [Warning] No further splits with positive gain, best gain: -inf\n",
      "[LightGBM] [Warning] No further splits with positive gain, best gain: -inf\n",
      "[LightGBM] [Warning] No further splits with positive gain, best gain: -inf\n",
      "[LightGBM] [Warning] No further splits with positive gain, best gain: -inf\n",
      "[LightGBM] [Warning] No further splits with positive gain, best gain: -inf\n",
      "[LightGBM] [Warning] No further splits with positive gain, best gain: -inf\n",
      "[LightGBM] [Warning] No further splits with positive gain, best gain: -inf\n",
      "[LightGBM] [Warning] No further splits with positive gain, best gain: -inf\n",
      "[LightGBM] [Warning] No further splits with positive gain, best gain: -inf\n",
      "[LightGBM] [Warning] No further splits with positive gain, best gain: -inf\n",
      "[LightGBM] [Warning] No further splits with positive gain, best gain: -inf\n",
      "[LightGBM] [Warning] No further splits with positive gain, best gain: -inf\n",
      "[LightGBM] [Warning] No further splits with positive gain, best gain: -inf\n",
      "[LightGBM] [Warning] No further splits with positive gain, best gain: -inf\n",
      "[LightGBM] [Warning] No further splits with positive gain, best gain: -inf\n",
      "[LightGBM] [Warning] No further splits with positive gain, best gain: -inf\n",
      "[LightGBM] [Warning] No further splits with positive gain, best gain: -inf\n",
      "[LightGBM] [Warning] No further splits with positive gain, best gain: -inf\n",
      "[LightGBM] [Warning] No further splits with positive gain, best gain: -inf\n",
      "[LightGBM] [Warning] No further splits with positive gain, best gain: -inf\n",
      "[LightGBM] [Warning] No further splits with positive gain, best gain: -inf\n",
      "[LightGBM] [Warning] No further splits with positive gain, best gain: -inf\n",
      "[LightGBM] [Warning] No further splits with positive gain, best gain: -inf\n",
      "[LightGBM] [Warning] No further splits with positive gain, best gain: -inf\n",
      "[LightGBM] [Warning] No further splits with positive gain, best gain: -inf\n",
      "[LightGBM] [Warning] No further splits with positive gain, best gain: -inf\n",
      "[LightGBM] [Warning] No further splits with positive gain, best gain: -inf\n",
      "[LightGBM] [Warning] No further splits with positive gain, best gain: -inf\n",
      "[LightGBM] [Warning] No further splits with positive gain, best gain: -inf\n",
      "[LightGBM] [Warning] No further splits with positive gain, best gain: -inf\n",
      "[LightGBM] [Warning] No further splits with positive gain, best gain: -inf\n",
      "[LightGBM] [Warning] No further splits with positive gain, best gain: -inf\n",
      "[LightGBM] [Warning] No further splits with positive gain, best gain: -inf\n",
      "[LightGBM] [Warning] No further splits with positive gain, best gain: -inf\n",
      "[LightGBM] [Warning] No further splits with positive gain, best gain: -inf\n",
      "[LightGBM] [Warning] No further splits with positive gain, best gain: -inf\n",
      "[LightGBM] [Warning] No further splits with positive gain, best gain: -inf\n",
      "[LightGBM] [Warning] No further splits with positive gain, best gain: -inf\n",
      "[LightGBM] [Warning] No further splits with positive gain, best gain: -inf\n",
      "[LightGBM] [Warning] No further splits with positive gain, best gain: -inf\n",
      "[LightGBM] [Warning] No further splits with positive gain, best gain: -inf\n",
      "[LightGBM] [Warning] No further splits with positive gain, best gain: -inf\n",
      "[LightGBM] [Warning] No further splits with positive gain, best gain: -inf\n",
      "[LightGBM] [Warning] No further splits with positive gain, best gain: -inf\n",
      "[LightGBM] [Warning] No further splits with positive gain, best gain: -inf\n",
      "[LightGBM] [Warning] No further splits with positive gain, best gain: -inf\n",
      "[LightGBM] [Warning] No further splits with positive gain, best gain: -inf\n",
      "[LightGBM] [Warning] No further splits with positive gain, best gain: -inf\n",
      "[LightGBM] [Warning] No further splits with positive gain, best gain: -inf\n",
      "[LightGBM] [Warning] No further splits with positive gain, best gain: -inf\n",
      "[LightGBM] [Warning] No further splits with positive gain, best gain: -inf\n",
      "[LightGBM] [Warning] No further splits with positive gain, best gain: -inf\n",
      "[LightGBM] [Warning] No further splits with positive gain, best gain: -inf\n",
      "[LightGBM] [Warning] No further splits with positive gain, best gain: -inf\n",
      "[LightGBM] [Warning] No further splits with positive gain, best gain: -inf\n",
      "[LightGBM] [Warning] No further splits with positive gain, best gain: -inf\n",
      "[LightGBM] [Warning] No further splits with positive gain, best gain: -inf\n",
      "[LightGBM] [Warning] No further splits with positive gain, best gain: -inf\n",
      "[LightGBM] [Warning] No further splits with positive gain, best gain: -inf\n"
     ]
    }
   ],
   "source": [
    "lgbm_model = LGBMClassifier().fit(X_train, y_train)"
   ]
  },
  {
   "cell_type": "code",
   "execution_count": 166,
   "id": "2450a03d-23e6-4e17-b3a6-5f5ff9ecda1f",
   "metadata": {},
   "outputs": [
    {
     "data": {
      "text/plain": [
       "0.7229437229437229"
      ]
     },
     "execution_count": 166,
     "metadata": {},
     "output_type": "execute_result"
    }
   ],
   "source": [
    "y_pred = lgbm_model.predict(X_test)\n",
    "accuracy_score(y_test, y_pred)"
   ]
  },
  {
   "cell_type": "markdown",
   "id": "d35b13dd-1c90-4067-b8b8-392a0eef2c5e",
   "metadata": {},
   "source": [
    "# Model Tuning"
   ]
  },
  {
   "cell_type": "code",
   "execution_count": 167,
   "id": "60cf1633-988d-4552-879a-2073a2c778eb",
   "metadata": {
    "collapsed": true,
    "jupyter": {
     "outputs_hidden": true
    },
    "tags": []
   },
   "outputs": [
    {
     "data": {
      "text/plain": [
       "\u001b[1;31mType:\u001b[0m           LGBMClassifier\n",
       "\u001b[1;31mString form:\u001b[0m    LGBMClassifier()\n",
       "\u001b[1;31mFile:\u001b[0m           c:\\users\\hakan\\anaconda3\\lib\\site-packages\\lightgbm\\sklearn.py\n",
       "\u001b[1;31mDocstring:\u001b[0m      LightGBM classifier.\n",
       "\u001b[1;31mInit docstring:\u001b[0m\n",
       "Construct a gradient boosting model.\n",
       "\n",
       "Parameters\n",
       "----------\n",
       "boosting_type : str, optional (default='gbdt')\n",
       "    'gbdt', traditional Gradient Boosting Decision Tree.\n",
       "    'dart', Dropouts meet Multiple Additive Regression Trees.\n",
       "    'rf', Random Forest.\n",
       "num_leaves : int, optional (default=31)\n",
       "    Maximum tree leaves for base learners.\n",
       "max_depth : int, optional (default=-1)\n",
       "    Maximum tree depth for base learners, <=0 means no limit.\n",
       "learning_rate : float, optional (default=0.1)\n",
       "    Boosting learning rate.\n",
       "    You can use ``callbacks`` parameter of ``fit`` method to shrink/adapt learning rate\n",
       "    in training using ``reset_parameter`` callback.\n",
       "    Note, that this will ignore the ``learning_rate`` argument in training.\n",
       "n_estimators : int, optional (default=100)\n",
       "    Number of boosted trees to fit.\n",
       "subsample_for_bin : int, optional (default=200000)\n",
       "    Number of samples for constructing bins.\n",
       "objective : str, callable or None, optional (default=None)\n",
       "    Specify the learning task and the corresponding learning objective or\n",
       "    a custom objective function to be used (see note below).\n",
       "    Default: 'regression' for LGBMRegressor, 'binary' or 'multiclass' for LGBMClassifier, 'lambdarank' for LGBMRanker.\n",
       "class_weight : dict, 'balanced' or None, optional (default=None)\n",
       "    Weights associated with classes in the form ``{class_label: weight}``.\n",
       "    Use this parameter only for multi-class classification task;\n",
       "    for binary classification task you may use ``is_unbalance`` or ``scale_pos_weight`` parameters.\n",
       "    Note, that the usage of all these parameters will result in poor estimates of the individual class probabilities.\n",
       "    You may want to consider performing probability calibration\n",
       "    (https://scikit-learn.org/stable/modules/calibration.html) of your model.\n",
       "    The 'balanced' mode uses the values of y to automatically adjust weights\n",
       "    inversely proportional to class frequencies in the input data as ``n_samples / (n_classes * np.bincount(y))``.\n",
       "    If None, all classes are supposed to have weight one.\n",
       "    Note, that these weights will be multiplied with ``sample_weight`` (passed through the ``fit`` method)\n",
       "    if ``sample_weight`` is specified.\n",
       "min_split_gain : float, optional (default=0.)\n",
       "    Minimum loss reduction required to make a further partition on a leaf node of the tree.\n",
       "min_child_weight : float, optional (default=1e-3)\n",
       "    Minimum sum of instance weight (Hessian) needed in a child (leaf).\n",
       "min_child_samples : int, optional (default=20)\n",
       "    Minimum number of data needed in a child (leaf).\n",
       "subsample : float, optional (default=1.)\n",
       "    Subsample ratio of the training instance.\n",
       "subsample_freq : int, optional (default=0)\n",
       "    Frequency of subsample, <=0 means no enable.\n",
       "colsample_bytree : float, optional (default=1.)\n",
       "    Subsample ratio of columns when constructing each tree.\n",
       "reg_alpha : float, optional (default=0.)\n",
       "    L1 regularization term on weights.\n",
       "reg_lambda : float, optional (default=0.)\n",
       "    L2 regularization term on weights.\n",
       "random_state : int, RandomState object or None, optional (default=None)\n",
       "    Random number seed.\n",
       "    If int, this number is used to seed the C++ code.\n",
       "    If RandomState object (numpy), a random integer is picked based on its state to seed the C++ code.\n",
       "    If None, default seeds in C++ code are used.\n",
       "n_jobs : int or None, optional (default=None)\n",
       "    Number of parallel threads to use for training (can be changed at prediction time by\n",
       "    passing it as an extra keyword argument).\n",
       "\n",
       "    For better performance, it is recommended to set this to the number of physical cores\n",
       "    in the CPU.\n",
       "\n",
       "    Negative integers are interpreted as following joblib's formula (n_cpus + 1 + n_jobs), just like\n",
       "    scikit-learn (so e.g. -1 means using all threads). A value of zero corresponds the default number of\n",
       "    threads configured for OpenMP in the system. A value of ``None`` (the default) corresponds\n",
       "    to using the number of physical cores in the system (its correct detection requires\n",
       "    either the ``joblib`` or the ``psutil`` util libraries to be installed).\n",
       "\n",
       "    .. versionchanged:: 4.0.0\n",
       "\n",
       "importance_type : str, optional (default='split')\n",
       "    The type of feature importance to be filled into ``feature_importances_``.\n",
       "    If 'split', result contains numbers of times the feature is used in a model.\n",
       "    If 'gain', result contains total gains of splits which use the feature.\n",
       "**kwargs\n",
       "    Other parameters for the model.\n",
       "    Check http://lightgbm.readthedocs.io/en/latest/Parameters.html for more parameters.\n",
       "\n",
       "    .. warning::\n",
       "\n",
       "        \\*\\*kwargs is not supported in sklearn, it may cause unexpected issues.\n",
       "\n",
       "Note\n",
       "----\n",
       "A custom objective function can be provided for the ``objective`` parameter.\n",
       "In this case, it should have the signature\n",
       "``objective(y_true, y_pred) -> grad, hess``,\n",
       "``objective(y_true, y_pred, weight) -> grad, hess``\n",
       "or ``objective(y_true, y_pred, weight, group) -> grad, hess``:\n",
       "\n",
       "    y_true : numpy 1-D array of shape = [n_samples]\n",
       "        The target values.\n",
       "    y_pred : numpy 1-D array of shape = [n_samples] or numpy 2-D array of shape = [n_samples, n_classes] (for multi-class task)\n",
       "        The predicted values.\n",
       "        Predicted values are returned before any transformation,\n",
       "        e.g. they are raw margin instead of probability of positive class for binary task.\n",
       "    weight : numpy 1-D array of shape = [n_samples]\n",
       "        The weight of samples. Weights should be non-negative.\n",
       "    group : numpy 1-D array\n",
       "        Group/query data.\n",
       "        Only used in the learning-to-rank task.\n",
       "        sum(group) = n_samples.\n",
       "        For example, if you have a 100-document dataset with ``group = [10, 20, 40, 10, 10, 10]``, that means that you have 6 groups,\n",
       "        where the first 10 records are in the first group, records 11-30 are in the second group, records 31-70 are in the third group, etc.\n",
       "    grad : numpy 1-D array of shape = [n_samples] or numpy 2-D array of shape = [n_samples, n_classes] (for multi-class task)\n",
       "        The value of the first order derivative (gradient) of the loss\n",
       "        with respect to the elements of y_pred for each sample point.\n",
       "    hess : numpy 1-D array of shape = [n_samples] or numpy 2-D array of shape = [n_samples, n_classes] (for multi-class task)\n",
       "        The value of the second order derivative (Hessian) of the loss\n",
       "        with respect to the elements of y_pred for each sample point.\n",
       "\n",
       "For multi-class task, y_pred is a numpy 2-D array of shape = [n_samples, n_classes],\n",
       "and grad and hess should be returned in the same format.\n"
      ]
     },
     "metadata": {},
     "output_type": "display_data"
    }
   ],
   "source": [
    "?lgbm_model"
   ]
  },
  {
   "cell_type": "code",
   "execution_count": 169,
   "id": "bf94b2f1-76f6-4009-bc8e-dc3bc136ce23",
   "metadata": {},
   "outputs": [],
   "source": [
    "lgbm_params = {\n",
    "        'n_estimators': [100, 500, 1000, 2000],\n",
    "        'subsample': [0.6, 0.8, 1.0],\n",
    "        'max_depth': [3, 4, 5,6],\n",
    "        'learning_rate': [0.1,0.01,0.02,0.05],\n",
    "        \"min_child_samples\": [5,10,20]}"
   ]
  },
  {
   "cell_type": "code",
   "execution_count": 170,
   "id": "942affab-7a4c-4182-bfae-3dc1d5afb485",
   "metadata": {},
   "outputs": [],
   "source": [
    "lgbm = LGBMClassifier()\n",
    "\n",
    "lgbm_cv_model = GridSearchCV(lgbm, lgbm_params, \n",
    "                             cv = 10, \n",
    "                             n_jobs = -1, \n",
    "                             verbose = 2)\n",
    "\n"
   ]
  },
  {
   "cell_type": "code",
   "execution_count": 171,
   "id": "ddfdec48-0fd7-47db-8ea9-bb8b8673f82a",
   "metadata": {
    "collapsed": true,
    "jupyter": {
     "outputs_hidden": true
    },
    "tags": []
   },
   "outputs": [
    {
     "name": "stdout",
     "output_type": "stream",
     "text": [
      "Fitting 10 folds for each of 576 candidates, totalling 5760 fits\n",
      "[LightGBM] [Info] Number of positive: 188, number of negative: 349\n",
      "[LightGBM] [Info] Auto-choosing col-wise multi-threading, the overhead of testing was 0.000105 seconds.\n",
      "You can set `force_col_wise=true` to remove the overhead.\n",
      "[LightGBM] [Info] Total Bins 606\n",
      "[LightGBM] [Info] Number of data points in the train set: 537, number of used features: 8\n",
      "[LightGBM] [Info] [binary:BoostFromScore]: pavg=0.350093 -> initscore=-0.618630\n",
      "[LightGBM] [Info] Start training from score -0.618630\n",
      "[LightGBM] [Warning] No further splits with positive gain, best gain: -inf\n",
      "[LightGBM] [Warning] No further splits with positive gain, best gain: -inf\n",
      "[LightGBM] [Warning] No further splits with positive gain, best gain: -inf\n",
      "[LightGBM] [Warning] No further splits with positive gain, best gain: -inf\n",
      "[LightGBM] [Warning] No further splits with positive gain, best gain: -inf\n",
      "[LightGBM] [Warning] No further splits with positive gain, best gain: -inf\n",
      "[LightGBM] [Warning] No further splits with positive gain, best gain: -inf\n",
      "[LightGBM] [Warning] No further splits with positive gain, best gain: -inf\n",
      "[LightGBM] [Warning] No further splits with positive gain, best gain: -inf\n",
      "[LightGBM] [Warning] No further splits with positive gain, best gain: -inf\n",
      "[LightGBM] [Warning] No further splits with positive gain, best gain: -inf\n",
      "[LightGBM] [Warning] No further splits with positive gain, best gain: -inf\n",
      "[LightGBM] [Warning] No further splits with positive gain, best gain: -inf\n",
      "[LightGBM] [Warning] No further splits with positive gain, best gain: -inf\n",
      "[LightGBM] [Warning] No further splits with positive gain, best gain: -inf\n",
      "[LightGBM] [Warning] No further splits with positive gain, best gain: -inf\n",
      "[LightGBM] [Warning] No further splits with positive gain, best gain: -inf\n",
      "[LightGBM] [Warning] No further splits with positive gain, best gain: -inf\n",
      "[LightGBM] [Warning] No further splits with positive gain, best gain: -inf\n",
      "[LightGBM] [Warning] No further splits with positive gain, best gain: -inf\n",
      "[LightGBM] [Warning] No further splits with positive gain, best gain: -inf\n",
      "[LightGBM] [Warning] No further splits with positive gain, best gain: -inf\n",
      "[LightGBM] [Warning] No further splits with positive gain, best gain: -inf\n",
      "[LightGBM] [Warning] No further splits with positive gain, best gain: -inf\n",
      "[LightGBM] [Warning] No further splits with positive gain, best gain: -inf\n",
      "[LightGBM] [Warning] No further splits with positive gain, best gain: -inf\n",
      "[LightGBM] [Warning] No further splits with positive gain, best gain: -inf\n",
      "[LightGBM] [Warning] No further splits with positive gain, best gain: -inf\n",
      "[LightGBM] [Warning] No further splits with positive gain, best gain: -inf\n",
      "[LightGBM] [Warning] No further splits with positive gain, best gain: -inf\n",
      "[LightGBM] [Warning] No further splits with positive gain, best gain: -inf\n",
      "[LightGBM] [Warning] No further splits with positive gain, best gain: -inf\n",
      "[LightGBM] [Warning] No further splits with positive gain, best gain: -inf\n",
      "[LightGBM] [Warning] No further splits with positive gain, best gain: -inf\n",
      "[LightGBM] [Warning] No further splits with positive gain, best gain: -inf\n",
      "[LightGBM] [Warning] No further splits with positive gain, best gain: -inf\n",
      "[LightGBM] [Warning] No further splits with positive gain, best gain: -inf\n",
      "[LightGBM] [Warning] No further splits with positive gain, best gain: -inf\n",
      "[LightGBM] [Warning] No further splits with positive gain, best gain: -inf\n",
      "[LightGBM] [Warning] No further splits with positive gain, best gain: -inf\n",
      "[LightGBM] [Warning] No further splits with positive gain, best gain: -inf\n",
      "[LightGBM] [Warning] No further splits with positive gain, best gain: -inf\n",
      "[LightGBM] [Warning] No further splits with positive gain, best gain: -inf\n",
      "[LightGBM] [Warning] No further splits with positive gain, best gain: -inf\n",
      "[LightGBM] [Warning] No further splits with positive gain, best gain: -inf\n",
      "[LightGBM] [Warning] No further splits with positive gain, best gain: -inf\n",
      "[LightGBM] [Warning] No further splits with positive gain, best gain: -inf\n",
      "[LightGBM] [Warning] No further splits with positive gain, best gain: -inf\n",
      "[LightGBM] [Warning] No further splits with positive gain, best gain: -inf\n",
      "[LightGBM] [Warning] No further splits with positive gain, best gain: -inf\n",
      "[LightGBM] [Warning] No further splits with positive gain, best gain: -inf\n",
      "[LightGBM] [Warning] No further splits with positive gain, best gain: -inf\n",
      "[LightGBM] [Warning] No further splits with positive gain, best gain: -inf\n",
      "[LightGBM] [Warning] No further splits with positive gain, best gain: -inf\n",
      "[LightGBM] [Warning] No further splits with positive gain, best gain: -inf\n",
      "[LightGBM] [Warning] No further splits with positive gain, best gain: -inf\n",
      "[LightGBM] [Warning] No further splits with positive gain, best gain: -inf\n",
      "[LightGBM] [Warning] No further splits with positive gain, best gain: -inf\n",
      "[LightGBM] [Warning] No further splits with positive gain, best gain: -inf\n",
      "[LightGBM] [Warning] No further splits with positive gain, best gain: -inf\n",
      "[LightGBM] [Warning] No further splits with positive gain, best gain: -inf\n",
      "[LightGBM] [Warning] No further splits with positive gain, best gain: -inf\n",
      "[LightGBM] [Warning] No further splits with positive gain, best gain: -inf\n",
      "[LightGBM] [Warning] No further splits with positive gain, best gain: -inf\n",
      "[LightGBM] [Warning] No further splits with positive gain, best gain: -inf\n",
      "[LightGBM] [Warning] No further splits with positive gain, best gain: -inf\n",
      "[LightGBM] [Warning] No further splits with positive gain, best gain: -inf\n",
      "[LightGBM] [Warning] No further splits with positive gain, best gain: -inf\n",
      "[LightGBM] [Warning] No further splits with positive gain, best gain: -inf\n",
      "[LightGBM] [Warning] No further splits with positive gain, best gain: -inf\n",
      "[LightGBM] [Warning] No further splits with positive gain, best gain: -inf\n",
      "[LightGBM] [Warning] No further splits with positive gain, best gain: -inf\n",
      "[LightGBM] [Warning] No further splits with positive gain, best gain: -inf\n",
      "[LightGBM] [Warning] No further splits with positive gain, best gain: -inf\n",
      "[LightGBM] [Warning] No further splits with positive gain, best gain: -inf\n"
     ]
    },
    {
     "data": {
      "text/plain": [
       "GridSearchCV(cv=10, estimator=LGBMClassifier(), n_jobs=-1,\n",
       "             param_grid={'learning_rate': [0.1, 0.01, 0.02, 0.05],\n",
       "                         'max_depth': [3, 4, 5, 6],\n",
       "                         'min_child_samples': [5, 10, 20],\n",
       "                         'n_estimators': [100, 500, 1000, 2000],\n",
       "                         'subsample': [0.6, 0.8, 1.0]},\n",
       "             verbose=2)"
      ]
     },
     "execution_count": 171,
     "metadata": {},
     "output_type": "execute_result"
    }
   ],
   "source": [
    "lgbm_cv_model.fit(X_train, y_train)"
   ]
  },
  {
   "cell_type": "code",
   "execution_count": 172,
   "id": "f16a4099-3f38-4300-a1fd-377eb81c9b39",
   "metadata": {},
   "outputs": [
    {
     "data": {
      "text/plain": [
       "{'learning_rate': 0.05,\n",
       " 'max_depth': 3,\n",
       " 'min_child_samples': 20,\n",
       " 'n_estimators': 100,\n",
       " 'subsample': 0.6}"
      ]
     },
     "execution_count": 172,
     "metadata": {},
     "output_type": "execute_result"
    }
   ],
   "source": [
    "lgbm_cv_model.best_params_"
   ]
  },
  {
   "cell_type": "code",
   "execution_count": 173,
   "id": "06917a78-d38f-4d84-b9ab-f8ca1ad2ab98",
   "metadata": {},
   "outputs": [],
   "source": [
    "lgbm = LGBMClassifier(learning_rate = 0.05, \n",
    "                       max_depth = 3,\n",
    "                       subsample = 0.6,\n",
    "                       n_estimators = 100,\n",
    "                       min_child_samples = 20)"
   ]
  },
  {
   "cell_type": "code",
   "execution_count": 174,
   "id": "bffde78c-151e-4d5c-b0f6-d7019cd7f6a8",
   "metadata": {
    "collapsed": true,
    "jupyter": {
     "outputs_hidden": true
    },
    "tags": []
   },
   "outputs": [
    {
     "name": "stdout",
     "output_type": "stream",
     "text": [
      "[LightGBM] [Info] Number of positive: 188, number of negative: 349\n",
      "[LightGBM] [Info] Auto-choosing col-wise multi-threading, the overhead of testing was 0.000078 seconds.\n",
      "You can set `force_col_wise=true` to remove the overhead.\n",
      "[LightGBM] [Info] Total Bins 606\n",
      "[LightGBM] [Info] Number of data points in the train set: 537, number of used features: 8\n",
      "[LightGBM] [Info] [binary:BoostFromScore]: pavg=0.350093 -> initscore=-0.618630\n",
      "[LightGBM] [Info] Start training from score -0.618630\n",
      "[LightGBM] [Warning] No further splits with positive gain, best gain: -inf\n",
      "[LightGBM] [Warning] No further splits with positive gain, best gain: -inf\n",
      "[LightGBM] [Warning] No further splits with positive gain, best gain: -inf\n",
      "[LightGBM] [Warning] No further splits with positive gain, best gain: -inf\n",
      "[LightGBM] [Warning] No further splits with positive gain, best gain: -inf\n",
      "[LightGBM] [Warning] No further splits with positive gain, best gain: -inf\n",
      "[LightGBM] [Warning] No further splits with positive gain, best gain: -inf\n",
      "[LightGBM] [Warning] No further splits with positive gain, best gain: -inf\n",
      "[LightGBM] [Warning] No further splits with positive gain, best gain: -inf\n",
      "[LightGBM] [Warning] No further splits with positive gain, best gain: -inf\n",
      "[LightGBM] [Warning] No further splits with positive gain, best gain: -inf\n",
      "[LightGBM] [Warning] No further splits with positive gain, best gain: -inf\n",
      "[LightGBM] [Warning] No further splits with positive gain, best gain: -inf\n",
      "[LightGBM] [Warning] No further splits with positive gain, best gain: -inf\n",
      "[LightGBM] [Warning] No further splits with positive gain, best gain: -inf\n",
      "[LightGBM] [Warning] No further splits with positive gain, best gain: -inf\n",
      "[LightGBM] [Warning] No further splits with positive gain, best gain: -inf\n",
      "[LightGBM] [Warning] No further splits with positive gain, best gain: -inf\n",
      "[LightGBM] [Warning] No further splits with positive gain, best gain: -inf\n",
      "[LightGBM] [Warning] No further splits with positive gain, best gain: -inf\n",
      "[LightGBM] [Warning] No further splits with positive gain, best gain: -inf\n",
      "[LightGBM] [Warning] No further splits with positive gain, best gain: -inf\n",
      "[LightGBM] [Warning] No further splits with positive gain, best gain: -inf\n",
      "[LightGBM] [Warning] No further splits with positive gain, best gain: -inf\n",
      "[LightGBM] [Warning] No further splits with positive gain, best gain: -inf\n",
      "[LightGBM] [Warning] No further splits with positive gain, best gain: -inf\n",
      "[LightGBM] [Warning] No further splits with positive gain, best gain: -inf\n",
      "[LightGBM] [Warning] No further splits with positive gain, best gain: -inf\n",
      "[LightGBM] [Warning] No further splits with positive gain, best gain: -inf\n",
      "[LightGBM] [Warning] No further splits with positive gain, best gain: -inf\n",
      "[LightGBM] [Warning] No further splits with positive gain, best gain: -inf\n",
      "[LightGBM] [Warning] No further splits with positive gain, best gain: -inf\n",
      "[LightGBM] [Warning] No further splits with positive gain, best gain: -inf\n",
      "[LightGBM] [Warning] No further splits with positive gain, best gain: -inf\n",
      "[LightGBM] [Warning] No further splits with positive gain, best gain: -inf\n",
      "[LightGBM] [Warning] No further splits with positive gain, best gain: -inf\n",
      "[LightGBM] [Warning] No further splits with positive gain, best gain: -inf\n",
      "[LightGBM] [Warning] No further splits with positive gain, best gain: -inf\n",
      "[LightGBM] [Warning] No further splits with positive gain, best gain: -inf\n",
      "[LightGBM] [Warning] No further splits with positive gain, best gain: -inf\n",
      "[LightGBM] [Warning] No further splits with positive gain, best gain: -inf\n",
      "[LightGBM] [Warning] No further splits with positive gain, best gain: -inf\n",
      "[LightGBM] [Warning] No further splits with positive gain, best gain: -inf\n",
      "[LightGBM] [Warning] No further splits with positive gain, best gain: -inf\n",
      "[LightGBM] [Warning] No further splits with positive gain, best gain: -inf\n",
      "[LightGBM] [Warning] No further splits with positive gain, best gain: -inf\n",
      "[LightGBM] [Warning] No further splits with positive gain, best gain: -inf\n",
      "[LightGBM] [Warning] No further splits with positive gain, best gain: -inf\n",
      "[LightGBM] [Warning] No further splits with positive gain, best gain: -inf\n",
      "[LightGBM] [Warning] No further splits with positive gain, best gain: -inf\n",
      "[LightGBM] [Warning] No further splits with positive gain, best gain: -inf\n",
      "[LightGBM] [Warning] No further splits with positive gain, best gain: -inf\n",
      "[LightGBM] [Warning] No further splits with positive gain, best gain: -inf\n",
      "[LightGBM] [Warning] No further splits with positive gain, best gain: -inf\n",
      "[LightGBM] [Warning] No further splits with positive gain, best gain: -inf\n",
      "[LightGBM] [Warning] No further splits with positive gain, best gain: -inf\n",
      "[LightGBM] [Warning] No further splits with positive gain, best gain: -inf\n",
      "[LightGBM] [Warning] No further splits with positive gain, best gain: -inf\n",
      "[LightGBM] [Warning] No further splits with positive gain, best gain: -inf\n",
      "[LightGBM] [Warning] No further splits with positive gain, best gain: -inf\n",
      "[LightGBM] [Warning] No further splits with positive gain, best gain: -inf\n",
      "[LightGBM] [Warning] No further splits with positive gain, best gain: -inf\n",
      "[LightGBM] [Warning] No further splits with positive gain, best gain: -inf\n",
      "[LightGBM] [Warning] No further splits with positive gain, best gain: -inf\n",
      "[LightGBM] [Warning] No further splits with positive gain, best gain: -inf\n",
      "[LightGBM] [Warning] No further splits with positive gain, best gain: -inf\n",
      "[LightGBM] [Warning] No further splits with positive gain, best gain: -inf\n",
      "[LightGBM] [Warning] No further splits with positive gain, best gain: -inf\n",
      "[LightGBM] [Warning] No further splits with positive gain, best gain: -inf\n",
      "[LightGBM] [Warning] No further splits with positive gain, best gain: -inf\n",
      "[LightGBM] [Warning] No further splits with positive gain, best gain: -inf\n",
      "[LightGBM] [Warning] No further splits with positive gain, best gain: -inf\n",
      "[LightGBM] [Warning] No further splits with positive gain, best gain: -inf\n",
      "[LightGBM] [Warning] No further splits with positive gain, best gain: -inf\n",
      "[LightGBM] [Warning] No further splits with positive gain, best gain: -inf\n"
     ]
    }
   ],
   "source": [
    "lgbm_tuned = lgbm.fit(X_train,y_train)"
   ]
  },
  {
   "cell_type": "code",
   "execution_count": 175,
   "id": "5291fad7-ac72-48e9-a29e-4112dd7902fd",
   "metadata": {},
   "outputs": [
    {
     "data": {
      "text/plain": [
       "0.7489177489177489"
      ]
     },
     "execution_count": 175,
     "metadata": {},
     "output_type": "execute_result"
    }
   ],
   "source": [
    "y_pred = lgbm_tuned.predict(X_test)\n",
    "accuracy_score(y_test, y_pred)"
   ]
  },
  {
   "cell_type": "markdown",
   "id": "7cc472e9-4344-4af1-862e-46a2df7b73f8",
   "metadata": {},
   "source": [
    "# CATBOOST"
   ]
  },
  {
   "cell_type": "markdown",
   "id": "07d2242a-7431-48cc-8580-bd81b81b228f",
   "metadata": {},
   "source": [
    "Kategorik değişkenler ile otomatik olarak mücadele edebilen , hızlı, başarılı bir diğer GMB türevidir."
   ]
  },
  {
   "cell_type": "markdown",
   "id": "16bbbd11-65ab-4300-9182-e747ba928bc0",
   "metadata": {},
   "source": [
    "# Model - Tahmin"
   ]
  },
  {
   "cell_type": "code",
   "execution_count": 176,
   "id": "95a4ef5e-2168-4f8e-902f-4fd1940fea84",
   "metadata": {},
   "outputs": [],
   "source": [
    "df = diabetes.copy()\n",
    "df = df.dropna()\n",
    "y = df[\"Outcome\"]\n",
    "X = df.drop(['Outcome'], axis=1)\n",
    "#X = df[\"Pregnancies\"]\n",
    "X = pd.DataFrame(X)\n",
    "X_train, X_test, y_train, y_test = train_test_split(X, y, \n",
    "                                                    test_size=0.30, \n",
    "                                                    random_state=42)"
   ]
  },
  {
   "cell_type": "code",
   "execution_count": 177,
   "id": "09b5c952-8e18-4bee-aff4-dc2ca159ace0",
   "metadata": {},
   "outputs": [],
   "source": [
    "#!pip install catboost\n",
    "from catboost import CatBoostClassifier"
   ]
  },
  {
   "cell_type": "code",
   "execution_count": 178,
   "id": "01f93232-a075-474f-a35f-887a928841aa",
   "metadata": {
    "collapsed": true,
    "jupyter": {
     "outputs_hidden": true
    },
    "tags": []
   },
   "outputs": [
    {
     "name": "stdout",
     "output_type": "stream",
     "text": [
      "Learning rate set to 0.0079\n",
      "0:\tlearn: 0.6879744\ttotal: 146ms\tremaining: 2m 26s\n",
      "1:\tlearn: 0.6843414\ttotal: 148ms\tremaining: 1m 13s\n",
      "2:\tlearn: 0.6805760\ttotal: 149ms\tremaining: 49.5s\n",
      "3:\tlearn: 0.6765782\ttotal: 150ms\tremaining: 37.4s\n",
      "4:\tlearn: 0.6720829\ttotal: 151ms\tremaining: 30.1s\n",
      "5:\tlearn: 0.6681617\ttotal: 153ms\tremaining: 25.3s\n",
      "6:\tlearn: 0.6641912\ttotal: 154ms\tremaining: 21.8s\n",
      "7:\tlearn: 0.6602881\ttotal: 155ms\tremaining: 19.2s\n",
      "8:\tlearn: 0.6562626\ttotal: 156ms\tremaining: 17.2s\n",
      "9:\tlearn: 0.6528483\ttotal: 158ms\tremaining: 15.6s\n",
      "10:\tlearn: 0.6487823\ttotal: 159ms\tremaining: 14.3s\n",
      "11:\tlearn: 0.6454980\ttotal: 160ms\tremaining: 13.2s\n",
      "12:\tlearn: 0.6418953\ttotal: 161ms\tremaining: 12.2s\n",
      "13:\tlearn: 0.6374431\ttotal: 162ms\tremaining: 11.4s\n",
      "14:\tlearn: 0.6339676\ttotal: 164ms\tremaining: 10.7s\n",
      "15:\tlearn: 0.6304252\ttotal: 165ms\tremaining: 10.1s\n",
      "16:\tlearn: 0.6266998\ttotal: 166ms\tremaining: 9.6s\n",
      "17:\tlearn: 0.6237660\ttotal: 167ms\tremaining: 9.12s\n",
      "18:\tlearn: 0.6204394\ttotal: 168ms\tremaining: 8.7s\n",
      "19:\tlearn: 0.6170129\ttotal: 170ms\tremaining: 8.31s\n",
      "20:\tlearn: 0.6133404\ttotal: 171ms\tremaining: 7.96s\n",
      "21:\tlearn: 0.6104932\ttotal: 172ms\tremaining: 7.65s\n",
      "22:\tlearn: 0.6069523\ttotal: 173ms\tremaining: 7.37s\n",
      "23:\tlearn: 0.6036467\ttotal: 175ms\tremaining: 7.1s\n",
      "24:\tlearn: 0.6005392\ttotal: 176ms\tremaining: 6.86s\n",
      "25:\tlearn: 0.5977520\ttotal: 177ms\tremaining: 6.63s\n",
      "26:\tlearn: 0.5948189\ttotal: 178ms\tremaining: 6.42s\n",
      "27:\tlearn: 0.5919831\ttotal: 179ms\tremaining: 6.23s\n",
      "28:\tlearn: 0.5885065\ttotal: 181ms\tremaining: 6.05s\n",
      "29:\tlearn: 0.5848273\ttotal: 182ms\tremaining: 5.88s\n",
      "30:\tlearn: 0.5822076\ttotal: 183ms\tremaining: 5.72s\n",
      "31:\tlearn: 0.5790604\ttotal: 184ms\tremaining: 5.58s\n",
      "32:\tlearn: 0.5762252\ttotal: 186ms\tremaining: 5.44s\n",
      "33:\tlearn: 0.5745338\ttotal: 187ms\tremaining: 5.31s\n",
      "34:\tlearn: 0.5719085\ttotal: 188ms\tremaining: 5.18s\n",
      "35:\tlearn: 0.5693365\ttotal: 189ms\tremaining: 5.07s\n",
      "36:\tlearn: 0.5665486\ttotal: 190ms\tremaining: 4.96s\n",
      "37:\tlearn: 0.5647413\ttotal: 192ms\tremaining: 4.86s\n",
      "38:\tlearn: 0.5622430\ttotal: 193ms\tremaining: 4.76s\n",
      "39:\tlearn: 0.5600038\ttotal: 194ms\tremaining: 4.66s\n",
      "40:\tlearn: 0.5579786\ttotal: 195ms\tremaining: 4.57s\n",
      "41:\tlearn: 0.5555817\ttotal: 197ms\tremaining: 4.49s\n",
      "42:\tlearn: 0.5533884\ttotal: 198ms\tremaining: 4.41s\n",
      "43:\tlearn: 0.5503718\ttotal: 200ms\tremaining: 4.34s\n",
      "44:\tlearn: 0.5482587\ttotal: 201ms\tremaining: 4.27s\n",
      "45:\tlearn: 0.5458783\ttotal: 203ms\tremaining: 4.2s\n",
      "46:\tlearn: 0.5441370\ttotal: 204ms\tremaining: 4.13s\n",
      "47:\tlearn: 0.5422492\ttotal: 205ms\tremaining: 4.08s\n",
      "48:\tlearn: 0.5397111\ttotal: 207ms\tremaining: 4.01s\n",
      "49:\tlearn: 0.5378482\ttotal: 208ms\tremaining: 3.95s\n",
      "50:\tlearn: 0.5355250\ttotal: 209ms\tremaining: 3.89s\n",
      "51:\tlearn: 0.5334717\ttotal: 211ms\tremaining: 3.84s\n",
      "52:\tlearn: 0.5308796\ttotal: 212ms\tremaining: 3.79s\n",
      "53:\tlearn: 0.5291891\ttotal: 213ms\tremaining: 3.74s\n",
      "54:\tlearn: 0.5273404\ttotal: 215ms\tremaining: 3.69s\n",
      "55:\tlearn: 0.5252025\ttotal: 216ms\tremaining: 3.64s\n",
      "56:\tlearn: 0.5232146\ttotal: 217ms\tremaining: 3.6s\n",
      "57:\tlearn: 0.5212394\ttotal: 219ms\tremaining: 3.56s\n",
      "58:\tlearn: 0.5188927\ttotal: 221ms\tremaining: 3.52s\n",
      "59:\tlearn: 0.5166496\ttotal: 222ms\tremaining: 3.47s\n",
      "60:\tlearn: 0.5151264\ttotal: 223ms\tremaining: 3.43s\n",
      "61:\tlearn: 0.5128109\ttotal: 224ms\tremaining: 3.4s\n",
      "62:\tlearn: 0.5114747\ttotal: 226ms\tremaining: 3.36s\n",
      "63:\tlearn: 0.5096208\ttotal: 227ms\tremaining: 3.32s\n",
      "64:\tlearn: 0.5072601\ttotal: 228ms\tremaining: 3.28s\n",
      "65:\tlearn: 0.5052770\ttotal: 230ms\tremaining: 3.25s\n",
      "66:\tlearn: 0.5036623\ttotal: 231ms\tremaining: 3.21s\n",
      "67:\tlearn: 0.5017328\ttotal: 232ms\tremaining: 3.18s\n",
      "68:\tlearn: 0.5005425\ttotal: 233ms\tremaining: 3.14s\n",
      "69:\tlearn: 0.4991695\ttotal: 234ms\tremaining: 3.11s\n",
      "70:\tlearn: 0.4976900\ttotal: 235ms\tremaining: 3.08s\n",
      "71:\tlearn: 0.4958907\ttotal: 237ms\tremaining: 3.05s\n",
      "72:\tlearn: 0.4944550\ttotal: 238ms\tremaining: 3.02s\n",
      "73:\tlearn: 0.4929501\ttotal: 239ms\tremaining: 2.99s\n",
      "74:\tlearn: 0.4913299\ttotal: 240ms\tremaining: 2.96s\n",
      "75:\tlearn: 0.4898798\ttotal: 242ms\tremaining: 2.94s\n",
      "76:\tlearn: 0.4882946\ttotal: 243ms\tremaining: 2.92s\n",
      "77:\tlearn: 0.4866733\ttotal: 245ms\tremaining: 2.89s\n",
      "78:\tlearn: 0.4849083\ttotal: 246ms\tremaining: 2.87s\n",
      "79:\tlearn: 0.4832344\ttotal: 248ms\tremaining: 2.85s\n",
      "80:\tlearn: 0.4822155\ttotal: 249ms\tremaining: 2.82s\n",
      "81:\tlearn: 0.4805651\ttotal: 250ms\tremaining: 2.8s\n",
      "82:\tlearn: 0.4789437\ttotal: 252ms\tremaining: 2.78s\n",
      "83:\tlearn: 0.4773680\ttotal: 253ms\tremaining: 2.76s\n",
      "84:\tlearn: 0.4759592\ttotal: 255ms\tremaining: 2.74s\n",
      "85:\tlearn: 0.4743296\ttotal: 256ms\tremaining: 2.72s\n",
      "86:\tlearn: 0.4733053\ttotal: 257ms\tremaining: 2.7s\n",
      "87:\tlearn: 0.4719029\ttotal: 259ms\tremaining: 2.68s\n",
      "88:\tlearn: 0.4704197\ttotal: 260ms\tremaining: 2.66s\n",
      "89:\tlearn: 0.4692434\ttotal: 261ms\tremaining: 2.64s\n",
      "90:\tlearn: 0.4676877\ttotal: 263ms\tremaining: 2.62s\n",
      "91:\tlearn: 0.4663135\ttotal: 264ms\tremaining: 2.6s\n",
      "92:\tlearn: 0.4648501\ttotal: 265ms\tremaining: 2.59s\n",
      "93:\tlearn: 0.4634104\ttotal: 267ms\tremaining: 2.57s\n",
      "94:\tlearn: 0.4622453\ttotal: 268ms\tremaining: 2.55s\n",
      "95:\tlearn: 0.4610022\ttotal: 269ms\tremaining: 2.54s\n",
      "96:\tlearn: 0.4596122\ttotal: 271ms\tremaining: 2.52s\n",
      "97:\tlearn: 0.4586478\ttotal: 272ms\tremaining: 2.5s\n",
      "98:\tlearn: 0.4574414\ttotal: 274ms\tremaining: 2.49s\n",
      "99:\tlearn: 0.4564241\ttotal: 275ms\tremaining: 2.48s\n",
      "100:\tlearn: 0.4550640\ttotal: 277ms\tremaining: 2.46s\n",
      "101:\tlearn: 0.4542409\ttotal: 278ms\tremaining: 2.45s\n",
      "102:\tlearn: 0.4532567\ttotal: 279ms\tremaining: 2.43s\n",
      "103:\tlearn: 0.4520656\ttotal: 281ms\tremaining: 2.42s\n",
      "104:\tlearn: 0.4507238\ttotal: 282ms\tremaining: 2.4s\n",
      "105:\tlearn: 0.4498366\ttotal: 283ms\tremaining: 2.39s\n",
      "106:\tlearn: 0.4487896\ttotal: 285ms\tremaining: 2.37s\n",
      "107:\tlearn: 0.4479770\ttotal: 286ms\tremaining: 2.36s\n",
      "108:\tlearn: 0.4470681\ttotal: 287ms\tremaining: 2.35s\n",
      "109:\tlearn: 0.4461679\ttotal: 289ms\tremaining: 2.33s\n",
      "110:\tlearn: 0.4449306\ttotal: 290ms\tremaining: 2.32s\n",
      "111:\tlearn: 0.4442033\ttotal: 291ms\tremaining: 2.31s\n",
      "112:\tlearn: 0.4431958\ttotal: 292ms\tremaining: 2.29s\n",
      "113:\tlearn: 0.4420872\ttotal: 293ms\tremaining: 2.28s\n",
      "114:\tlearn: 0.4411093\ttotal: 295ms\tremaining: 2.27s\n",
      "115:\tlearn: 0.4404177\ttotal: 296ms\tremaining: 2.25s\n",
      "116:\tlearn: 0.4393393\ttotal: 297ms\tremaining: 2.24s\n",
      "117:\tlearn: 0.4385459\ttotal: 298ms\tremaining: 2.23s\n",
      "118:\tlearn: 0.4376311\ttotal: 300ms\tremaining: 2.22s\n",
      "119:\tlearn: 0.4365919\ttotal: 301ms\tremaining: 2.21s\n",
      "120:\tlearn: 0.4356995\ttotal: 302ms\tremaining: 2.19s\n",
      "121:\tlearn: 0.4348411\ttotal: 303ms\tremaining: 2.18s\n",
      "122:\tlearn: 0.4339453\ttotal: 305ms\tremaining: 2.17s\n",
      "123:\tlearn: 0.4328034\ttotal: 306ms\tremaining: 2.16s\n",
      "124:\tlearn: 0.4319283\ttotal: 307ms\tremaining: 2.15s\n",
      "125:\tlearn: 0.4312557\ttotal: 308ms\tremaining: 2.14s\n",
      "126:\tlearn: 0.4304026\ttotal: 310ms\tremaining: 2.13s\n",
      "127:\tlearn: 0.4298280\ttotal: 311ms\tremaining: 2.12s\n",
      "128:\tlearn: 0.4289908\ttotal: 312ms\tremaining: 2.11s\n",
      "129:\tlearn: 0.4281060\ttotal: 313ms\tremaining: 2.1s\n",
      "130:\tlearn: 0.4274906\ttotal: 315ms\tremaining: 2.09s\n",
      "131:\tlearn: 0.4263412\ttotal: 316ms\tremaining: 2.08s\n",
      "132:\tlearn: 0.4253331\ttotal: 317ms\tremaining: 2.07s\n",
      "133:\tlearn: 0.4243619\ttotal: 318ms\tremaining: 2.06s\n",
      "134:\tlearn: 0.4236335\ttotal: 320ms\tremaining: 2.05s\n",
      "135:\tlearn: 0.4228861\ttotal: 321ms\tremaining: 2.04s\n",
      "136:\tlearn: 0.4221383\ttotal: 322ms\tremaining: 2.03s\n",
      "137:\tlearn: 0.4212787\ttotal: 323ms\tremaining: 2.02s\n",
      "138:\tlearn: 0.4205727\ttotal: 325ms\tremaining: 2.01s\n",
      "139:\tlearn: 0.4198398\ttotal: 326ms\tremaining: 2s\n",
      "140:\tlearn: 0.4190528\ttotal: 327ms\tremaining: 1.99s\n",
      "141:\tlearn: 0.4181762\ttotal: 328ms\tremaining: 1.98s\n",
      "142:\tlearn: 0.4177653\ttotal: 330ms\tremaining: 1.98s\n",
      "143:\tlearn: 0.4171131\ttotal: 331ms\tremaining: 1.97s\n",
      "144:\tlearn: 0.4165639\ttotal: 332ms\tremaining: 1.96s\n",
      "145:\tlearn: 0.4156471\ttotal: 334ms\tremaining: 1.95s\n",
      "146:\tlearn: 0.4153234\ttotal: 335ms\tremaining: 1.94s\n",
      "147:\tlearn: 0.4145420\ttotal: 336ms\tremaining: 1.94s\n",
      "148:\tlearn: 0.4139180\ttotal: 337ms\tremaining: 1.93s\n",
      "149:\tlearn: 0.4128167\ttotal: 339ms\tremaining: 1.92s\n",
      "150:\tlearn: 0.4120071\ttotal: 340ms\tremaining: 1.91s\n",
      "151:\tlearn: 0.4115050\ttotal: 341ms\tremaining: 1.9s\n",
      "152:\tlearn: 0.4103879\ttotal: 342ms\tremaining: 1.89s\n",
      "153:\tlearn: 0.4096975\ttotal: 344ms\tremaining: 1.89s\n",
      "154:\tlearn: 0.4090180\ttotal: 345ms\tremaining: 1.88s\n",
      "155:\tlearn: 0.4084361\ttotal: 346ms\tremaining: 1.87s\n",
      "156:\tlearn: 0.4075079\ttotal: 347ms\tremaining: 1.86s\n",
      "157:\tlearn: 0.4070229\ttotal: 349ms\tremaining: 1.86s\n",
      "158:\tlearn: 0.4060864\ttotal: 350ms\tremaining: 1.85s\n",
      "159:\tlearn: 0.4055216\ttotal: 351ms\tremaining: 1.84s\n",
      "160:\tlearn: 0.4049737\ttotal: 352ms\tremaining: 1.84s\n",
      "161:\tlearn: 0.4043031\ttotal: 354ms\tremaining: 1.83s\n",
      "162:\tlearn: 0.4037889\ttotal: 355ms\tremaining: 1.82s\n",
      "163:\tlearn: 0.4029969\ttotal: 356ms\tremaining: 1.81s\n",
      "164:\tlearn: 0.4019218\ttotal: 357ms\tremaining: 1.81s\n",
      "165:\tlearn: 0.4013294\ttotal: 359ms\tremaining: 1.8s\n",
      "166:\tlearn: 0.4007642\ttotal: 360ms\tremaining: 1.79s\n",
      "167:\tlearn: 0.4000706\ttotal: 361ms\tremaining: 1.79s\n",
      "168:\tlearn: 0.3996680\ttotal: 362ms\tremaining: 1.78s\n",
      "169:\tlearn: 0.3989467\ttotal: 363ms\tremaining: 1.77s\n",
      "170:\tlearn: 0.3983710\ttotal: 365ms\tremaining: 1.77s\n",
      "171:\tlearn: 0.3975278\ttotal: 366ms\tremaining: 1.76s\n",
      "172:\tlearn: 0.3969084\ttotal: 367ms\tremaining: 1.75s\n",
      "173:\tlearn: 0.3965347\ttotal: 368ms\tremaining: 1.75s\n",
      "174:\tlearn: 0.3956732\ttotal: 370ms\tremaining: 1.74s\n",
      "175:\tlearn: 0.3952873\ttotal: 371ms\tremaining: 1.74s\n",
      "176:\tlearn: 0.3945194\ttotal: 372ms\tremaining: 1.73s\n",
      "177:\tlearn: 0.3937662\ttotal: 373ms\tremaining: 1.72s\n",
      "178:\tlearn: 0.3930186\ttotal: 375ms\tremaining: 1.72s\n",
      "179:\tlearn: 0.3923731\ttotal: 376ms\tremaining: 1.71s\n",
      "180:\tlearn: 0.3918567\ttotal: 377ms\tremaining: 1.71s\n",
      "181:\tlearn: 0.3910109\ttotal: 378ms\tremaining: 1.7s\n",
      "182:\tlearn: 0.3904347\ttotal: 380ms\tremaining: 1.69s\n",
      "183:\tlearn: 0.3898631\ttotal: 381ms\tremaining: 1.69s\n",
      "184:\tlearn: 0.3889877\ttotal: 382ms\tremaining: 1.68s\n",
      "185:\tlearn: 0.3883860\ttotal: 383ms\tremaining: 1.68s\n",
      "186:\tlearn: 0.3876585\ttotal: 385ms\tremaining: 1.67s\n",
      "187:\tlearn: 0.3871096\ttotal: 386ms\tremaining: 1.67s\n",
      "188:\tlearn: 0.3866930\ttotal: 387ms\tremaining: 1.66s\n",
      "189:\tlearn: 0.3860056\ttotal: 388ms\tremaining: 1.66s\n",
      "190:\tlearn: 0.3854310\ttotal: 389ms\tremaining: 1.65s\n",
      "191:\tlearn: 0.3848506\ttotal: 391ms\tremaining: 1.65s\n",
      "192:\tlearn: 0.3842016\ttotal: 393ms\tremaining: 1.64s\n",
      "193:\tlearn: 0.3836819\ttotal: 394ms\tremaining: 1.64s\n",
      "194:\tlearn: 0.3830974\ttotal: 396ms\tremaining: 1.63s\n",
      "195:\tlearn: 0.3827259\ttotal: 397ms\tremaining: 1.63s\n",
      "196:\tlearn: 0.3822292\ttotal: 398ms\tremaining: 1.62s\n",
      "197:\tlearn: 0.3818127\ttotal: 400ms\tremaining: 1.62s\n",
      "198:\tlearn: 0.3813381\ttotal: 401ms\tremaining: 1.61s\n",
      "199:\tlearn: 0.3808627\ttotal: 403ms\tremaining: 1.61s\n",
      "200:\tlearn: 0.3802744\ttotal: 404ms\tremaining: 1.6s\n",
      "201:\tlearn: 0.3797151\ttotal: 405ms\tremaining: 1.6s\n",
      "202:\tlearn: 0.3792543\ttotal: 407ms\tremaining: 1.6s\n",
      "203:\tlearn: 0.3787526\ttotal: 408ms\tremaining: 1.59s\n",
      "204:\tlearn: 0.3783154\ttotal: 409ms\tremaining: 1.59s\n",
      "205:\tlearn: 0.3778142\ttotal: 411ms\tremaining: 1.58s\n",
      "206:\tlearn: 0.3770761\ttotal: 412ms\tremaining: 1.58s\n",
      "207:\tlearn: 0.3766516\ttotal: 413ms\tremaining: 1.57s\n",
      "208:\tlearn: 0.3760002\ttotal: 415ms\tremaining: 1.57s\n",
      "209:\tlearn: 0.3753742\ttotal: 416ms\tremaining: 1.56s\n",
      "210:\tlearn: 0.3748945\ttotal: 418ms\tremaining: 1.56s\n",
      "211:\tlearn: 0.3741601\ttotal: 419ms\tremaining: 1.56s\n",
      "212:\tlearn: 0.3737583\ttotal: 420ms\tremaining: 1.55s\n",
      "213:\tlearn: 0.3731306\ttotal: 421ms\tremaining: 1.55s\n",
      "214:\tlearn: 0.3725594\ttotal: 423ms\tremaining: 1.54s\n",
      "215:\tlearn: 0.3717840\ttotal: 424ms\tremaining: 1.54s\n",
      "216:\tlearn: 0.3712366\ttotal: 425ms\tremaining: 1.53s\n",
      "217:\tlearn: 0.3706128\ttotal: 426ms\tremaining: 1.53s\n",
      "218:\tlearn: 0.3701763\ttotal: 428ms\tremaining: 1.52s\n",
      "219:\tlearn: 0.3696732\ttotal: 429ms\tremaining: 1.52s\n",
      "220:\tlearn: 0.3694511\ttotal: 430ms\tremaining: 1.51s\n",
      "221:\tlearn: 0.3691241\ttotal: 431ms\tremaining: 1.51s\n",
      "222:\tlearn: 0.3685841\ttotal: 432ms\tremaining: 1.51s\n",
      "223:\tlearn: 0.3680235\ttotal: 434ms\tremaining: 1.5s\n",
      "224:\tlearn: 0.3674146\ttotal: 435ms\tremaining: 1.5s\n",
      "225:\tlearn: 0.3669959\ttotal: 436ms\tremaining: 1.49s\n",
      "226:\tlearn: 0.3664598\ttotal: 437ms\tremaining: 1.49s\n",
      "227:\tlearn: 0.3660285\ttotal: 438ms\tremaining: 1.48s\n",
      "228:\tlearn: 0.3656118\ttotal: 440ms\tremaining: 1.48s\n",
      "229:\tlearn: 0.3653013\ttotal: 441ms\tremaining: 1.48s\n",
      "230:\tlearn: 0.3648384\ttotal: 442ms\tremaining: 1.47s\n",
      "231:\tlearn: 0.3645751\ttotal: 443ms\tremaining: 1.47s\n",
      "232:\tlearn: 0.3642266\ttotal: 444ms\tremaining: 1.46s\n",
      "233:\tlearn: 0.3638032\ttotal: 446ms\tremaining: 1.46s\n",
      "234:\tlearn: 0.3634127\ttotal: 447ms\tremaining: 1.45s\n",
      "235:\tlearn: 0.3628147\ttotal: 448ms\tremaining: 1.45s\n",
      "236:\tlearn: 0.3624876\ttotal: 449ms\tremaining: 1.45s\n",
      "237:\tlearn: 0.3621678\ttotal: 451ms\tremaining: 1.44s\n",
      "238:\tlearn: 0.3617236\ttotal: 452ms\tremaining: 1.44s\n",
      "239:\tlearn: 0.3613139\ttotal: 453ms\tremaining: 1.43s\n",
      "240:\tlearn: 0.3608153\ttotal: 454ms\tremaining: 1.43s\n",
      "241:\tlearn: 0.3605083\ttotal: 455ms\tremaining: 1.43s\n",
      "242:\tlearn: 0.3600805\ttotal: 457ms\tremaining: 1.42s\n",
      "243:\tlearn: 0.3598540\ttotal: 458ms\tremaining: 1.42s\n",
      "244:\tlearn: 0.3594826\ttotal: 459ms\tremaining: 1.41s\n",
      "245:\tlearn: 0.3589942\ttotal: 460ms\tremaining: 1.41s\n",
      "246:\tlearn: 0.3580868\ttotal: 461ms\tremaining: 1.41s\n",
      "247:\tlearn: 0.3577168\ttotal: 463ms\tremaining: 1.4s\n",
      "248:\tlearn: 0.3572695\ttotal: 464ms\tremaining: 1.4s\n",
      "249:\tlearn: 0.3569883\ttotal: 465ms\tremaining: 1.39s\n",
      "250:\tlearn: 0.3564914\ttotal: 466ms\tremaining: 1.39s\n",
      "251:\tlearn: 0.3563154\ttotal: 467ms\tremaining: 1.39s\n",
      "252:\tlearn: 0.3559500\ttotal: 469ms\tremaining: 1.38s\n",
      "253:\tlearn: 0.3556725\ttotal: 470ms\tremaining: 1.38s\n",
      "254:\tlearn: 0.3554429\ttotal: 471ms\tremaining: 1.38s\n",
      "255:\tlearn: 0.3550410\ttotal: 472ms\tremaining: 1.37s\n",
      "256:\tlearn: 0.3544784\ttotal: 473ms\tremaining: 1.37s\n",
      "257:\tlearn: 0.3541264\ttotal: 475ms\tremaining: 1.36s\n",
      "258:\tlearn: 0.3534407\ttotal: 476ms\tremaining: 1.36s\n",
      "259:\tlearn: 0.3531235\ttotal: 477ms\tremaining: 1.36s\n",
      "260:\tlearn: 0.3527207\ttotal: 478ms\tremaining: 1.35s\n",
      "261:\tlearn: 0.3523243\ttotal: 480ms\tremaining: 1.35s\n",
      "262:\tlearn: 0.3520765\ttotal: 481ms\tremaining: 1.35s\n",
      "263:\tlearn: 0.3515223\ttotal: 482ms\tremaining: 1.34s\n",
      "264:\tlearn: 0.3511085\ttotal: 484ms\tremaining: 1.34s\n",
      "265:\tlearn: 0.3507609\ttotal: 485ms\tremaining: 1.34s\n",
      "266:\tlearn: 0.3505624\ttotal: 486ms\tremaining: 1.33s\n",
      "267:\tlearn: 0.3502285\ttotal: 488ms\tremaining: 1.33s\n",
      "268:\tlearn: 0.3497636\ttotal: 489ms\tremaining: 1.33s\n",
      "269:\tlearn: 0.3493754\ttotal: 490ms\tremaining: 1.32s\n",
      "270:\tlearn: 0.3490792\ttotal: 491ms\tremaining: 1.32s\n",
      "271:\tlearn: 0.3487020\ttotal: 492ms\tremaining: 1.32s\n",
      "272:\tlearn: 0.3483143\ttotal: 494ms\tremaining: 1.31s\n",
      "273:\tlearn: 0.3478934\ttotal: 495ms\tremaining: 1.31s\n",
      "274:\tlearn: 0.3475017\ttotal: 497ms\tremaining: 1.31s\n",
      "275:\tlearn: 0.3471957\ttotal: 498ms\tremaining: 1.31s\n",
      "276:\tlearn: 0.3468656\ttotal: 499ms\tremaining: 1.3s\n",
      "277:\tlearn: 0.3464868\ttotal: 501ms\tremaining: 1.3s\n",
      "278:\tlearn: 0.3462092\ttotal: 502ms\tremaining: 1.3s\n",
      "279:\tlearn: 0.3460606\ttotal: 503ms\tremaining: 1.29s\n",
      "280:\tlearn: 0.3455830\ttotal: 504ms\tremaining: 1.29s\n",
      "281:\tlearn: 0.3453044\ttotal: 505ms\tremaining: 1.29s\n",
      "282:\tlearn: 0.3444292\ttotal: 506ms\tremaining: 1.28s\n",
      "283:\tlearn: 0.3440907\ttotal: 508ms\tremaining: 1.28s\n",
      "284:\tlearn: 0.3435897\ttotal: 509ms\tremaining: 1.28s\n",
      "285:\tlearn: 0.3432924\ttotal: 510ms\tremaining: 1.27s\n",
      "286:\tlearn: 0.3429693\ttotal: 511ms\tremaining: 1.27s\n",
      "287:\tlearn: 0.3423841\ttotal: 513ms\tremaining: 1.27s\n",
      "288:\tlearn: 0.3419082\ttotal: 514ms\tremaining: 1.26s\n",
      "289:\tlearn: 0.3417444\ttotal: 515ms\tremaining: 1.26s\n",
      "290:\tlearn: 0.3413183\ttotal: 516ms\tremaining: 1.26s\n",
      "291:\tlearn: 0.3410967\ttotal: 518ms\tremaining: 1.25s\n",
      "292:\tlearn: 0.3405444\ttotal: 519ms\tremaining: 1.25s\n",
      "293:\tlearn: 0.3400621\ttotal: 520ms\tremaining: 1.25s\n",
      "294:\tlearn: 0.3397168\ttotal: 521ms\tremaining: 1.25s\n",
      "295:\tlearn: 0.3393361\ttotal: 523ms\tremaining: 1.24s\n",
      "296:\tlearn: 0.3390740\ttotal: 524ms\tremaining: 1.24s\n",
      "297:\tlearn: 0.3385868\ttotal: 525ms\tremaining: 1.24s\n",
      "298:\tlearn: 0.3383527\ttotal: 526ms\tremaining: 1.23s\n",
      "299:\tlearn: 0.3381225\ttotal: 528ms\tremaining: 1.23s\n",
      "300:\tlearn: 0.3377180\ttotal: 529ms\tremaining: 1.23s\n",
      "301:\tlearn: 0.3373683\ttotal: 530ms\tremaining: 1.23s\n",
      "302:\tlearn: 0.3369712\ttotal: 531ms\tremaining: 1.22s\n",
      "303:\tlearn: 0.3365943\ttotal: 533ms\tremaining: 1.22s\n",
      "304:\tlearn: 0.3361416\ttotal: 534ms\tremaining: 1.22s\n",
      "305:\tlearn: 0.3357881\ttotal: 535ms\tremaining: 1.21s\n",
      "306:\tlearn: 0.3355420\ttotal: 536ms\tremaining: 1.21s\n",
      "307:\tlearn: 0.3353969\ttotal: 537ms\tremaining: 1.21s\n",
      "308:\tlearn: 0.3350159\ttotal: 539ms\tremaining: 1.2s\n",
      "309:\tlearn: 0.3347592\ttotal: 540ms\tremaining: 1.2s\n",
      "310:\tlearn: 0.3344209\ttotal: 541ms\tremaining: 1.2s\n",
      "311:\tlearn: 0.3340571\ttotal: 542ms\tremaining: 1.2s\n",
      "312:\tlearn: 0.3337410\ttotal: 543ms\tremaining: 1.19s\n",
      "313:\tlearn: 0.3335433\ttotal: 545ms\tremaining: 1.19s\n",
      "314:\tlearn: 0.3331226\ttotal: 546ms\tremaining: 1.19s\n",
      "315:\tlearn: 0.3326529\ttotal: 547ms\tremaining: 1.18s\n",
      "316:\tlearn: 0.3324585\ttotal: 548ms\tremaining: 1.18s\n",
      "317:\tlearn: 0.3319313\ttotal: 549ms\tremaining: 1.18s\n",
      "318:\tlearn: 0.3317666\ttotal: 551ms\tremaining: 1.18s\n",
      "319:\tlearn: 0.3316420\ttotal: 552ms\tremaining: 1.17s\n",
      "320:\tlearn: 0.3313743\ttotal: 553ms\tremaining: 1.17s\n",
      "321:\tlearn: 0.3311034\ttotal: 554ms\tremaining: 1.17s\n",
      "322:\tlearn: 0.3308718\ttotal: 556ms\tremaining: 1.16s\n",
      "323:\tlearn: 0.3305797\ttotal: 557ms\tremaining: 1.16s\n",
      "324:\tlearn: 0.3303344\ttotal: 558ms\tremaining: 1.16s\n",
      "325:\tlearn: 0.3299356\ttotal: 559ms\tremaining: 1.16s\n",
      "326:\tlearn: 0.3297079\ttotal: 561ms\tremaining: 1.15s\n",
      "327:\tlearn: 0.3293339\ttotal: 562ms\tremaining: 1.15s\n",
      "328:\tlearn: 0.3289580\ttotal: 563ms\tremaining: 1.15s\n",
      "329:\tlearn: 0.3285913\ttotal: 564ms\tremaining: 1.15s\n",
      "330:\tlearn: 0.3282758\ttotal: 565ms\tremaining: 1.14s\n",
      "331:\tlearn: 0.3279623\ttotal: 567ms\tremaining: 1.14s\n",
      "332:\tlearn: 0.3274888\ttotal: 568ms\tremaining: 1.14s\n",
      "333:\tlearn: 0.3271103\ttotal: 569ms\tremaining: 1.13s\n",
      "334:\tlearn: 0.3266782\ttotal: 570ms\tremaining: 1.13s\n",
      "335:\tlearn: 0.3263302\ttotal: 571ms\tremaining: 1.13s\n",
      "336:\tlearn: 0.3260965\ttotal: 573ms\tremaining: 1.13s\n",
      "337:\tlearn: 0.3259158\ttotal: 574ms\tremaining: 1.12s\n",
      "338:\tlearn: 0.3258232\ttotal: 575ms\tremaining: 1.12s\n",
      "339:\tlearn: 0.3256590\ttotal: 576ms\tremaining: 1.12s\n",
      "340:\tlearn: 0.3251070\ttotal: 578ms\tremaining: 1.12s\n",
      "341:\tlearn: 0.3248128\ttotal: 579ms\tremaining: 1.11s\n",
      "342:\tlearn: 0.3245641\ttotal: 580ms\tremaining: 1.11s\n",
      "343:\tlearn: 0.3244393\ttotal: 582ms\tremaining: 1.11s\n",
      "344:\tlearn: 0.3239917\ttotal: 583ms\tremaining: 1.11s\n",
      "345:\tlearn: 0.3236587\ttotal: 584ms\tremaining: 1.1s\n",
      "346:\tlearn: 0.3232919\ttotal: 585ms\tremaining: 1.1s\n",
      "347:\tlearn: 0.3229349\ttotal: 587ms\tremaining: 1.1s\n",
      "348:\tlearn: 0.3227158\ttotal: 588ms\tremaining: 1.1s\n",
      "349:\tlearn: 0.3222736\ttotal: 590ms\tremaining: 1.09s\n",
      "350:\tlearn: 0.3219319\ttotal: 591ms\tremaining: 1.09s\n",
      "351:\tlearn: 0.3216924\ttotal: 593ms\tremaining: 1.09s\n",
      "352:\tlearn: 0.3214005\ttotal: 594ms\tremaining: 1.09s\n",
      "353:\tlearn: 0.3212561\ttotal: 595ms\tremaining: 1.09s\n",
      "354:\tlearn: 0.3210802\ttotal: 596ms\tremaining: 1.08s\n",
      "355:\tlearn: 0.3208611\ttotal: 598ms\tremaining: 1.08s\n",
      "356:\tlearn: 0.3207409\ttotal: 599ms\tremaining: 1.08s\n",
      "357:\tlearn: 0.3204410\ttotal: 600ms\tremaining: 1.08s\n",
      "358:\tlearn: 0.3201386\ttotal: 601ms\tremaining: 1.07s\n",
      "359:\tlearn: 0.3199546\ttotal: 603ms\tremaining: 1.07s\n",
      "360:\tlearn: 0.3196740\ttotal: 604ms\tremaining: 1.07s\n",
      "361:\tlearn: 0.3193086\ttotal: 605ms\tremaining: 1.07s\n",
      "362:\tlearn: 0.3190555\ttotal: 607ms\tremaining: 1.06s\n",
      "363:\tlearn: 0.3186316\ttotal: 608ms\tremaining: 1.06s\n",
      "364:\tlearn: 0.3182750\ttotal: 609ms\tremaining: 1.06s\n",
      "365:\tlearn: 0.3179150\ttotal: 611ms\tremaining: 1.06s\n",
      "366:\tlearn: 0.3176213\ttotal: 612ms\tremaining: 1.05s\n",
      "367:\tlearn: 0.3174330\ttotal: 613ms\tremaining: 1.05s\n",
      "368:\tlearn: 0.3170058\ttotal: 615ms\tremaining: 1.05s\n",
      "369:\tlearn: 0.3167177\ttotal: 616ms\tremaining: 1.05s\n",
      "370:\tlearn: 0.3165966\ttotal: 617ms\tremaining: 1.05s\n",
      "371:\tlearn: 0.3163434\ttotal: 618ms\tremaining: 1.04s\n",
      "372:\tlearn: 0.3158102\ttotal: 620ms\tremaining: 1.04s\n",
      "373:\tlearn: 0.3156989\ttotal: 621ms\tremaining: 1.04s\n",
      "374:\tlearn: 0.3153516\ttotal: 622ms\tremaining: 1.04s\n",
      "375:\tlearn: 0.3151365\ttotal: 623ms\tremaining: 1.03s\n",
      "376:\tlearn: 0.3148602\ttotal: 624ms\tremaining: 1.03s\n",
      "377:\tlearn: 0.3146425\ttotal: 626ms\tremaining: 1.03s\n",
      "378:\tlearn: 0.3140533\ttotal: 627ms\tremaining: 1.03s\n",
      "379:\tlearn: 0.3138100\ttotal: 628ms\tremaining: 1.02s\n",
      "380:\tlearn: 0.3134537\ttotal: 629ms\tremaining: 1.02s\n",
      "381:\tlearn: 0.3131326\ttotal: 631ms\tremaining: 1.02s\n",
      "382:\tlearn: 0.3127691\ttotal: 632ms\tremaining: 1.02s\n",
      "383:\tlearn: 0.3123777\ttotal: 633ms\tremaining: 1.01s\n",
      "384:\tlearn: 0.3120189\ttotal: 634ms\tremaining: 1.01s\n",
      "385:\tlearn: 0.3117879\ttotal: 635ms\tremaining: 1.01s\n",
      "386:\tlearn: 0.3117281\ttotal: 636ms\tremaining: 1.01s\n",
      "387:\tlearn: 0.3114269\ttotal: 637ms\tremaining: 1s\n",
      "388:\tlearn: 0.3111523\ttotal: 639ms\tremaining: 1s\n",
      "389:\tlearn: 0.3107485\ttotal: 640ms\tremaining: 1s\n",
      "390:\tlearn: 0.3104823\ttotal: 641ms\tremaining: 999ms\n",
      "391:\tlearn: 0.3102043\ttotal: 642ms\tremaining: 996ms\n",
      "392:\tlearn: 0.3100756\ttotal: 643ms\tremaining: 994ms\n",
      "393:\tlearn: 0.3096455\ttotal: 645ms\tremaining: 992ms\n",
      "394:\tlearn: 0.3094293\ttotal: 646ms\tremaining: 989ms\n",
      "395:\tlearn: 0.3091670\ttotal: 647ms\tremaining: 987ms\n",
      "396:\tlearn: 0.3089720\ttotal: 648ms\tremaining: 985ms\n",
      "397:\tlearn: 0.3087352\ttotal: 649ms\tremaining: 982ms\n",
      "398:\tlearn: 0.3083025\ttotal: 651ms\tremaining: 980ms\n",
      "399:\tlearn: 0.3080730\ttotal: 652ms\tremaining: 978ms\n",
      "400:\tlearn: 0.3075862\ttotal: 653ms\tremaining: 976ms\n",
      "401:\tlearn: 0.3072950\ttotal: 654ms\tremaining: 973ms\n",
      "402:\tlearn: 0.3069260\ttotal: 656ms\tremaining: 971ms\n",
      "403:\tlearn: 0.3066624\ttotal: 657ms\tremaining: 969ms\n",
      "404:\tlearn: 0.3064005\ttotal: 658ms\tremaining: 967ms\n",
      "405:\tlearn: 0.3062175\ttotal: 659ms\tremaining: 964ms\n",
      "406:\tlearn: 0.3059133\ttotal: 660ms\tremaining: 962ms\n",
      "407:\tlearn: 0.3056401\ttotal: 662ms\tremaining: 960ms\n",
      "408:\tlearn: 0.3053706\ttotal: 663ms\tremaining: 958ms\n",
      "409:\tlearn: 0.3051702\ttotal: 664ms\tremaining: 956ms\n",
      "410:\tlearn: 0.3047998\ttotal: 665ms\tremaining: 954ms\n",
      "411:\tlearn: 0.3044851\ttotal: 667ms\tremaining: 951ms\n",
      "412:\tlearn: 0.3041596\ttotal: 668ms\tremaining: 949ms\n",
      "413:\tlearn: 0.3039484\ttotal: 669ms\tremaining: 947ms\n",
      "414:\tlearn: 0.3035868\ttotal: 670ms\tremaining: 945ms\n",
      "415:\tlearn: 0.3034963\ttotal: 671ms\tremaining: 943ms\n",
      "416:\tlearn: 0.3032978\ttotal: 673ms\tremaining: 940ms\n",
      "417:\tlearn: 0.3029297\ttotal: 674ms\tremaining: 938ms\n",
      "418:\tlearn: 0.3026614\ttotal: 675ms\tremaining: 936ms\n",
      "419:\tlearn: 0.3025338\ttotal: 676ms\tremaining: 934ms\n",
      "420:\tlearn: 0.3023329\ttotal: 677ms\tremaining: 932ms\n",
      "421:\tlearn: 0.3020878\ttotal: 679ms\tremaining: 930ms\n",
      "422:\tlearn: 0.3018350\ttotal: 680ms\tremaining: 927ms\n",
      "423:\tlearn: 0.3016547\ttotal: 681ms\tremaining: 925ms\n",
      "424:\tlearn: 0.3013340\ttotal: 682ms\tremaining: 923ms\n",
      "425:\tlearn: 0.3012067\ttotal: 683ms\tremaining: 921ms\n",
      "426:\tlearn: 0.3010644\ttotal: 685ms\tremaining: 919ms\n",
      "427:\tlearn: 0.3008560\ttotal: 686ms\tremaining: 917ms\n",
      "428:\tlearn: 0.3007435\ttotal: 687ms\tremaining: 915ms\n",
      "429:\tlearn: 0.3005282\ttotal: 688ms\tremaining: 913ms\n",
      "430:\tlearn: 0.3002332\ttotal: 690ms\tremaining: 911ms\n",
      "431:\tlearn: 0.2999973\ttotal: 691ms\tremaining: 908ms\n",
      "432:\tlearn: 0.2998342\ttotal: 692ms\tremaining: 906ms\n",
      "433:\tlearn: 0.2995772\ttotal: 693ms\tremaining: 904ms\n",
      "434:\tlearn: 0.2994191\ttotal: 695ms\tremaining: 902ms\n",
      "435:\tlearn: 0.2992121\ttotal: 696ms\tremaining: 900ms\n",
      "436:\tlearn: 0.2990371\ttotal: 697ms\tremaining: 898ms\n",
      "437:\tlearn: 0.2988313\ttotal: 698ms\tremaining: 896ms\n",
      "438:\tlearn: 0.2986686\ttotal: 699ms\tremaining: 894ms\n",
      "439:\tlearn: 0.2985372\ttotal: 701ms\tremaining: 892ms\n",
      "440:\tlearn: 0.2982802\ttotal: 702ms\tremaining: 889ms\n",
      "441:\tlearn: 0.2978098\ttotal: 703ms\tremaining: 888ms\n",
      "442:\tlearn: 0.2975569\ttotal: 704ms\tremaining: 886ms\n",
      "443:\tlearn: 0.2974696\ttotal: 705ms\tremaining: 883ms\n",
      "444:\tlearn: 0.2971000\ttotal: 707ms\tremaining: 881ms\n",
      "445:\tlearn: 0.2968185\ttotal: 708ms\tremaining: 879ms\n",
      "446:\tlearn: 0.2965820\ttotal: 709ms\tremaining: 877ms\n",
      "447:\tlearn: 0.2963367\ttotal: 710ms\tremaining: 875ms\n",
      "448:\tlearn: 0.2962052\ttotal: 711ms\tremaining: 873ms\n",
      "449:\tlearn: 0.2958710\ttotal: 713ms\tremaining: 871ms\n",
      "450:\tlearn: 0.2957278\ttotal: 714ms\tremaining: 869ms\n",
      "451:\tlearn: 0.2954078\ttotal: 715ms\tremaining: 867ms\n",
      "452:\tlearn: 0.2950464\ttotal: 716ms\tremaining: 865ms\n",
      "453:\tlearn: 0.2943738\ttotal: 717ms\tremaining: 863ms\n",
      "454:\tlearn: 0.2940240\ttotal: 718ms\tremaining: 861ms\n",
      "455:\tlearn: 0.2937387\ttotal: 720ms\tremaining: 859ms\n",
      "456:\tlearn: 0.2932645\ttotal: 721ms\tremaining: 857ms\n",
      "457:\tlearn: 0.2930212\ttotal: 722ms\tremaining: 855ms\n",
      "458:\tlearn: 0.2927047\ttotal: 723ms\tremaining: 853ms\n",
      "459:\tlearn: 0.2925782\ttotal: 725ms\tremaining: 851ms\n",
      "460:\tlearn: 0.2923455\ttotal: 726ms\tremaining: 849ms\n",
      "461:\tlearn: 0.2921114\ttotal: 727ms\tremaining: 847ms\n",
      "462:\tlearn: 0.2918372\ttotal: 728ms\tremaining: 844ms\n",
      "463:\tlearn: 0.2916646\ttotal: 729ms\tremaining: 842ms\n",
      "464:\tlearn: 0.2914858\ttotal: 730ms\tremaining: 840ms\n",
      "465:\tlearn: 0.2913746\ttotal: 732ms\tremaining: 838ms\n",
      "466:\tlearn: 0.2911112\ttotal: 733ms\tremaining: 836ms\n",
      "467:\tlearn: 0.2909419\ttotal: 734ms\tremaining: 834ms\n",
      "468:\tlearn: 0.2907768\ttotal: 735ms\tremaining: 832ms\n",
      "469:\tlearn: 0.2905672\ttotal: 736ms\tremaining: 830ms\n",
      "470:\tlearn: 0.2902868\ttotal: 738ms\tremaining: 828ms\n",
      "471:\tlearn: 0.2901459\ttotal: 739ms\tremaining: 826ms\n",
      "472:\tlearn: 0.2895721\ttotal: 740ms\tremaining: 825ms\n",
      "473:\tlearn: 0.2893069\ttotal: 741ms\tremaining: 823ms\n",
      "474:\tlearn: 0.2892238\ttotal: 743ms\tremaining: 821ms\n",
      "475:\tlearn: 0.2890793\ttotal: 744ms\tremaining: 819ms\n",
      "476:\tlearn: 0.2888606\ttotal: 745ms\tremaining: 817ms\n",
      "477:\tlearn: 0.2885725\ttotal: 746ms\tremaining: 815ms\n",
      "478:\tlearn: 0.2884059\ttotal: 747ms\tremaining: 813ms\n",
      "479:\tlearn: 0.2881226\ttotal: 749ms\tremaining: 811ms\n",
      "480:\tlearn: 0.2878577\ttotal: 750ms\tremaining: 809ms\n",
      "481:\tlearn: 0.2876443\ttotal: 751ms\tremaining: 807ms\n",
      "482:\tlearn: 0.2872679\ttotal: 752ms\tremaining: 805ms\n",
      "483:\tlearn: 0.2869225\ttotal: 754ms\tremaining: 803ms\n",
      "484:\tlearn: 0.2867176\ttotal: 755ms\tremaining: 801ms\n",
      "485:\tlearn: 0.2863829\ttotal: 756ms\tremaining: 800ms\n",
      "486:\tlearn: 0.2862343\ttotal: 757ms\tremaining: 798ms\n",
      "487:\tlearn: 0.2860281\ttotal: 758ms\tremaining: 796ms\n",
      "488:\tlearn: 0.2858158\ttotal: 760ms\tremaining: 794ms\n",
      "489:\tlearn: 0.2857030\ttotal: 761ms\tremaining: 792ms\n",
      "490:\tlearn: 0.2853467\ttotal: 762ms\tremaining: 790ms\n",
      "491:\tlearn: 0.2852238\ttotal: 763ms\tremaining: 788ms\n",
      "492:\tlearn: 0.2848703\ttotal: 765ms\tremaining: 786ms\n",
      "493:\tlearn: 0.2847930\ttotal: 766ms\tremaining: 784ms\n",
      "494:\tlearn: 0.2844460\ttotal: 767ms\tremaining: 783ms\n",
      "495:\tlearn: 0.2842826\ttotal: 768ms\tremaining: 781ms\n",
      "496:\tlearn: 0.2840736\ttotal: 770ms\tremaining: 779ms\n",
      "497:\tlearn: 0.2838086\ttotal: 771ms\tremaining: 777ms\n",
      "498:\tlearn: 0.2836780\ttotal: 772ms\tremaining: 775ms\n",
      "499:\tlearn: 0.2835099\ttotal: 773ms\tremaining: 773ms\n",
      "500:\tlearn: 0.2833241\ttotal: 774ms\tremaining: 771ms\n",
      "501:\tlearn: 0.2831782\ttotal: 776ms\tremaining: 769ms\n",
      "502:\tlearn: 0.2829458\ttotal: 777ms\tremaining: 768ms\n",
      "503:\tlearn: 0.2824786\ttotal: 778ms\tremaining: 766ms\n",
      "504:\tlearn: 0.2823866\ttotal: 780ms\tremaining: 764ms\n",
      "505:\tlearn: 0.2821895\ttotal: 781ms\tremaining: 763ms\n",
      "506:\tlearn: 0.2817553\ttotal: 783ms\tremaining: 761ms\n",
      "507:\tlearn: 0.2815476\ttotal: 784ms\tremaining: 759ms\n",
      "508:\tlearn: 0.2813923\ttotal: 785ms\tremaining: 758ms\n",
      "509:\tlearn: 0.2812253\ttotal: 787ms\tremaining: 756ms\n",
      "510:\tlearn: 0.2811270\ttotal: 788ms\tremaining: 754ms\n",
      "511:\tlearn: 0.2809442\ttotal: 790ms\tremaining: 753ms\n",
      "512:\tlearn: 0.2806583\ttotal: 791ms\tremaining: 751ms\n",
      "513:\tlearn: 0.2804053\ttotal: 792ms\tremaining: 749ms\n",
      "514:\tlearn: 0.2802933\ttotal: 794ms\tremaining: 747ms\n",
      "515:\tlearn: 0.2802130\ttotal: 795ms\tremaining: 746ms\n",
      "516:\tlearn: 0.2800198\ttotal: 796ms\tremaining: 744ms\n",
      "517:\tlearn: 0.2797297\ttotal: 798ms\tremaining: 742ms\n",
      "518:\tlearn: 0.2792613\ttotal: 799ms\tremaining: 741ms\n",
      "519:\tlearn: 0.2791178\ttotal: 800ms\tremaining: 739ms\n",
      "520:\tlearn: 0.2787684\ttotal: 802ms\tremaining: 737ms\n",
      "521:\tlearn: 0.2785238\ttotal: 803ms\tremaining: 736ms\n",
      "522:\tlearn: 0.2784354\ttotal: 805ms\tremaining: 734ms\n",
      "523:\tlearn: 0.2782083\ttotal: 806ms\tremaining: 732ms\n",
      "524:\tlearn: 0.2779862\ttotal: 807ms\tremaining: 731ms\n",
      "525:\tlearn: 0.2778577\ttotal: 809ms\tremaining: 729ms\n",
      "526:\tlearn: 0.2776799\ttotal: 811ms\tremaining: 728ms\n",
      "527:\tlearn: 0.2774047\ttotal: 812ms\tremaining: 726ms\n",
      "528:\tlearn: 0.2770705\ttotal: 814ms\tremaining: 724ms\n",
      "529:\tlearn: 0.2767879\ttotal: 815ms\tremaining: 723ms\n",
      "530:\tlearn: 0.2765573\ttotal: 816ms\tremaining: 721ms\n",
      "531:\tlearn: 0.2762926\ttotal: 818ms\tremaining: 719ms\n",
      "532:\tlearn: 0.2760226\ttotal: 819ms\tremaining: 717ms\n",
      "533:\tlearn: 0.2759634\ttotal: 820ms\tremaining: 716ms\n",
      "534:\tlearn: 0.2755854\ttotal: 821ms\tremaining: 714ms\n",
      "535:\tlearn: 0.2753839\ttotal: 823ms\tremaining: 712ms\n",
      "536:\tlearn: 0.2748993\ttotal: 824ms\tremaining: 711ms\n",
      "537:\tlearn: 0.2747174\ttotal: 826ms\tremaining: 709ms\n",
      "538:\tlearn: 0.2745669\ttotal: 827ms\tremaining: 707ms\n",
      "539:\tlearn: 0.2742959\ttotal: 828ms\tremaining: 705ms\n",
      "540:\tlearn: 0.2740799\ttotal: 830ms\tremaining: 704ms\n",
      "541:\tlearn: 0.2739597\ttotal: 831ms\tremaining: 702ms\n",
      "542:\tlearn: 0.2737468\ttotal: 833ms\tremaining: 701ms\n",
      "543:\tlearn: 0.2736213\ttotal: 834ms\tremaining: 699ms\n",
      "544:\tlearn: 0.2734265\ttotal: 835ms\tremaining: 697ms\n",
      "545:\tlearn: 0.2731554\ttotal: 837ms\tremaining: 696ms\n",
      "546:\tlearn: 0.2730985\ttotal: 838ms\tremaining: 694ms\n",
      "547:\tlearn: 0.2727592\ttotal: 839ms\tremaining: 692ms\n",
      "548:\tlearn: 0.2725759\ttotal: 840ms\tremaining: 690ms\n",
      "549:\tlearn: 0.2723701\ttotal: 841ms\tremaining: 688ms\n",
      "550:\tlearn: 0.2720963\ttotal: 843ms\tremaining: 687ms\n",
      "551:\tlearn: 0.2717838\ttotal: 844ms\tremaining: 685ms\n",
      "552:\tlearn: 0.2716459\ttotal: 845ms\tremaining: 683ms\n",
      "553:\tlearn: 0.2714241\ttotal: 846ms\tremaining: 681ms\n",
      "554:\tlearn: 0.2710796\ttotal: 848ms\tremaining: 680ms\n",
      "555:\tlearn: 0.2708530\ttotal: 849ms\tremaining: 678ms\n",
      "556:\tlearn: 0.2707057\ttotal: 851ms\tremaining: 677ms\n",
      "557:\tlearn: 0.2702598\ttotal: 852ms\tremaining: 675ms\n",
      "558:\tlearn: 0.2701429\ttotal: 853ms\tremaining: 673ms\n",
      "559:\tlearn: 0.2699466\ttotal: 854ms\tremaining: 671ms\n",
      "560:\tlearn: 0.2697293\ttotal: 856ms\tremaining: 670ms\n",
      "561:\tlearn: 0.2694486\ttotal: 857ms\tremaining: 668ms\n",
      "562:\tlearn: 0.2690466\ttotal: 858ms\tremaining: 666ms\n",
      "563:\tlearn: 0.2689248\ttotal: 860ms\tremaining: 664ms\n",
      "564:\tlearn: 0.2686948\ttotal: 861ms\tremaining: 663ms\n",
      "565:\tlearn: 0.2685619\ttotal: 862ms\tremaining: 661ms\n",
      "566:\tlearn: 0.2683828\ttotal: 863ms\tremaining: 659ms\n",
      "567:\tlearn: 0.2679790\ttotal: 864ms\tremaining: 658ms\n",
      "568:\tlearn: 0.2678450\ttotal: 866ms\tremaining: 656ms\n",
      "569:\tlearn: 0.2676119\ttotal: 867ms\tremaining: 654ms\n",
      "570:\tlearn: 0.2673814\ttotal: 868ms\tremaining: 652ms\n",
      "571:\tlearn: 0.2672294\ttotal: 870ms\tremaining: 651ms\n",
      "572:\tlearn: 0.2669753\ttotal: 871ms\tremaining: 649ms\n",
      "573:\tlearn: 0.2668201\ttotal: 872ms\tremaining: 647ms\n",
      "574:\tlearn: 0.2663744\ttotal: 873ms\tremaining: 646ms\n",
      "575:\tlearn: 0.2663089\ttotal: 875ms\tremaining: 644ms\n",
      "576:\tlearn: 0.2661984\ttotal: 876ms\tremaining: 642ms\n",
      "577:\tlearn: 0.2657423\ttotal: 877ms\tremaining: 640ms\n",
      "578:\tlearn: 0.2655906\ttotal: 878ms\tremaining: 639ms\n",
      "579:\tlearn: 0.2652973\ttotal: 880ms\tremaining: 637ms\n",
      "580:\tlearn: 0.2651702\ttotal: 881ms\tremaining: 635ms\n",
      "581:\tlearn: 0.2649804\ttotal: 882ms\tremaining: 634ms\n",
      "582:\tlearn: 0.2648733\ttotal: 884ms\tremaining: 632ms\n",
      "583:\tlearn: 0.2645161\ttotal: 885ms\tremaining: 630ms\n",
      "584:\tlearn: 0.2643629\ttotal: 886ms\tremaining: 629ms\n",
      "585:\tlearn: 0.2640424\ttotal: 887ms\tremaining: 627ms\n",
      "586:\tlearn: 0.2639059\ttotal: 889ms\tremaining: 625ms\n",
      "587:\tlearn: 0.2635783\ttotal: 890ms\tremaining: 624ms\n",
      "588:\tlearn: 0.2633252\ttotal: 891ms\tremaining: 622ms\n",
      "589:\tlearn: 0.2631536\ttotal: 892ms\tremaining: 620ms\n",
      "590:\tlearn: 0.2629800\ttotal: 894ms\tremaining: 618ms\n",
      "591:\tlearn: 0.2626833\ttotal: 895ms\tremaining: 617ms\n",
      "592:\tlearn: 0.2624857\ttotal: 896ms\tremaining: 615ms\n",
      "593:\tlearn: 0.2622796\ttotal: 897ms\tremaining: 613ms\n",
      "594:\tlearn: 0.2619838\ttotal: 899ms\tremaining: 612ms\n",
      "595:\tlearn: 0.2618002\ttotal: 900ms\tremaining: 610ms\n",
      "596:\tlearn: 0.2615721\ttotal: 901ms\tremaining: 608ms\n",
      "597:\tlearn: 0.2615152\ttotal: 903ms\tremaining: 607ms\n",
      "598:\tlearn: 0.2613501\ttotal: 904ms\tremaining: 605ms\n",
      "599:\tlearn: 0.2611080\ttotal: 905ms\tremaining: 604ms\n",
      "600:\tlearn: 0.2609645\ttotal: 907ms\tremaining: 602ms\n",
      "601:\tlearn: 0.2606897\ttotal: 908ms\tremaining: 600ms\n",
      "602:\tlearn: 0.2602639\ttotal: 909ms\tremaining: 599ms\n",
      "603:\tlearn: 0.2599329\ttotal: 910ms\tremaining: 597ms\n",
      "604:\tlearn: 0.2597957\ttotal: 912ms\tremaining: 595ms\n",
      "605:\tlearn: 0.2595943\ttotal: 913ms\tremaining: 594ms\n",
      "606:\tlearn: 0.2593111\ttotal: 914ms\tremaining: 592ms\n",
      "607:\tlearn: 0.2591161\ttotal: 915ms\tremaining: 590ms\n",
      "608:\tlearn: 0.2588429\ttotal: 917ms\tremaining: 588ms\n",
      "609:\tlearn: 0.2586168\ttotal: 918ms\tremaining: 587ms\n",
      "610:\tlearn: 0.2583814\ttotal: 919ms\tremaining: 585ms\n",
      "611:\tlearn: 0.2582859\ttotal: 921ms\tremaining: 584ms\n",
      "612:\tlearn: 0.2581228\ttotal: 922ms\tremaining: 582ms\n",
      "613:\tlearn: 0.2576821\ttotal: 923ms\tremaining: 580ms\n",
      "614:\tlearn: 0.2573665\ttotal: 924ms\tremaining: 579ms\n",
      "615:\tlearn: 0.2571712\ttotal: 926ms\tremaining: 577ms\n",
      "616:\tlearn: 0.2569123\ttotal: 927ms\tremaining: 575ms\n",
      "617:\tlearn: 0.2567421\ttotal: 928ms\tremaining: 574ms\n",
      "618:\tlearn: 0.2565468\ttotal: 929ms\tremaining: 572ms\n",
      "619:\tlearn: 0.2560903\ttotal: 931ms\tremaining: 570ms\n",
      "620:\tlearn: 0.2558848\ttotal: 932ms\tremaining: 569ms\n",
      "621:\tlearn: 0.2557082\ttotal: 933ms\tremaining: 567ms\n",
      "622:\tlearn: 0.2555673\ttotal: 935ms\tremaining: 566ms\n",
      "623:\tlearn: 0.2553104\ttotal: 936ms\tremaining: 564ms\n",
      "624:\tlearn: 0.2551517\ttotal: 937ms\tremaining: 562ms\n",
      "625:\tlearn: 0.2548730\ttotal: 938ms\tremaining: 561ms\n",
      "626:\tlearn: 0.2547001\ttotal: 940ms\tremaining: 559ms\n",
      "627:\tlearn: 0.2545593\ttotal: 941ms\tremaining: 557ms\n",
      "628:\tlearn: 0.2543065\ttotal: 942ms\tremaining: 556ms\n",
      "629:\tlearn: 0.2541924\ttotal: 943ms\tremaining: 554ms\n",
      "630:\tlearn: 0.2540412\ttotal: 945ms\tremaining: 552ms\n",
      "631:\tlearn: 0.2540272\ttotal: 946ms\tremaining: 551ms\n",
      "632:\tlearn: 0.2538574\ttotal: 947ms\tremaining: 549ms\n",
      "633:\tlearn: 0.2535445\ttotal: 948ms\tremaining: 548ms\n",
      "634:\tlearn: 0.2533613\ttotal: 950ms\tremaining: 546ms\n",
      "635:\tlearn: 0.2532291\ttotal: 951ms\tremaining: 544ms\n",
      "636:\tlearn: 0.2529860\ttotal: 952ms\tremaining: 543ms\n",
      "637:\tlearn: 0.2529107\ttotal: 953ms\tremaining: 541ms\n",
      "638:\tlearn: 0.2528306\ttotal: 955ms\tremaining: 539ms\n",
      "639:\tlearn: 0.2527318\ttotal: 956ms\tremaining: 538ms\n",
      "640:\tlearn: 0.2526089\ttotal: 957ms\tremaining: 536ms\n",
      "641:\tlearn: 0.2523294\ttotal: 959ms\tremaining: 535ms\n",
      "642:\tlearn: 0.2521745\ttotal: 960ms\tremaining: 533ms\n",
      "643:\tlearn: 0.2520903\ttotal: 961ms\tremaining: 531ms\n",
      "644:\tlearn: 0.2518111\ttotal: 962ms\tremaining: 530ms\n",
      "645:\tlearn: 0.2517013\ttotal: 963ms\tremaining: 528ms\n",
      "646:\tlearn: 0.2513785\ttotal: 965ms\tremaining: 526ms\n",
      "647:\tlearn: 0.2510264\ttotal: 966ms\tremaining: 525ms\n",
      "648:\tlearn: 0.2509075\ttotal: 967ms\tremaining: 523ms\n",
      "649:\tlearn: 0.2507789\ttotal: 968ms\tremaining: 521ms\n",
      "650:\tlearn: 0.2505793\ttotal: 970ms\tremaining: 520ms\n",
      "651:\tlearn: 0.2504598\ttotal: 971ms\tremaining: 518ms\n",
      "652:\tlearn: 0.2502472\ttotal: 972ms\tremaining: 517ms\n",
      "653:\tlearn: 0.2501631\ttotal: 973ms\tremaining: 515ms\n",
      "654:\tlearn: 0.2500554\ttotal: 975ms\tremaining: 513ms\n",
      "655:\tlearn: 0.2499953\ttotal: 976ms\tremaining: 512ms\n",
      "656:\tlearn: 0.2497997\ttotal: 978ms\tremaining: 510ms\n",
      "657:\tlearn: 0.2496228\ttotal: 979ms\tremaining: 509ms\n",
      "658:\tlearn: 0.2493790\ttotal: 980ms\tremaining: 507ms\n",
      "659:\tlearn: 0.2490870\ttotal: 982ms\tremaining: 506ms\n",
      "660:\tlearn: 0.2489131\ttotal: 983ms\tremaining: 504ms\n",
      "661:\tlearn: 0.2487822\ttotal: 984ms\tremaining: 503ms\n",
      "662:\tlearn: 0.2486344\ttotal: 985ms\tremaining: 501ms\n",
      "663:\tlearn: 0.2485112\ttotal: 987ms\tremaining: 499ms\n",
      "664:\tlearn: 0.2483456\ttotal: 988ms\tremaining: 498ms\n",
      "665:\tlearn: 0.2478812\ttotal: 990ms\tremaining: 496ms\n",
      "666:\tlearn: 0.2477720\ttotal: 991ms\tremaining: 495ms\n",
      "667:\tlearn: 0.2476856\ttotal: 992ms\tremaining: 493ms\n",
      "668:\tlearn: 0.2473703\ttotal: 994ms\tremaining: 492ms\n",
      "669:\tlearn: 0.2469242\ttotal: 995ms\tremaining: 490ms\n",
      "670:\tlearn: 0.2468015\ttotal: 997ms\tremaining: 489ms\n",
      "671:\tlearn: 0.2464829\ttotal: 998ms\tremaining: 487ms\n",
      "672:\tlearn: 0.2462695\ttotal: 999ms\tremaining: 485ms\n",
      "673:\tlearn: 0.2460049\ttotal: 1s\tremaining: 484ms\n",
      "674:\tlearn: 0.2459397\ttotal: 1s\tremaining: 482ms\n",
      "675:\tlearn: 0.2457831\ttotal: 1s\tremaining: 481ms\n",
      "676:\tlearn: 0.2456189\ttotal: 1s\tremaining: 479ms\n",
      "677:\tlearn: 0.2453592\ttotal: 1s\tremaining: 478ms\n",
      "678:\tlearn: 0.2450781\ttotal: 1.01s\tremaining: 476ms\n",
      "679:\tlearn: 0.2449079\ttotal: 1.01s\tremaining: 475ms\n",
      "680:\tlearn: 0.2447622\ttotal: 1.01s\tremaining: 473ms\n",
      "681:\tlearn: 0.2446009\ttotal: 1.01s\tremaining: 472ms\n",
      "682:\tlearn: 0.2444911\ttotal: 1.01s\tremaining: 470ms\n",
      "683:\tlearn: 0.2442647\ttotal: 1.01s\tremaining: 469ms\n",
      "684:\tlearn: 0.2439881\ttotal: 1.01s\tremaining: 467ms\n",
      "685:\tlearn: 0.2438743\ttotal: 1.02s\tremaining: 466ms\n",
      "686:\tlearn: 0.2436232\ttotal: 1.02s\tremaining: 464ms\n",
      "687:\tlearn: 0.2432542\ttotal: 1.02s\tremaining: 463ms\n",
      "688:\tlearn: 0.2430422\ttotal: 1.02s\tremaining: 461ms\n",
      "689:\tlearn: 0.2427875\ttotal: 1.02s\tremaining: 459ms\n",
      "690:\tlearn: 0.2426080\ttotal: 1.02s\tremaining: 458ms\n",
      "691:\tlearn: 0.2423995\ttotal: 1.02s\tremaining: 456ms\n",
      "692:\tlearn: 0.2422839\ttotal: 1.03s\tremaining: 455ms\n",
      "693:\tlearn: 0.2419745\ttotal: 1.03s\tremaining: 453ms\n",
      "694:\tlearn: 0.2419342\ttotal: 1.03s\tremaining: 452ms\n",
      "695:\tlearn: 0.2417488\ttotal: 1.03s\tremaining: 450ms\n",
      "696:\tlearn: 0.2416767\ttotal: 1.03s\tremaining: 448ms\n",
      "697:\tlearn: 0.2415790\ttotal: 1.03s\tremaining: 447ms\n",
      "698:\tlearn: 0.2412939\ttotal: 1.03s\tremaining: 445ms\n",
      "699:\tlearn: 0.2411213\ttotal: 1.03s\tremaining: 444ms\n",
      "700:\tlearn: 0.2408446\ttotal: 1.04s\tremaining: 442ms\n",
      "701:\tlearn: 0.2405587\ttotal: 1.04s\tremaining: 441ms\n",
      "702:\tlearn: 0.2403313\ttotal: 1.04s\tremaining: 439ms\n",
      "703:\tlearn: 0.2401492\ttotal: 1.04s\tremaining: 437ms\n",
      "704:\tlearn: 0.2398918\ttotal: 1.04s\tremaining: 436ms\n",
      "705:\tlearn: 0.2396047\ttotal: 1.04s\tremaining: 434ms\n",
      "706:\tlearn: 0.2395006\ttotal: 1.04s\tremaining: 433ms\n",
      "707:\tlearn: 0.2394055\ttotal: 1.04s\tremaining: 431ms\n",
      "708:\tlearn: 0.2392352\ttotal: 1.05s\tremaining: 429ms\n",
      "709:\tlearn: 0.2390019\ttotal: 1.05s\tremaining: 428ms\n",
      "710:\tlearn: 0.2388457\ttotal: 1.05s\tremaining: 426ms\n",
      "711:\tlearn: 0.2386594\ttotal: 1.05s\tremaining: 425ms\n",
      "712:\tlearn: 0.2385861\ttotal: 1.05s\tremaining: 423ms\n",
      "713:\tlearn: 0.2383764\ttotal: 1.05s\tremaining: 422ms\n",
      "714:\tlearn: 0.2382499\ttotal: 1.05s\tremaining: 420ms\n",
      "715:\tlearn: 0.2380496\ttotal: 1.05s\tremaining: 418ms\n",
      "716:\tlearn: 0.2377915\ttotal: 1.06s\tremaining: 417ms\n",
      "717:\tlearn: 0.2376989\ttotal: 1.06s\tremaining: 415ms\n",
      "718:\tlearn: 0.2375933\ttotal: 1.06s\tremaining: 414ms\n",
      "719:\tlearn: 0.2374398\ttotal: 1.06s\tremaining: 412ms\n",
      "720:\tlearn: 0.2372318\ttotal: 1.06s\tremaining: 411ms\n",
      "721:\tlearn: 0.2370847\ttotal: 1.06s\tremaining: 409ms\n",
      "722:\tlearn: 0.2367496\ttotal: 1.06s\tremaining: 408ms\n",
      "723:\tlearn: 0.2363787\ttotal: 1.06s\tremaining: 406ms\n",
      "724:\tlearn: 0.2362295\ttotal: 1.07s\tremaining: 404ms\n",
      "725:\tlearn: 0.2361886\ttotal: 1.07s\tremaining: 403ms\n",
      "726:\tlearn: 0.2360077\ttotal: 1.07s\tremaining: 401ms\n",
      "727:\tlearn: 0.2358936\ttotal: 1.07s\tremaining: 400ms\n",
      "728:\tlearn: 0.2357625\ttotal: 1.07s\tremaining: 398ms\n",
      "729:\tlearn: 0.2356657\ttotal: 1.07s\tremaining: 397ms\n",
      "730:\tlearn: 0.2355083\ttotal: 1.07s\tremaining: 395ms\n",
      "731:\tlearn: 0.2354345\ttotal: 1.07s\tremaining: 393ms\n",
      "732:\tlearn: 0.2353153\ttotal: 1.07s\tremaining: 392ms\n",
      "733:\tlearn: 0.2352290\ttotal: 1.08s\tremaining: 390ms\n",
      "734:\tlearn: 0.2351001\ttotal: 1.08s\tremaining: 389ms\n",
      "735:\tlearn: 0.2349968\ttotal: 1.08s\tremaining: 387ms\n",
      "736:\tlearn: 0.2349104\ttotal: 1.08s\tremaining: 386ms\n",
      "737:\tlearn: 0.2348057\ttotal: 1.08s\tremaining: 384ms\n",
      "738:\tlearn: 0.2346429\ttotal: 1.08s\tremaining: 383ms\n",
      "739:\tlearn: 0.2344062\ttotal: 1.08s\tremaining: 381ms\n",
      "740:\tlearn: 0.2343251\ttotal: 1.09s\tremaining: 380ms\n",
      "741:\tlearn: 0.2339286\ttotal: 1.09s\tremaining: 378ms\n",
      "742:\tlearn: 0.2337558\ttotal: 1.09s\tremaining: 377ms\n",
      "743:\tlearn: 0.2336824\ttotal: 1.09s\tremaining: 375ms\n",
      "744:\tlearn: 0.2336136\ttotal: 1.09s\tremaining: 374ms\n",
      "745:\tlearn: 0.2334585\ttotal: 1.09s\tremaining: 372ms\n",
      "746:\tlearn: 0.2330439\ttotal: 1.09s\tremaining: 371ms\n",
      "747:\tlearn: 0.2327640\ttotal: 1.09s\tremaining: 369ms\n",
      "748:\tlearn: 0.2325958\ttotal: 1.1s\tremaining: 367ms\n",
      "749:\tlearn: 0.2323885\ttotal: 1.1s\tremaining: 366ms\n",
      "750:\tlearn: 0.2321622\ttotal: 1.1s\tremaining: 364ms\n",
      "751:\tlearn: 0.2320129\ttotal: 1.1s\tremaining: 363ms\n",
      "752:\tlearn: 0.2319447\ttotal: 1.1s\tremaining: 361ms\n",
      "753:\tlearn: 0.2318012\ttotal: 1.1s\tremaining: 360ms\n",
      "754:\tlearn: 0.2316776\ttotal: 1.1s\tremaining: 358ms\n",
      "755:\tlearn: 0.2315503\ttotal: 1.1s\tremaining: 357ms\n",
      "756:\tlearn: 0.2313964\ttotal: 1.11s\tremaining: 355ms\n",
      "757:\tlearn: 0.2313403\ttotal: 1.11s\tremaining: 354ms\n",
      "758:\tlearn: 0.2311582\ttotal: 1.11s\tremaining: 352ms\n",
      "759:\tlearn: 0.2309643\ttotal: 1.11s\tremaining: 351ms\n",
      "760:\tlearn: 0.2308683\ttotal: 1.11s\tremaining: 349ms\n",
      "761:\tlearn: 0.2306519\ttotal: 1.11s\tremaining: 348ms\n",
      "762:\tlearn: 0.2304512\ttotal: 1.11s\tremaining: 346ms\n",
      "763:\tlearn: 0.2303585\ttotal: 1.11s\tremaining: 345ms\n",
      "764:\tlearn: 0.2301186\ttotal: 1.12s\tremaining: 343ms\n",
      "765:\tlearn: 0.2299520\ttotal: 1.12s\tremaining: 342ms\n",
      "766:\tlearn: 0.2298211\ttotal: 1.12s\tremaining: 340ms\n",
      "767:\tlearn: 0.2296461\ttotal: 1.12s\tremaining: 339ms\n",
      "768:\tlearn: 0.2294316\ttotal: 1.12s\tremaining: 337ms\n",
      "769:\tlearn: 0.2292530\ttotal: 1.12s\tremaining: 336ms\n",
      "770:\tlearn: 0.2290728\ttotal: 1.12s\tremaining: 334ms\n",
      "771:\tlearn: 0.2288433\ttotal: 1.13s\tremaining: 332ms\n",
      "772:\tlearn: 0.2287000\ttotal: 1.13s\tremaining: 331ms\n",
      "773:\tlearn: 0.2284832\ttotal: 1.13s\tremaining: 329ms\n",
      "774:\tlearn: 0.2283585\ttotal: 1.13s\tremaining: 328ms\n",
      "775:\tlearn: 0.2282229\ttotal: 1.13s\tremaining: 326ms\n",
      "776:\tlearn: 0.2281303\ttotal: 1.13s\tremaining: 325ms\n",
      "777:\tlearn: 0.2279449\ttotal: 1.13s\tremaining: 323ms\n",
      "778:\tlearn: 0.2277649\ttotal: 1.13s\tremaining: 322ms\n",
      "779:\tlearn: 0.2276696\ttotal: 1.14s\tremaining: 320ms\n",
      "780:\tlearn: 0.2274767\ttotal: 1.14s\tremaining: 319ms\n",
      "781:\tlearn: 0.2272327\ttotal: 1.14s\tremaining: 317ms\n",
      "782:\tlearn: 0.2270917\ttotal: 1.14s\tremaining: 316ms\n",
      "783:\tlearn: 0.2269343\ttotal: 1.14s\tremaining: 314ms\n",
      "784:\tlearn: 0.2266742\ttotal: 1.14s\tremaining: 313ms\n",
      "785:\tlearn: 0.2264986\ttotal: 1.14s\tremaining: 311ms\n",
      "786:\tlearn: 0.2263188\ttotal: 1.14s\tremaining: 310ms\n",
      "787:\tlearn: 0.2261086\ttotal: 1.15s\tremaining: 308ms\n",
      "788:\tlearn: 0.2258824\ttotal: 1.15s\tremaining: 307ms\n",
      "789:\tlearn: 0.2256495\ttotal: 1.15s\tremaining: 305ms\n",
      "790:\tlearn: 0.2253640\ttotal: 1.15s\tremaining: 304ms\n",
      "791:\tlearn: 0.2253015\ttotal: 1.15s\tremaining: 302ms\n",
      "792:\tlearn: 0.2251932\ttotal: 1.15s\tremaining: 301ms\n",
      "793:\tlearn: 0.2250610\ttotal: 1.15s\tremaining: 299ms\n",
      "794:\tlearn: 0.2249378\ttotal: 1.15s\tremaining: 298ms\n",
      "795:\tlearn: 0.2247418\ttotal: 1.16s\tremaining: 296ms\n",
      "796:\tlearn: 0.2243590\ttotal: 1.16s\tremaining: 295ms\n",
      "797:\tlearn: 0.2241881\ttotal: 1.16s\tremaining: 293ms\n",
      "798:\tlearn: 0.2239846\ttotal: 1.16s\tremaining: 292ms\n",
      "799:\tlearn: 0.2238098\ttotal: 1.16s\tremaining: 290ms\n",
      "800:\tlearn: 0.2237013\ttotal: 1.16s\tremaining: 289ms\n",
      "801:\tlearn: 0.2235843\ttotal: 1.16s\tremaining: 287ms\n",
      "802:\tlearn: 0.2234171\ttotal: 1.16s\tremaining: 286ms\n",
      "803:\tlearn: 0.2232202\ttotal: 1.17s\tremaining: 284ms\n",
      "804:\tlearn: 0.2230832\ttotal: 1.17s\tremaining: 283ms\n",
      "805:\tlearn: 0.2229630\ttotal: 1.17s\tremaining: 281ms\n",
      "806:\tlearn: 0.2227556\ttotal: 1.17s\tremaining: 280ms\n",
      "807:\tlearn: 0.2225513\ttotal: 1.17s\tremaining: 278ms\n",
      "808:\tlearn: 0.2224407\ttotal: 1.17s\tremaining: 277ms\n",
      "809:\tlearn: 0.2223815\ttotal: 1.17s\tremaining: 275ms\n",
      "810:\tlearn: 0.2221158\ttotal: 1.18s\tremaining: 274ms\n",
      "811:\tlearn: 0.2218880\ttotal: 1.18s\tremaining: 273ms\n",
      "812:\tlearn: 0.2217191\ttotal: 1.18s\tremaining: 271ms\n",
      "813:\tlearn: 0.2216216\ttotal: 1.18s\tremaining: 270ms\n",
      "814:\tlearn: 0.2214471\ttotal: 1.18s\tremaining: 268ms\n",
      "815:\tlearn: 0.2212460\ttotal: 1.18s\tremaining: 267ms\n",
      "816:\tlearn: 0.2210716\ttotal: 1.18s\tremaining: 265ms\n",
      "817:\tlearn: 0.2207700\ttotal: 1.19s\tremaining: 264ms\n",
      "818:\tlearn: 0.2206518\ttotal: 1.19s\tremaining: 262ms\n",
      "819:\tlearn: 0.2205547\ttotal: 1.19s\tremaining: 261ms\n",
      "820:\tlearn: 0.2202621\ttotal: 1.19s\tremaining: 259ms\n",
      "821:\tlearn: 0.2200709\ttotal: 1.19s\tremaining: 258ms\n",
      "822:\tlearn: 0.2199827\ttotal: 1.19s\tremaining: 256ms\n",
      "823:\tlearn: 0.2198117\ttotal: 1.19s\tremaining: 255ms\n",
      "824:\tlearn: 0.2196338\ttotal: 1.19s\tremaining: 253ms\n",
      "825:\tlearn: 0.2193833\ttotal: 1.2s\tremaining: 252ms\n",
      "826:\tlearn: 0.2191040\ttotal: 1.2s\tremaining: 250ms\n",
      "827:\tlearn: 0.2188188\ttotal: 1.2s\tremaining: 249ms\n",
      "828:\tlearn: 0.2186232\ttotal: 1.2s\tremaining: 247ms\n",
      "829:\tlearn: 0.2184637\ttotal: 1.2s\tremaining: 246ms\n",
      "830:\tlearn: 0.2183447\ttotal: 1.2s\tremaining: 245ms\n",
      "831:\tlearn: 0.2181185\ttotal: 1.2s\tremaining: 243ms\n",
      "832:\tlearn: 0.2179230\ttotal: 1.21s\tremaining: 242ms\n",
      "833:\tlearn: 0.2177289\ttotal: 1.21s\tremaining: 240ms\n",
      "834:\tlearn: 0.2174576\ttotal: 1.21s\tremaining: 239ms\n",
      "835:\tlearn: 0.2173258\ttotal: 1.21s\tremaining: 237ms\n",
      "836:\tlearn: 0.2171739\ttotal: 1.21s\tremaining: 236ms\n",
      "837:\tlearn: 0.2169270\ttotal: 1.21s\tremaining: 234ms\n",
      "838:\tlearn: 0.2166864\ttotal: 1.21s\tremaining: 233ms\n",
      "839:\tlearn: 0.2164157\ttotal: 1.22s\tremaining: 231ms\n",
      "840:\tlearn: 0.2163378\ttotal: 1.22s\tremaining: 230ms\n",
      "841:\tlearn: 0.2162199\ttotal: 1.22s\tremaining: 229ms\n",
      "842:\tlearn: 0.2158899\ttotal: 1.22s\tremaining: 227ms\n",
      "843:\tlearn: 0.2158699\ttotal: 1.22s\tremaining: 226ms\n",
      "844:\tlearn: 0.2157586\ttotal: 1.22s\tremaining: 224ms\n",
      "845:\tlearn: 0.2155410\ttotal: 1.22s\tremaining: 223ms\n",
      "846:\tlearn: 0.2153727\ttotal: 1.22s\tremaining: 221ms\n",
      "847:\tlearn: 0.2151920\ttotal: 1.23s\tremaining: 220ms\n",
      "848:\tlearn: 0.2148853\ttotal: 1.23s\tremaining: 218ms\n",
      "849:\tlearn: 0.2148101\ttotal: 1.23s\tremaining: 217ms\n",
      "850:\tlearn: 0.2146415\ttotal: 1.23s\tremaining: 215ms\n",
      "851:\tlearn: 0.2144046\ttotal: 1.23s\tremaining: 214ms\n",
      "852:\tlearn: 0.2143299\ttotal: 1.23s\tremaining: 212ms\n",
      "853:\tlearn: 0.2141792\ttotal: 1.23s\tremaining: 211ms\n",
      "854:\tlearn: 0.2141206\ttotal: 1.24s\tremaining: 209ms\n",
      "855:\tlearn: 0.2139337\ttotal: 1.24s\tremaining: 208ms\n",
      "856:\tlearn: 0.2136557\ttotal: 1.24s\tremaining: 207ms\n",
      "857:\tlearn: 0.2134691\ttotal: 1.24s\tremaining: 205ms\n",
      "858:\tlearn: 0.2132437\ttotal: 1.24s\tremaining: 204ms\n",
      "859:\tlearn: 0.2130466\ttotal: 1.24s\tremaining: 202ms\n",
      "860:\tlearn: 0.2129277\ttotal: 1.24s\tremaining: 201ms\n",
      "861:\tlearn: 0.2125050\ttotal: 1.25s\tremaining: 199ms\n",
      "862:\tlearn: 0.2122203\ttotal: 1.25s\tremaining: 198ms\n",
      "863:\tlearn: 0.2121312\ttotal: 1.25s\tremaining: 196ms\n",
      "864:\tlearn: 0.2120307\ttotal: 1.25s\tremaining: 195ms\n",
      "865:\tlearn: 0.2118465\ttotal: 1.25s\tremaining: 194ms\n",
      "866:\tlearn: 0.2117302\ttotal: 1.25s\tremaining: 192ms\n",
      "867:\tlearn: 0.2114227\ttotal: 1.25s\tremaining: 191ms\n",
      "868:\tlearn: 0.2113260\ttotal: 1.25s\tremaining: 189ms\n",
      "869:\tlearn: 0.2111942\ttotal: 1.26s\tremaining: 188ms\n",
      "870:\tlearn: 0.2110035\ttotal: 1.26s\tremaining: 186ms\n",
      "871:\tlearn: 0.2107816\ttotal: 1.26s\tremaining: 185ms\n",
      "872:\tlearn: 0.2104724\ttotal: 1.26s\tremaining: 183ms\n",
      "873:\tlearn: 0.2102684\ttotal: 1.26s\tremaining: 182ms\n",
      "874:\tlearn: 0.2101032\ttotal: 1.26s\tremaining: 181ms\n",
      "875:\tlearn: 0.2099989\ttotal: 1.26s\tremaining: 179ms\n",
      "876:\tlearn: 0.2099035\ttotal: 1.27s\tremaining: 178ms\n",
      "877:\tlearn: 0.2097173\ttotal: 1.27s\tremaining: 176ms\n",
      "878:\tlearn: 0.2095486\ttotal: 1.27s\tremaining: 175ms\n",
      "879:\tlearn: 0.2093830\ttotal: 1.27s\tremaining: 173ms\n",
      "880:\tlearn: 0.2092829\ttotal: 1.27s\tremaining: 172ms\n",
      "881:\tlearn: 0.2089713\ttotal: 1.27s\tremaining: 170ms\n",
      "882:\tlearn: 0.2087959\ttotal: 1.27s\tremaining: 169ms\n",
      "883:\tlearn: 0.2087119\ttotal: 1.27s\tremaining: 167ms\n",
      "884:\tlearn: 0.2086137\ttotal: 1.28s\tremaining: 166ms\n",
      "885:\tlearn: 0.2084851\ttotal: 1.28s\tremaining: 164ms\n",
      "886:\tlearn: 0.2082519\ttotal: 1.28s\tremaining: 163ms\n",
      "887:\tlearn: 0.2082281\ttotal: 1.28s\tremaining: 162ms\n",
      "888:\tlearn: 0.2080446\ttotal: 1.28s\tremaining: 160ms\n",
      "889:\tlearn: 0.2079331\ttotal: 1.28s\tremaining: 159ms\n",
      "890:\tlearn: 0.2076840\ttotal: 1.28s\tremaining: 157ms\n",
      "891:\tlearn: 0.2074361\ttotal: 1.29s\tremaining: 156ms\n",
      "892:\tlearn: 0.2072691\ttotal: 1.29s\tremaining: 154ms\n",
      "893:\tlearn: 0.2071863\ttotal: 1.29s\tremaining: 153ms\n",
      "894:\tlearn: 0.2070482\ttotal: 1.29s\tremaining: 151ms\n",
      "895:\tlearn: 0.2068719\ttotal: 1.29s\tremaining: 150ms\n",
      "896:\tlearn: 0.2068010\ttotal: 1.29s\tremaining: 148ms\n",
      "897:\tlearn: 0.2066289\ttotal: 1.29s\tremaining: 147ms\n",
      "898:\tlearn: 0.2065124\ttotal: 1.29s\tremaining: 146ms\n",
      "899:\tlearn: 0.2063746\ttotal: 1.3s\tremaining: 144ms\n",
      "900:\tlearn: 0.2060329\ttotal: 1.3s\tremaining: 143ms\n",
      "901:\tlearn: 0.2059134\ttotal: 1.3s\tremaining: 141ms\n",
      "902:\tlearn: 0.2056670\ttotal: 1.3s\tremaining: 140ms\n",
      "903:\tlearn: 0.2055800\ttotal: 1.3s\tremaining: 138ms\n",
      "904:\tlearn: 0.2054935\ttotal: 1.3s\tremaining: 137ms\n",
      "905:\tlearn: 0.2054216\ttotal: 1.3s\tremaining: 135ms\n",
      "906:\tlearn: 0.2053141\ttotal: 1.3s\tremaining: 134ms\n",
      "907:\tlearn: 0.2051578\ttotal: 1.31s\tremaining: 132ms\n",
      "908:\tlearn: 0.2051277\ttotal: 1.31s\tremaining: 131ms\n",
      "909:\tlearn: 0.2049773\ttotal: 1.31s\tremaining: 130ms\n",
      "910:\tlearn: 0.2049041\ttotal: 1.31s\tremaining: 128ms\n",
      "911:\tlearn: 0.2048033\ttotal: 1.31s\tremaining: 127ms\n",
      "912:\tlearn: 0.2046646\ttotal: 1.31s\tremaining: 125ms\n",
      "913:\tlearn: 0.2045087\ttotal: 1.31s\tremaining: 124ms\n",
      "914:\tlearn: 0.2043556\ttotal: 1.32s\tremaining: 122ms\n",
      "915:\tlearn: 0.2042029\ttotal: 1.32s\tremaining: 121ms\n",
      "916:\tlearn: 0.2041374\ttotal: 1.32s\tremaining: 119ms\n",
      "917:\tlearn: 0.2039668\ttotal: 1.32s\tremaining: 118ms\n",
      "918:\tlearn: 0.2038225\ttotal: 1.32s\tremaining: 117ms\n",
      "919:\tlearn: 0.2037351\ttotal: 1.32s\tremaining: 115ms\n",
      "920:\tlearn: 0.2035562\ttotal: 1.32s\tremaining: 114ms\n",
      "921:\tlearn: 0.2033158\ttotal: 1.32s\tremaining: 112ms\n",
      "922:\tlearn: 0.2031272\ttotal: 1.33s\tremaining: 111ms\n",
      "923:\tlearn: 0.2028653\ttotal: 1.33s\tremaining: 109ms\n",
      "924:\tlearn: 0.2027730\ttotal: 1.33s\tremaining: 108ms\n",
      "925:\tlearn: 0.2025642\ttotal: 1.33s\tremaining: 106ms\n",
      "926:\tlearn: 0.2025182\ttotal: 1.33s\tremaining: 105ms\n",
      "927:\tlearn: 0.2023242\ttotal: 1.33s\tremaining: 104ms\n",
      "928:\tlearn: 0.2021505\ttotal: 1.33s\tremaining: 102ms\n",
      "929:\tlearn: 0.2019405\ttotal: 1.34s\tremaining: 101ms\n",
      "930:\tlearn: 0.2018581\ttotal: 1.34s\tremaining: 99.2ms\n",
      "931:\tlearn: 0.2015040\ttotal: 1.34s\tremaining: 97.7ms\n",
      "932:\tlearn: 0.2012963\ttotal: 1.34s\tremaining: 96.3ms\n",
      "933:\tlearn: 0.2011157\ttotal: 1.34s\tremaining: 94.9ms\n",
      "934:\tlearn: 0.2010048\ttotal: 1.34s\tremaining: 93.4ms\n",
      "935:\tlearn: 0.2008797\ttotal: 1.34s\tremaining: 92ms\n",
      "936:\tlearn: 0.2006119\ttotal: 1.35s\tremaining: 90.5ms\n",
      "937:\tlearn: 0.2003997\ttotal: 1.35s\tremaining: 89.1ms\n",
      "938:\tlearn: 0.2002994\ttotal: 1.35s\tremaining: 87.6ms\n",
      "939:\tlearn: 0.2001781\ttotal: 1.35s\tremaining: 86.2ms\n",
      "940:\tlearn: 0.2001108\ttotal: 1.35s\tremaining: 84.7ms\n",
      "941:\tlearn: 0.1998029\ttotal: 1.35s\tremaining: 83.3ms\n",
      "942:\tlearn: 0.1996730\ttotal: 1.35s\tremaining: 81.9ms\n",
      "943:\tlearn: 0.1996001\ttotal: 1.35s\tremaining: 80.4ms\n",
      "944:\tlearn: 0.1995043\ttotal: 1.36s\tremaining: 79ms\n",
      "945:\tlearn: 0.1993791\ttotal: 1.36s\tremaining: 77.5ms\n",
      "946:\tlearn: 0.1993067\ttotal: 1.36s\tremaining: 76.1ms\n",
      "947:\tlearn: 0.1991825\ttotal: 1.36s\tremaining: 74.7ms\n",
      "948:\tlearn: 0.1991477\ttotal: 1.36s\tremaining: 73.2ms\n",
      "949:\tlearn: 0.1989893\ttotal: 1.36s\tremaining: 71.8ms\n",
      "950:\tlearn: 0.1989476\ttotal: 1.36s\tremaining: 70.3ms\n",
      "951:\tlearn: 0.1988571\ttotal: 1.37s\tremaining: 68.9ms\n",
      "952:\tlearn: 0.1987463\ttotal: 1.37s\tremaining: 67.5ms\n",
      "953:\tlearn: 0.1985914\ttotal: 1.37s\tremaining: 66ms\n",
      "954:\tlearn: 0.1984601\ttotal: 1.37s\tremaining: 64.6ms\n",
      "955:\tlearn: 0.1983558\ttotal: 1.37s\tremaining: 63.1ms\n",
      "956:\tlearn: 0.1981887\ttotal: 1.37s\tremaining: 61.7ms\n",
      "957:\tlearn: 0.1979755\ttotal: 1.37s\tremaining: 60.3ms\n",
      "958:\tlearn: 0.1978122\ttotal: 1.38s\tremaining: 58.8ms\n",
      "959:\tlearn: 0.1976791\ttotal: 1.38s\tremaining: 57.4ms\n",
      "960:\tlearn: 0.1976331\ttotal: 1.38s\tremaining: 55.9ms\n",
      "961:\tlearn: 0.1974878\ttotal: 1.38s\tremaining: 54.5ms\n",
      "962:\tlearn: 0.1973825\ttotal: 1.38s\tremaining: 53.1ms\n",
      "963:\tlearn: 0.1973230\ttotal: 1.38s\tremaining: 51.6ms\n",
      "964:\tlearn: 0.1970565\ttotal: 1.38s\tremaining: 50.2ms\n",
      "965:\tlearn: 0.1969765\ttotal: 1.38s\tremaining: 48.7ms\n",
      "966:\tlearn: 0.1967186\ttotal: 1.39s\tremaining: 47.3ms\n",
      "967:\tlearn: 0.1965649\ttotal: 1.39s\tremaining: 45.9ms\n",
      "968:\tlearn: 0.1964461\ttotal: 1.39s\tremaining: 44.4ms\n",
      "969:\tlearn: 0.1962676\ttotal: 1.39s\tremaining: 43ms\n",
      "970:\tlearn: 0.1961347\ttotal: 1.39s\tremaining: 41.6ms\n",
      "971:\tlearn: 0.1960023\ttotal: 1.39s\tremaining: 40.1ms\n",
      "972:\tlearn: 0.1958286\ttotal: 1.39s\tremaining: 38.7ms\n",
      "973:\tlearn: 0.1956880\ttotal: 1.4s\tremaining: 37.3ms\n",
      "974:\tlearn: 0.1955273\ttotal: 1.4s\tremaining: 35.8ms\n",
      "975:\tlearn: 0.1954718\ttotal: 1.4s\tremaining: 34.4ms\n",
      "976:\tlearn: 0.1954058\ttotal: 1.4s\tremaining: 32.9ms\n",
      "977:\tlearn: 0.1953148\ttotal: 1.4s\tremaining: 31.5ms\n",
      "978:\tlearn: 0.1951338\ttotal: 1.4s\tremaining: 30.1ms\n",
      "979:\tlearn: 0.1950429\ttotal: 1.4s\tremaining: 28.6ms\n",
      "980:\tlearn: 0.1950004\ttotal: 1.4s\tremaining: 27.2ms\n",
      "981:\tlearn: 0.1948226\ttotal: 1.41s\tremaining: 25.8ms\n",
      "982:\tlearn: 0.1946439\ttotal: 1.41s\tremaining: 24.3ms\n",
      "983:\tlearn: 0.1945826\ttotal: 1.41s\tremaining: 22.9ms\n",
      "984:\tlearn: 0.1944658\ttotal: 1.41s\tremaining: 21.5ms\n",
      "985:\tlearn: 0.1943315\ttotal: 1.42s\tremaining: 20.2ms\n",
      "986:\tlearn: 0.1941699\ttotal: 1.42s\tremaining: 18.7ms\n",
      "987:\tlearn: 0.1939214\ttotal: 1.43s\tremaining: 17.3ms\n",
      "988:\tlearn: 0.1937600\ttotal: 1.43s\tremaining: 15.9ms\n",
      "989:\tlearn: 0.1936543\ttotal: 1.43s\tremaining: 14.4ms\n",
      "990:\tlearn: 0.1935242\ttotal: 1.43s\tremaining: 13ms\n",
      "991:\tlearn: 0.1933722\ttotal: 1.43s\tremaining: 11.6ms\n",
      "992:\tlearn: 0.1932137\ttotal: 1.44s\tremaining: 10.1ms\n",
      "993:\tlearn: 0.1931190\ttotal: 1.44s\tremaining: 8.68ms\n",
      "994:\tlearn: 0.1930025\ttotal: 1.44s\tremaining: 7.24ms\n",
      "995:\tlearn: 0.1929036\ttotal: 1.44s\tremaining: 5.79ms\n",
      "996:\tlearn: 0.1927199\ttotal: 1.44s\tremaining: 4.34ms\n",
      "997:\tlearn: 0.1927060\ttotal: 1.44s\tremaining: 2.89ms\n",
      "998:\tlearn: 0.1926449\ttotal: 1.45s\tremaining: 1.45ms\n",
      "999:\tlearn: 0.1925922\ttotal: 1.45s\tremaining: 0us\n"
     ]
    }
   ],
   "source": [
    "cat_model = CatBoostClassifier().fit(X_train, y_train)"
   ]
  },
  {
   "cell_type": "code",
   "execution_count": 179,
   "id": "4d48e65a-1bf1-4281-bcc3-899aa71fb876",
   "metadata": {},
   "outputs": [
    {
     "data": {
      "text/plain": [
       "0.7402597402597403"
      ]
     },
     "execution_count": 179,
     "metadata": {},
     "output_type": "execute_result"
    }
   ],
   "source": [
    "y_pred = cat_model.predict(X_test)\n",
    "accuracy_score(y_test, y_pred)"
   ]
  },
  {
   "cell_type": "markdown",
   "id": "5df3fb43-9905-437a-aeb2-3dfcec2da3c9",
   "metadata": {},
   "source": [
    "# Model Tuning"
   ]
  },
  {
   "cell_type": "code",
   "execution_count": 180,
   "id": "f15e60c4-fe5b-4d3b-9efe-4cb19ef150d2",
   "metadata": {},
   "outputs": [],
   "source": [
    "catb_params = {\n",
    "    'iterations': [200,500],\n",
    "    'learning_rate': [0.01,0.05, 0.1],\n",
    "    'depth': [3,5,8] }"
   ]
  },
  {
   "cell_type": "code",
   "execution_count": 181,
   "id": "f37092d1-d511-41a1-9941-4239b8781645",
   "metadata": {},
   "outputs": [],
   "source": [
    "#catb = CatBoostClassifier()\n",
    "#catb_cv_model = GridSearchCV(catb, catb_params, cv=5, n_jobs = -1, verbose = 2)\n",
    "#catb_cv_model.fit(X_train, y_train)\n",
    "#catb_cv_model.best_params_"
   ]
  },
  {
   "cell_type": "code",
   "execution_count": 182,
   "id": "b6ad9693-c973-463f-bacc-371224a17c76",
   "metadata": {},
   "outputs": [],
   "source": [
    "#catb = CatBoostClassifier(iterations = 200, \n",
    " #                         learning_rate = 0.05, \n",
    "  #                        depth = 5)\n",
    "\n",
    "#catb_tuned = catb.fit(X_train, y_train)\n",
    "#y_pred = catb_tuned.predict(X_test)"
   ]
  },
  {
   "cell_type": "code",
   "execution_count": 183,
   "id": "96151630-e729-4a64-82de-a393f366f2ca",
   "metadata": {},
   "outputs": [],
   "source": [
    "#y_pred = catb_tuned.predict(X_test)\n",
    "#accuracy_score(y_test, y_pred)"
   ]
  },
  {
   "cell_type": "markdown",
   "id": "8c1c0c46-e85a-4988-acce-fab844b174d2",
   "metadata": {},
   "source": [
    "# Tüm Modellerin Karşılaştırılması"
   ]
  },
  {
   "cell_type": "code",
   "execution_count": 184,
   "id": "3c02b4dd-fffb-4ce9-bf08-c0c74bef46f0",
   "metadata": {},
   "outputs": [
    {
     "name": "stdout",
     "output_type": "stream",
     "text": [
      "----------------------------\n",
      "KNeighborsClassifier:\n",
      "Accuracy: 73.1602%\n",
      "----------------------------\n",
      "LogisticRegression:\n",
      "Accuracy: 75.3247%\n",
      "----------------------------\n",
      "SVC:\n",
      "Accuracy: 73.5931%\n",
      "----------------------------\n",
      "GaussianNB:\n",
      "Accuracy: 74.4589%\n",
      "----------------------------\n",
      "MLPClassifier:\n",
      "Accuracy: 34.6320%\n",
      "----------------------------\n",
      "DecisionTreeClassifier:\n",
      "Accuracy: 75.3247%\n",
      "----------------------------\n",
      "RandomForestClassifier:\n",
      "Accuracy: 76.6234%\n",
      "----------------------------\n",
      "GradientBoostingClassifier:\n",
      "Accuracy: 74.4589%\n",
      "----------------------------\n",
      "CatBoostClassifier:\n",
      "Accuracy: 74.0260%\n",
      "----------------------------\n",
      "LGBMClassifier:\n",
      "Accuracy: 74.8918%\n",
      "----------------------------\n",
      "XGBClassifier:\n",
      "Accuracy: 76.6234%\n"
     ]
    }
   ],
   "source": [
    "modeller = [\n",
    "    knn_tuned,\n",
    "    loj_model,\n",
    "    svc_tuned,\n",
    "    nb_model,\n",
    "    mlpc_tuned,\n",
    "    cart_tuned,\n",
    "    rf_tuned,\n",
    "    gbm_tuned,\n",
    "    cat_model,\n",
    "    lgbm_tuned,\n",
    "    xgb_tuned\n",
    "    \n",
    "]\n",
    "\n",
    "\n",
    "for model in modeller:\n",
    "    isimler = model.__class__.__name__\n",
    "    y_pred = model.predict(X_test)\n",
    "    dogruluk = accuracy_score(y_test, y_pred)\n",
    "    print(\"-\"*28)\n",
    "    print(isimler + \":\" )\n",
    "    print(\"Accuracy: {:.4%}\".format(dogruluk))"
   ]
  },
  {
   "cell_type": "code",
   "execution_count": 185,
   "id": "abfd288b-e6bf-4934-8db7-2a47b38d187d",
   "metadata": {},
   "outputs": [
    {
     "data": {
      "image/png": "[encoded data removed]",
      "text/plain": [
       "<Figure size 640x480 with 1 Axes>"
      ]
     },
     "metadata": {},
     "output_type": "display_data"
    }
   ],
   "source": [
    "sonuc = []\n",
    "\n",
    "sonuclar = pd.DataFrame(columns= [\"Modeller\",\"Accuracy\"])\n",
    "\n",
    "for model in modeller:\n",
    "    isimler = model.__class__.__name__\n",
    "    y_pred = model.predict(X_test)\n",
    "    dogruluk = accuracy_score(y_test, y_pred)    \n",
    "    sonuc = pd.DataFrame([[isimler, dogruluk*100]], columns= [\"Modeller\",\"Accuracy\"])\n",
    "    sonuclar = sonuclar.append(sonuc)\n",
    "    \n",
    "    \n",
    "sns.barplot(x= 'Accuracy', y = 'Modeller', data=sonuclar, color=\"r\")\n",
    "plt.xlabel('Accuracy %')\n",
    "plt.title('Modellerin Doğruluk Oranları');   "
   ]
  },
  {
   "cell_type": "code",
   "execution_count": null,
   "id": "694382f5-c858-4b42-b475-b46427af289d",
   "metadata": {},
   "outputs": [],
   "source": []
  }
 ],
 "metadata": {
  "kernelspec": {
   "display_name": "Python 3 (ipykernel)",
   "language": "python",
   "name": "python3"
  },
  "language_info": {
   "codemirror_mode": {
    "name": "ipython",
    "version": 3
   },
   "file_extension": ".py",
   "mimetype": "text/x-python",
   "name": "python",
   "nbconvert_exporter": "python",
   "pygments_lexer": "ipython3",
   "version": "3.9.13"
  }
 },
 "nbformat": 4,
 "nbformat_minor": 5
}
